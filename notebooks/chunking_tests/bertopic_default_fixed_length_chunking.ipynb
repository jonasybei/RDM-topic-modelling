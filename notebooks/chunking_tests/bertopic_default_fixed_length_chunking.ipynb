{
 "cells": [
  {
   "metadata": {},
   "cell_type": "markdown",
   "source": "# Importing libraries",
   "id": "933e0744f3257192"
  },
  {
   "metadata": {
    "ExecuteTime": {
     "end_time": "2025-02-07T10:15:17.391078Z",
     "start_time": "2025-02-07T10:15:07.682279Z"
    }
   },
   "cell_type": "code",
   "source": [
    "import os\n",
    "import sys\n",
    "\n",
    "import pandas as pd\n",
    "from bertopic import BERTopic\n",
    "from git_root import git_root\n",
    "from hdbscan import HDBSCAN\n",
    "from octis.evaluation_metrics.coherence_metrics import Coherence\n",
    "from octis.evaluation_metrics.diversity_metrics import TopicDiversity\n",
    "from sentence_transformers import SentenceTransformer\n",
    "from umap import UMAP\n",
    "\n",
    "os.environ[\"PYTORCH_CUDA_ALLOC_CONF\"] = \"expandable_segments:True\"\n",
    "my_git_root = git_root()\n",
    "sys.path.append(my_git_root)"
   ],
   "id": "11650cb1cd1c7d30",
   "outputs": [
    {
     "ename": "ModuleNotFoundError",
     "evalue": "No module named 'octis'",
     "output_type": "error",
     "traceback": [
      "\u001B[0;31m---------------------------------------------------------------------------\u001B[0m",
      "\u001B[0;31mModuleNotFoundError\u001B[0m                       Traceback (most recent call last)",
      "Cell \u001B[0;32mIn[1], line 8\u001B[0m\n\u001B[1;32m      6\u001B[0m \u001B[38;5;28;01mfrom\u001B[39;00m\u001B[38;5;250m \u001B[39m\u001B[38;5;21;01mgit_root\u001B[39;00m\u001B[38;5;250m \u001B[39m\u001B[38;5;28;01mimport\u001B[39;00m git_root\n\u001B[1;32m      7\u001B[0m \u001B[38;5;28;01mfrom\u001B[39;00m\u001B[38;5;250m \u001B[39m\u001B[38;5;21;01mhdbscan\u001B[39;00m\u001B[38;5;250m \u001B[39m\u001B[38;5;28;01mimport\u001B[39;00m HDBSCAN\n\u001B[0;32m----> 8\u001B[0m \u001B[38;5;28;01mfrom\u001B[39;00m\u001B[38;5;250m \u001B[39m\u001B[38;5;21;01moctis\u001B[39;00m\u001B[38;5;21;01m.\u001B[39;00m\u001B[38;5;21;01mevaluation_metrics\u001B[39;00m\u001B[38;5;21;01m.\u001B[39;00m\u001B[38;5;21;01mcoherence_metrics\u001B[39;00m\u001B[38;5;250m \u001B[39m\u001B[38;5;28;01mimport\u001B[39;00m Coherence\n\u001B[1;32m      9\u001B[0m \u001B[38;5;28;01mfrom\u001B[39;00m\u001B[38;5;250m \u001B[39m\u001B[38;5;21;01moctis\u001B[39;00m\u001B[38;5;21;01m.\u001B[39;00m\u001B[38;5;21;01mevaluation_metrics\u001B[39;00m\u001B[38;5;21;01m.\u001B[39;00m\u001B[38;5;21;01mdiversity_metrics\u001B[39;00m\u001B[38;5;250m \u001B[39m\u001B[38;5;28;01mimport\u001B[39;00m TopicDiversity\n\u001B[1;32m     10\u001B[0m \u001B[38;5;28;01mfrom\u001B[39;00m\u001B[38;5;250m \u001B[39m\u001B[38;5;21;01msentence_transformers\u001B[39;00m\u001B[38;5;250m \u001B[39m\u001B[38;5;28;01mimport\u001B[39;00m SentenceTransformer\n",
      "\u001B[0;31mModuleNotFoundError\u001B[0m: No module named 'octis'"
     ]
    }
   ],
   "execution_count": 1
  },
  {
   "metadata": {},
   "cell_type": "markdown",
   "source": "# Loading the data",
   "id": "a7a8f0b5d107269b"
  },
  {
   "metadata": {
    "ExecuteTime": {
     "end_time": "2025-02-07T10:15:17.393507602Z",
     "start_time": "2025-02-02T17:19:24.129957Z"
    }
   },
   "cell_type": "code",
   "source": [
    "df_segmented_paragraphs_path = f'{my_git_root}/data/output/documents_chunked_fixed_length.csv'\n",
    "df_segmented_paragraphs = pd.read_csv(df_segmented_paragraphs_path)"
   ],
   "id": "7e1947fc5af8d0e7",
   "outputs": [],
   "execution_count": 2
  },
  {
   "metadata": {
    "ExecuteTime": {
     "end_time": "2025-02-07T10:15:17.393874642Z",
     "start_time": "2025-02-02T17:19:24.278534Z"
    }
   },
   "cell_type": "code",
   "source": "df_segmented_paragraphs",
   "id": "7576ecfb628c7de7",
   "outputs": [
    {
     "data": {
      "text/plain": [
       "                          name  \\\n",
       "0          aalto-university.md   \n",
       "1          aalto-university.md   \n",
       "2          aalto-university.md   \n",
       "3          aalto-university.md   \n",
       "4    aberystwyth-university.md   \n",
       "..                         ...   \n",
       "960      wrexham-university.md   \n",
       "961      wrexham-university.md   \n",
       "962      wrexham-university.md   \n",
       "963      wrexham-university.md   \n",
       "964      wrexham-university.md   \n",
       "\n",
       "                                                  text  \n",
       "0    # Aalto University  \\n\\n## Aalto University Re...  \n",
       "1     about the user rights of third parties accord...  \n",
       "2    Research data and the necessary software to ac...  \n",
       "3     and documentation to make it useful. Aalto Un...  \n",
       "4    # Research Data Management Policy\\n\\nVersion 3...  \n",
       "..                                                 ...  \n",
       "960  atic monitoring of a publicly accessible area ...  \n",
       "961   loss and corruption, and unauthorised access ...  \n",
       "962   2021, these are Andorra, Argentina, Canada, F...  \n",
       "963   no longer than is necessary for the purposes ...  \n",
       "964  Findable Accessible Interoperable Reusable\\n\\n...  \n",
       "\n",
       "[965 rows x 2 columns]"
      ],
      "text/html": [
       "<div>\n",
       "<style scoped>\n",
       "    .dataframe tbody tr th:only-of-type {\n",
       "        vertical-align: middle;\n",
       "    }\n",
       "\n",
       "    .dataframe tbody tr th {\n",
       "        vertical-align: top;\n",
       "    }\n",
       "\n",
       "    .dataframe thead th {\n",
       "        text-align: right;\n",
       "    }\n",
       "</style>\n",
       "<table border=\"1\" class=\"dataframe\">\n",
       "  <thead>\n",
       "    <tr style=\"text-align: right;\">\n",
       "      <th></th>\n",
       "      <th>name</th>\n",
       "      <th>text</th>\n",
       "    </tr>\n",
       "  </thead>\n",
       "  <tbody>\n",
       "    <tr>\n",
       "      <th>0</th>\n",
       "      <td>aalto-university.md</td>\n",
       "      <td># Aalto University  \\n\\n## Aalto University Re...</td>\n",
       "    </tr>\n",
       "    <tr>\n",
       "      <th>1</th>\n",
       "      <td>aalto-university.md</td>\n",
       "      <td>about the user rights of third parties accord...</td>\n",
       "    </tr>\n",
       "    <tr>\n",
       "      <th>2</th>\n",
       "      <td>aalto-university.md</td>\n",
       "      <td>Research data and the necessary software to ac...</td>\n",
       "    </tr>\n",
       "    <tr>\n",
       "      <th>3</th>\n",
       "      <td>aalto-university.md</td>\n",
       "      <td>and documentation to make it useful. Aalto Un...</td>\n",
       "    </tr>\n",
       "    <tr>\n",
       "      <th>4</th>\n",
       "      <td>aberystwyth-university.md</td>\n",
       "      <td># Research Data Management Policy\\n\\nVersion 3...</td>\n",
       "    </tr>\n",
       "    <tr>\n",
       "      <th>...</th>\n",
       "      <td>...</td>\n",
       "      <td>...</td>\n",
       "    </tr>\n",
       "    <tr>\n",
       "      <th>960</th>\n",
       "      <td>wrexham-university.md</td>\n",
       "      <td>atic monitoring of a publicly accessible area ...</td>\n",
       "    </tr>\n",
       "    <tr>\n",
       "      <th>961</th>\n",
       "      <td>wrexham-university.md</td>\n",
       "      <td>loss and corruption, and unauthorised access ...</td>\n",
       "    </tr>\n",
       "    <tr>\n",
       "      <th>962</th>\n",
       "      <td>wrexham-university.md</td>\n",
       "      <td>2021, these are Andorra, Argentina, Canada, F...</td>\n",
       "    </tr>\n",
       "    <tr>\n",
       "      <th>963</th>\n",
       "      <td>wrexham-university.md</td>\n",
       "      <td>no longer than is necessary for the purposes ...</td>\n",
       "    </tr>\n",
       "    <tr>\n",
       "      <th>964</th>\n",
       "      <td>wrexham-university.md</td>\n",
       "      <td>Findable Accessible Interoperable Reusable\\n\\n...</td>\n",
       "    </tr>\n",
       "  </tbody>\n",
       "</table>\n",
       "<p>965 rows × 2 columns</p>\n",
       "</div>"
      ]
     },
     "execution_count": 3,
     "metadata": {},
     "output_type": "execute_result"
    }
   ],
   "execution_count": 3
  },
  {
   "metadata": {
    "ExecuteTime": {
     "end_time": "2025-02-07T10:15:17.394637301Z",
     "start_time": "2025-02-02T17:19:24.341750Z"
    }
   },
   "cell_type": "code",
   "source": "documents = df_segmented_paragraphs['text'].to_list()",
   "id": "a9f446cd1cc18d05",
   "outputs": [],
   "execution_count": 4
  },
  {
   "metadata": {
    "ExecuteTime": {
     "end_time": "2025-02-07T10:15:17.398137589Z",
     "start_time": "2025-02-02T17:19:24.393508Z"
    }
   },
   "cell_type": "code",
   "source": "len(documents)",
   "id": "5006734a13b4df69",
   "outputs": [
    {
     "data": {
      "text/plain": [
       "965"
      ]
     },
     "execution_count": 5,
     "metadata": {},
     "output_type": "execute_result"
    }
   ],
   "execution_count": 5
  },
  {
   "metadata": {},
   "cell_type": "markdown",
   "source": "# Topic Modelling",
   "id": "853c8041be695d0b"
  },
  {
   "metadata": {
    "ExecuteTime": {
     "end_time": "2025-02-07T10:15:17.399586288Z",
     "start_time": "2025-02-02T17:19:24.438451Z"
    }
   },
   "cell_type": "code",
   "source": [
    "embedding_model = SentenceTransformer('thenlper/gte-small', trust_remote_code=True)\n",
    "\n",
    "embeddings = embedding_model.encode(documents)"
   ],
   "id": "727099897fa9c85a",
   "outputs": [],
   "execution_count": 6
  },
  {
   "metadata": {},
   "cell_type": "markdown",
   "source": "Apply Default Parameters",
   "id": "969723e1268254cc"
  },
  {
   "metadata": {
    "ExecuteTime": {
     "end_time": "2025-02-07T10:15:17.400091537Z",
     "start_time": "2025-02-02T17:19:33.524032Z"
    }
   },
   "cell_type": "code",
   "source": [
    "umap_parameters = {\n",
    "    'n_neighbors': 15,\n",
    "    'n_components': 5,\n",
    "    'min_dist': 0.0,\n",
    "    'metric': 'cosine',\n",
    "    'random_state': 42\n",
    "}\n",
    "\n",
    "umap_model = UMAP(**umap_parameters)\n",
    "\n",
    "hdbscan_parameters = {\n",
    "    'min_cluster_size': 10,\n",
    "    'min_samples': 10,\n",
    "}\n",
    "\n",
    "hdbscan_model = HDBSCAN(**hdbscan_parameters)\n",
    "\n",
    "bertopic_parameters = {\n",
    "    'top_n_words': 25,\n",
    "    'n_gram_range': (2, 5),\n",
    "    'umap_model': umap_model,\n",
    "    'hdbscan_model': hdbscan_model\n",
    "}"
   ],
   "id": "2bd9bfde154327b1",
   "outputs": [],
   "execution_count": 7
  },
  {
   "metadata": {
    "ExecuteTime": {
     "end_time": "2025-02-07T10:15:17.400540207Z",
     "start_time": "2025-02-02T17:19:33.568866Z"
    }
   },
   "cell_type": "code",
   "source": [
    "topic_model = BERTopic(**bertopic_parameters)\n",
    "topics, probs = topic_model.fit_transform(documents, embeddings)"
   ],
   "id": "477e935dba096102",
   "outputs": [],
   "execution_count": 8
  },
  {
   "metadata": {},
   "cell_type": "markdown",
   "source": "# Evaluation",
   "id": "5fd0d609d0d2d02f"
  },
  {
   "metadata": {
    "ExecuteTime": {
     "end_time": "2025-02-07T10:15:17.401046167Z",
     "start_time": "2025-02-02T17:19:43.896955Z"
    }
   },
   "cell_type": "code",
   "source": [
    "# Preprocess Documents\n",
    "def remove_empty_topics(topic_words, top_n_words):\n",
    "    result = []\n",
    "    for words in topic_words:\n",
    "        if words != ['']*top_n_words:\n",
    "            result.append(words)\n",
    "    return result\n",
    "\n",
    "documents_df = pd.DataFrame({\"Document\": documents,\n",
    "                        \"ID\": range(len(documents)),\n",
    "                        \"Topic\": topics})\n",
    "documents_per_topic = documents_df.groupby(['Topic'], as_index=False).agg({'Document': ' '.join})\n",
    "cleaned_docs = topic_model._preprocess_text(documents_per_topic.Document.values)\n",
    "\n",
    "# Extract vectorizer and analyzer from BERTopic\n",
    "vectorizer = topic_model.vectorizer_model\n",
    "analyzer = vectorizer.build_analyzer()\n",
    "\n",
    "# Extract features for Topic Coherence evaluation\n",
    "words = vectorizer.get_feature_names_out()\n",
    "tokens = [analyzer(doc) for doc in cleaned_docs]\n",
    "\n",
    "topics_dict = topic_model.get_topics()\n",
    "topic_words = [[word for word, _ in words] for words in topics_dict.values()]\n",
    "topic_term_matrix = topic_model.c_tf_idf_.toarray()\n",
    "\n",
    "remove_empty_topics(topic_words, 25)\n",
    "\n",
    "octis_topics = {'topics': topic_words, 'topic-document-matrix': topic_term_matrix}\n",
    "\n",
    "coherence = Coherence(texts = tokens, measure='c_npmi')\n",
    "diversity = TopicDiversity(topk=25)\n",
    "\n",
    "diversity_score = diversity.score(octis_topics)\n",
    "coherence_score = coherence.score(octis_topics)\n",
    "\n",
    "print(f'Diversity: {diversity_score}')\n",
    "print(f'Coherence: {coherence_score}')"
   ],
   "id": "500400a2364a6c77",
   "outputs": [
    {
     "name": "stdout",
     "output_type": "stream",
     "text": [
      "Diversity: 0.5283333333333333\n",
      "Coherence: -0.019322583743616013\n"
     ]
    }
   ],
   "execution_count": 13
  },
  {
   "metadata": {
    "ExecuteTime": {
     "end_time": "2025-02-07T10:15:17.401548357Z",
     "start_time": "2025-02-02T17:19:49.977320Z"
    }
   },
   "cell_type": "code",
   "source": [
    "coherence_score_normalized = (coherence_score + 1) / 2\n",
    "harmonic_mean = 2 * (coherence_score_normalized*diversity_score) / (coherence_score_normalized+diversity_score)\n",
    "print(harmonic_mean)"
   ],
   "id": "fc21096deb4d9d67",
   "outputs": [
    {
     "name": "stdout",
     "output_type": "stream",
     "text": [
      "0.5086274553212281\n"
     ]
    }
   ],
   "execution_count": 14
  }
 ],
 "metadata": {
  "kernelspec": {
   "display_name": "Python 3",
   "language": "python",
   "name": "python3"
  },
  "language_info": {
   "codemirror_mode": {
    "name": "ipython",
    "version": 2
   },
   "file_extension": ".py",
   "mimetype": "text/x-python",
   "name": "python",
   "nbconvert_exporter": "python",
   "pygments_lexer": "ipython2",
   "version": "2.7.6"
  }
 },
 "nbformat": 4,
 "nbformat_minor": 5
}
