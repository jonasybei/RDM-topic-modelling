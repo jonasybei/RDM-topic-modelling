{
 "cells": [
  {
   "metadata": {
    "ExecuteTime": {
     "end_time": "2025-01-30T10:04:02.748627Z",
     "start_time": "2025-01-30T10:04:02.745757Z"
    }
   },
   "cell_type": "code",
   "source": [
    "from PyPDF2 import PdfReader, PdfWriter\n",
    "from git_root import git_root"
   ],
   "id": "7cf8f3cc3cf80a50",
   "outputs": [],
   "execution_count": 36
  },
  {
   "metadata": {
    "ExecuteTime": {
     "end_time": "2025-01-30T10:04:02.769354Z",
     "start_time": "2025-01-30T10:04:02.765142Z"
    }
   },
   "cell_type": "code",
   "source": "my_git_root = git_root()",
   "id": "580fcaab253c9136",
   "outputs": [],
   "execution_count": 37
  },
  {
   "metadata": {
    "ExecuteTime": {
     "end_time": "2025-01-30T10:04:02.811773Z",
     "start_time": "2025-01-30T10:04:02.809848Z"
    }
   },
   "cell_type": "code",
   "source": [
    "pdf_name = 'staffordshire-university.pdf'\n",
    "input_path = f'{my_git_root}/notebooks/create_plots/examples/' + pdf_name"
   ],
   "id": "a97130052da042f8",
   "outputs": [],
   "execution_count": 38
  },
  {
   "cell_type": "code",
   "id": "initial_id",
   "metadata": {
    "collapsed": true,
    "ExecuteTime": {
     "end_time": "2025-01-30T10:04:02.866032Z",
     "start_time": "2025-01-30T10:04:02.854759Z"
    }
   },
   "source": [
    "# Pages to keep (e.g., 0-based indexing: first page = 0, second page = 1, etc.)\n",
    "pages_to_keep = [1]  # Example: Keeping 1st, 3rd, and 5th pages\n",
    "\n",
    "# Read the input PDF\n",
    "reader = PdfReader(input_path)\n",
    "\n",
    "# Create a PDF writer to write the output PDF\n",
    "writer = PdfWriter()\n",
    "\n",
    "# Add selected pages to the writer\n",
    "for page_number in pages_to_keep:\n",
    "    writer.add_page(reader.pages[page_number])\n",
    "\n",
    "output_path = f'{my_git_root}/notebooks/create_plots/examples_out/' + f'page_{pages_to_keep}' + pdf_name\n",
    "\n",
    "# Write the output PDF\n",
    "with open(output_path, 'wb') as output_file:\n",
    "    writer.write(output_file)\n",
    "\n",
    "print(f\"Created a new PDF with selected pages: {output_path}\")\n"
   ],
   "outputs": [
    {
     "name": "stdout",
     "output_type": "stream",
     "text": [
      "Created a new PDF with selected pages: /home/jonas/PycharmProjects/RDM_topic_modelling/notebooks/create_plots/examples_out/page_[1]staffordshire-university.pdf\n"
     ]
    }
   ],
   "execution_count": 39
  }
 ],
 "metadata": {
  "kernelspec": {
   "display_name": "Python 3",
   "language": "python",
   "name": "python3"
  },
  "language_info": {
   "codemirror_mode": {
    "name": "ipython",
    "version": 2
   },
   "file_extension": ".py",
   "mimetype": "text/x-python",
   "name": "python",
   "nbconvert_exporter": "python",
   "pygments_lexer": "ipython2",
   "version": "2.7.6"
  }
 },
 "nbformat": 4,
 "nbformat_minor": 5
}
