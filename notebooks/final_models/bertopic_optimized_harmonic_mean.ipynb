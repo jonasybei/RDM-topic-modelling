{
 "cells": [
  {
   "cell_type": "markdown",
   "id": "933e0744f3257192",
   "metadata": {},
   "source": [
    "# Importing libraries"
   ]
  },
  {
   "cell_type": "code",
   "id": "11650cb1cd1c7d30",
   "metadata": {
    "ExecuteTime": {
     "end_time": "2025-02-08T10:38:12.208254Z",
     "start_time": "2025-02-08T10:38:03.125371Z"
    }
   },
   "source": [
    "import os\n",
    "import pickle\n",
    "import sys\n",
    "\n",
    "import matplotlib.pyplot as plt\n",
    "import numpy as np\n",
    "import torch\n",
    "from bertopic import BERTopic\n",
    "from bertopic.representation import TextGeneration\n",
    "from git_root import git_root\n",
    "from hdbscan import HDBSCAN\n",
    "from nltk.corpus import stopwords\n",
    "from rdflib import Graph, Literal, RDF, Namespace\n",
    "from rdflib.namespace import XSD\n",
    "from sentence_transformers import SentenceTransformer\n",
    "from sklearn.metrics.pairwise import cosine_distances\n",
    "from transformers import AutoModelForCausalLM, AutoTokenizer, pipeline\n",
    "from transformers import BitsAndBytesConfig\n",
    "from umap import UMAP\n",
    "\n",
    "os.environ[\"PYTORCH_CUDA_ALLOC_CONF\"] = \"expandable_segments:True\"\n",
    "my_git_root = git_root()\n",
    "sys.path.append(my_git_root)\n",
    "from src import *"
   ],
   "outputs": [],
   "execution_count": 1
  },
  {
   "cell_type": "markdown",
   "id": "a7a8f0b5d107269b",
   "metadata": {},
   "source": [
    "# Loading the data"
   ]
  },
  {
   "cell_type": "code",
   "id": "7e1947fc5af8d0e7",
   "metadata": {
    "ExecuteTime": {
     "end_time": "2025-02-08T10:38:12.232501Z",
     "start_time": "2025-02-08T10:38:12.212022Z"
    }
   },
   "source": [
    "df_documents_path = f'{my_git_root}/final_notebooks/data/chunked_documents_final.csv'\n",
    "df_documents = pd.read_csv(df_documents_path)"
   ],
   "outputs": [],
   "execution_count": 2
  },
  {
   "cell_type": "code",
   "id": "7576ecfb628c7de7",
   "metadata": {
    "ExecuteTime": {
     "end_time": "2025-02-08T10:38:12.337833Z",
     "start_time": "2025-02-08T10:38:12.332104Z"
    }
   },
   "source": [
    "df_documents"
   ],
   "outputs": [
    {
     "data": {
      "text/plain": [
       "                       name                                               text\n",
       "0       aalto-university.md                                   Aalto University\n",
       "1       aalto-university.md   Aalto University Research Data Management Policy\n",
       "2       aalto-university.md  The research data management policy aims to ma...\n",
       "3       aalto-university.md  The data management policy shall be implemente...\n",
       "4       aalto-university.md  Ownership of copyright protected research data...\n",
       "...                     ...                                                ...\n",
       "3481  wrexham-university.md  FAIR Data\\n\\nWhere it is lawful to do so, the ...\n",
       "3482  wrexham-university.md  Prifysgol Wrecsam Wrexham University\\n\\nPublic...\n",
       "3483  wrexham-university.md  Reporting a Data Incident/Breach\\n\\nThe UK GDP...\n",
       "3484  wrexham-university.md  Other Polices, Procedures, Legislation\\n\\nThis...\n",
       "3485  wrexham-university.md  Legislation\\n\\nData Protection Act 2018 UK GDP...\n",
       "\n",
       "[3486 rows x 2 columns]"
      ],
      "text/html": [
       "<div>\n",
       "<style scoped>\n",
       "    .dataframe tbody tr th:only-of-type {\n",
       "        vertical-align: middle;\n",
       "    }\n",
       "\n",
       "    .dataframe tbody tr th {\n",
       "        vertical-align: top;\n",
       "    }\n",
       "\n",
       "    .dataframe thead th {\n",
       "        text-align: right;\n",
       "    }\n",
       "</style>\n",
       "<table border=\"1\" class=\"dataframe\">\n",
       "  <thead>\n",
       "    <tr style=\"text-align: right;\">\n",
       "      <th></th>\n",
       "      <th>name</th>\n",
       "      <th>text</th>\n",
       "    </tr>\n",
       "  </thead>\n",
       "  <tbody>\n",
       "    <tr>\n",
       "      <th>0</th>\n",
       "      <td>aalto-university.md</td>\n",
       "      <td>Aalto University</td>\n",
       "    </tr>\n",
       "    <tr>\n",
       "      <th>1</th>\n",
       "      <td>aalto-university.md</td>\n",
       "      <td>Aalto University Research Data Management Policy</td>\n",
       "    </tr>\n",
       "    <tr>\n",
       "      <th>2</th>\n",
       "      <td>aalto-university.md</td>\n",
       "      <td>The research data management policy aims to ma...</td>\n",
       "    </tr>\n",
       "    <tr>\n",
       "      <th>3</th>\n",
       "      <td>aalto-university.md</td>\n",
       "      <td>The data management policy shall be implemente...</td>\n",
       "    </tr>\n",
       "    <tr>\n",
       "      <th>4</th>\n",
       "      <td>aalto-university.md</td>\n",
       "      <td>Ownership of copyright protected research data...</td>\n",
       "    </tr>\n",
       "    <tr>\n",
       "      <th>...</th>\n",
       "      <td>...</td>\n",
       "      <td>...</td>\n",
       "    </tr>\n",
       "    <tr>\n",
       "      <th>3481</th>\n",
       "      <td>wrexham-university.md</td>\n",
       "      <td>FAIR Data\\n\\nWhere it is lawful to do so, the ...</td>\n",
       "    </tr>\n",
       "    <tr>\n",
       "      <th>3482</th>\n",
       "      <td>wrexham-university.md</td>\n",
       "      <td>Prifysgol Wrecsam Wrexham University\\n\\nPublic...</td>\n",
       "    </tr>\n",
       "    <tr>\n",
       "      <th>3483</th>\n",
       "      <td>wrexham-university.md</td>\n",
       "      <td>Reporting a Data Incident/Breach\\n\\nThe UK GDP...</td>\n",
       "    </tr>\n",
       "    <tr>\n",
       "      <th>3484</th>\n",
       "      <td>wrexham-university.md</td>\n",
       "      <td>Other Polices, Procedures, Legislation\\n\\nThis...</td>\n",
       "    </tr>\n",
       "    <tr>\n",
       "      <th>3485</th>\n",
       "      <td>wrexham-university.md</td>\n",
       "      <td>Legislation\\n\\nData Protection Act 2018 UK GDP...</td>\n",
       "    </tr>\n",
       "  </tbody>\n",
       "</table>\n",
       "<p>3486 rows × 2 columns</p>\n",
       "</div>"
      ]
     },
     "execution_count": 3,
     "metadata": {},
     "output_type": "execute_result"
    }
   ],
   "execution_count": 3
  },
  {
   "cell_type": "code",
   "id": "a9f446cd1cc18d05",
   "metadata": {
    "ExecuteTime": {
     "end_time": "2025-02-08T10:38:12.396616Z",
     "start_time": "2025-02-08T10:38:12.394875Z"
    }
   },
   "source": [
    "documents = df_documents['text'].to_list()"
   ],
   "outputs": [],
   "execution_count": 4
  },
  {
   "cell_type": "markdown",
   "id": "853c8041be695d0b",
   "metadata": {},
   "source": [
    "# Topic Modelling"
   ]
  },
  {
   "cell_type": "code",
   "id": "727099897fa9c85a",
   "metadata": {
    "ExecuteTime": {
     "end_time": "2025-02-08T10:38:20.172041Z",
     "start_time": "2025-02-08T10:38:12.436354Z"
    }
   },
   "source": [
    "embedding_model = SentenceTransformer('thenlper/gte-small', trust_remote_code=True)\n",
    "\n",
    "embeddings = embedding_model.encode(documents)"
   ],
   "outputs": [],
   "execution_count": 5
  },
  {
   "cell_type": "markdown",
   "id": "2c64409ce6a2b837",
   "metadata": {},
   "source": [
    "Insert parameters from optimized harmonic mean"
   ]
  },
  {
   "cell_type": "code",
   "id": "2bd9bfde154327b1",
   "metadata": {
    "ExecuteTime": {
     "end_time": "2025-02-08T10:38:20.192906Z",
     "start_time": "2025-02-08T10:38:20.190829Z"
    }
   },
   "source": [
    "umap_parameters = {\n",
    "    'n_neighbors': 61,\n",
    "    'n_components': 5,\n",
    "    'min_dist': 0.4380765366409879,\n",
    "    'metric': 'cosine',\n",
    "    'random_state': 42\n",
    "}\n",
    "\n",
    "umap_model = UMAP(**umap_parameters)\n",
    "\n",
    "hdbscan_parameters = {\n",
    "    'min_cluster_size': 12,\n",
    "    'min_samples': 8,\n",
    "}\n",
    "\n",
    "hdbscan_model = HDBSCAN(**hdbscan_parameters)\n",
    "\n",
    "bertopic_parameters = {\n",
    "    'top_n_words': 25,\n",
    "    'n_gram_range': (2, 5),\n",
    "    'umap_model': umap_model,\n",
    "    'hdbscan_model': hdbscan_model\n",
    "}"
   ],
   "outputs": [],
   "execution_count": 6
  },
  {
   "cell_type": "code",
   "id": "b2e351f6de53669f",
   "metadata": {
    "ExecuteTime": {
     "end_time": "2025-02-08T10:38:20.231692Z",
     "start_time": "2025-02-08T10:38:20.229536Z"
    }
   },
   "source": [
    "bertopic_parameters = {\n",
    "    'top_n_words': 25,\n",
    "    'n_gram_range': (2, 4),\n",
    "    'umap_model': umap_model,\n",
    "    'hdbscan_model': hdbscan_model,\n",
    "    'verbose': True\n",
    "}"
   ],
   "outputs": [],
   "execution_count": 7
  },
  {
   "cell_type": "code",
   "id": "477e935dba096102",
   "metadata": {
    "ExecuteTime": {
     "end_time": "2025-02-08T10:38:38.290192Z",
     "start_time": "2025-02-08T10:38:20.275676Z"
    }
   },
   "source": [
    "topic_model = BERTopic(**bertopic_parameters)\n",
    "topics, probs = topic_model.fit_transform(documents, embeddings)"
   ],
   "outputs": [
    {
     "name": "stderr",
     "output_type": "stream",
     "text": [
      "2025-02-08 11:38:20,279 - BERTopic - Dimensionality - Fitting the dimensionality reduction algorithm\n",
      "2025-02-08 11:38:36,733 - BERTopic - Dimensionality - Completed ✓\n",
      "2025-02-08 11:38:36,734 - BERTopic - Cluster - Start clustering the reduced embeddings\n",
      "2025-02-08 11:38:36,798 - BERTopic - Cluster - Completed ✓\n",
      "2025-02-08 11:38:36,800 - BERTopic - Representation - Extracting topics from clusters using representation models.\n",
      "2025-02-08 11:38:38,010 - BERTopic - Representation - Completed ✓\n"
     ]
    }
   ],
   "execution_count": 8
  },
  {
   "cell_type": "code",
   "id": "cf9e0743954e1bf0",
   "metadata": {
    "ExecuteTime": {
     "end_time": "2025-02-08T10:38:38.307675Z",
     "start_time": "2025-02-08T10:38:38.300821Z"
    }
   },
   "source": "df_document_info = topic_model.get_document_info(documents)",
   "outputs": [],
   "execution_count": 9
  },
  {
   "cell_type": "code",
   "id": "d8dbdd1563305923",
   "metadata": {
    "ExecuteTime": {
     "end_time": "2025-02-08T10:38:38.344392Z",
     "start_time": "2025-02-08T10:38:38.342221Z"
    }
   },
   "source": [
    "df_document_info['Document_Name'] = df_documents['name']"
   ],
   "outputs": [],
   "execution_count": 10
  },
  {
   "cell_type": "markdown",
   "id": "568d074199ab06d4",
   "metadata": {},
   "source": [
    "# Displaying the number of chunks per topic"
   ]
  },
  {
   "cell_type": "code",
   "id": "2d190fc079c623c",
   "metadata": {
    "ExecuteTime": {
     "end_time": "2025-02-08T10:38:38.387987Z",
     "start_time": "2025-02-08T10:38:38.386028Z"
    }
   },
   "source": [
    "topic_counts = df_document_info['Topic'].value_counts()"
   ],
   "outputs": [],
   "execution_count": 11
  },
  {
   "cell_type": "code",
   "id": "d085355fe72038eb",
   "metadata": {
    "ExecuteTime": {
     "end_time": "2025-02-08T10:38:38.618100Z",
     "start_time": "2025-02-08T10:38:38.431139Z"
    }
   },
   "source": [
    "topic_indices = np.arange(0, len(topic_counts) - 1, 1)\n",
    "topic_counts_graph = [topic_counts[i] for i in topic_indices]\n",
    "\n",
    "fig, ax = plt.subplots(figsize=(12, 6))\n",
    "ax.bar(x=topic_indices, height=topic_counts_graph)\n",
    "ax.set_xticks(topic_indices)\n",
    "plt.savefig(f'{my_git_root}/final_notebooks/images/optimized_models/bertopic_harmonic_mean_topic_counts.svg')\n",
    "plt.show()"
   ],
   "outputs": [
    {
     "data": {
      "text/plain": [
       "<Figure size 1200x600 with 1 Axes>"
      ],
      "image/png": "[encoded data removed]"
     },
     "metadata": {},
     "output_type": "display_data"
    }
   ],
   "execution_count": 12
  },
  {
   "metadata": {
    "ExecuteTime": {
     "end_time": "2025-02-08T10:38:38.633408Z",
     "start_time": "2025-02-08T10:38:38.630364Z"
    }
   },
   "cell_type": "code",
   "source": "topic_counts",
   "id": "3fd0f99c506e382b",
   "outputs": [
    {
     "data": {
      "text/plain": [
       "Topic\n",
       "-1     2044\n",
       " 0      235\n",
       " 1      101\n",
       " 2       85\n",
       " 3       70\n",
       " 4       69\n",
       " 5       67\n",
       " 6       57\n",
       " 7       54\n",
       " 8       47\n",
       " 9       44\n",
       " 10      43\n",
       " 11      40\n",
       " 12      40\n",
       " 13      39\n",
       " 14      37\n",
       " 15      32\n",
       " 16      31\n",
       " 17      29\n",
       " 18      27\n",
       " 19      27\n",
       " 20      27\n",
       " 21      23\n",
       " 22      23\n",
       " 23      22\n",
       " 24      22\n",
       " 25      20\n",
       " 26      20\n",
       " 27      19\n",
       " 28      19\n",
       " 29      17\n",
       " 30      15\n",
       " 31      14\n",
       " 32      14\n",
       " 33      13\n",
       "Name: count, dtype: int64"
      ]
     },
     "execution_count": 13,
     "metadata": {},
     "output_type": "execute_result"
    }
   ],
   "execution_count": 13
  },
  {
   "metadata": {
    "ExecuteTime": {
     "end_time": "2025-02-08T10:38:38.676783Z",
     "start_time": "2025-02-08T10:38:38.674062Z"
    }
   },
   "cell_type": "code",
   "source": "np.mean(topic_counts[1:])",
   "id": "50bfb50c6651b53b",
   "outputs": [
    {
     "data": {
      "text/plain": [
       "42.411764705882355"
      ]
     },
     "execution_count": 14,
     "metadata": {},
     "output_type": "execute_result"
    }
   ],
   "execution_count": 14
  },
  {
   "metadata": {
    "ExecuteTime": {
     "end_time": "2025-02-08T10:38:38.785051Z",
     "start_time": "2025-02-08T10:38:38.782327Z"
    }
   },
   "cell_type": "code",
   "source": "np.std(topic_counts[1:])",
   "id": "182cb4f05720475f",
   "outputs": [
    {
     "data": {
      "text/plain": [
       "39.67820386045335"
      ]
     },
     "execution_count": 15,
     "metadata": {},
     "output_type": "execute_result"
    }
   ],
   "execution_count": 15
  },
  {
   "cell_type": "markdown",
   "id": "829a841f9965c5da",
   "metadata": {},
   "source": [
    "# Updating topic names to be more human-readable"
   ]
  },
  {
   "metadata": {},
   "cell_type": "markdown",
   "source": "Setting up LLM for topic interpretation",
   "id": "d18172a9f1e0c49b"
  },
  {
   "metadata": {
    "ExecuteTime": {
     "end_time": "2025-02-08T10:38:38.910428Z",
     "start_time": "2025-02-08T10:38:38.907655Z"
    }
   },
   "cell_type": "code",
   "source": [
    "use_4bit = False\n",
    "use_8bit = True\n",
    "\n",
    "# Compute dtype for 4-bit base models\n",
    "bnb_4bit_compute_dtype = \"float16\"\n",
    "\n",
    "# Quantization type (fp4 or nf4)\n",
    "bnb_4bit_quant_type = \"nf4\"\n",
    "\n",
    "# Activate nested quantization for 4-bit base models (double quantization)\n",
    "use_nested_quant = False\n",
    "compute_dtype = getattr(torch, bnb_4bit_compute_dtype)\n",
    "\n",
    "bnb_config = BitsAndBytesConfig(\n",
    "    load_in_4bit=use_4bit,\n",
    "    load_in_8bit=use_8bit,\n",
    "    bnb_4bit_quant_type=bnb_4bit_quant_type,\n",
    "    bnb_4bit_compute_dtype=compute_dtype,\n",
    "    bnb_4bit_use_double_quant=use_nested_quant,\n",
    ")"
   ],
   "id": "434ce5836396561b",
   "outputs": [],
   "execution_count": 16
  },
  {
   "metadata": {
    "ExecuteTime": {
     "end_time": "2025-02-08T10:38:54.427063Z",
     "start_time": "2025-02-08T10:38:38.934651Z"
    }
   },
   "cell_type": "code",
   "source": [
    "torch.random.manual_seed(0)\n",
    "model_id = \"tiiuae/Falcon3-7B-Instruct\"\n",
    "model = AutoModelForCausalLM.from_pretrained(\n",
    "    model_id,\n",
    "    device_map=\"cuda\",\n",
    "    torch_dtype=\"auto\",\n",
    "    quantization_config=bnb_config,\n",
    "    trust_remote_code=True,\n",
    ")\n",
    "tokenizer = AutoTokenizer.from_pretrained(model_id)\n",
    "\n",
    "pipe = pipeline(\n",
    "    \"text-generation\",\n",
    "    model=model,\n",
    "    tokenizer=tokenizer,\n",
    "    max_new_tokens=50,\n",
    "    repetition_penalty=1.1\n",
    ")"
   ],
   "id": "c807d36f3837701e",
   "outputs": [
    {
     "data": {
      "text/plain": [
       "Loading checkpoint shards:   0%|          | 0/4 [00:00<?, ?it/s]"
      ],
      "application/vnd.jupyter.widget-view+json": {
       "version_major": 2,
       "version_minor": 0,
       "model_id": "880531ea8d8044f7b57d07a652199f95"
      }
     },
     "metadata": {},
     "output_type": "display_data"
    },
    {
     "name": "stderr",
     "output_type": "stream",
     "text": [
      "Device set to use cuda\n"
     ]
    }
   ],
   "execution_count": 17
  },
  {
   "metadata": {
    "ExecuteTime": {
     "end_time": "2025-02-08T10:38:54.433787Z",
     "start_time": "2025-02-08T10:38:54.431230Z"
    }
   },
   "cell_type": "code",
   "source": [
    "prompt = \"\"\"<|system|>You are a helpful, respectful and honest assistant for labeling topics for texts extracted from Research Data Management Policies.</s>\n",
    "<|user|>\n",
    "I have a topic that contains the following documents:\n",
    "[DOCUMENTS]\n",
    "\n",
    "The topic is described by the following keywords: '[KEYWORDS]'.\n",
    "\n",
    "Based on the information about the topic above, please create a short label of this topic. Make sure you to only return the label and nothing more.</s>\n",
    "<|assistant|>\"\"\"\n"
   ],
   "id": "1f5825381f3fd348",
   "outputs": [],
   "execution_count": 18
  },
  {
   "metadata": {
    "ExecuteTime": {
     "end_time": "2025-02-08T10:38:54.490194Z",
     "start_time": "2025-02-08T10:38:54.476131Z"
    }
   },
   "cell_type": "code",
   "source": [
    "# Text generation with Zephyr\n",
    "llm = TextGeneration(pipe, prompt=prompt)\n",
    "representation_model = {\"representation_LLM\": llm}"
   ],
   "id": "d2099924d9fbe754",
   "outputs": [],
   "execution_count": 19
  },
  {
   "cell_type": "code",
   "id": "481bcdc6e93400bc",
   "metadata": {
    "ExecuteTime": {
     "end_time": "2025-02-08T10:41:13.149425Z",
     "start_time": "2025-02-08T10:38:54.525788Z"
    }
   },
   "source": "topic_model.update_topics(documents, top_n_words=1000, n_gram_range=(2, 5), representation_model=representation_model)",
   "outputs": [
    {
     "name": "stderr",
     "output_type": "stream",
     "text": [
      "2025-02-08 11:38:54,526 - BERTopic - WARNING: Note that extracting more than 100 words from a sparse can slow down computation quite a bit.\n",
      " 29%|██▊       | 10/35 [00:42<01:39,  3.96s/it]You seem to be using the pipelines sequentially on GPU. In order to maximize efficiency please use a dataset\n",
      "100%|██████████| 35/35 [02:15<00:00,  3.87s/it]\n"
     ]
    }
   ],
   "execution_count": 20
  },
  {
   "cell_type": "code",
   "id": "4d584aced24f8206",
   "metadata": {
    "ExecuteTime": {
     "end_time": "2025-02-08T10:41:13.212137Z",
     "start_time": "2025-02-08T10:41:13.205746Z"
    }
   },
   "source": [
    "df_topic_info = topic_model.get_topic_info()"
   ],
   "outputs": [],
   "execution_count": 21
  },
  {
   "cell_type": "code",
   "id": "c1a64ba8fe3dc662",
   "metadata": {
    "ExecuteTime": {
     "end_time": "2025-02-08T10:41:13.225436Z",
     "start_time": "2025-02-08T10:41:13.223597Z"
    }
   },
   "source": [
    "topics_full = topic_model.get_topics()"
   ],
   "outputs": [],
   "execution_count": 22
  },
  {
   "cell_type": "markdown",
   "id": "6734ddc08b45c6aa",
   "metadata": {},
   "source": [
    "Load the topic descriptors into an array"
   ]
  },
  {
   "cell_type": "code",
   "id": "41f2301d09632f0b",
   "metadata": {
    "ExecuteTime": {
     "end_time": "2025-02-08T10:41:13.273434Z",
     "start_time": "2025-02-08T10:41:13.268050Z"
    }
   },
   "source": [
    "interpretable_topic_names = {}\n",
    "\n",
    "for index, value in topics_full.items():\n",
    "    interpretable_topic_name = [topic_descriptor for topic_descriptor, probability in value]\n",
    "    interpretable_topic_names[index] = interpretable_topic_name"
   ],
   "outputs": [],
   "execution_count": 23
  },
  {
   "cell_type": "markdown",
   "id": "2fef4c540fcc83bb",
   "metadata": {},
   "source": [
    "Remove stop-words and only show top 25 descriptors"
   ]
  },
  {
   "cell_type": "code",
   "id": "8fdf4217e07fa6d0",
   "metadata": {
    "ExecuteTime": {
     "end_time": "2025-02-08T10:41:13.318022Z",
     "start_time": "2025-02-08T10:41:13.315979Z"
    }
   },
   "source": [
    "def remove_stop_words(text):\n",
    "    stop_words = stopwords.words('english')\n",
    "    regex_stop_words = '|'.join(stop_words)\n",
    "    result = re.sub(rf'^((?:{regex_stop_words})\\s+)+', '', text)\n",
    "    result = re.sub(rf'(\\s+(?:{regex_stop_words}))+$', '', result)\n",
    "    return result"
   ],
   "outputs": [],
   "execution_count": 24
  },
  {
   "cell_type": "code",
   "id": "1ac6ff39f66a73c0",
   "metadata": {
    "ExecuteTime": {
     "end_time": "2025-02-08T10:41:13.362158Z",
     "start_time": "2025-02-08T10:41:13.360174Z"
    }
   },
   "source": [
    "def remove_single_words(topic_descriptors):\n",
    "    result = []\n",
    "    for topic_descriptor in topic_descriptors:\n",
    "        if bool(re.search('\\s+', topic_descriptor)):\n",
    "            result.append(topic_descriptor)\n",
    "    return result"
   ],
   "outputs": [],
   "execution_count": 25
  },
  {
   "cell_type": "code",
   "id": "61936ff48d8366b1",
   "metadata": {
    "ExecuteTime": {
     "end_time": "2025-02-08T10:41:13.406932Z",
     "start_time": "2025-02-08T10:41:13.404992Z"
    }
   },
   "source": [
    "def remove_duplicate_words(topic_descriptors):\n",
    "    result = []\n",
    "\n",
    "    for topic_descriptor in topic_descriptors:\n",
    "        if topic_descriptor not in result:\n",
    "            result.append(topic_descriptor)\n",
    "    return result"
   ],
   "outputs": [],
   "execution_count": 26
  },
  {
   "cell_type": "code",
   "id": "ade8abcf22d44e86",
   "metadata": {
    "ExecuteTime": {
     "end_time": "2025-02-08T10:41:13.450728Z",
     "start_time": "2025-02-08T10:41:13.448910Z"
    }
   },
   "source": [
    "def keep_top_n_topic_descriptors(topic_descriptors, n):\n",
    "    return topic_descriptors[:n]"
   ],
   "outputs": [],
   "execution_count": 27
  },
  {
   "cell_type": "code",
   "id": "13232c3ee026c8fd",
   "metadata": {
    "ExecuteTime": {
     "end_time": "2025-02-08T10:41:15.256800Z",
     "start_time": "2025-02-08T10:41:13.493179Z"
    }
   },
   "source": [
    "n = 25\n",
    "\n",
    "for index, value in interpretable_topic_names.items():\n",
    "    interpretable_topics = [remove_stop_words(topic) for topic in value]\n",
    "    interpretable_topics = remove_single_words(interpretable_topics)\n",
    "    interpretable_topics = remove_duplicate_words(interpretable_topics)\n",
    "    interpretable_topics = keep_top_n_topic_descriptors(interpretable_topics, n)\n",
    "    interpretable_topic_names[index] = interpretable_topics"
   ],
   "outputs": [],
   "execution_count": 28
  },
  {
   "cell_type": "code",
   "id": "33ff9a2defddc4e8",
   "metadata": {
    "ExecuteTime": {
     "end_time": "2025-02-08T10:41:15.287021Z",
     "start_time": "2025-02-08T10:41:15.285229Z"
    }
   },
   "source": [
    "for key, value in interpretable_topic_names.items():\n",
    "    if key != -1:\n",
    "        assert len(value) == 25, f'Topic {key} has {len(value)} topics, rather than {n}.'"
   ],
   "outputs": [],
   "execution_count": 29
  },
  {
   "cell_type": "code",
   "id": "5d64daf2af6719b5",
   "metadata": {
    "ExecuteTime": {
     "end_time": "2025-02-08T10:41:15.333859Z",
     "start_time": "2025-02-08T10:41:15.327444Z"
    }
   },
   "source": [
    "df_topic_info = topic_model.get_topic_info()"
   ],
   "outputs": [],
   "execution_count": 30
  },
  {
   "cell_type": "code",
   "id": "74d7fe46de613be8",
   "metadata": {
    "ExecuteTime": {
     "end_time": "2025-02-08T10:41:15.380153Z",
     "start_time": "2025-02-08T10:41:15.376073Z"
    }
   },
   "source": [
    "for key, value in interpretable_topic_names.items():\n",
    "    topic_id = key\n",
    "    ctfidf_representation = value\n",
    "    llm_representation = df_topic_info.iloc[index + 1]['representation_LLM']\n",
    "\n",
    "    print(f'\\\\textbf{{Topic {topic_id}}}:\\n\\n\\\\noindent\\\\textbf{{cTF-IDF representation: }}{\", \".join(ctfidf_representation)}\\n\\n\\\\noindent\\\\textbf{{LLM representation: }}{llm_representation[0]}\\\\\\\\\\n\\n\\\\noindent')"
   ],
   "outputs": [
    {
     "name": "stdout",
     "output_type": "stream",
     "text": [
      "\\textbf{Topic -1}:\n",
      "\n",
      "\\noindent\\textbf{cTF-IDF representation: }research data, data management, research data management, personal data, data protection, research project, data must, management plan, data management plan, open access, intellectual property, research projects, research data must, management policy, data sharing, data management policy, made available, management plans, management of research data, management of research, data management plans, third parties, data repository, open research, data policy\n",
      "\n",
      "\\noindent\\textbf{LLM representation: }\n",
      "\"General Principles and Guidelines in Research Data Management Policies\"\\\\\n",
      "\n",
      "\\noindent\n",
      "\\textbf{Topic 0}:\n",
      "\n",
      "\\noindent\\textbf{cTF-IDF representation: }data management, research data, research data management, research project, responsible for ensuring, principal investigator, principal investigators, phd students, responsibility for research, data management plan, management plan, data steward, responsibility for research data, roles and responsibilities, responsibility for research data management, overall responsibility, data stewards, good data management, good data, research projects, research group, management of research, management of research data, primary responsibility, investigator pi\n",
      "\n",
      "\\noindent\\textbf{LLM representation: }\n",
      "\"General Principles and Guidelines in Research Data Management Policies\"\\\\\n",
      "\n",
      "\\noindent\n",
      "\\textbf{Topic 1}:\n",
      "\n",
      "\\noindent\\textbf{cTF-IDF representation: }research data, university of potsdam, handling of research, handling of research data, research data management, data management, good scientific, freie universitt, universitt berlin, good scientific practice, scientific practice, et al, handling research data, handling research, research data policy, freie universitt berlin, data policy, technische universitt, leibniz university, safeguarding good, leibniz university hannover, university hannover, open access, recommendations for the handling, tu berlin\n",
      "\n",
      "\\noindent\\textbf{LLM representation: }\n",
      "\"General Principles and Guidelines in Research Data Management Policies\"\\\\\n",
      "\n",
      "\\noindent\n",
      "\\textbf{Topic 2}:\n",
      "\n",
      "\\noindent\\textbf{cTF-IDF representation: }data management, data management plan, management plan, plan dmp, data management plan dmp, management plan dmp, research data, data management plans, management plans, research project, research data management, data management plan data, management plan data, plan data, dmp must, data collection, data management planning, management planning, research projects, snsf data management, snsf data, dmp template, new research, planning research, management plan data management\n",
      "\n",
      "\\noindent\\textbf{LLM representation: }\n",
      "\"General Principles and Guidelines in Research Data Management Policies\"\\\\\n",
      "\n",
      "\\noindent\n",
      "\\textbf{Topic 3}:\n",
      "\n",
      "\\noindent\\textbf{cTF-IDF representation: }management policy, research data management policy, data management policy, data management, research data management, research data, data management policy research data, management policy research data, management policy research data management, policy research data management policy, research data management policy research, data management policy research, management policy research, policy research data management, policy research data, policy research, tu delft, framework policy, tu delft research data, delft research data, delft research, tu delft research, university research data management policy, university research data management, university research data\n",
      "\n",
      "\\noindent\\textbf{LLM representation: }\n",
      "\"General Principles and Guidelines in Research Data Management Policies\"\\\\\n",
      "\n",
      "\\noindent\n",
      "\\textbf{Topic 4}:\n",
      "\n",
      "\\noindent\\textbf{cTF-IDF representation: }research data, data research, data research data, derived from existing, research data research, research data research data, collected observed, data may, definition of research, validate research, published data, definition of research data, experimentation observation modelling, experimentation observation modelling interview, experimentation observation, definitions research, observation modelling interview, observation modelling, interview or other methods, modelling interview, modelling interview or other methods, support or validate, primary data, existing evidence, work by experimentation observation modelling\n",
      "\n",
      "\\noindent\\textbf{LLM representation: }\n",
      "\"General Principles and Guidelines in Research Data Management Policies\"\\\\\n",
      "\n",
      "\\noindent\n",
      "\\textbf{Topic 5}:\n",
      "\n",
      "\\noindent\\textbf{cTF-IDF representation: }research data, data management, open research, research data management, open research data, concordat on open, common principles, concordat on open research, open access, principles on data, concordat on open research data, common principles on data, management of research data, management of research, good research, good practice, data policy, management policy, public good, funding bodies, uk research, data management policy, highest standards, openly available, research process\n",
      "\n",
      "\\noindent\\textbf{LLM representation: }\n",
      "\"General Principles and Guidelines in Research Data Management Policies\"\\\\\n",
      "\n",
      "\\noindent\n",
      "\\textbf{Topic 6}:\n",
      "\n",
      "\\noindent\\textbf{cTF-IDF representation: }10 years, research data, retention period, storage period, minimum retention, ten years, must be retained, years from the date, minimum retention period, longterm value, research findings, data retention, least 10 years, least 10, data should be retained, period of 10 years, period of 10, minimum of 10 years, minimum of 10, period for research, period for research data, data must, period of at least, 10 years from the date, minimum retention period for research\n",
      "\n",
      "\\noindent\\textbf{LLM representation: }\n",
      "\"General Principles and Guidelines in Research Data Management Policies\"\\\\\n",
      "\n",
      "\\noindent\n",
      "\\textbf{Topic 7}:\n",
      "\n",
      "\\noindent\\textbf{cTF-IDF representation: }research data, data storage, related materials, data and related, data and related materials, research data storage, research data and related, research data and related materials, storage facilities, data should be stored, must be stored, defined internal, approved university storage, university storage, approved university, data must, research project, storage period, storage of data, tape backup, approved university storage facilities, university storage facilities, data package, researchers must, storage service\n",
      "\n",
      "\\noindent\\textbf{LLM representation: }\n",
      "\"General Principles and Guidelines in Research Data Management Policies\"\\\\\n",
      "\n",
      "\\noindent\n",
      "\\textbf{Topic 8}:\n",
      "\n",
      "\\noindent\\textbf{cTF-IDF representation: }personal data, data subject, fh joanneum, natural person, processing is necessary, joanneum collects and processes, fh joanneum collects, joanneum collects, collects and processes, fh joanneum collects and processes, data categories, identifiable natural person, identifiable natural, data concerning, art para lit, pursuant to art, art para lit gdpr, identified or identifiable, art para, data processing, para lit, lit gdpr, para lit gdpr, data revealing, identification number\n",
      "\n",
      "\\noindent\\textbf{LLM representation: }\n",
      "\"General Principles and Guidelines in Research Data Management Policies\"\\\\\n",
      "\n",
      "\\noindent\n",
      "\\textbf{Topic 9}:\n",
      "\n",
      "\\noindent\\textbf{cTF-IDF representation: }data repository, research data, metadata record, data repositories, appropriate data, research information, appropriate data repository, data service, university repository, universitys research, research information system, information system, research data archive, external data, domain repository, related materials, data and related materials, international data, institutional repository, data and related, universitys research data, somewhere other than the universitys, deposited somewhere, digital andor nondigital, andor nondigital research data\n",
      "\n",
      "\\noindent\\textbf{LLM representation: }\n",
      "\"General Principles and Guidelines in Research Data Management Policies\"\\\\\n",
      "\n",
      "\\noindent\n",
      "\\textbf{Topic 10}:\n",
      "\n",
      "\\noindent\\textbf{cTF-IDF representation: }policy applies, research students, applies to all research, postgraduate research students, policy applies to all research, postgraduate research, university staff, research data, regardless of whether, information store, externally funded, scope this policy, staff and students, referred to as researchers, staff and postgraduate, policy does not apply, visiting researchers, open university, conducting research, research activities, research conducted, data regardless, scope this policy applies, research is funded, policy covers\n",
      "\n",
      "\\noindent\\textbf{LLM representation: }\n",
      "\"General Principles and Guidelines in Research Data Management Policies\"\\\\\n",
      "\n",
      "\\noindent\n",
      "\\textbf{Topic 11}:\n",
      "\n",
      "\\noindent\\textbf{cTF-IDF representation: }fair principles, research data, findable accessible, findable accessible interoperable, accessible interoperable, fair data, accessible interoperable and reusable, interoperable and reusable, findable accessible interoperable and reusable, openly available, source code, data and software, stands for findable, reusable the fair, accessible interoperable and reusable fair, interoperable and reusable fair, reusable fair, data findable accessible, persistent identifier, data findable, citation of data and software, research products, citation of data, fair data principles, publication of research data\n",
      "\n",
      "\\noindent\\textbf{LLM representation: }\n",
      "\"General Principles and Guidelines in Research Data Management Policies\"\\\\\n",
      "\n",
      "\\noindent\n",
      "\\textbf{Topic 12}:\n",
      "\n",
      "\\noindent\\textbf{cTF-IDF representation: }review date, research data management, management policy, data management policy, data management, research data, research data management policy, llc updated, academic board, version number, next review, task group, policy owner, compliance task, compliance task group, next review date, knowledge exchange, university of manchester, approval date, version control, open research, policy version, approved by the compliance, approving body, task group 1st\n",
      "\n",
      "\\noindent\\textbf{LLM representation: }\n",
      "\"General Principles and Guidelines in Research Data Management Policies\"\\\\\n",
      "\n",
      "\\noindent\n",
      "\\textbf{Topic 13}:\n",
      "\n",
      "\\noindent\\textbf{cTF-IDF representation: }research data, metadata metadata, data metadata, data documentation, contextual information, metadata standards, descriptive or contextual, descriptive or contextual information, readme file, data repositories, descriptive metadata, structural metadata, tools used, access understand, understand the content, administrative metadata, metadata standard, documentation metadata, described using, processing of research, processing of research data, metadata provide, research data metadata, context in which the data, data about data\n",
      "\n",
      "\\noindent\\textbf{LLM representation: }\n",
      "\"General Principles and Guidelines in Research Data Management Policies\"\\\\\n",
      "\n",
      "\\noindent\n",
      "\\textbf{Topic 14}:\n",
      "\n",
      "\\noindent\\textbf{cTF-IDF representation: }intellectual property, exclusive rights, openly available, commercial publishers, rights to reuse, data openly available, publish research data, publish research, data openly, make the data openly available, make the data openly, exclusive rights to reuse, rights to make, property rights, reuse or publish research, reuse or publish research data, condition of funding, openly available for reuse, reuse or publish, make the data, without retaining the rights, retaining the rights, retaining the rights to make, available for reuse, without retaining\n",
      "\n",
      "\\noindent\\textbf{LLM representation: }\n",
      "\"General Principles and Guidelines in Research Data Management Policies\"\\\\\n",
      "\n",
      "\\noindent\n",
      "\\textbf{Topic 15}:\n",
      "\n",
      "\\noindent\\textbf{cTF-IDF representation: }research data, research data management, data management, research data management rdm, data management rdm, management rdm, quality assurance, management research data management, management research data, management research, research results, storage sharing, management of research data, management of research, data management research data management, data research data management, research data management research data, data management research data, research data management research, data research data, data management research, data research, life cycle, storage sharing and preservation, research project\n",
      "\n",
      "\\noindent\\textbf{LLM representation: }\n",
      "\"General Principles and Guidelines in Research Data Management Policies\"\\\\\n",
      "\n",
      "\\noindent\n",
      "\\textbf{Topic 16}:\n",
      "\n",
      "\\noindent\\textbf{cTF-IDF representation: }personal data, data protection, personal information, governance and compliance, head of governance, head of governance and compliance, law enforcement, general data protection, general data, special category data, special category, personal and or special category, detection of crime, enforcement agencies, law enforcement agencies, personal and or special, general data protection regulation, bangor university, data protection act, protection act, university must, member of staff, data protection regulation, protection regulation, category data\n",
      "\n",
      "\\noindent\\textbf{LLM representation: }\n",
      "\"General Principles and Guidelines in Research Data Management Policies\"\\\\\n",
      "\n",
      "\\noindent\n",
      "\\textbf{Topic 17}:\n",
      "\n",
      "\\noindent\\textbf{cTF-IDF representation: }ethical research, ethical issues, ethical research policy, research policy, issues in research, ceu ethical research, ceu ethical, ethical issues in research, ethical research committee, checklist on ethical, checklist on ethical issues, ethical research guidelines, research guidelines, research committee, ceu ethical research policy, ceu community, research ethics, chair of the erc, staff members, identification of ethical, operational rules, academic staff, external funding, ethical research training, academic staff members\n",
      "\n",
      "\\noindent\\textbf{LLM representation: }\n",
      "\"General Principles and Guidelines in Research Data Management Policies\"\\\\\n",
      "\n",
      "\\noindent\n",
      "\\textbf{Topic 18}:\n",
      "\n",
      "\\noindent\\textbf{cTF-IDF representation: }policy policy, policy statement, related policies, relevant internal policies codes, appendix relevant internal, policies procedures, relevant internal policies, policy policy policy, practice and frameworks, related policies procedures, requirements policy, procedures and further reference, internal policies codes of practice, appendix relevant, internal policies codes, appendix relevant internal policies, appendix relevant internal policies codes, policies codes of practice, policies codes, codes of practice and frameworks, policies procedures and further reference, policy requirements policy, relevant internal, codes of practice, internal policies\n",
      "\n",
      "\\noindent\\textbf{LLM representation: }\n",
      "\"General Principles and Guidelines in Research Data Management Policies\"\\\\\n",
      "\n",
      "\\noindent\n",
      "\\textbf{Topic 19}:\n",
      "\n",
      "\\noindent\\textbf{cTF-IDF representation: }definitions definitions, definitions definitions definitions, definition of terms, definitions appendix, glossary glossary, termabbreviation meaning, appendix glossary, definitions appendix definitions definitions, definitions definition, definitions definitions abbreviations, definitions definition of terms definition, definitions definition of terms, definitions appendix definitions, definitions applicable definitions glossary, definitions applicable definitions glossary glossary, definitions appendix definitions definitions definition, definitions definitions abbreviations and definitions, definitions applicable definitions, definitions applicable, definitions appendix glossary of terms, definitions appendix glossary, definitions definitions appendix glossary, definitions definitions appendix, definitions abbreviations and definitions, definitions termabbreviation meaning glossary\n",
      "\n",
      "\\noindent\\textbf{LLM representation: }\n",
      "\"General Principles and Guidelines in Research Data Management Policies\"\\\\\n",
      "\n",
      "\\noindent\n",
      "\\textbf{Topic 20}:\n",
      "\n",
      "\\noindent\\textbf{cTF-IDF representation: }data management, research data management, research data, training support, training support advice, support advice, support advice and where appropriate, university will provide, advice and where appropriate, appropriate guidelines and templates, advice and where appropriate guidelines, guidelines and templates, appropriate guidelines, data management plans, management plans, provide training support advice, guidelines and templates for research, templates for research, templates for research data, templates for research data management, provide training support, support guidance, provide training, best practice, support and advice\n",
      "\n",
      "\\noindent\\textbf{LLM representation: }\n",
      "\"General Principles and Guidelines in Research Data Management Policies\"\\\\\n",
      "\n",
      "\\noindent\n",
      "\\textbf{Topic 21}:\n",
      "\n",
      "\\noindent\\textbf{cTF-IDF representation: }research misconduct, ethics policy, data protection, intellectual property, policy information, research ethics, misconduct policy, data protection policy, protection policy, policy ucd, policy intellectual property, research misconduct policy, policy intellectual, research ethics policy, intellectual property policy, property policy, research integrity, open access policy, access policy, policy code, code of practice, security policy, policy information security policy, policy information security, policy research\n",
      "\n",
      "\\noindent\\textbf{LLM representation: }\n",
      "\"General Principles and Guidelines in Research Data Management Policies\"\\\\\n",
      "\n",
      "\\noindent\n",
      "\\textbf{Topic 22}:\n",
      "\n",
      "\\noindent\\textbf{cTF-IDF representation: }data access, data access statement, access statement, include data access, may be accessed, statement describing, include data, include data access statement, data availability, data may be accessed, supporting research data, data are inaccessible, data associated, supporting research, availability statement, research data, data may, supporting research data may, terms any supporting, research data may be accessed, data access statements, must include data access, must include, access statements, must include data\n",
      "\n",
      "\\noindent\\textbf{LLM representation: }\n",
      "\"General Principles and Guidelines in Research Data Management Policies\"\\\\\n",
      "\n",
      "\\noindent\n",
      "\\textbf{Topic 23}:\n",
      "\n",
      "\\noindent\\textbf{cTF-IDF representation: }data management, costs associated, research funder, research data, direct costs, research data management, recover the direct costs, recover the direct, direct costs of managing, direct costs of managing research, costs of managing, costs of managing research, costs of managing research data, managing research data, managing research, seek to recover the direct, seek to recover, management and sharing, funding applications, management costs, data management costs, archiving and sharing, management activities, data management activities, data management and sharing\n",
      "\n",
      "\\noindent\\textbf{LLM representation: }\n",
      "\"General Principles and Guidelines in Research Data Management Policies\"\\\\\n",
      "\n",
      "\\noindent\n",
      "\\textbf{Topic 24}:\n",
      "\n",
      "\\noindent\\textbf{cTF-IDF representation: }creative commons, research data, cc0 waiver, commons attribution, creative commons attribution, attribution cc, commons attribution cc, creative commons attribution cc, free software licenses, free software, mit license, software licenses, creative commons licenses, commons licenses, related rights, data and software, go beyond, licenses cc, license creative, creative commons zero, commons zero, data creative, data creative commons, made available, research data creative commons\n",
      "\n",
      "\\noindent\\textbf{LLM representation: }\n",
      "\"General Principles and Guidelines in Research Data Management Policies\"\\\\\n",
      "\n",
      "\\noindent\n",
      "\\textbf{Topic 25}:\n",
      "\n",
      "\\noindent\\textbf{cTF-IDF representation: }informed consent, people participating, research involving, participating in research, types of research, obtaining consent, prospective participant, research involve, consent should be obtained, give informed consent, prospective participants, give informed, involving children, observational research, research involving children, researchers should endeavour, potential risks, certain types, researcher must, researchers must, lead researcher, personal data, public contexts, integral to the viability, part in research\n",
      "\n",
      "\\noindent\\textbf{LLM representation: }\n",
      "\"General Principles and Guidelines in Research Data Management Policies\"\\\\\n",
      "\n",
      "\\noindent\n",
      "\\textbf{Topic 26}:\n",
      "\n",
      "\\noindent\\textbf{cTF-IDF representation: }responsibilities responsibilities, responsibilities responsibilities responsibilities, roles and responsibilities, responsibilities roles and responsibilities, roles and responsibilities responsibilities, responsibilities roles, responsibilities responsibilities roles and responsibilities, responsibilities responsibilities roles, responsibilities responsibilities responsibilities responsibilities, responsibilities responsibilities responsibilities roles, principal investigators universitywide roles, research centres 513, library 514 it 52, responsibilities 51 the royal, library 514 it 52 principal, responsibilities 531 schools, responsibilities 51, 531 schools are responsible, research centres 513 library 514, research centres 513 library, procedures roles and tasks responsibilities, procedures roles, responsibilities 531, procedures roles and tasks, library 514\n",
      "\n",
      "\\noindent\\textbf{LLM representation: }\n",
      "\"General Principles and Guidelines in Research Data Management Policies\"\\\\\n",
      "\n",
      "\\noindent\n",
      "\\textbf{Topic 27}:\n",
      "\n",
      "\\noindent\\textbf{cTF-IDF representation: }staff members, university of bayreuth, tu wien, academic research, members of the university, conducting research, collection generation or processing, creation collection generation or processing, collection generation, creation collection generation, processing of research, processing of research data, generation or processing of research, generation or processing, involved in the creation collection, researchers researchers, policy researchers, involved in the creation, postgraduate taught, creation collection, doctoral students, research staff, staff regardless, also expected, director research institute\n",
      "\n",
      "\\noindent\\textbf{LLM representation: }\n",
      "\"General Principles and Guidelines in Research Data Management Policies\"\\\\\n",
      "\n",
      "\\noindent\n",
      "\\textbf{Topic 28}:\n",
      "\n",
      "\\noindent\\textbf{cTF-IDF representation: }retention period, research data, legal or ethical reasons, legal or ethical, ethical reasons, disposed of securely, deleted or destroyed, confidentiality and security, expired or for legal, deletion or destruction, ethical research funder, accordance with all legal ethical, legal ethical research funder, research funder, research funder and collaborator, legal ethical research, ethical research funder and collaborator, research funder and collaborator requirements, funder and collaborator, funder and collaborator requirements, collaborator requirements, end of the retention period, particular concern, accordance with all legal, end of the retention\n",
      "\n",
      "\\noindent\\textbf{LLM representation: }\n",
      "\"General Principles and Guidelines in Research Data Management Policies\"\\\\\n",
      "\n",
      "\\noindent\n",
      "\\textbf{Topic 29}:\n",
      "\n",
      "\\noindent\\textbf{cTF-IDF representation: }introduction introduction, introduction introduction introduction, introduction preface, preface introduction, background introduction, first draft introduction introduction, draft introduction introduction introduction, draft introduction introduction introduction introduction, first draft, first draft introduction, introduction and purpose introduction, first draft introduction introduction introduction, draft introduction, introduction background introduction, introduction background introduction preface, introduction background introduction preface 17111, draft introduction introduction, description introduction preface introduction introduction, introduction introduction and purpose introduction, description introduction preface introduction, description introduction preface, description introduction, background introduction preface 17111 first, background introduction preface 17111, background introduction preface\n",
      "\n",
      "\\noindent\\textbf{LLM representation: }\n",
      "\"General Principles and Guidelines in Research Data Management Policies\"\\\\\n",
      "\n",
      "\\noindent\n",
      "\\textbf{Topic 30}:\n",
      "\n",
      "\\noindent\\textbf{cTF-IDF representation: }data protection, data protection impact, protection impact, impact assessment, data protection impact assessment, protection impact assessment, data protection impact assessment dpia, protection impact assessment dpia, impact assessment dpia, assessment dpia, automated decision, automated decision making, likely to result, likely to result in high, result in high, decision making, high risk, data processing, personal data, protection risks, data protection risks, result in high risk, dpia must, automated decisionmaking, data privacy\n",
      "\n",
      "\\noindent\\textbf{LLM representation: }\n",
      "\"General Principles and Guidelines in Research Data Management Policies\"\\\\\n",
      "\n",
      "\\noindent\n",
      "\\textbf{Topic 31}:\n",
      "\n",
      "\\noindent\\textbf{cTF-IDF representation: }personal data, data containing personal, data containing, containing personal, pseudo codes, data containing personal data, containing personal data, ethical requirements, data package, must be separated, sensitive personal research data, sensitive personal research, personal and sensitive personal, personal and sensitive personal research, directly identifiable personal, directly identifiable, directly identifiable personal data, far as is possible, sensitive personal, personal research data in accordance, pseudonymized data, confidential personal and sensitive personal, protect confidential personal, confidential personal and sensitive, researchers will protect confidential\n",
      "\n",
      "\\noindent\\textbf{LLM representation: }\n",
      "\"General Principles and Guidelines in Research Data Management Policies\"\\\\\n",
      "\n",
      "\\noindent\n",
      "\\textbf{Topic 32}:\n",
      "\n",
      "\\noindent\\textbf{cTF-IDF representation: }digital object, object identifier, digital object identifier, persistent identifier, object identifier doi, digital object identifier doi, identifier doi, uniform resource, persistent identifiers, digital objects, digital object identifiers, storage location, object identifiers, persistent identifier is permanent, digital object identifiers dois, include digital object, unique reference, pids include, identifier is permanent, discoverability and citation, include digital, permanent reference, access to digital, web page, doi digital object identifier\n",
      "\n",
      "\\noindent\\textbf{LLM representation: }\n",
      "\"General Principles and Guidelines in Research Data Management Policies\"\\\\\n",
      "\n",
      "\\noindent\n",
      "\\textbf{Topic 33}:\n",
      "\n",
      "\\noindent\\textbf{cTF-IDF representation: }principles principles, principles principles principles, general principles, general principles principles, principles general principles, principles principles general principles, principles principles principles principles, principles principles general, principles general, general principles principles principles, general principles principles general, general principles principles general principles, 52 general principles principles principles, general principles principles principles principles, guidelines principles, guidelines principles 21, guidelines principles 21 general, guidelines principles 21 general principles, ii definitions, general principles principles principles general, general principles 52, general principles 52 general principles, general principles 52 general, ii definitions responsibilities principles, definitions responsibilities principles and guidelines\n",
      "\n",
      "\\noindent\\textbf{LLM representation: }\n",
      "\"General Principles and Guidelines in Research Data Management Policies\"\\\\\n",
      "\n",
      "\\noindent\n"
     ]
    }
   ],
   "execution_count": 31
  },
  {
   "cell_type": "markdown",
   "id": "3ec3e82b5e8e0db",
   "metadata": {},
   "source": [
    "# Exploring the topics"
   ]
  },
  {
   "cell_type": "code",
   "id": "6d265066482fedbe",
   "metadata": {
    "ExecuteTime": {
     "end_time": "2025-02-08T10:41:15.434808Z",
     "start_time": "2025-02-08T10:41:15.424875Z"
    }
   },
   "source": [
    "df_document_info"
   ],
   "outputs": [
    {
     "data": {
      "text/plain": [
       "                                               Document  Topic  \\\n",
       "0                                      Aalto University     -1   \n",
       "1      Aalto University Research Data Management Policy     -1   \n",
       "2     The research data management policy aims to ma...     -1   \n",
       "3     The data management policy shall be implemente...     -1   \n",
       "4     Ownership of copyright protected research data...     -1   \n",
       "...                                                 ...    ...   \n",
       "3481  FAIR Data\\n\\nWhere it is lawful to do so, the ...     -1   \n",
       "3482  Prifysgol Wrecsam Wrexham University\\n\\nPublic...     -1   \n",
       "3483  Reporting a Data Incident/Breach\\n\\nThe UK GDP...     -1   \n",
       "3484  Other Polices, Procedures, Legislation\\n\\nThis...     -1   \n",
       "3485  Legislation\\n\\nData Protection Act 2018 UK GDP...     -1   \n",
       "\n",
       "                                                  Name  \\\n",
       "0     -1_research data_of the_data management_the data   \n",
       "1     -1_research data_of the_data management_the data   \n",
       "2     -1_research data_of the_data management_the data   \n",
       "3     -1_research data_of the_data management_the data   \n",
       "4     -1_research data_of the_data management_the data   \n",
       "...                                                ...   \n",
       "3481  -1_research data_of the_data management_the data   \n",
       "3482  -1_research data_of the_data management_the data   \n",
       "3483  -1_research data_of the_data management_the data   \n",
       "3484  -1_research data_of the_data management_the data   \n",
       "3485  -1_research data_of the_data management_the data   \n",
       "\n",
       "                                         Representation  \\\n",
       "0     [research data, of the, data management, the d...   \n",
       "1     [research data, of the, data management, the d...   \n",
       "2     [research data, of the, data management, the d...   \n",
       "3     [research data, of the, data management, the d...   \n",
       "4     [research data, of the, data management, the d...   \n",
       "...                                                 ...   \n",
       "3481  [research data, of the, data management, the d...   \n",
       "3482  [research data, of the, data management, the d...   \n",
       "3483  [research data, of the, data management, the d...   \n",
       "3484  [research data, of the, data management, the d...   \n",
       "3485  [research data, of the, data management, the d...   \n",
       "\n",
       "                                    Representative_Docs  \\\n",
       "0     [4. Research Data Management  \\n\\nResearch dat...   \n",
       "1     [4. Research Data Management  \\n\\nResearch dat...   \n",
       "2     [4. Research Data Management  \\n\\nResearch dat...   \n",
       "3     [4. Research Data Management  \\n\\nResearch dat...   \n",
       "4     [4. Research Data Management  \\n\\nResearch dat...   \n",
       "...                                                 ...   \n",
       "3481  [4. Research Data Management  \\n\\nResearch dat...   \n",
       "3482  [4. Research Data Management  \\n\\nResearch dat...   \n",
       "3483  [4. Research Data Management  \\n\\nResearch dat...   \n",
       "3484  [4. Research Data Management  \\n\\nResearch dat...   \n",
       "3485  [4. Research Data Management  \\n\\nResearch dat...   \n",
       "\n",
       "                                            Top_n_words  Probability  \\\n",
       "0     research data - of the - data management - the...          0.0   \n",
       "1     research data - of the - data management - the...          0.0   \n",
       "2     research data - of the - data management - the...          0.0   \n",
       "3     research data - of the - data management - the...          0.0   \n",
       "4     research data - of the - data management - the...          0.0   \n",
       "...                                                 ...          ...   \n",
       "3481  research data - of the - data management - the...          0.0   \n",
       "3482  research data - of the - data management - the...          0.0   \n",
       "3483  research data - of the - data management - the...          0.0   \n",
       "3484  research data - of the - data management - the...          0.0   \n",
       "3485  research data - of the - data management - the...          0.0   \n",
       "\n",
       "      Representative_document          Document_Name  \n",
       "0                       False    aalto-university.md  \n",
       "1                       False    aalto-university.md  \n",
       "2                       False    aalto-university.md  \n",
       "3                       False    aalto-university.md  \n",
       "4                       False    aalto-university.md  \n",
       "...                       ...                    ...  \n",
       "3481                    False  wrexham-university.md  \n",
       "3482                    False  wrexham-university.md  \n",
       "3483                    False  wrexham-university.md  \n",
       "3484                    False  wrexham-university.md  \n",
       "3485                    False  wrexham-university.md  \n",
       "\n",
       "[3486 rows x 9 columns]"
      ],
      "text/html": [
       "<div>\n",
       "<style scoped>\n",
       "    .dataframe tbody tr th:only-of-type {\n",
       "        vertical-align: middle;\n",
       "    }\n",
       "\n",
       "    .dataframe tbody tr th {\n",
       "        vertical-align: top;\n",
       "    }\n",
       "\n",
       "    .dataframe thead th {\n",
       "        text-align: right;\n",
       "    }\n",
       "</style>\n",
       "<table border=\"1\" class=\"dataframe\">\n",
       "  <thead>\n",
       "    <tr style=\"text-align: right;\">\n",
       "      <th></th>\n",
       "      <th>Document</th>\n",
       "      <th>Topic</th>\n",
       "      <th>Name</th>\n",
       "      <th>Representation</th>\n",
       "      <th>Representative_Docs</th>\n",
       "      <th>Top_n_words</th>\n",
       "      <th>Probability</th>\n",
       "      <th>Representative_document</th>\n",
       "      <th>Document_Name</th>\n",
       "    </tr>\n",
       "  </thead>\n",
       "  <tbody>\n",
       "    <tr>\n",
       "      <th>0</th>\n",
       "      <td>Aalto University</td>\n",
       "      <td>-1</td>\n",
       "      <td>-1_research data_of the_data management_the data</td>\n",
       "      <td>[research data, of the, data management, the d...</td>\n",
       "      <td>[4. Research Data Management  \\n\\nResearch dat...</td>\n",
       "      <td>research data - of the - data management - the...</td>\n",
       "      <td>0.0</td>\n",
       "      <td>False</td>\n",
       "      <td>aalto-university.md</td>\n",
       "    </tr>\n",
       "    <tr>\n",
       "      <th>1</th>\n",
       "      <td>Aalto University Research Data Management Policy</td>\n",
       "      <td>-1</td>\n",
       "      <td>-1_research data_of the_data management_the data</td>\n",
       "      <td>[research data, of the, data management, the d...</td>\n",
       "      <td>[4. Research Data Management  \\n\\nResearch dat...</td>\n",
       "      <td>research data - of the - data management - the...</td>\n",
       "      <td>0.0</td>\n",
       "      <td>False</td>\n",
       "      <td>aalto-university.md</td>\n",
       "    </tr>\n",
       "    <tr>\n",
       "      <th>2</th>\n",
       "      <td>The research data management policy aims to ma...</td>\n",
       "      <td>-1</td>\n",
       "      <td>-1_research data_of the_data management_the data</td>\n",
       "      <td>[research data, of the, data management, the d...</td>\n",
       "      <td>[4. Research Data Management  \\n\\nResearch dat...</td>\n",
       "      <td>research data - of the - data management - the...</td>\n",
       "      <td>0.0</td>\n",
       "      <td>False</td>\n",
       "      <td>aalto-university.md</td>\n",
       "    </tr>\n",
       "    <tr>\n",
       "      <th>3</th>\n",
       "      <td>The data management policy shall be implemente...</td>\n",
       "      <td>-1</td>\n",
       "      <td>-1_research data_of the_data management_the data</td>\n",
       "      <td>[research data, of the, data management, the d...</td>\n",
       "      <td>[4. Research Data Management  \\n\\nResearch dat...</td>\n",
       "      <td>research data - of the - data management - the...</td>\n",
       "      <td>0.0</td>\n",
       "      <td>False</td>\n",
       "      <td>aalto-university.md</td>\n",
       "    </tr>\n",
       "    <tr>\n",
       "      <th>4</th>\n",
       "      <td>Ownership of copyright protected research data...</td>\n",
       "      <td>-1</td>\n",
       "      <td>-1_research data_of the_data management_the data</td>\n",
       "      <td>[research data, of the, data management, the d...</td>\n",
       "      <td>[4. Research Data Management  \\n\\nResearch dat...</td>\n",
       "      <td>research data - of the - data management - the...</td>\n",
       "      <td>0.0</td>\n",
       "      <td>False</td>\n",
       "      <td>aalto-university.md</td>\n",
       "    </tr>\n",
       "    <tr>\n",
       "      <th>...</th>\n",
       "      <td>...</td>\n",
       "      <td>...</td>\n",
       "      <td>...</td>\n",
       "      <td>...</td>\n",
       "      <td>...</td>\n",
       "      <td>...</td>\n",
       "      <td>...</td>\n",
       "      <td>...</td>\n",
       "      <td>...</td>\n",
       "    </tr>\n",
       "    <tr>\n",
       "      <th>3481</th>\n",
       "      <td>FAIR Data\\n\\nWhere it is lawful to do so, the ...</td>\n",
       "      <td>-1</td>\n",
       "      <td>-1_research data_of the_data management_the data</td>\n",
       "      <td>[research data, of the, data management, the d...</td>\n",
       "      <td>[4. Research Data Management  \\n\\nResearch dat...</td>\n",
       "      <td>research data - of the - data management - the...</td>\n",
       "      <td>0.0</td>\n",
       "      <td>False</td>\n",
       "      <td>wrexham-university.md</td>\n",
       "    </tr>\n",
       "    <tr>\n",
       "      <th>3482</th>\n",
       "      <td>Prifysgol Wrecsam Wrexham University\\n\\nPublic...</td>\n",
       "      <td>-1</td>\n",
       "      <td>-1_research data_of the_data management_the data</td>\n",
       "      <td>[research data, of the, data management, the d...</td>\n",
       "      <td>[4. Research Data Management  \\n\\nResearch dat...</td>\n",
       "      <td>research data - of the - data management - the...</td>\n",
       "      <td>0.0</td>\n",
       "      <td>False</td>\n",
       "      <td>wrexham-university.md</td>\n",
       "    </tr>\n",
       "    <tr>\n",
       "      <th>3483</th>\n",
       "      <td>Reporting a Data Incident/Breach\\n\\nThe UK GDP...</td>\n",
       "      <td>-1</td>\n",
       "      <td>-1_research data_of the_data management_the data</td>\n",
       "      <td>[research data, of the, data management, the d...</td>\n",
       "      <td>[4. Research Data Management  \\n\\nResearch dat...</td>\n",
       "      <td>research data - of the - data management - the...</td>\n",
       "      <td>0.0</td>\n",
       "      <td>False</td>\n",
       "      <td>wrexham-university.md</td>\n",
       "    </tr>\n",
       "    <tr>\n",
       "      <th>3484</th>\n",
       "      <td>Other Polices, Procedures, Legislation\\n\\nThis...</td>\n",
       "      <td>-1</td>\n",
       "      <td>-1_research data_of the_data management_the data</td>\n",
       "      <td>[research data, of the, data management, the d...</td>\n",
       "      <td>[4. Research Data Management  \\n\\nResearch dat...</td>\n",
       "      <td>research data - of the - data management - the...</td>\n",
       "      <td>0.0</td>\n",
       "      <td>False</td>\n",
       "      <td>wrexham-university.md</td>\n",
       "    </tr>\n",
       "    <tr>\n",
       "      <th>3485</th>\n",
       "      <td>Legislation\\n\\nData Protection Act 2018 UK GDP...</td>\n",
       "      <td>-1</td>\n",
       "      <td>-1_research data_of the_data management_the data</td>\n",
       "      <td>[research data, of the, data management, the d...</td>\n",
       "      <td>[4. Research Data Management  \\n\\nResearch dat...</td>\n",
       "      <td>research data - of the - data management - the...</td>\n",
       "      <td>0.0</td>\n",
       "      <td>False</td>\n",
       "      <td>wrexham-university.md</td>\n",
       "    </tr>\n",
       "  </tbody>\n",
       "</table>\n",
       "<p>3486 rows × 9 columns</p>\n",
       "</div>"
      ]
     },
     "execution_count": 32,
     "metadata": {},
     "output_type": "execute_result"
    }
   ],
   "execution_count": 32
  },
  {
   "cell_type": "code",
   "id": "e8445f86a5d04b00",
   "metadata": {
    "ExecuteTime": {
     "end_time": "2025-02-08T10:41:15.500798Z",
     "start_time": "2025-02-08T10:41:15.498597Z"
    }
   },
   "source": [
    "def get_topic_info(df_document_info, df_topic_info, topic_names):\n",
    "    for index, topic_name in topic_names.items():\n",
    "        my_df_document_info = df_document_info[df_document_info['Topic'] == index]\n",
    "        print(f'Topic: {index}\\n')\n",
    "        print(f'Representation: {\", \".join(topic_name)}\\n')\n",
    "        print(f'representation_LLM: {df_topic_info.iloc[index + 1][\"representation_LLM\"][0]}\\n')\n",
    "        print(f'Chunks:')\n",
    "        for doc in my_df_document_info['Document'].to_list():\n",
    "            print(f'\\t{doc}\\n')\n",
    "            print('_'*50)"
   ],
   "outputs": [],
   "execution_count": 33
  },
  {
   "metadata": {},
   "cell_type": "markdown",
   "source": "Uncomment this to see how topics were represented for expert evaluation",
   "id": "4eea99cff19c9600"
  },
  {
   "cell_type": "code",
   "id": "d7fc747b0c03c3e3",
   "metadata": {
    "ExecuteTime": {
     "end_time": "2025-02-08T10:41:15.539748Z",
     "start_time": "2025-02-08T10:41:15.538159Z"
    }
   },
   "source": "# get_topic_info(df_document_info, df_topic_info, interpretable_topic_names)",
   "outputs": [],
   "execution_count": 34
  },
  {
   "cell_type": "code",
   "id": "c5e6acd67badadc4",
   "metadata": {
    "ExecuteTime": {
     "end_time": "2025-02-08T10:41:15.926980Z",
     "start_time": "2025-02-08T10:41:15.579566Z"
    }
   },
   "source": [
    "df_document_info.to_csv(f'{my_git_root}/final_notebooks/optimized_models/outputs/bertopic_harmonic_mean_document_info.csv', index=False)"
   ],
   "outputs": [],
   "execution_count": 35
  },
  {
   "cell_type": "code",
   "id": "7bb435f4c324ef12",
   "metadata": {
    "ExecuteTime": {
     "end_time": "2025-02-08T10:41:15.938747Z",
     "start_time": "2025-02-08T10:41:15.930189Z"
    }
   },
   "source": [
    "mask = df_document_info['Document_Name'] != -1\n",
    "len(df_document_info[mask]['Document_Name'].unique())"
   ],
   "outputs": [
    {
     "data": {
      "text/plain": [
       "142"
      ]
     },
     "execution_count": 36,
     "metadata": {},
     "output_type": "execute_result"
    }
   ],
   "execution_count": 36
  },
  {
   "cell_type": "markdown",
   "id": "a07af411dd164c84",
   "metadata": {},
   "source": [
    "# Make Knowledge Graph"
   ]
  },
  {
   "cell_type": "code",
   "id": "8a821bb9c80c221c",
   "metadata": {
    "ExecuteTime": {
     "end_time": "2025-02-08T10:41:16.010027Z",
     "start_time": "2025-02-08T10:41:16.007012Z"
    }
   },
   "source": [
    "# Define namespaces\n",
    "PT = Namespace(\"http://policy-topics.org/\")\n",
    "SCHEMA = Namespace(\"http://schema.org/\")\n",
    "\n",
    "# Create a new graph\n",
    "graph = Graph()\n",
    "\n",
    "graph.bind(\"pt\", PT)"
   ],
   "outputs": [],
   "execution_count": 37
  },
  {
   "cell_type": "markdown",
   "id": "95a8b9ffd908ebcb",
   "metadata": {},
   "source": [
    "Default topic embeddings are represented by the centroid of their respective topic. Instead, we will use the text embeddings of the topic descriptor."
   ]
  },
  {
   "cell_type": "code",
   "id": "209d3555fa5605a3",
   "metadata": {
    "ExecuteTime": {
     "end_time": "2025-02-08T10:41:16.283150Z",
     "start_time": "2025-02-08T10:41:16.048378Z"
    }
   },
   "source": [
    "topic_embeddings = []\n",
    "\n",
    "for key, value in interpretable_topic_names.items():\n",
    "    topic_descriptor_joined = ', '.join(value)\n",
    "    topic_embedding = embedding_model.encode(topic_descriptor_joined)\n",
    "    topic_embeddings.append(topic_embedding)"
   ],
   "outputs": [],
   "execution_count": 38
  },
  {
   "cell_type": "code",
   "id": "bd3f639ac76a9d90",
   "metadata": {
    "ExecuteTime": {
     "end_time": "2025-02-08T10:41:16.328899Z",
     "start_time": "2025-02-08T10:41:16.317585Z"
    }
   },
   "source": [
    "# Compute pairwise cosine distances\n",
    "distance_matrix = cosine_distances(topic_embeddings)\n",
    "\n",
    "# Create a DataFrame to store closest neighbors\n",
    "closest_vectors = []\n",
    "\n",
    "for i in range(len(topic_embeddings)):\n",
    "    # Get indices of the three closest vectors (excluding itself)\n",
    "    closest_indices = np.argsort(distance_matrix[i])[1:4]  # Skip first (self)\n",
    "    closest_vectors.append(closest_indices)\n",
    "\n",
    "topic_indices = np.arange(-1, len(topic_embeddings) - 1, 1)\n",
    "\n",
    "# Convert to DataFrame\n",
    "df_topic_distances = pd.DataFrame(closest_vectors, columns=[\"Closest_1\", \"Closest_2\", \"Closest_3\"])\n",
    "df_topic_distances['topic_index'] = topic_indices"
   ],
   "outputs": [],
   "execution_count": 39
  },
  {
   "cell_type": "code",
   "id": "972ba73c019879b4",
   "metadata": {
    "ExecuteTime": {
     "end_time": "2025-02-08T10:41:16.361435Z",
     "start_time": "2025-02-08T10:41:16.359324Z"
    }
   },
   "source": [
    "df_document_info['name'] = df_documents['name']"
   ],
   "outputs": [],
   "execution_count": 40
  },
  {
   "cell_type": "code",
   "id": "489f32e0213b92a9",
   "metadata": {
    "ExecuteTime": {
     "end_time": "2025-02-08T10:41:16.823439Z",
     "start_time": "2025-02-08T10:41:16.446392Z"
    }
   },
   "source": [
    "for document_index, name in enumerate(df_document_info['name'].unique()):\n",
    "    document_uri = PT[f\"Document_{document_index}\"]\n",
    "    my_name = re.sub(r'.md', '', name)\n",
    "\n",
    "    graph.add((document_uri, RDF['type'], SCHEMA['document']))\n",
    "    graph.add((document_uri, SCHEMA['title'], Literal(my_name, datatype=XSD.string)))\n",
    "\n",
    "    df_this_document = df_document_info[df_document_info['name'] == name].reset_index()\n",
    "\n",
    "    for topic_index in df_this_document['Topic'].unique():\n",
    "        topic_uri = PT[f'Topic_{topic_index}']\n",
    "        graph.add((topic_uri, RDF['type'], SCHEMA['topic']))\n",
    "        topic_descriptors = interpretable_topic_names[topic_index]\n",
    "        topic_descriptors = ', '.join(topic_descriptors)\n",
    "        graph.add((topic_uri, PT['topic_descriptors'], Literal(topic_descriptors, datatype=XSD.string)))\n",
    "\n",
    "    for chunk_index, row in df_this_document.iterrows():\n",
    "        chunk_uri = PT[f\"Chunk_{document_index}_{chunk_index}\"]\n",
    "        graph.add((chunk_uri, RDF['type'], SCHEMA['chunk']))\n",
    "        graph.add((chunk_uri, SCHEMA['text'], Literal(row['Document'], datatype=XSD.string)))\n",
    "        graph.add((document_uri, PT['has'], chunk_uri))\n",
    "        chunk_topic_uri = PT[f'Topic_{row[\"Topic\"]}']\n",
    "        graph.add((chunk_uri, PT['describes'], chunk_topic_uri))\n",
    "\n",
    "for index, row in df_topic_distances.iterrows():\n",
    "    from_topic = PT[f'Topic_{row[\"topic_index\"]}']\n",
    "    for i in range(1, 4):\n",
    "        to_topic = PT[f'Topic_{row[f\"Closest_{i}\"]}']\n",
    "        graph.add((from_topic, PT[f'closest_{i}'], to_topic))"
   ],
   "outputs": [],
   "execution_count": 41
  },
  {
   "cell_type": "code",
   "id": "1773867d72b863b2",
   "metadata": {
    "ExecuteTime": {
     "end_time": "2025-02-08T10:41:17.144299Z",
     "start_time": "2025-02-08T10:41:16.826489Z"
    }
   },
   "source": [
    "graph.serialize(destination=f'{my_git_root}/final_notebooks/knowledge_graph/topic_modelling_test.ttl', format='turtle')"
   ],
   "outputs": [
    {
     "data": {
      "text/plain": [
       "<Graph identifier=Neefe8019d6ab45a99d8140c8ef6313dc (<class 'rdflib.graph.Graph'>)>"
      ]
     },
     "execution_count": 42,
     "metadata": {},
     "output_type": "execute_result"
    }
   ],
   "execution_count": 42
  },
  {
   "cell_type": "markdown",
   "id": "e8c62bc04cf1c907",
   "metadata": {},
   "source": [
    "# Exporting Data for RAG"
   ]
  },
  {
   "cell_type": "code",
   "id": "c983af80a91632c5",
   "metadata": {
    "ExecuteTime": {
     "end_time": "2025-02-08T10:41:17.184552Z",
     "start_time": "2025-02-08T10:41:17.182737Z"
    }
   },
   "source": [
    "topic_embeddings_dict = {}\n",
    "\n",
    "index = -1\n",
    "\n",
    "for topic_embedding in topic_embeddings:\n",
    "    topic_embeddings_dict[index] = topic_embedding\n",
    "    index += 1"
   ],
   "outputs": [],
   "execution_count": 43
  },
  {
   "cell_type": "code",
   "id": "19119eff0b735a73",
   "metadata": {
    "ExecuteTime": {
     "end_time": "2025-02-08T10:41:17.226292Z",
     "start_time": "2025-02-08T10:41:17.224285Z"
    }
   },
   "source": [
    "def store_file(file, file_path):\n",
    "    with open(file_path, 'wb') as f:\n",
    "        pickle.dump(file, f)"
   ],
   "outputs": [],
   "execution_count": 44
  },
  {
   "cell_type": "code",
   "id": "d152794835630b7b",
   "metadata": {
    "ExecuteTime": {
     "end_time": "2025-02-08T10:41:17.270988Z",
     "start_time": "2025-02-08T10:41:17.268087Z"
    }
   },
   "source": [
    "store_file(topic_embeddings_dict, f'{my_git_root}/rag_docs/topic_embeddings.pkl')"
   ],
   "outputs": [],
   "execution_count": 45
  },
  {
   "cell_type": "code",
   "id": "130c13f9bde33dbe",
   "metadata": {
    "ExecuteTime": {
     "end_time": "2025-02-08T10:41:17.314274Z",
     "start_time": "2025-02-08T10:41:17.312054Z"
    }
   },
   "source": [
    "df_documents['topic'] = df_document_info['Topic']"
   ],
   "outputs": [],
   "execution_count": 46
  },
  {
   "cell_type": "code",
   "id": "a7ded4eb6187de74",
   "metadata": {
    "ExecuteTime": {
     "end_time": "2025-02-08T10:41:17.384487Z",
     "start_time": "2025-02-08T10:41:17.357119Z"
    }
   },
   "source": [
    "df_documents.to_csv(f'{my_git_root}/rag_docs/topic_documents.csv', index=False)"
   ],
   "outputs": [],
   "execution_count": 47
  }
 ],
 "metadata": {
  "kernelspec": {
   "display_name": "Python 3 (ipykernel)",
   "language": "python",
   "name": "python3"
  },
  "language_info": {
   "codemirror_mode": {
    "name": "ipython",
    "version": 3
   },
   "file_extension": ".py",
   "mimetype": "text/x-python",
   "name": "python",
   "nbconvert_exporter": "python",
   "pygments_lexer": "ipython3",
   "version": "3.10.15"
  }
 },
 "nbformat": 4,
 "nbformat_minor": 5
}
