{
 "cells": [
  {
   "metadata": {},
   "cell_type": "markdown",
   "source": "# Importing libraries",
   "id": "29b75e129838a4fb"
  },
  {
   "metadata": {
    "ExecuteTime": {
     "end_time": "2025-02-08T10:14:29.533916Z",
     "start_time": "2025-02-08T10:14:26.529895Z"
    }
   },
   "cell_type": "code",
   "source": [
    "\n",
    "import os\n",
    "import sys\n",
    "\n",
    "import numpy as np\n",
    "import sklearn\n",
    "from git_root import git_root\n",
    "from nltk.corpus import stopwords\n",
    "from sklearn.decomposition import LatentDirichletAllocation\n",
    "from sklearn.feature_extraction.text import CountVectorizer\n",
    "\n",
    "print(sklearn.__version__)\n",
    "\n",
    "sklearn.set_config(skip_parameter_validation=True)\n",
    "os.environ[\"PYTORCH_CUDA_ALLOC_CONF\"] = \"expandable_segments:True\"\n",
    "my_git_root = git_root()\n",
    "sys.path.append(my_git_root)\n",
    "from src import *"
   ],
   "id": "ab0e5e3704d12047",
   "outputs": [
    {
     "name": "stdout",
     "output_type": "stream",
     "text": [
      "1.6.1\n"
     ]
    }
   ],
   "execution_count": 1
  },
  {
   "metadata": {},
   "cell_type": "markdown",
   "source": "# Loading the data",
   "id": "dcd4b9027e68f8a4"
  },
  {
   "metadata": {
    "ExecuteTime": {
     "end_time": "2025-02-08T10:14:29.557189Z",
     "start_time": "2025-02-08T10:14:29.538926Z"
    }
   },
   "cell_type": "code",
   "source": [
    "df_chunked_path = f'{my_git_root}/final_notebooks/data/chunked_documents_final.csv'\n",
    "df_chunked = pd.read_csv(df_chunked_path)"
   ],
   "id": "bc28b9c74d061791",
   "outputs": [],
   "execution_count": 2
  },
  {
   "metadata": {
    "ExecuteTime": {
     "end_time": "2025-02-08T10:14:29.653686Z",
     "start_time": "2025-02-08T10:14:29.647309Z"
    }
   },
   "cell_type": "code",
   "source": "df_chunked",
   "id": "429db0373267d672",
   "outputs": [
    {
     "data": {
      "text/plain": [
       "                       name                                               text\n",
       "0       aalto-university.md                                   Aalto University\n",
       "1       aalto-university.md   Aalto University Research Data Management Policy\n",
       "2       aalto-university.md  The research data management policy aims to ma...\n",
       "3       aalto-university.md  The data management policy shall be implemente...\n",
       "4       aalto-university.md  Ownership of copyright protected research data...\n",
       "...                     ...                                                ...\n",
       "3481  wrexham-university.md  FAIR Data\\n\\nWhere it is lawful to do so, the ...\n",
       "3482  wrexham-university.md  Prifysgol Wrecsam Wrexham University\\n\\nPublic...\n",
       "3483  wrexham-university.md  Reporting a Data Incident/Breach\\n\\nThe UK GDP...\n",
       "3484  wrexham-university.md  Other Polices, Procedures, Legislation\\n\\nThis...\n",
       "3485  wrexham-university.md  Legislation\\n\\nData Protection Act 2018 UK GDP...\n",
       "\n",
       "[3486 rows x 2 columns]"
      ],
      "text/html": [
       "<div>\n",
       "<style scoped>\n",
       "    .dataframe tbody tr th:only-of-type {\n",
       "        vertical-align: middle;\n",
       "    }\n",
       "\n",
       "    .dataframe tbody tr th {\n",
       "        vertical-align: top;\n",
       "    }\n",
       "\n",
       "    .dataframe thead th {\n",
       "        text-align: right;\n",
       "    }\n",
       "</style>\n",
       "<table border=\"1\" class=\"dataframe\">\n",
       "  <thead>\n",
       "    <tr style=\"text-align: right;\">\n",
       "      <th></th>\n",
       "      <th>name</th>\n",
       "      <th>text</th>\n",
       "    </tr>\n",
       "  </thead>\n",
       "  <tbody>\n",
       "    <tr>\n",
       "      <th>0</th>\n",
       "      <td>aalto-university.md</td>\n",
       "      <td>Aalto University</td>\n",
       "    </tr>\n",
       "    <tr>\n",
       "      <th>1</th>\n",
       "      <td>aalto-university.md</td>\n",
       "      <td>Aalto University Research Data Management Policy</td>\n",
       "    </tr>\n",
       "    <tr>\n",
       "      <th>2</th>\n",
       "      <td>aalto-university.md</td>\n",
       "      <td>The research data management policy aims to ma...</td>\n",
       "    </tr>\n",
       "    <tr>\n",
       "      <th>3</th>\n",
       "      <td>aalto-university.md</td>\n",
       "      <td>The data management policy shall be implemente...</td>\n",
       "    </tr>\n",
       "    <tr>\n",
       "      <th>4</th>\n",
       "      <td>aalto-university.md</td>\n",
       "      <td>Ownership of copyright protected research data...</td>\n",
       "    </tr>\n",
       "    <tr>\n",
       "      <th>...</th>\n",
       "      <td>...</td>\n",
       "      <td>...</td>\n",
       "    </tr>\n",
       "    <tr>\n",
       "      <th>3481</th>\n",
       "      <td>wrexham-university.md</td>\n",
       "      <td>FAIR Data\\n\\nWhere it is lawful to do so, the ...</td>\n",
       "    </tr>\n",
       "    <tr>\n",
       "      <th>3482</th>\n",
       "      <td>wrexham-university.md</td>\n",
       "      <td>Prifysgol Wrecsam Wrexham University\\n\\nPublic...</td>\n",
       "    </tr>\n",
       "    <tr>\n",
       "      <th>3483</th>\n",
       "      <td>wrexham-university.md</td>\n",
       "      <td>Reporting a Data Incident/Breach\\n\\nThe UK GDP...</td>\n",
       "    </tr>\n",
       "    <tr>\n",
       "      <th>3484</th>\n",
       "      <td>wrexham-university.md</td>\n",
       "      <td>Other Polices, Procedures, Legislation\\n\\nThis...</td>\n",
       "    </tr>\n",
       "    <tr>\n",
       "      <th>3485</th>\n",
       "      <td>wrexham-university.md</td>\n",
       "      <td>Legislation\\n\\nData Protection Act 2018 UK GDP...</td>\n",
       "    </tr>\n",
       "  </tbody>\n",
       "</table>\n",
       "<p>3486 rows × 2 columns</p>\n",
       "</div>"
      ]
     },
     "execution_count": 3,
     "metadata": {},
     "output_type": "execute_result"
    }
   ],
   "execution_count": 3
  },
  {
   "metadata": {
    "ExecuteTime": {
     "end_time": "2025-02-08T10:14:29.720257Z",
     "start_time": "2025-02-08T10:14:29.714034Z"
    }
   },
   "cell_type": "code",
   "source": [
    "documents = df_chunked['text'].to_list()\n",
    "documents = [document.lower() for document in documents]"
   ],
   "id": "2851683917ef304e",
   "outputs": [],
   "execution_count": 4
  },
  {
   "metadata": {
    "ExecuteTime": {
     "end_time": "2025-02-08T10:14:29.780150Z",
     "start_time": "2025-02-08T10:14:29.759041Z"
    }
   },
   "cell_type": "code",
   "source": [
    "def keep_text_only(text):\n",
    "    return re.sub(r'[^A-Za-z ]', '', text)\n",
    "\n",
    "documents = [keep_text_only(document) for document in documents]"
   ],
   "id": "2362f262536412ea",
   "outputs": [],
   "execution_count": 5
  },
  {
   "metadata": {
    "ExecuteTime": {
     "end_time": "2025-02-08T10:14:31.132192Z",
     "start_time": "2025-02-08T10:14:29.824904Z"
    }
   },
   "cell_type": "code",
   "source": [
    "vectorizer = CountVectorizer(ngram_range=(2, 5))\n",
    "doc_term_matrix = vectorizer.fit_transform(documents)"
   ],
   "id": "afb743e5fed5874e",
   "outputs": [],
   "execution_count": 6
  },
  {
   "metadata": {},
   "cell_type": "markdown",
   "source": "# Construct optimized model",
   "id": "7aebf19ebad665a8"
  },
  {
   "metadata": {
    "ExecuteTime": {
     "end_time": "2025-02-08T10:17:51.933350Z",
     "start_time": "2025-02-08T10:14:31.138757Z"
    }
   },
   "cell_type": "code",
   "source": [
    "lda_parameters = {\n",
    "    'n_components': 24,\n",
    "    'doc_topic_prior': 0.351257320684005,\n",
    "    'topic_word_prior': 6.021283690090715,\n",
    "    'learning_method': 'online',\n",
    "    'random_state': 42,\n",
    "}\n",
    "\n",
    "lda = LatentDirichletAllocation(**lda_parameters)  # n_components = number of topics\n",
    "lda = lda.fit(doc_term_matrix)\n",
    "\n",
    "topic_document_matrix = lda.transform(doc_term_matrix)\n",
    "topic_word_matrix = lda.components_\n",
    "vocabulary = vectorizer.get_feature_names_out()\n",
    "\n",
    "n_top_words = 1500\n",
    "topic_descriptors = []\n",
    "for topic_idx, topic_weights in enumerate(topic_word_matrix):\n",
    "    # Get indices of the top n words for this topic\n",
    "    top_word_indices = topic_weights.argsort()[-n_top_words:][::-1]\n",
    "    # Map indices to tokens\n",
    "    top_words = [vocabulary[i] for i in top_word_indices]\n",
    "    topic_descriptors.append(top_words)"
   ],
   "id": "de1a408c309f985d",
   "outputs": [],
   "execution_count": 7
  },
  {
   "metadata": {},
   "cell_type": "markdown",
   "source": "# Analyze topic Counts",
   "id": "dd100e71fae7b4b1"
  },
  {
   "metadata": {
    "ExecuteTime": {
     "end_time": "2025-02-08T10:17:51.951634Z",
     "start_time": "2025-02-08T10:17:51.949667Z"
    }
   },
   "cell_type": "code",
   "source": [
    "dominant_topics = np.argmax(topic_document_matrix, axis=1)\n",
    "\n",
    "data = {\n",
    "    'Document': documents,\n",
    "    'Dominant_Topic': dominant_topics\n",
    "}\n",
    "df = pd.DataFrame(data)\n"
   ],
   "id": "ca664cd8638872f9",
   "outputs": [],
   "execution_count": 8
  },
  {
   "metadata": {
    "ExecuteTime": {
     "end_time": "2025-02-08T10:17:52.000352Z",
     "start_time": "2025-02-08T10:17:51.996316Z"
    }
   },
   "cell_type": "code",
   "source": "df",
   "id": "1beda8abf8e524d7",
   "outputs": [
    {
     "data": {
      "text/plain": [
       "                                               Document  Dominant_Topic\n",
       "0                                      aalto university               3\n",
       "1      aalto university research data management policy               3\n",
       "2     the research data management policy aims to ma...               3\n",
       "3     the data management policy shall be implemente...              22\n",
       "4     ownership of copyright protected research data...               3\n",
       "...                                                 ...             ...\n",
       "3481  fair datawhere it is lawful to do so the unive...              22\n",
       "3482  prifysgol wrecsam wrexham universitypublicly f...               3\n",
       "3483  reporting a data incidentbreachthe uk gdpr req...              22\n",
       "3484  other polices procedures legislationthis polic...               3\n",
       "3485  legislationdata protection act  uk gdpr freedo...               3\n",
       "\n",
       "[3486 rows x 2 columns]"
      ],
      "text/html": [
       "<div>\n",
       "<style scoped>\n",
       "    .dataframe tbody tr th:only-of-type {\n",
       "        vertical-align: middle;\n",
       "    }\n",
       "\n",
       "    .dataframe tbody tr th {\n",
       "        vertical-align: top;\n",
       "    }\n",
       "\n",
       "    .dataframe thead th {\n",
       "        text-align: right;\n",
       "    }\n",
       "</style>\n",
       "<table border=\"1\" class=\"dataframe\">\n",
       "  <thead>\n",
       "    <tr style=\"text-align: right;\">\n",
       "      <th></th>\n",
       "      <th>Document</th>\n",
       "      <th>Dominant_Topic</th>\n",
       "    </tr>\n",
       "  </thead>\n",
       "  <tbody>\n",
       "    <tr>\n",
       "      <th>0</th>\n",
       "      <td>aalto university</td>\n",
       "      <td>3</td>\n",
       "    </tr>\n",
       "    <tr>\n",
       "      <th>1</th>\n",
       "      <td>aalto university research data management policy</td>\n",
       "      <td>3</td>\n",
       "    </tr>\n",
       "    <tr>\n",
       "      <th>2</th>\n",
       "      <td>the research data management policy aims to ma...</td>\n",
       "      <td>3</td>\n",
       "    </tr>\n",
       "    <tr>\n",
       "      <th>3</th>\n",
       "      <td>the data management policy shall be implemente...</td>\n",
       "      <td>22</td>\n",
       "    </tr>\n",
       "    <tr>\n",
       "      <th>4</th>\n",
       "      <td>ownership of copyright protected research data...</td>\n",
       "      <td>3</td>\n",
       "    </tr>\n",
       "    <tr>\n",
       "      <th>...</th>\n",
       "      <td>...</td>\n",
       "      <td>...</td>\n",
       "    </tr>\n",
       "    <tr>\n",
       "      <th>3481</th>\n",
       "      <td>fair datawhere it is lawful to do so the unive...</td>\n",
       "      <td>22</td>\n",
       "    </tr>\n",
       "    <tr>\n",
       "      <th>3482</th>\n",
       "      <td>prifysgol wrecsam wrexham universitypublicly f...</td>\n",
       "      <td>3</td>\n",
       "    </tr>\n",
       "    <tr>\n",
       "      <th>3483</th>\n",
       "      <td>reporting a data incidentbreachthe uk gdpr req...</td>\n",
       "      <td>22</td>\n",
       "    </tr>\n",
       "    <tr>\n",
       "      <th>3484</th>\n",
       "      <td>other polices procedures legislationthis polic...</td>\n",
       "      <td>3</td>\n",
       "    </tr>\n",
       "    <tr>\n",
       "      <th>3485</th>\n",
       "      <td>legislationdata protection act  uk gdpr freedo...</td>\n",
       "      <td>3</td>\n",
       "    </tr>\n",
       "  </tbody>\n",
       "</table>\n",
       "<p>3486 rows × 2 columns</p>\n",
       "</div>"
      ]
     },
     "execution_count": 9,
     "metadata": {},
     "output_type": "execute_result"
    }
   ],
   "execution_count": 9
  },
  {
   "metadata": {
    "ExecuteTime": {
     "end_time": "2025-02-08T10:17:52.064576Z",
     "start_time": "2025-02-08T10:17:52.061981Z"
    }
   },
   "cell_type": "code",
   "source": "topic_counts = df['Dominant_Topic'].value_counts()",
   "id": "1cdebfbfec5b4744",
   "outputs": [],
   "execution_count": 10
  },
  {
   "metadata": {
    "ExecuteTime": {
     "end_time": "2025-02-08T10:17:52.107872Z",
     "start_time": "2025-02-08T10:17:52.104577Z"
    }
   },
   "cell_type": "code",
   "source": "topic_counts",
   "id": "9017c0d5f121ad51",
   "outputs": [
    {
     "data": {
      "text/plain": [
       "Dominant_Topic\n",
       "3     1832\n",
       "22    1421\n",
       "0      110\n",
       "19      13\n",
       "10      11\n",
       "12       9\n",
       "13       7\n",
       "1        7\n",
       "17       7\n",
       "11       7\n",
       "20       6\n",
       "14       6\n",
       "5        6\n",
       "18       5\n",
       "8        5\n",
       "23       5\n",
       "7        4\n",
       "4        4\n",
       "2        4\n",
       "9        4\n",
       "16       4\n",
       "21       4\n",
       "15       3\n",
       "6        2\n",
       "Name: count, dtype: int64"
      ]
     },
     "execution_count": 11,
     "metadata": {},
     "output_type": "execute_result"
    }
   ],
   "execution_count": 11
  },
  {
   "metadata": {
    "ExecuteTime": {
     "end_time": "2025-02-08T10:17:52.614695Z",
     "start_time": "2025-02-08T10:17:52.138779Z"
    }
   },
   "cell_type": "code",
   "source": [
    "import matplotlib.pyplot as plt\n",
    "import numpy as np\n",
    "\n",
    "topic_indices = np.arange(0, len(topic_counts) - 1, 1)\n",
    "topic_counts_graph = [topic_counts[i] for i in topic_indices]\n",
    "\n",
    "fig, ax = plt.subplots(figsize=(12, 6))\n",
    "ax.bar(x=topic_indices, height=topic_counts_graph)\n",
    "ax.set_xticks(topic_indices)\n",
    "plt.savefig(f'{my_git_root}/final_notebooks/images/optimized_models/lda_harmonic_mean_topic_counts.svg')\n",
    "plt.show()"
   ],
   "id": "3ed2e625d678141",
   "outputs": [
    {
     "data": {
      "text/plain": [
       "<Figure size 1200x600 with 1 Axes>"
      ],
      "image/png": "[encoded data removed]"
     },
     "metadata": {},
     "output_type": "display_data"
    }
   ],
   "execution_count": 12
  },
  {
   "metadata": {
    "ExecuteTime": {
     "end_time": "2025-02-08T10:17:52.637767Z",
     "start_time": "2025-02-08T10:17:52.635360Z"
    }
   },
   "cell_type": "code",
   "source": "np.mean(topic_counts)",
   "id": "58a9154a1524cd14",
   "outputs": [
    {
     "data": {
      "text/plain": [
       "145.25"
      ]
     },
     "execution_count": 13,
     "metadata": {},
     "output_type": "execute_result"
    }
   ],
   "execution_count": 13
  },
  {
   "metadata": {
    "ExecuteTime": {
     "end_time": "2025-02-08T10:17:52.681976Z",
     "start_time": "2025-02-08T10:17:52.678714Z"
    }
   },
   "cell_type": "code",
   "source": "np.std(topic_counts)",
   "id": "7c24f2e8af7f0303",
   "outputs": [
    {
     "data": {
      "text/plain": [
       "451.02117928836407"
      ]
     },
     "execution_count": 14,
     "metadata": {},
     "output_type": "execute_result"
    }
   ],
   "execution_count": 14
  },
  {
   "metadata": {},
   "cell_type": "markdown",
   "source": "# Create interpretable topic names",
   "id": "3e5bf21c86e6a7af"
  },
  {
   "metadata": {
    "ExecuteTime": {
     "end_time": "2025-02-08T10:17:53.800631Z",
     "start_time": "2025-02-08T10:17:52.705525Z"
    }
   },
   "cell_type": "code",
   "source": [
    "interpretable_topic_names = {}\n",
    "\n",
    "for topic_idx, topic in enumerate(lda.components_):\n",
    "    interpretable_topic_names[topic_idx] = [vocabulary[i] for i in topic.argsort()[:-n_top_words - 1:-1]]"
   ],
   "id": "94741b6a4c5e5372",
   "outputs": [],
   "execution_count": 15
  },
  {
   "metadata": {},
   "cell_type": "markdown",
   "source": "Remove stop-words and only show top 25 descriptors",
   "id": "73b86e32e2417931"
  },
  {
   "metadata": {
    "ExecuteTime": {
     "end_time": "2025-02-08T10:17:53.805648Z",
     "start_time": "2025-02-08T10:17:53.803343Z"
    }
   },
   "cell_type": "code",
   "source": [
    "def remove_stop_words(text):\n",
    "    stop_words = stopwords.words('english')\n",
    "    regex_stop_words = '|'.join(stop_words)\n",
    "    result = re.sub(rf'^((?:{regex_stop_words})\\s+)+', '', text)\n",
    "    result = re.sub(rf'(\\s+(?:{regex_stop_words}))+$', '', result)\n",
    "    return result"
   ],
   "id": "8f5b5be70f160406",
   "outputs": [],
   "execution_count": 16
  },
  {
   "metadata": {
    "ExecuteTime": {
     "end_time": "2025-02-08T10:17:53.851435Z",
     "start_time": "2025-02-08T10:17:53.849173Z"
    }
   },
   "cell_type": "code",
   "source": [
    "def remove_single_words(topic_descriptors):\n",
    "    result = []\n",
    "    for topic_descriptor in topic_descriptors:\n",
    "        if bool(re.search('\\s+', topic_descriptor)):\n",
    "            result.append(topic_descriptor)\n",
    "    return result"
   ],
   "id": "fcd42ff45f61c6a5",
   "outputs": [],
   "execution_count": 17
  },
  {
   "metadata": {
    "ExecuteTime": {
     "end_time": "2025-02-08T10:17:53.896908Z",
     "start_time": "2025-02-08T10:17:53.894385Z"
    }
   },
   "cell_type": "code",
   "source": [
    "def remove_duplicate_words(topic_descriptors):\n",
    "    result = []\n",
    "\n",
    "    for topic_descriptor in topic_descriptors:\n",
    "        if topic_descriptor not in result:\n",
    "            result.append(topic_descriptor)\n",
    "    return result"
   ],
   "id": "ebddf6c36b32c501",
   "outputs": [],
   "execution_count": 18
  },
  {
   "metadata": {
    "ExecuteTime": {
     "end_time": "2025-02-08T10:17:53.942588Z",
     "start_time": "2025-02-08T10:17:53.940452Z"
    }
   },
   "cell_type": "code",
   "source": [
    "def keep_top_n_topic_descriptors(topic_descriptors, n):\n",
    "    return topic_descriptors[:n]"
   ],
   "id": "1440897264df9b99",
   "outputs": [],
   "execution_count": 19
  },
  {
   "metadata": {
    "ExecuteTime": {
     "end_time": "2025-02-08T10:17:55.884218Z",
     "start_time": "2025-02-08T10:17:53.986439Z"
    }
   },
   "cell_type": "code",
   "source": [
    "n = 25\n",
    "\n",
    "for index, value in interpretable_topic_names.items():\n",
    "    interpretable_topics = [remove_stop_words(topic) for topic in value]\n",
    "    interpretable_topics = remove_single_words(interpretable_topics)\n",
    "    interpretable_topics = remove_duplicate_words(interpretable_topics)\n",
    "    interpretable_topics = keep_top_n_topic_descriptors(interpretable_topics, n)\n",
    "    interpretable_topic_names[index] = interpretable_topics"
   ],
   "id": "f59017c608164b36",
   "outputs": [],
   "execution_count": 20
  },
  {
   "metadata": {
    "ExecuteTime": {
     "end_time": "2025-02-08T10:17:55.901286Z",
     "start_time": "2025-02-08T10:17:55.898444Z"
    }
   },
   "cell_type": "code",
   "source": [
    "for index, value in interpretable_topic_names.items():\n",
    "    print(f'\\\\textbf{{Topic {index}}}:\\n\\n\\\\noindent\\\\textbf{{cTF-IDF representation: }}{\", \".join(value)}\\\\\\\\\\n\\n\\\\noindent')"
   ],
   "id": "8a4053270a8f645",
   "outputs": [
    {
     "name": "stdout",
     "output_type": "stream",
     "text": [
      "\\textbf{Topic 0}:\n",
      "\n",
      "\\noindent\\textbf{cTF-IDF representation: }indirectly identifying, directly and indirectly identifying, directly and indirectly, identifying data, indirectly identifying data, also definitions, anonymise the removal, data inthedatasetcaninnowaybetracedbacktoaperson, removal of directly and indirectly, removal of directly, see also definitions of directly, indirectly identifying characteristics, inthedatasetcaninnowaybetracedbacktoaperson see, directly and indirectly identifying characteristics, definitions of directly, inthedatasetcaninnowaybetracedbacktoaperson see also definitions, identifying characteristics such thatthe data, thatthe data inthedatasetcaninnowaybetracedbacktoaperson, indirectly identifying characteristics such thatthe, identifying characteristics, characteristics such thatthe data, thatthe data inthedatasetcaninnowaybetracedbacktoaperson see, see also definitions, thatthe data inthedatasetcaninnowaybetracedbacktoaperson see also, characteristics such thatthe\\\\\n",
      "\n",
      "\\noindent\n",
      "\\textbf{Topic 1}:\n",
      "\n",
      "\\noindent\\textbf{cTF-IDF representation: }den senat der friedrichschilleruniversitt jena, senat der, handlungsempfehlung wurde am dezember, wurde am dezember durch den, der friedrichschilleruniversitt jena, wurde am dezember durch, dezember durch den, senat der friedrichschilleruniversitt, der friedrichschilleruniversitt jena beschlossen, handlungsempfehlung wurde am dezember durch, vorstehende handlungsempfehlung wurde, dezember durch, jena beschlossen, den senat, wurde am dezember, durch den, dezember durch den senat, durch den senat der, friedrichschilleruniversitt jena, durch den senat, senat der friedrichschilleruniversitt jena, friedrichschilleruniversitt jena beschlossen, handlungsempfehlung wurde, der friedrichschilleruniversitt, dezember durch den senat der\\\\\n",
      "\n",
      "\\noindent\n",
      "\\textbf{Topic 2}:\n",
      "\n",
      "\\noindent\\textbf{cTF-IDF representation: }access to media, safe haven facilitieslogged access, physical security controlling access, creation of safe haven facilitieslogged, rooms or cabinets, security controlling access to rooms, access to rooms, rooms or cabinets creation, hardwareadequate backup, media and hardwareadequate, security controlling access, cabinets creation of safe, cabinets creation, access to media and hardwareadequate, safe haven facilitieslogged, physical security, facilitieslogged access, media and hardwareadequate backup, facilitieslogged access to media, access to rooms or cabinets, hardwareadequate backup and retrieval, controlling access to rooms, backup and retrieval, physical security controlling, creation of safe\\\\\n",
      "\n",
      "\\noindent\n",
      "\\textbf{Topic 3}:\n",
      "\n",
      "\\noindent\\textbf{cTF-IDF representation: }research data, data management, research data management, management plan, data management plan, data protection, management policy, data management policy, research project, research data management policy, management of research, management of research data, management plans, research projects, open access, data management plans, open research, data policy, personal data, intellectual property, good research, university research, research ethics, best practice, research data policy\\\\\n",
      "\n",
      "\\noindent\n",
      "\\textbf{Topic 4}:\n",
      "\n",
      "\\noindent\\textbf{cTF-IDF representation: }organisational units, contact information, applicants contact information of applicants, contact information of applicants, applicants contact information, names of applicants contact, applicants contact, information of applicants, names of applicants, names of applicants contact information, network storage, shared network storage, complies with these standards, provide shared network, standards see, storage that complies, provide shared network storage, ict will provide shared, provide shared, shared network, ict will provide shared network, network storage that complies, shared network storage that complies, complies with these standards see, groups platforms and facilities\\\\\n",
      "\n",
      "\\noindent\n",
      "\\textbf{Topic 5}:\n",
      "\n",
      "\\noindent\\textbf{cTF-IDF representation: }annex other rdm, rdm online, annex other rdm online, annex other rdm online sources, rdm online sources, online sources, photographic creditsphotoanl all rights, photographic creditsphotoanl, photographic creditsphotoanl all rights reserverd, creditsphotoanl all rights, creditsphotoanl all rights reserverd, rights reserverd, accessed october, op de, van het umc, door de, richtlijn omgaan, van het, richtlijn omgaan met medische, universitaire medische, richtlijn omgaan met, omgaan met, het umc, omgaan met medische, met medische\\\\\n",
      "\n",
      "\\noindent\n",
      "\\textbf{Topic 6}:\n",
      "\n",
      "\\noindent\\textbf{cTF-IDF representation: }open university, describes how theresponsibilities forthe, model that describes, researchdatagovernancemodel umcutrechtdatawarehousewith, umcutrechtdatawarehousewith dataforresearch model, researchdatagovernancemodel umcutrechtdatawarehousewith dataforresearch model, platform researchdatagovernancemodel, theresponsibilities forthe, describes how theresponsibilities, describes how theresponsibilities forthe various, umcutrechtdatawarehousewith dataforresearch model that describes, dataforresearch model that describes, platform researchdatagovernancemodel umcutrechtdatawarehousewith dataforresearch model, umcutrechtdatawarehousewith dataforresearch, research data platform researchdatagovernancemodel umcutrechtdatawarehousewith, theresponsibilities forthe various, dataforresearch model, researchdatagovernancemodel umcutrechtdatawarehousewith dataforresearch, forthe various, model that describes how theresponsibilities, theresponsibilities forthe various phases, platform researchdatagovernancemodel umcutrechtdatawarehousewith dataforresearch, platform researchdatagovernancemodel umcutrechtdatawarehousewith, research data platform researchdatagovernancemodel, data platform researchdatagovernancemodel umcutrechtdatawarehousewith\\\\\n",
      "\n",
      "\\noindent\n",
      "\\textbf{Topic 7}:\n",
      "\n",
      "\\noindent\\textbf{cTF-IDF representation: }fig cc, et al, cc by uk, version control, figshare cc, cc by radarbased precipitation nowcasting, output ayzel, graph of lessings emilia, ayzel et al, fig cc by unported network, respective license please, et al figshare cc, prokaryotic and eukaryotic taxa, roese thomas network graphs, zfdg art, south americaziarani, eukaryotic taxa, eukaryotic taxa on microplastics, microbiology fig cc, cooccurrence networks of prokaryotic, hyperlinkcc by cc, al frontiers in microbiology, model output ayzel et al, et al frontiers, art fig cc by radarbased\\\\\n",
      "\n",
      "\\noindent\n",
      "\\textbf{Topic 8}:\n",
      "\n",
      "\\noindent\\textbf{cTF-IDF representation: }history version, officerdepartmentschoolpolicy ownerdate, repositoryapproval route, last approveddue for renewalinformation classification, renewalinformation classification publicinternallocation, publicinternallocation in repositoryapproval, classification publicinternallocation, classification publicinternallocation in repositoryapproval, namestatusresponsible officerdepartmentschoolpolicy ownerdate, document informationdocument namestatusresponsible, last approveddue for renewalinformation, renewalinformation classification, ownerdate last approveddue, approveddue for renewalinformation classification publicinternallocation, officerdepartmentschoolpolicy ownerdate last approveddue, ownerdate last, last approveddue, informationdocument namestatusresponsible officerdepartmentschoolpolicy ownerdate last, approveddue for renewalinformation classification, informationdocument namestatusresponsible officerdepartmentschoolpolicy, renewalinformation classification publicinternallocation in repositoryapproval, route and history, informationdocument namestatusresponsible, approveddue for renewalinformation, document informationdocument\\\\\n",
      "\n",
      "\\noindent\n",
      "\\textbf{Topic 9}:\n",
      "\n",
      "\\noindent\\textbf{cTF-IDF representation: }design nina noordzij, design nina noordzij collage, design nina, noordzij collage, nina noordzij collage, nina noordzij, noordzij collage photographer, room eplomptudelftnl design nina noordzij, collage photographer marieke de, eplomptudelftnl design nina noordzij, esther plomp room eplomptudelftnl, eplomptudelftnl design nina, nina noordzij collage photographer, photographer marieke de lorijn marsprine, data steward esther, eplomptudelftnl design nina noordzij collage, tnw data steward esther, noordzij collage photographer marieke de, esther plomp room eplomptudelftnl design, data steward esther plomp, photographer marieke de lorijn, plomp room eplomptudelftnl design, room eplomptudelftnl, room eplomptudelftnl design, collage photographer marieke\\\\\n",
      "\n",
      "\\noindent\n",
      "\\textbf{Topic 10}:\n",
      "\n",
      "\\noindent\\textbf{cTF-IDF representation: }katz and kyle, daniel katz and kyle niemeyer, delocaleattributeen smith arfon daniel, kyle niemeyer, arfon daniel katz and kyle, daniel katz, delocaleattributeen smith, arfon daniel katz, smith arfon daniel katz, katz and kyle niemeyer, daniel katz and kyle, arfon daniel, delocaleattributeen smith arfon, smith arfon, delocaleattributeen smith arfon daniel katz, smith arfon daniel, accessed october, prof dr, researcher responsibilities, key expectations, general principles, policy statement, dr walter rosenthal, walter rosenthal, prof dr walter\\\\\n",
      "\n",
      "\\noindent\n",
      "\\textbf{Topic 11}:\n",
      "\n",
      "\\noindent\\textbf{cTF-IDF representation: }research group director research institute, research institute dean, group director, group director research institute dean, research institute dean vicerector research, vicerector research, dean vicerector research, director research institute dean vicerector, institute dean vicerector research, research group director research, director research institute, research group director, institute dean vicerector, pi research group director, institute dean, group director research institute, dean vicerector research rector, institute dean vicerector research rector, research rector, director research institute dean, dean vicerector, pi research group, pi research group director research, vicerector research rector, research institute dean vicerector\\\\\n",
      "\n",
      "\\noindent\n",
      "\\textbf{Topic 12}:\n",
      "\n",
      "\\noindent\\textbf{cTF-IDF representation: }ethical committees, attending national platforms, platforms for ethical committees, national platforms, national platforms for ethical committees, platforms for ethical, attending national, attending national platforms for ethical, national platforms for ethical, accessed october, prof dr, researcher responsibilities, van der, key expectations, general principles, policy statement, input and feedback, prof dr walter, prof dr walter rosenthal, walter rosenthal, dr walter, dr walter rosenthal, jena den, jena den mrz, den mrz\\\\\n",
      "\n",
      "\\noindent\n",
      "\\textbf{Topic 13}:\n",
      "\n",
      "\\noindent\\textbf{cTF-IDF representation: }adoption implementation, adoption implementation evaluation, implementation evaluation, contents introduction principles, introduction principles, contents introduction, contents introduction principles scope, principles scope requirements liabilities, requirements liabilities adoption, liabilities adoption implementation evaluation glossary, contents introduction principles scope requirements, principles scope, scope requirements, evaluation glossary bibliographic, introduction principles scope, introduction principles scope requirements liabilities, requirements liabilities adoption implementation evaluation, requirements liabilities, glossary bibliographic, adoption implementation evaluation glossary, implementation evaluation glossary, requirements liabilities adoption implementation, liabilities adoption implementation evaluation, evaluation glossary bibliographic references, implementation evaluation glossary bibliographic\\\\\n",
      "\n",
      "\\noindent\n",
      "\\textbf{Topic 14}:\n",
      "\n",
      "\\noindent\\textbf{cTF-IDF representation: }scheduled review, revisions following scheduled, minor revisions following scheduled, minor revisions following, minor revisions following scheduled review, minor revisions, following scheduled review, revisions following, following scheduled, revisions following scheduled review, graduate schools, schools will oversee that phd, schools will oversee, graduate schools will oversee, oversee that phd, rdmp using the rdmp tool, phd candidates complete, complete an rdmp using, complete an rdmp, candidates complete, candidates complete an rdmp, using the rdmp, candidates complete an rdmp using, rdmp using, phd candidates\\\\\n",
      "\n",
      "\\noindent\n",
      "\\textbf{Topic 15}:\n",
      "\n",
      "\\noindent\\textbf{cTF-IDF representation: }researcher can check, required researcher, five year retention period, required researcher can check, using sharepoint search functionality, five year, functionality at searching, would list sites, sites with five year, list sites, using sharepoint search, five year retention, sites with five year retention, sites with five, policies are applicable, eg descriptionhold would list sites, note that if required researcher, descriptionhold would, applicable to their sites, check what holddelete policies, eg descriptionhold would, eg descriptionhold would list, researcher can check what holddelete, descriptionhold would list sites, search functionality\\\\\n",
      "\n",
      "\\noindent\n",
      "\\textbf{Topic 16}:\n",
      "\n",
      "\\noindent\\textbf{cTF-IDF representation: }requirementshould indicates, requirementshould indicates recommendationmay, indicates recommendationmay, shall and must, indicates possibility or capability, must indicated requirementshould indicates, recommendationmay indicates, indicates permissioncan, indicates recommendationmay indicates, indicates permissioncan indicates possibility, indicates permissioncan indicates, recommendationmay indicates permissioncan, indicates possibility, requirementshould indicates recommendationmay indicates, must indicated requirementshould, recommendationmay indicates permissioncan indicates, permissioncan indicates, indicates recommendationmay indicates permissioncan, possibility or capability, indicated requirementshould indicates recommendationmay, indicated requirementshould indicates recommendationmay indicates, indicates recommendationmay indicates permissioncan indicates, indicated requirementshould indicates, indicated requirementshould, must indicated\\\\\n",
      "\n",
      "\\noindent\n",
      "\\textbf{Topic 17}:\n",
      "\n",
      "\\noindent\\textbf{cTF-IDF representation: }officer gary pike researchdataportacuk, queries about this documentresearch, officer gary pike, data officer gary, officer gary, documentresearch data officer gary pike, data officer gary pike, documentresearch data officer gary, documentresearch data, pike researchdataportacuk, documentresearch data officer, gary pike researchdataportacuk, data officer gary pike researchdataportacuk, queries about this documentresearch data, gary pike, data officer, instrumentarium law, wbi wet beoordeling, beoordeling instrumentarium law on assesment, law on assesment, wbi wet beoordeling instrumentarium law, instrumentarium law on assesment, assesment of tools, wbi wet beoordeling instrumentarium, wet beoordeling instrumentarium law\\\\\n",
      "\n",
      "\\noindent\n",
      "\\textbf{Topic 18}:\n",
      "\n",
      "\\noindent\\textbf{cTF-IDF representation: }provided within publication, provided within publication manuscript, statement provided within, manuscript which confirms the associatedwithsaidpublication, manuscript which confirms, within publication manuscript, statement provided within publication, confirms the associatedwithsaidpublication, within publication manuscript which confirms, statement provided within publication manuscript, publication manuscript which confirms, publication manuscript, within publication, provided within, statement provided, equality impact, impact assessment, date version, approval date, date july, used is dublin core, metadata standardsin circulationthe best, best known, various metadata standardsin, circulationthe best\\\\\n",
      "\n",
      "\\noindent\n",
      "\\textbf{Topic 19}:\n",
      "\n",
      "\\noindent\\textbf{cTF-IDF representation: }accessed october, nd accessed, nd accessed october, survey results, source materials, observations survey results interview, results interview, observations survey results, observations survey, statistics and measurements, survey results interview, transcripts and recordings images designs, source materials archival material, measurements algorithms models, interview transcripts and recordings images, recordings images designs physical, algorithms models, textual source materials archival material, artefacts and samples, textual source materials, software observations survey results, images designs physical, interview transcripts, samples textual source, algorithms models and software observations\\\\\n",
      "\n",
      "\\noindent\n",
      "\\textbf{Topic 20}:\n",
      "\n",
      "\\noindent\\textbf{cTF-IDF representation: }contact info, tpm contact info, building jaffalaan bx, contact info building jaffalaan, tpm contact info building, info building jaffalaan bx delft, contact info building jaffalaan bx, contact info building, info building, building jaffalaan bx delft, tpm contact info building jaffalaan, tpm contact, bx delft, info building jaffalaan bx, jaffalaan bx delft, jaffalaan bx, info building jaffalaan, building jaffalaan, accessed october, researcher responsibilities, prof dr, op de, et al, key expectations, general principles\\\\\n",
      "\n",
      "\\noindent\n",
      "\\textbf{Topic 21}:\n",
      "\n",
      "\\noindent\\textbf{cTF-IDF representation: }federal law, account and student email address, account and student, student account and student, student email address, student account and student email, student email, account and student email, student account, email address, ug federal law gazette, studies university act, universities and their studies, ug federal, austrian university law federal, studies university, organisation of universities, university act ug federal law, studies university act ug, law on the organisation, studies university act ug federal, law federal law, ug federal law, austrian university law federal law, university law federal law\\\\\n",
      "\n",
      "\\noindent\n",
      "\\textbf{Topic 22}:\n",
      "\n",
      "\\noindent\\textbf{cTF-IDF representation: }research data, personal data, data protection, data management, data must, research project, intellectual property, research data must, management plan, data repository, data management plan, made available, data may, open access, research projects, fair principles, third parties, data sharing, researchers must, openly available, research findings, data access, research data management, research results, retention period\\\\\n",
      "\n",
      "\\noindent\n",
      "\\textbf{Topic 23}:\n",
      "\n",
      "\\noindent\\textbf{cTF-IDF representation: }llc updated, october llc, llc updated october, updated october, llc updated october llc, updated october llc, october llc consultation, llc updated july, updated july, july llc updated, consultation jan rpgsc, draft october llc consultation jan, july llc updated october, llc consultation jan rpgsc, consultation jan, october llc updated july, september llc updated, llc consultation jan rpgsc approval, date authority, september llc, rpgsc approval, july llc, control change, date authority draft october, october llc consultation jan\\\\\n",
      "\n",
      "\\noindent\n"
     ]
    }
   ],
   "execution_count": 21
  }
 ],
 "metadata": {
  "kernelspec": {
   "display_name": "Python 3",
   "language": "python",
   "name": "python3"
  },
  "language_info": {
   "codemirror_mode": {
    "name": "ipython",
    "version": 2
   },
   "file_extension": ".py",
   "mimetype": "text/x-python",
   "name": "python",
   "nbconvert_exporter": "python",
   "pygments_lexer": "ipython2",
   "version": "2.7.6"
  }
 },
 "nbformat": 4,
 "nbformat_minor": 5
}
