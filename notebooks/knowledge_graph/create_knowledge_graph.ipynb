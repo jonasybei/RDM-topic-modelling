{
 "cells": [
  {
   "metadata": {
    "ExecuteTime": {
     "end_time": "2025-01-28T11:19:29.903292Z",
     "start_time": "2025-01-28T11:19:29.892577Z"
    }
   },
   "cell_type": "code",
   "source": [
    "from rdflib import Graph, Literal, RDF, URIRef, Namespace\n",
    "from rdflib.namespace import XSD, RDFS\n",
    "\n",
    "# Define namespaces\n",
    "EX = Namespace(\"http://example.org/\")\n",
    "SCHEMA = Namespace(\"http://schema.org/\")\n",
    "\n",
    "# Create a new graph\n",
    "g = Graph()\n",
    "\n",
    "# Bind namespaces to prefixes\n",
    "g.bind(\"ex\", EX)\n",
    "g.bind(\"schema\", SCHEMA)\n",
    "g.bind(\"xsd\", XSD)\n",
    "\n",
    "# Function to create and add a document to the graph\n",
    "def add_document(graph, doc_id, title, num_sentences):\n",
    "    doc_uri = EX[f\"Document{doc_id}\"]\n",
    "    graph.add((doc_uri, RDF.type, SCHEMA.Document))\n",
    "    graph.add((doc_uri, SCHEMA.title, Literal(title, datatype=XSD.string)))\n",
    "    graph.add((doc_uri, SCHEMA.numSentences, Literal(num_sentences, datatype=XSD.integer)))\n",
    "    return doc_uri\n",
    "\n",
    "# Function to create and add a sentence to the graph\n",
    "def add_sentence(graph, sent_id, text, identifier):\n",
    "    sent_uri = EX[f\"Sentence{sent_id}\"]\n",
    "    graph.add((sent_uri, RDF.type, SCHEMA.Text))\n",
    "    graph.add((sent_uri, SCHEMA.text, Literal(text, datatype=XSD.string)))\n",
    "    graph.add((sent_uri, SCHEMA.identifier, Literal(identifier, datatype=XSD.string)))\n",
    "    return sent_uri\n",
    "\n",
    "# Function to create and add a topic to the graph\n",
    "def add_topic(graph, topic_id, label):\n",
    "    topic_uri = EX[f\"Topic{topic_id}\"]\n",
    "    graph.add((topic_uri, RDF.type, SCHEMA.Topic))\n",
    "    graph.add((topic_uri, SCHEMA.name, Literal(label, datatype=XSD.string)))\n",
    "    return topic_uri\n",
    "\n",
    "# Function to link document to sentence and sentence to topic\n",
    "def link_entities(graph, doc_uri, sent_uri, topic_uri):\n",
    "    graph.add((doc_uri, EX.has, sent_uri))\n",
    "    graph.add((sent_uri, EX.isAbout, topic_uri))\n",
    "\n",
    "# Example usage\n",
    "doc_uri = add_document(g, 1, \"Document Title\", 5)\n",
    "sent_uri = add_sentence(g, 1, \"This is a sentence.\", \"S1\")\n",
    "topic_uri = add_topic(g, 1, \"Topic Label\")\n",
    "link_entities(g, doc_uri, sent_uri, topic_uri)\n",
    "\n",
    "# Serialize the RDF graph into a .ttl file\n",
    "g.serialize(destination='topic_modelling_test.ttl', format='turtle')\n"
   ],
   "id": "4cb14b32f64c0036",
   "outputs": [
    {
     "data": {
      "text/plain": [
       "<Graph identifier=N1c4dc1177eb34a099d5a0b60eeeef442 (<class 'rdflib.graph.Graph'>)>"
      ]
     },
     "execution_count": 3,
     "metadata": {},
     "output_type": "execute_result"
    }
   ],
   "execution_count": 3
  }
 ],
 "metadata": {
  "kernelspec": {
   "display_name": "Python 3",
   "language": "python",
   "name": "python3"
  },
  "language_info": {
   "codemirror_mode": {
    "name": "ipython",
    "version": 2
   },
   "file_extension": ".py",
   "mimetype": "text/x-python",
   "name": "python",
   "nbconvert_exporter": "python",
   "pygments_lexer": "ipython2",
   "version": "2.7.6"
  }
 },
 "nbformat": 4,
 "nbformat_minor": 5
}
