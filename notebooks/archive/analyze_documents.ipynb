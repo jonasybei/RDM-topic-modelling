{
 "cells": [
  {
   "cell_type": "code",
   "id": "initial_id",
   "metadata": {
    "collapsed": true,
    "ExecuteTime": {
     "end_time": "2025-01-19T12:07:18.148438Z",
     "start_time": "2025-01-19T12:07:18.146554Z"
    }
   },
   "source": [
    "import pandas as pd\n",
    "from git_root import git_root\n",
    "import plotly.express as px\n",
    "import os\n",
    "import glob"
   ],
   "outputs": [],
   "execution_count": 19
  },
  {
   "metadata": {
    "ExecuteTime": {
     "end_time": "2025-01-19T12:07:18.194811Z",
     "start_time": "2025-01-19T12:07:18.190432Z"
    }
   },
   "cell_type": "code",
   "source": "my_git_root = git_root()",
   "id": "29a1f8ed312026b7",
   "outputs": [],
   "execution_count": 20
  },
  {
   "metadata": {
    "ExecuteTime": {
     "end_time": "2025-01-19T12:07:18.251983Z",
     "start_time": "2025-01-19T12:07:18.236212Z"
    }
   },
   "cell_type": "code",
   "source": [
    "df_extracted_path = f'{my_git_root}/data/mineru.csv'\n",
    "df_extracted = pd.read_csv(df_extracted_path)"
   ],
   "id": "a2134a9651ca62d2",
   "outputs": [],
   "execution_count": 21
  },
  {
   "metadata": {
    "ExecuteTime": {
     "end_time": "2025-01-19T12:07:18.282637Z",
     "start_time": "2025-01-19T12:07:18.280454Z"
    }
   },
   "cell_type": "code",
   "source": [
    "def get_filenames(location, filetype):\n",
    "    filenames = set()\n",
    "    os.chdir(location)\n",
    "    for filename in glob.glob(f'*.{filetype}'):\n",
    "        filenames.add(filename)\n",
    "    return sorted(filenames)"
   ],
   "id": "30722e5152e2148e",
   "outputs": [],
   "execution_count": 22
  },
  {
   "metadata": {
    "ExecuteTime": {
     "end_time": "2025-01-19T12:07:18.328007Z",
     "start_time": "2025-01-19T12:07:18.324566Z"
    }
   },
   "cell_type": "code",
   "source": [
    "pdf_location = f'{my_git_root}/data/pdf/'\n",
    "filenames = get_filenames(pdf_location, 'pdf')"
   ],
   "id": "97ee950c53f61936",
   "outputs": [],
   "execution_count": 23
  },
  {
   "metadata": {
    "ExecuteTime": {
     "end_time": "2025-01-19T12:07:18.371893Z",
     "start_time": "2025-01-19T12:07:18.369214Z"
    }
   },
   "cell_type": "code",
   "source": [
    "from PyPDF2 import PdfReader\n",
    "\n",
    "def get_pdf_page_count(pdf_path):\n",
    "    reader = PdfReader(pdf_path)\n",
    "    return len(reader.pages)"
   ],
   "id": "aca1d4433ad1c462",
   "outputs": [],
   "execution_count": 24
  },
  {
   "metadata": {
    "ExecuteTime": {
     "end_time": "2025-01-19T12:07:18.662003Z",
     "start_time": "2025-01-19T12:07:18.414350Z"
    }
   },
   "cell_type": "code",
   "source": [
    "pdf_page_counts = []\n",
    "\n",
    "for filename in filenames:\n",
    "    pdf_page_counts.append(get_pdf_page_count(pdf_location + filename))"
   ],
   "id": "379347081ae907d6",
   "outputs": [],
   "execution_count": 25
  },
  {
   "metadata": {
    "ExecuteTime": {
     "end_time": "2025-01-19T12:07:18.668781Z",
     "start_time": "2025-01-19T12:07:18.667048Z"
    }
   },
   "cell_type": "code",
   "source": "df_extracted['page_count'] = pdf_page_counts",
   "id": "a320134b686cf310",
   "outputs": [],
   "execution_count": 26
  },
  {
   "metadata": {
    "ExecuteTime": {
     "end_time": "2025-01-19T12:07:18.710809Z",
     "start_time": "2025-01-19T12:07:18.708884Z"
    }
   },
   "cell_type": "code",
   "source": "df_extracted['len'] = df_extracted['text'].str.len()",
   "id": "d0cd39a2ec2009ad",
   "outputs": [],
   "execution_count": 27
  },
  {
   "metadata": {
    "ExecuteTime": {
     "end_time": "2025-01-19T12:08:53.958471Z",
     "start_time": "2025-01-19T12:08:53.315586Z"
    }
   },
   "cell_type": "code",
   "source": "px.scatter(df_extracted, x='page_count', y='len', size='len', hover_name='name', trendline='ols')",
   "id": "78826ff1eb456986",
   "outputs": [
    {
     "data": {
      "application/vnd.plotly.v1+json": {
       "data": [
        {
         "hovertemplate": "<b>%{hovertext}</b><br><br>page_count=%{x}<br>len=%{marker.size}<extra></extra>",
         "hovertext": [
          "aalto-university.md",
          "aberystwyth-university.md",
          "aston-university.md",
          "bangor-university.md",
          "brunel-university-london.md",
          "buckinghamshire-new-university.md",
          "cardiff-metropolitan-university.md",
          "carl-von-ossietzky-universität-oldenburg.md",
          "central-european-university.md",
          "charles-university-prague.md",
          "christian-albrechts-university-zu-kiel.md",
          "copenhagen-business-school.md",
          "de-montfort-university.md",
          "edinburgh-napier-university.md",
          "eth-zurich.md",
          "fachhochschule-joanneum.md",
          "fachhochschule-münster.md",
          "faculty-of-applied-sciences-at-technical-university-delft.md",
          "faculty-of-arts-at-the-university-of-groningen.md",
          "faculty-of-genetic-diversity-centre-of-eth-zurich.md",
          "faculty-of-humanities-of-utrecht-university.md",
          "faculty-of-technology,-policy-and-management-at-the-technical-university-delft.md",
          "free-university-berlin.md",
          "friedrich-schiller-universität-jena.md",
          "ghent-university.md",
          "glasgow-caledonian-university.md",
          "glasgow-school-of-art.md",
          "hasselt-university.md",
          "helmholtz-munich.md",
          "heriot-watt-university.md",
          "humboldt-universität-zu-berlin.md",
          "huron-university-usa-in-london.md",
          "imperial-college-london.md",
          "international-institute-for-geo---information-science-and-earth-observation.md",
          "iscte---instituto-universitario-de-lisboa.md",
          "johannes-kepler-university-linz.md",
          "justus-liebig-university-giessen.md",
          "karlsruhe-institute-of-technology.md",
          "karlstad-university.md",
          "king's-college-london.md",
          "kth-royal-institute-of-technology.md",
          "lancaster-university.md",
          "leeds-trinity-university.md",
          "leibniz-university-hannover.md",
          "leiden-university.md",
          "london-school-of-hygiene-&-tropical-medicine,-university-of-london.md",
          "loughborough-university.md",
          "lund-university.md",
          "manchester-metropolitan-university-(mmu).md",
          "max-delbrück-center-for-molecular-medicine.md",
          "medizinische-universität-graz.md",
          "medizinische-universität-wien.md",
          "mid-sweden-university.md",
          "middlesex-university.md",
          "newcastle-university.md",
          "northumbria-university-at-newcastle.md",
          "nottingham-trent-university.md",
          "queen-margaret-university-edinburgh.md",
          "queen-mary-university-of-london.md",
          "qutech.md",
          "radboud-university.md",
          "research-data-management-policy.md",
          "robert-gordon-university.md",
          "royal-college-of-art.md",
          "royal-holloway-university-of-london.md",
          "rwth-aachen-university.md",
          "sheffield-hallam-university.md",
          "soas-university-of-london.md",
          "sorbonne-university.md",
          "staffordshire-university.md",
          "swedish-university-of-agricultural-sciences.md",
          "technical-university-delft.md",
          "technical-university-of-darmstadt.md",
          "technical-university-of-denmark.md",
          "technical-university-vienna.md",
          "technische-universität-berlin-(tu-berlin).md",
          "technische-universität-braunschweig.md",
          "technische-universität-dresden.md",
          "teesside-university.md",
          "the-open-university.md",
          "the-university-of-edinburgh.md",
          "the-university-of-exeter.md",
          "the-university-of-manchester.md",
          "the-university-of-northampton.md",
          "tilburg-university.md",
          "ucl.md",
          "ulster-university.md",
          "umea-university.md",
          "universite-libre-de-bruxelles.md",
          "university-campus-suffolk.md",
          "university-college-dublin.md",
          "university-medical-center-utrecht.md",
          "university-of-aberdeen.md",
          "university-of-abertay-dundee.md",
          "university-of-bern.md",
          "university-of-bradford.md",
          "university-of-bristol.md",
          "university-of-cambridge.md",
          "university-of-central-lancashire.md",
          "university-of-copenhagen.md",
          "university-of-cumbria.md",
          "university-of-dundee.md",
          "university-of-east-anglia.md",
          "university-of-east-london.md",
          "university-of-essex.md",
          "university-of-greenwich.md",
          "university-of-groningen.md",
          "university-of-göttingen.md",
          "university-of-helsinki.md",
          "university-of-hertfordshire.md",
          "university-of-huddersfield.md",
          "university-of-hull.md",
          "university-of-lincoln.md",
          "university-of-liverpool.md",
          "university-of-london.md",
          "university-of-milan.md",
          "university-of-nottingham.md",
          "university-of-oxford.md",
          "university-of-padova.md",
          "university-of-portsmouth.md",
          "university-of-potsdam.md",
          "university-of-reading.md",
          "university-of-salford.md",
          "university-of-south-wales.md",
          "university-of-st-andrews.md",
          "university-of-strathclyde.md",
          "university-of-surrey.md",
          "university-of-the-west-of-england.md",
          "university-of-the-west-of-scotland-(uws).md",
          "university-of-twente.md",
          "university-of-westminster.md",
          "university-of-worcester.md",
          "university-of-york.md",
          "universität-bayreuth.md",
          "universität-des-saarlandes.md",
          "universität-graz.md",
          "universität-jena.md",
          "universität-rostock.md",
          "universität-siegen.md",
          "universität-stuttgart.md",
          "utrecht-university.md",
          "wrexham-university.md"
         ],
         "legendgroup": "",
         "marker": {
          "color": "#636efa",
          "size": [
           9047,
           4658,
           15546,
           32890,
           12611,
           14870,
           8969,
           4157,
           43872,
           11057,
           2477,
           12112,
           14867,
           14556,
           19442,
           16948,
           3901,
           12390,
           16098,
           2866,
           18605,
           13175,
           15798,
           9391,
           2761,
           4200,
           5945,
           29189,
           18389,
           6447,
           3195,
           12995,
           15158,
           26908,
           18770,
           18557,
           3889,
           1872,
           19235,
           6465,
           6613,
           8800,
           4844,
           5361,
           13396,
           23121,
           5543,
           10925,
           11048,
           17842,
           16524,
           12890,
           13298,
           6064,
           21852,
           10338,
           7706,
           11741,
           8477,
           12059,
           13886,
           12383,
           18198,
           18946,
           4287,
           3014,
           8613,
           6794,
           4818,
           8324,
           23604,
           11836,
           8123,
           23935,
           12496,
           12293,
           2782,
           3750,
           8449,
           11927,
           19262,
           11125,
           12018,
           12383,
           33491,
           11722,
           10762,
           15389,
           14262,
           21432,
           12786,
           26108,
           9655,
           16344,
           15658,
           20001,
           881,
           14464,
           14419,
           29611,
           2612,
           31353,
           12273,
           9444,
           9153,
           8958,
           36723,
           2838,
           25553,
           19590,
           10433,
           20509,
           5874,
           20331,
           11546,
           10614,
           25605,
           10596,
           6622,
           16642,
           24536,
           21835,
           21835,
           4188,
           10819,
           44798,
           13708,
           16582,
           11476,
           28157,
           18843,
           12848,
           8980,
           14321,
           7197,
           11456,
           9391,
           6966,
           2024,
           3163,
           12508,
           19238
          ],
          "sizemode": "area",
          "sizeref": 111.995,
          "symbol": "circle"
         },
         "mode": "markers",
         "name": "",
         "orientation": "v",
         "showlegend": false,
         "x": [
          3,
          2,
          8,
          13,
          5,
          10,
          4,
          2,
          19,
          5,
          1,
          5,
          8,
          6,
          9,
          8,
          2,
          6,
          5,
          2,
          8,
          6,
          7,
          6,
          1,
          3,
          5,
          9,
          7,
          5,
          2,
          6,
          6,
          13,
          11,
          9,
          2,
          1,
          9,
          3,
          3,
          5,
          3,
          3,
          5,
          8,
          3,
          5,
          5,
          9,
          7,
          7,
          9,
          4,
          9,
          5,
          3,
          7,
          4,
          6,
          6,
          8,
          14,
          9,
          3,
          1,
          5,
          3,
          2,
          3,
          11,
          10,
          3,
          10,
          6,
          6,
          2,
          2,
          5,
          8,
          6,
          4,
          5,
          8,
          16,
          7,
          7,
          7,
          7,
          13,
          5,
          12,
          4,
          8,
          6,
          14,
          1,
          6,
          7,
          11,
          1,
          14,
          5,
          4,
          7,
          3,
          14,
          1,
          11,
          10,
          5,
          8,
          3,
          8,
          5,
          3,
          12,
          3,
          6,
          11,
          23,
          9,
          9,
          2,
          5,
          16,
          6,
          9,
          7,
          14,
          9,
          6,
          4,
          5,
          5,
          5,
          6,
          3,
          1,
          2,
          4,
          9
         ],
         "xaxis": "x",
         "y": [
          9047,
          4658,
          15546,
          32890,
          12611,
          14870,
          8969,
          4157,
          43872,
          11057,
          2477,
          12112,
          14867,
          14556,
          19442,
          16948,
          3901,
          12390,
          16098,
          2866,
          18605,
          13175,
          15798,
          9391,
          2761,
          4200,
          5945,
          29189,
          18389,
          6447,
          3195,
          12995,
          15158,
          26908,
          18770,
          18557,
          3889,
          1872,
          19235,
          6465,
          6613,
          8800,
          4844,
          5361,
          13396,
          23121,
          5543,
          10925,
          11048,
          17842,
          16524,
          12890,
          13298,
          6064,
          21852,
          10338,
          7706,
          11741,
          8477,
          12059,
          13886,
          12383,
          18198,
          18946,
          4287,
          3014,
          8613,
          6794,
          4818,
          8324,
          23604,
          11836,
          8123,
          23935,
          12496,
          12293,
          2782,
          3750,
          8449,
          11927,
          19262,
          11125,
          12018,
          12383,
          33491,
          11722,
          10762,
          15389,
          14262,
          21432,
          12786,
          26108,
          9655,
          16344,
          15658,
          20001,
          881,
          14464,
          14419,
          29611,
          2612,
          31353,
          12273,
          9444,
          9153,
          8958,
          36723,
          2838,
          25553,
          19590,
          10433,
          20509,
          5874,
          20331,
          11546,
          10614,
          25605,
          10596,
          6622,
          16642,
          24536,
          21835,
          21835,
          4188,
          10819,
          44798,
          13708,
          16582,
          11476,
          28157,
          18843,
          12848,
          8980,
          14321,
          7197,
          11456,
          9391,
          6966,
          2024,
          3163,
          12508,
          19238
         ],
         "yaxis": "y",
         "type": "scatter"
        },
        {
         "hovertemplate": "<b>OLS trendline</b><br>len = 1894.78 * page_count + 1263.88<br>R<sup>2</sup>=0.792934<br><br>page_count=%{x}<br>len=%{y} <b>(trend)</b><extra></extra>",
         "legendgroup": "",
         "marker": {
          "color": "#636efa",
          "symbol": "circle"
         },
         "mode": "lines",
         "name": "",
         "showlegend": false,
         "x": [
          1,
          1,
          1,
          1,
          1,
          1,
          1,
          1,
          2,
          2,
          2,
          2,
          2,
          2,
          2,
          2,
          2,
          2,
          2,
          3,
          3,
          3,
          3,
          3,
          3,
          3,
          3,
          3,
          3,
          3,
          3,
          3,
          3,
          3,
          3,
          3,
          4,
          4,
          4,
          4,
          4,
          4,
          4,
          4,
          5,
          5,
          5,
          5,
          5,
          5,
          5,
          5,
          5,
          5,
          5,
          5,
          5,
          5,
          5,
          5,
          5,
          5,
          5,
          5,
          5,
          5,
          6,
          6,
          6,
          6,
          6,
          6,
          6,
          6,
          6,
          6,
          6,
          6,
          6,
          6,
          6,
          6,
          6,
          7,
          7,
          7,
          7,
          7,
          7,
          7,
          7,
          7,
          7,
          7,
          7,
          8,
          8,
          8,
          8,
          8,
          8,
          8,
          8,
          8,
          8,
          8,
          9,
          9,
          9,
          9,
          9,
          9,
          9,
          9,
          9,
          9,
          9,
          9,
          9,
          10,
          10,
          10,
          10,
          11,
          11,
          11,
          11,
          11,
          12,
          12,
          13,
          13,
          13,
          14,
          14,
          14,
          14,
          14,
          16,
          16,
          19,
          23
         ],
         "xaxis": "x",
         "y": [
          3158.660516949496,
          3158.660516949496,
          3158.660516949496,
          3158.660516949496,
          3158.660516949496,
          3158.660516949496,
          3158.660516949496,
          3158.660516949496,
          5053.439853633181,
          5053.439853633181,
          5053.439853633181,
          5053.439853633181,
          5053.439853633181,
          5053.439853633181,
          5053.439853633181,
          5053.439853633181,
          5053.439853633181,
          5053.439853633181,
          5053.439853633181,
          6948.219190316866,
          6948.219190316866,
          6948.219190316866,
          6948.219190316866,
          6948.219190316866,
          6948.219190316866,
          6948.219190316866,
          6948.219190316866,
          6948.219190316866,
          6948.219190316866,
          6948.219190316866,
          6948.219190316866,
          6948.219190316866,
          6948.219190316866,
          6948.219190316866,
          6948.219190316866,
          6948.219190316866,
          8842.99852700055,
          8842.99852700055,
          8842.99852700055,
          8842.99852700055,
          8842.99852700055,
          8842.99852700055,
          8842.99852700055,
          8842.99852700055,
          10737.777863684236,
          10737.777863684236,
          10737.777863684236,
          10737.777863684236,
          10737.777863684236,
          10737.777863684236,
          10737.777863684236,
          10737.777863684236,
          10737.777863684236,
          10737.777863684236,
          10737.777863684236,
          10737.777863684236,
          10737.777863684236,
          10737.777863684236,
          10737.777863684236,
          10737.777863684236,
          10737.777863684236,
          10737.777863684236,
          10737.777863684236,
          10737.777863684236,
          10737.777863684236,
          10737.777863684236,
          12632.55720036792,
          12632.55720036792,
          12632.55720036792,
          12632.55720036792,
          12632.55720036792,
          12632.55720036792,
          12632.55720036792,
          12632.55720036792,
          12632.55720036792,
          12632.55720036792,
          12632.55720036792,
          12632.55720036792,
          12632.55720036792,
          12632.55720036792,
          12632.55720036792,
          12632.55720036792,
          12632.55720036792,
          14527.336537051606,
          14527.336537051606,
          14527.336537051606,
          14527.336537051606,
          14527.336537051606,
          14527.336537051606,
          14527.336537051606,
          14527.336537051606,
          14527.336537051606,
          14527.336537051606,
          14527.336537051606,
          14527.336537051606,
          16422.11587373529,
          16422.11587373529,
          16422.11587373529,
          16422.11587373529,
          16422.11587373529,
          16422.11587373529,
          16422.11587373529,
          16422.11587373529,
          16422.11587373529,
          16422.11587373529,
          16422.11587373529,
          18316.895210418974,
          18316.895210418974,
          18316.895210418974,
          18316.895210418974,
          18316.895210418974,
          18316.895210418974,
          18316.895210418974,
          18316.895210418974,
          18316.895210418974,
          18316.895210418974,
          18316.895210418974,
          18316.895210418974,
          18316.895210418974,
          20211.67454710266,
          20211.67454710266,
          20211.67454710266,
          20211.67454710266,
          22106.453883786344,
          22106.453883786344,
          22106.453883786344,
          22106.453883786344,
          22106.453883786344,
          24001.23322047003,
          24001.23322047003,
          25896.012557153714,
          25896.012557153714,
          25896.012557153714,
          27790.7918938374,
          27790.7918938374,
          27790.7918938374,
          27790.7918938374,
          27790.7918938374,
          31580.35056720477,
          31580.35056720477,
          37264.68857725582,
          44843.80592399056
         ],
         "yaxis": "y",
         "type": "scatter"
        }
       ],
       "layout": {
        "template": {
         "data": {
          "histogram2dcontour": [
           {
            "type": "histogram2dcontour",
            "colorbar": {
             "outlinewidth": 0,
             "ticks": ""
            },
            "colorscale": [
             [
              0.0,
              "#0d0887"
             ],
             [
              0.1111111111111111,
              "#46039f"
             ],
             [
              0.2222222222222222,
              "#7201a8"
             ],
             [
              0.3333333333333333,
              "#9c179e"
             ],
             [
              0.4444444444444444,
              "#bd3786"
             ],
             [
              0.5555555555555556,
              "#d8576b"
             ],
             [
              0.6666666666666666,
              "#ed7953"
             ],
             [
              0.7777777777777778,
              "#fb9f3a"
             ],
             [
              0.8888888888888888,
              "#fdca26"
             ],
             [
              1.0,
              "#f0f921"
             ]
            ]
           }
          ],
          "choropleth": [
           {
            "type": "choropleth",
            "colorbar": {
             "outlinewidth": 0,
             "ticks": ""
            }
           }
          ],
          "histogram2d": [
           {
            "type": "histogram2d",
            "colorbar": {
             "outlinewidth": 0,
             "ticks": ""
            },
            "colorscale": [
             [
              0.0,
              "#0d0887"
             ],
             [
              0.1111111111111111,
              "#46039f"
             ],
             [
              0.2222222222222222,
              "#7201a8"
             ],
             [
              0.3333333333333333,
              "#9c179e"
             ],
             [
              0.4444444444444444,
              "#bd3786"
             ],
             [
              0.5555555555555556,
              "#d8576b"
             ],
             [
              0.6666666666666666,
              "#ed7953"
             ],
             [
              0.7777777777777778,
              "#fb9f3a"
             ],
             [
              0.8888888888888888,
              "#fdca26"
             ],
             [
              1.0,
              "#f0f921"
             ]
            ]
           }
          ],
          "heatmap": [
           {
            "type": "heatmap",
            "colorbar": {
             "outlinewidth": 0,
             "ticks": ""
            },
            "colorscale": [
             [
              0.0,
              "#0d0887"
             ],
             [
              0.1111111111111111,
              "#46039f"
             ],
             [
              0.2222222222222222,
              "#7201a8"
             ],
             [
              0.3333333333333333,
              "#9c179e"
             ],
             [
              0.4444444444444444,
              "#bd3786"
             ],
             [
              0.5555555555555556,
              "#d8576b"
             ],
             [
              0.6666666666666666,
              "#ed7953"
             ],
             [
              0.7777777777777778,
              "#fb9f3a"
             ],
             [
              0.8888888888888888,
              "#fdca26"
             ],
             [
              1.0,
              "#f0f921"
             ]
            ]
           }
          ],
          "heatmapgl": [
           {
            "type": "heatmapgl",
            "colorbar": {
             "outlinewidth": 0,
             "ticks": ""
            },
            "colorscale": [
             [
              0.0,
              "#0d0887"
             ],
             [
              0.1111111111111111,
              "#46039f"
             ],
             [
              0.2222222222222222,
              "#7201a8"
             ],
             [
              0.3333333333333333,
              "#9c179e"
             ],
             [
              0.4444444444444444,
              "#bd3786"
             ],
             [
              0.5555555555555556,
              "#d8576b"
             ],
             [
              0.6666666666666666,
              "#ed7953"
             ],
             [
              0.7777777777777778,
              "#fb9f3a"
             ],
             [
              0.8888888888888888,
              "#fdca26"
             ],
             [
              1.0,
              "#f0f921"
             ]
            ]
           }
          ],
          "contourcarpet": [
           {
            "type": "contourcarpet",
            "colorbar": {
             "outlinewidth": 0,
             "ticks": ""
            }
           }
          ],
          "contour": [
           {
            "type": "contour",
            "colorbar": {
             "outlinewidth": 0,
             "ticks": ""
            },
            "colorscale": [
             [
              0.0,
              "#0d0887"
             ],
             [
              0.1111111111111111,
              "#46039f"
             ],
             [
              0.2222222222222222,
              "#7201a8"
             ],
             [
              0.3333333333333333,
              "#9c179e"
             ],
             [
              0.4444444444444444,
              "#bd3786"
             ],
             [
              0.5555555555555556,
              "#d8576b"
             ],
             [
              0.6666666666666666,
              "#ed7953"
             ],
             [
              0.7777777777777778,
              "#fb9f3a"
             ],
             [
              0.8888888888888888,
              "#fdca26"
             ],
             [
              1.0,
              "#f0f921"
             ]
            ]
           }
          ],
          "surface": [
           {
            "type": "surface",
            "colorbar": {
             "outlinewidth": 0,
             "ticks": ""
            },
            "colorscale": [
             [
              0.0,
              "#0d0887"
             ],
             [
              0.1111111111111111,
              "#46039f"
             ],
             [
              0.2222222222222222,
              "#7201a8"
             ],
             [
              0.3333333333333333,
              "#9c179e"
             ],
             [
              0.4444444444444444,
              "#bd3786"
             ],
             [
              0.5555555555555556,
              "#d8576b"
             ],
             [
              0.6666666666666666,
              "#ed7953"
             ],
             [
              0.7777777777777778,
              "#fb9f3a"
             ],
             [
              0.8888888888888888,
              "#fdca26"
             ],
             [
              1.0,
              "#f0f921"
             ]
            ]
           }
          ],
          "mesh3d": [
           {
            "type": "mesh3d",
            "colorbar": {
             "outlinewidth": 0,
             "ticks": ""
            }
           }
          ],
          "scatter": [
           {
            "marker": {
             "line": {
              "color": "#283442"
             }
            },
            "type": "scatter"
           }
          ],
          "parcoords": [
           {
            "type": "parcoords",
            "line": {
             "colorbar": {
              "outlinewidth": 0,
              "ticks": ""
             }
            }
           }
          ],
          "scatterpolargl": [
           {
            "type": "scatterpolargl",
            "marker": {
             "colorbar": {
              "outlinewidth": 0,
              "ticks": ""
             }
            }
           }
          ],
          "bar": [
           {
            "error_x": {
             "color": "#f2f5fa"
            },
            "error_y": {
             "color": "#f2f5fa"
            },
            "marker": {
             "line": {
              "color": "rgb(17,17,17)",
              "width": 0.5
             },
             "pattern": {
              "fillmode": "overlay",
              "size": 10,
              "solidity": 0.2
             }
            },
            "type": "bar"
           }
          ],
          "scattergeo": [
           {
            "type": "scattergeo",
            "marker": {
             "colorbar": {
              "outlinewidth": 0,
              "ticks": ""
             }
            }
           }
          ],
          "scatterpolar": [
           {
            "type": "scatterpolar",
            "marker": {
             "colorbar": {
              "outlinewidth": 0,
              "ticks": ""
             }
            }
           }
          ],
          "histogram": [
           {
            "marker": {
             "pattern": {
              "fillmode": "overlay",
              "size": 10,
              "solidity": 0.2
             }
            },
            "type": "histogram"
           }
          ],
          "scattergl": [
           {
            "marker": {
             "line": {
              "color": "#283442"
             }
            },
            "type": "scattergl"
           }
          ],
          "scatter3d": [
           {
            "type": "scatter3d",
            "line": {
             "colorbar": {
              "outlinewidth": 0,
              "ticks": ""
             }
            },
            "marker": {
             "colorbar": {
              "outlinewidth": 0,
              "ticks": ""
             }
            }
           }
          ],
          "scattermapbox": [
           {
            "type": "scattermapbox",
            "marker": {
             "colorbar": {
              "outlinewidth": 0,
              "ticks": ""
             }
            }
           }
          ],
          "scatterternary": [
           {
            "type": "scatterternary",
            "marker": {
             "colorbar": {
              "outlinewidth": 0,
              "ticks": ""
             }
            }
           }
          ],
          "scattercarpet": [
           {
            "type": "scattercarpet",
            "marker": {
             "colorbar": {
              "outlinewidth": 0,
              "ticks": ""
             }
            }
           }
          ],
          "carpet": [
           {
            "aaxis": {
             "endlinecolor": "#A2B1C6",
             "gridcolor": "#506784",
             "linecolor": "#506784",
             "minorgridcolor": "#506784",
             "startlinecolor": "#A2B1C6"
            },
            "baxis": {
             "endlinecolor": "#A2B1C6",
             "gridcolor": "#506784",
             "linecolor": "#506784",
             "minorgridcolor": "#506784",
             "startlinecolor": "#A2B1C6"
            },
            "type": "carpet"
           }
          ],
          "table": [
           {
            "cells": {
             "fill": {
              "color": "#506784"
             },
             "line": {
              "color": "rgb(17,17,17)"
             }
            },
            "header": {
             "fill": {
              "color": "#2a3f5f"
             },
             "line": {
              "color": "rgb(17,17,17)"
             }
            },
            "type": "table"
           }
          ],
          "barpolar": [
           {
            "marker": {
             "line": {
              "color": "rgb(17,17,17)",
              "width": 0.5
             },
             "pattern": {
              "fillmode": "overlay",
              "size": 10,
              "solidity": 0.2
             }
            },
            "type": "barpolar"
           }
          ],
          "pie": [
           {
            "automargin": true,
            "type": "pie"
           }
          ]
         },
         "layout": {
          "autotypenumbers": "strict",
          "colorway": [
           "#636efa",
           "#EF553B",
           "#00cc96",
           "#ab63fa",
           "#FFA15A",
           "#19d3f3",
           "#FF6692",
           "#B6E880",
           "#FF97FF",
           "#FECB52"
          ],
          "font": {
           "color": "#f2f5fa"
          },
          "hovermode": "closest",
          "hoverlabel": {
           "align": "left"
          },
          "paper_bgcolor": "rgb(17,17,17)",
          "plot_bgcolor": "rgb(17,17,17)",
          "polar": {
           "bgcolor": "rgb(17,17,17)",
           "angularaxis": {
            "gridcolor": "#506784",
            "linecolor": "#506784",
            "ticks": ""
           },
           "radialaxis": {
            "gridcolor": "#506784",
            "linecolor": "#506784",
            "ticks": ""
           }
          },
          "ternary": {
           "bgcolor": "rgb(17,17,17)",
           "aaxis": {
            "gridcolor": "#506784",
            "linecolor": "#506784",
            "ticks": ""
           },
           "baxis": {
            "gridcolor": "#506784",
            "linecolor": "#506784",
            "ticks": ""
           },
           "caxis": {
            "gridcolor": "#506784",
            "linecolor": "#506784",
            "ticks": ""
           }
          },
          "coloraxis": {
           "colorbar": {
            "outlinewidth": 0,
            "ticks": ""
           }
          },
          "colorscale": {
           "sequential": [
            [
             0.0,
             "#0d0887"
            ],
            [
             0.1111111111111111,
             "#46039f"
            ],
            [
             0.2222222222222222,
             "#7201a8"
            ],
            [
             0.3333333333333333,
             "#9c179e"
            ],
            [
             0.4444444444444444,
             "#bd3786"
            ],
            [
             0.5555555555555556,
             "#d8576b"
            ],
            [
             0.6666666666666666,
             "#ed7953"
            ],
            [
             0.7777777777777778,
             "#fb9f3a"
            ],
            [
             0.8888888888888888,
             "#fdca26"
            ],
            [
             1.0,
             "#f0f921"
            ]
           ],
           "sequentialminus": [
            [
             0.0,
             "#0d0887"
            ],
            [
             0.1111111111111111,
             "#46039f"
            ],
            [
             0.2222222222222222,
             "#7201a8"
            ],
            [
             0.3333333333333333,
             "#9c179e"
            ],
            [
             0.4444444444444444,
             "#bd3786"
            ],
            [
             0.5555555555555556,
             "#d8576b"
            ],
            [
             0.6666666666666666,
             "#ed7953"
            ],
            [
             0.7777777777777778,
             "#fb9f3a"
            ],
            [
             0.8888888888888888,
             "#fdca26"
            ],
            [
             1.0,
             "#f0f921"
            ]
           ],
           "diverging": [
            [
             0,
             "#8e0152"
            ],
            [
             0.1,
             "#c51b7d"
            ],
            [
             0.2,
             "#de77ae"
            ],
            [
             0.3,
             "#f1b6da"
            ],
            [
             0.4,
             "#fde0ef"
            ],
            [
             0.5,
             "#f7f7f7"
            ],
            [
             0.6,
             "#e6f5d0"
            ],
            [
             0.7,
             "#b8e186"
            ],
            [
             0.8,
             "#7fbc41"
            ],
            [
             0.9,
             "#4d9221"
            ],
            [
             1,
             "#276419"
            ]
           ]
          },
          "xaxis": {
           "gridcolor": "#283442",
           "linecolor": "#506784",
           "ticks": "",
           "title": {
            "standoff": 15
           },
           "zerolinecolor": "#283442",
           "automargin": true,
           "zerolinewidth": 2
          },
          "yaxis": {
           "gridcolor": "#283442",
           "linecolor": "#506784",
           "ticks": "",
           "title": {
            "standoff": 15
           },
           "zerolinecolor": "#283442",
           "automargin": true,
           "zerolinewidth": 2
          },
          "scene": {
           "xaxis": {
            "backgroundcolor": "rgb(17,17,17)",
            "gridcolor": "#506784",
            "linecolor": "#506784",
            "showbackground": true,
            "ticks": "",
            "zerolinecolor": "#C8D4E3",
            "gridwidth": 2
           },
           "yaxis": {
            "backgroundcolor": "rgb(17,17,17)",
            "gridcolor": "#506784",
            "linecolor": "#506784",
            "showbackground": true,
            "ticks": "",
            "zerolinecolor": "#C8D4E3",
            "gridwidth": 2
           },
           "zaxis": {
            "backgroundcolor": "rgb(17,17,17)",
            "gridcolor": "#506784",
            "linecolor": "#506784",
            "showbackground": true,
            "ticks": "",
            "zerolinecolor": "#C8D4E3",
            "gridwidth": 2
           }
          },
          "shapedefaults": {
           "line": {
            "color": "#f2f5fa"
           }
          },
          "annotationdefaults": {
           "arrowcolor": "#f2f5fa",
           "arrowhead": 0,
           "arrowwidth": 1
          },
          "geo": {
           "bgcolor": "rgb(17,17,17)",
           "landcolor": "rgb(17,17,17)",
           "subunitcolor": "#506784",
           "showland": true,
           "showlakes": true,
           "lakecolor": "rgb(17,17,17)"
          },
          "title": {
           "x": 0.05
          },
          "updatemenudefaults": {
           "bgcolor": "#506784",
           "borderwidth": 0
          },
          "sliderdefaults": {
           "bgcolor": "#C8D4E3",
           "borderwidth": 1,
           "bordercolor": "rgb(17,17,17)",
           "tickwidth": 0
          },
          "mapbox": {
           "style": "dark"
          }
         }
        },
        "xaxis": {
         "anchor": "y",
         "domain": [
          0.0,
          1.0
         ],
         "title": {
          "text": "page_count"
         }
        },
        "yaxis": {
         "anchor": "x",
         "domain": [
          0.0,
          1.0
         ],
         "title": {
          "text": "len"
         }
        },
        "legend": {
         "tracegroupgap": 0,
         "itemsizing": "constant"
        },
        "margin": {
         "t": 60
        }
       },
       "config": {
        "plotlyServerURL": "https://plot.ly"
       }
      },
      "text/html": [
       "<div>                            <div id=\"ca4eb274-b96f-41e2-b112-641f59469953\" class=\"plotly-graph-div\" style=\"height:525px; width:100%;\"></div>            <script type=\"text/javascript\">                require([\"plotly\"], function(Plotly) {                    window.PLOTLYENV=window.PLOTLYENV || {};                                    if (document.getElementById(\"ca4eb274-b96f-41e2-b112-641f59469953\")) {                    Plotly.newPlot(                        \"ca4eb274-b96f-41e2-b112-641f59469953\",                        [{\"hovertemplate\":\"\\u003cb\\u003e%{hovertext}\\u003c\\u002fb\\u003e\\u003cbr\\u003e\\u003cbr\\u003epage_count=%{x}\\u003cbr\\u003elen=%{marker.size}\\u003cextra\\u003e\\u003c\\u002fextra\\u003e\",\"hovertext\":[\"aalto-university.md\",\"aberystwyth-university.md\",\"aston-university.md\",\"bangor-university.md\",\"brunel-university-london.md\",\"buckinghamshire-new-university.md\",\"cardiff-metropolitan-university.md\",\"carl-von-ossietzky-universit\\u00e4t-oldenburg.md\",\"central-european-university.md\",\"charles-university-prague.md\",\"christian-albrechts-university-zu-kiel.md\",\"copenhagen-business-school.md\",\"de-montfort-university.md\",\"edinburgh-napier-university.md\",\"eth-zurich.md\",\"fachhochschule-joanneum.md\",\"fachhochschule-m\\u00fcnster.md\",\"faculty-of-applied-sciences-at-technical-university-delft.md\",\"faculty-of-arts-at-the-university-of-groningen.md\",\"faculty-of-genetic-diversity-centre-of-eth-zurich.md\",\"faculty-of-humanities-of-utrecht-university.md\",\"faculty-of-technology,-policy-and-management-at-the-technical-university-delft.md\",\"free-university-berlin.md\",\"friedrich-schiller-universit\\u00e4t-jena.md\",\"ghent-university.md\",\"glasgow-caledonian-university.md\",\"glasgow-school-of-art.md\",\"hasselt-university.md\",\"helmholtz-munich.md\",\"heriot-watt-university.md\",\"humboldt-universit\\u00e4t-zu-berlin.md\",\"huron-university-usa-in-london.md\",\"imperial-college-london.md\",\"international-institute-for-geo---information-science-and-earth-observation.md\",\"iscte---instituto-universitario-de-lisboa.md\",\"johannes-kepler-university-linz.md\",\"justus-liebig-university-giessen.md\",\"karlsruhe-institute-of-technology.md\",\"karlstad-university.md\",\"king's-college-london.md\",\"kth-royal-institute-of-technology.md\",\"lancaster-university.md\",\"leeds-trinity-university.md\",\"leibniz-university-hannover.md\",\"leiden-university.md\",\"london-school-of-hygiene-&-tropical-medicine,-university-of-london.md\",\"loughborough-university.md\",\"lund-university.md\",\"manchester-metropolitan-university-(mmu).md\",\"max-delbr\\u00fcck-center-for-molecular-medicine.md\",\"medizinische-universit\\u00e4t-graz.md\",\"medizinische-universit\\u00e4t-wien.md\",\"mid-sweden-university.md\",\"middlesex-university.md\",\"newcastle-university.md\",\"northumbria-university-at-newcastle.md\",\"nottingham-trent-university.md\",\"queen-margaret-university-edinburgh.md\",\"queen-mary-university-of-london.md\",\"qutech.md\",\"radboud-university.md\",\"research-data-management-policy.md\",\"robert-gordon-university.md\",\"royal-college-of-art.md\",\"royal-holloway-university-of-london.md\",\"rwth-aachen-university.md\",\"sheffield-hallam-university.md\",\"soas-university-of-london.md\",\"sorbonne-university.md\",\"staffordshire-university.md\",\"swedish-university-of-agricultural-sciences.md\",\"technical-university-delft.md\",\"technical-university-of-darmstadt.md\",\"technical-university-of-denmark.md\",\"technical-university-vienna.md\",\"technische-universit\\u00e4t-berlin-(tu-berlin).md\",\"technische-universit\\u00e4t-braunschweig.md\",\"technische-universit\\u00e4t-dresden.md\",\"teesside-university.md\",\"the-open-university.md\",\"the-university-of-edinburgh.md\",\"the-university-of-exeter.md\",\"the-university-of-manchester.md\",\"the-university-of-northampton.md\",\"tilburg-university.md\",\"ucl.md\",\"ulster-university.md\",\"umea-university.md\",\"universite-libre-de-bruxelles.md\",\"university-campus-suffolk.md\",\"university-college-dublin.md\",\"university-medical-center-utrecht.md\",\"university-of-aberdeen.md\",\"university-of-abertay-dundee.md\",\"university-of-bern.md\",\"university-of-bradford.md\",\"university-of-bristol.md\",\"university-of-cambridge.md\",\"university-of-central-lancashire.md\",\"university-of-copenhagen.md\",\"university-of-cumbria.md\",\"university-of-dundee.md\",\"university-of-east-anglia.md\",\"university-of-east-london.md\",\"university-of-essex.md\",\"university-of-greenwich.md\",\"university-of-groningen.md\",\"university-of-g\\u00f6ttingen.md\",\"university-of-helsinki.md\",\"university-of-hertfordshire.md\",\"university-of-huddersfield.md\",\"university-of-hull.md\",\"university-of-lincoln.md\",\"university-of-liverpool.md\",\"university-of-london.md\",\"university-of-milan.md\",\"university-of-nottingham.md\",\"university-of-oxford.md\",\"university-of-padova.md\",\"university-of-portsmouth.md\",\"university-of-potsdam.md\",\"university-of-reading.md\",\"university-of-salford.md\",\"university-of-south-wales.md\",\"university-of-st-andrews.md\",\"university-of-strathclyde.md\",\"university-of-surrey.md\",\"university-of-the-west-of-england.md\",\"university-of-the-west-of-scotland-(uws).md\",\"university-of-twente.md\",\"university-of-westminster.md\",\"university-of-worcester.md\",\"university-of-york.md\",\"universit\\u00e4t-bayreuth.md\",\"universit\\u00e4t-des-saarlandes.md\",\"universit\\u00e4t-graz.md\",\"universit\\u00e4t-jena.md\",\"universit\\u00e4t-rostock.md\",\"universit\\u00e4t-siegen.md\",\"universit\\u00e4t-stuttgart.md\",\"utrecht-university.md\",\"wrexham-university.md\"],\"legendgroup\":\"\",\"marker\":{\"color\":\"#636efa\",\"size\":[9047,4658,15546,32890,12611,14870,8969,4157,43872,11057,2477,12112,14867,14556,19442,16948,3901,12390,16098,2866,18605,13175,15798,9391,2761,4200,5945,29189,18389,6447,3195,12995,15158,26908,18770,18557,3889,1872,19235,6465,6613,8800,4844,5361,13396,23121,5543,10925,11048,17842,16524,12890,13298,6064,21852,10338,7706,11741,8477,12059,13886,12383,18198,18946,4287,3014,8613,6794,4818,8324,23604,11836,8123,23935,12496,12293,2782,3750,8449,11927,19262,11125,12018,12383,33491,11722,10762,15389,14262,21432,12786,26108,9655,16344,15658,20001,881,14464,14419,29611,2612,31353,12273,9444,9153,8958,36723,2838,25553,19590,10433,20509,5874,20331,11546,10614,25605,10596,6622,16642,24536,21835,21835,4188,10819,44798,13708,16582,11476,28157,18843,12848,8980,14321,7197,11456,9391,6966,2024,3163,12508,19238],\"sizemode\":\"area\",\"sizeref\":111.995,\"symbol\":\"circle\"},\"mode\":\"markers\",\"name\":\"\",\"orientation\":\"v\",\"showlegend\":false,\"x\":[3,2,8,13,5,10,4,2,19,5,1,5,8,6,9,8,2,6,5,2,8,6,7,6,1,3,5,9,7,5,2,6,6,13,11,9,2,1,9,3,3,5,3,3,5,8,3,5,5,9,7,7,9,4,9,5,3,7,4,6,6,8,14,9,3,1,5,3,2,3,11,10,3,10,6,6,2,2,5,8,6,4,5,8,16,7,7,7,7,13,5,12,4,8,6,14,1,6,7,11,1,14,5,4,7,3,14,1,11,10,5,8,3,8,5,3,12,3,6,11,23,9,9,2,5,16,6,9,7,14,9,6,4,5,5,5,6,3,1,2,4,9],\"xaxis\":\"x\",\"y\":[9047,4658,15546,32890,12611,14870,8969,4157,43872,11057,2477,12112,14867,14556,19442,16948,3901,12390,16098,2866,18605,13175,15798,9391,2761,4200,5945,29189,18389,6447,3195,12995,15158,26908,18770,18557,3889,1872,19235,6465,6613,8800,4844,5361,13396,23121,5543,10925,11048,17842,16524,12890,13298,6064,21852,10338,7706,11741,8477,12059,13886,12383,18198,18946,4287,3014,8613,6794,4818,8324,23604,11836,8123,23935,12496,12293,2782,3750,8449,11927,19262,11125,12018,12383,33491,11722,10762,15389,14262,21432,12786,26108,9655,16344,15658,20001,881,14464,14419,29611,2612,31353,12273,9444,9153,8958,36723,2838,25553,19590,10433,20509,5874,20331,11546,10614,25605,10596,6622,16642,24536,21835,21835,4188,10819,44798,13708,16582,11476,28157,18843,12848,8980,14321,7197,11456,9391,6966,2024,3163,12508,19238],\"yaxis\":\"y\",\"type\":\"scatter\"},{\"hovertemplate\":\"\\u003cb\\u003eOLS trendline\\u003c\\u002fb\\u003e\\u003cbr\\u003elen = 1894.78 * page_count + 1263.88\\u003cbr\\u003eR\\u003csup\\u003e2\\u003c\\u002fsup\\u003e=0.792934\\u003cbr\\u003e\\u003cbr\\u003epage_count=%{x}\\u003cbr\\u003elen=%{y} \\u003cb\\u003e(trend)\\u003c\\u002fb\\u003e\\u003cextra\\u003e\\u003c\\u002fextra\\u003e\",\"legendgroup\":\"\",\"marker\":{\"color\":\"#636efa\",\"symbol\":\"circle\"},\"mode\":\"lines\",\"name\":\"\",\"showlegend\":false,\"x\":[1,1,1,1,1,1,1,1,2,2,2,2,2,2,2,2,2,2,2,3,3,3,3,3,3,3,3,3,3,3,3,3,3,3,3,3,4,4,4,4,4,4,4,4,5,5,5,5,5,5,5,5,5,5,5,5,5,5,5,5,5,5,5,5,5,5,6,6,6,6,6,6,6,6,6,6,6,6,6,6,6,6,6,7,7,7,7,7,7,7,7,7,7,7,7,8,8,8,8,8,8,8,8,8,8,8,9,9,9,9,9,9,9,9,9,9,9,9,9,10,10,10,10,11,11,11,11,11,12,12,13,13,13,14,14,14,14,14,16,16,19,23],\"xaxis\":\"x\",\"y\":[3158.660516949496,3158.660516949496,3158.660516949496,3158.660516949496,3158.660516949496,3158.660516949496,3158.660516949496,3158.660516949496,5053.439853633181,5053.439853633181,5053.439853633181,5053.439853633181,5053.439853633181,5053.439853633181,5053.439853633181,5053.439853633181,5053.439853633181,5053.439853633181,5053.439853633181,6948.219190316866,6948.219190316866,6948.219190316866,6948.219190316866,6948.219190316866,6948.219190316866,6948.219190316866,6948.219190316866,6948.219190316866,6948.219190316866,6948.219190316866,6948.219190316866,6948.219190316866,6948.219190316866,6948.219190316866,6948.219190316866,6948.219190316866,8842.99852700055,8842.99852700055,8842.99852700055,8842.99852700055,8842.99852700055,8842.99852700055,8842.99852700055,8842.99852700055,10737.777863684236,10737.777863684236,10737.777863684236,10737.777863684236,10737.777863684236,10737.777863684236,10737.777863684236,10737.777863684236,10737.777863684236,10737.777863684236,10737.777863684236,10737.777863684236,10737.777863684236,10737.777863684236,10737.777863684236,10737.777863684236,10737.777863684236,10737.777863684236,10737.777863684236,10737.777863684236,10737.777863684236,10737.777863684236,12632.55720036792,12632.55720036792,12632.55720036792,12632.55720036792,12632.55720036792,12632.55720036792,12632.55720036792,12632.55720036792,12632.55720036792,12632.55720036792,12632.55720036792,12632.55720036792,12632.55720036792,12632.55720036792,12632.55720036792,12632.55720036792,12632.55720036792,14527.336537051606,14527.336537051606,14527.336537051606,14527.336537051606,14527.336537051606,14527.336537051606,14527.336537051606,14527.336537051606,14527.336537051606,14527.336537051606,14527.336537051606,14527.336537051606,16422.11587373529,16422.11587373529,16422.11587373529,16422.11587373529,16422.11587373529,16422.11587373529,16422.11587373529,16422.11587373529,16422.11587373529,16422.11587373529,16422.11587373529,18316.895210418974,18316.895210418974,18316.895210418974,18316.895210418974,18316.895210418974,18316.895210418974,18316.895210418974,18316.895210418974,18316.895210418974,18316.895210418974,18316.895210418974,18316.895210418974,18316.895210418974,20211.67454710266,20211.67454710266,20211.67454710266,20211.67454710266,22106.453883786344,22106.453883786344,22106.453883786344,22106.453883786344,22106.453883786344,24001.23322047003,24001.23322047003,25896.012557153714,25896.012557153714,25896.012557153714,27790.7918938374,27790.7918938374,27790.7918938374,27790.7918938374,27790.7918938374,31580.35056720477,31580.35056720477,37264.68857725582,44843.80592399056],\"yaxis\":\"y\",\"type\":\"scatter\"}],                        {\"template\":{\"data\":{\"histogram2dcontour\":[{\"type\":\"histogram2dcontour\",\"colorbar\":{\"outlinewidth\":0,\"ticks\":\"\"},\"colorscale\":[[0.0,\"#0d0887\"],[0.1111111111111111,\"#46039f\"],[0.2222222222222222,\"#7201a8\"],[0.3333333333333333,\"#9c179e\"],[0.4444444444444444,\"#bd3786\"],[0.5555555555555556,\"#d8576b\"],[0.6666666666666666,\"#ed7953\"],[0.7777777777777778,\"#fb9f3a\"],[0.8888888888888888,\"#fdca26\"],[1.0,\"#f0f921\"]]}],\"choropleth\":[{\"type\":\"choropleth\",\"colorbar\":{\"outlinewidth\":0,\"ticks\":\"\"}}],\"histogram2d\":[{\"type\":\"histogram2d\",\"colorbar\":{\"outlinewidth\":0,\"ticks\":\"\"},\"colorscale\":[[0.0,\"#0d0887\"],[0.1111111111111111,\"#46039f\"],[0.2222222222222222,\"#7201a8\"],[0.3333333333333333,\"#9c179e\"],[0.4444444444444444,\"#bd3786\"],[0.5555555555555556,\"#d8576b\"],[0.6666666666666666,\"#ed7953\"],[0.7777777777777778,\"#fb9f3a\"],[0.8888888888888888,\"#fdca26\"],[1.0,\"#f0f921\"]]}],\"heatmap\":[{\"type\":\"heatmap\",\"colorbar\":{\"outlinewidth\":0,\"ticks\":\"\"},\"colorscale\":[[0.0,\"#0d0887\"],[0.1111111111111111,\"#46039f\"],[0.2222222222222222,\"#7201a8\"],[0.3333333333333333,\"#9c179e\"],[0.4444444444444444,\"#bd3786\"],[0.5555555555555556,\"#d8576b\"],[0.6666666666666666,\"#ed7953\"],[0.7777777777777778,\"#fb9f3a\"],[0.8888888888888888,\"#fdca26\"],[1.0,\"#f0f921\"]]}],\"heatmapgl\":[{\"type\":\"heatmapgl\",\"colorbar\":{\"outlinewidth\":0,\"ticks\":\"\"},\"colorscale\":[[0.0,\"#0d0887\"],[0.1111111111111111,\"#46039f\"],[0.2222222222222222,\"#7201a8\"],[0.3333333333333333,\"#9c179e\"],[0.4444444444444444,\"#bd3786\"],[0.5555555555555556,\"#d8576b\"],[0.6666666666666666,\"#ed7953\"],[0.7777777777777778,\"#fb9f3a\"],[0.8888888888888888,\"#fdca26\"],[1.0,\"#f0f921\"]]}],\"contourcarpet\":[{\"type\":\"contourcarpet\",\"colorbar\":{\"outlinewidth\":0,\"ticks\":\"\"}}],\"contour\":[{\"type\":\"contour\",\"colorbar\":{\"outlinewidth\":0,\"ticks\":\"\"},\"colorscale\":[[0.0,\"#0d0887\"],[0.1111111111111111,\"#46039f\"],[0.2222222222222222,\"#7201a8\"],[0.3333333333333333,\"#9c179e\"],[0.4444444444444444,\"#bd3786\"],[0.5555555555555556,\"#d8576b\"],[0.6666666666666666,\"#ed7953\"],[0.7777777777777778,\"#fb9f3a\"],[0.8888888888888888,\"#fdca26\"],[1.0,\"#f0f921\"]]}],\"surface\":[{\"type\":\"surface\",\"colorbar\":{\"outlinewidth\":0,\"ticks\":\"\"},\"colorscale\":[[0.0,\"#0d0887\"],[0.1111111111111111,\"#46039f\"],[0.2222222222222222,\"#7201a8\"],[0.3333333333333333,\"#9c179e\"],[0.4444444444444444,\"#bd3786\"],[0.5555555555555556,\"#d8576b\"],[0.6666666666666666,\"#ed7953\"],[0.7777777777777778,\"#fb9f3a\"],[0.8888888888888888,\"#fdca26\"],[1.0,\"#f0f921\"]]}],\"mesh3d\":[{\"type\":\"mesh3d\",\"colorbar\":{\"outlinewidth\":0,\"ticks\":\"\"}}],\"scatter\":[{\"marker\":{\"line\":{\"color\":\"#283442\"}},\"type\":\"scatter\"}],\"parcoords\":[{\"type\":\"parcoords\",\"line\":{\"colorbar\":{\"outlinewidth\":0,\"ticks\":\"\"}}}],\"scatterpolargl\":[{\"type\":\"scatterpolargl\",\"marker\":{\"colorbar\":{\"outlinewidth\":0,\"ticks\":\"\"}}}],\"bar\":[{\"error_x\":{\"color\":\"#f2f5fa\"},\"error_y\":{\"color\":\"#f2f5fa\"},\"marker\":{\"line\":{\"color\":\"rgb(17,17,17)\",\"width\":0.5},\"pattern\":{\"fillmode\":\"overlay\",\"size\":10,\"solidity\":0.2}},\"type\":\"bar\"}],\"scattergeo\":[{\"type\":\"scattergeo\",\"marker\":{\"colorbar\":{\"outlinewidth\":0,\"ticks\":\"\"}}}],\"scatterpolar\":[{\"type\":\"scatterpolar\",\"marker\":{\"colorbar\":{\"outlinewidth\":0,\"ticks\":\"\"}}}],\"histogram\":[{\"marker\":{\"pattern\":{\"fillmode\":\"overlay\",\"size\":10,\"solidity\":0.2}},\"type\":\"histogram\"}],\"scattergl\":[{\"marker\":{\"line\":{\"color\":\"#283442\"}},\"type\":\"scattergl\"}],\"scatter3d\":[{\"type\":\"scatter3d\",\"line\":{\"colorbar\":{\"outlinewidth\":0,\"ticks\":\"\"}},\"marker\":{\"colorbar\":{\"outlinewidth\":0,\"ticks\":\"\"}}}],\"scattermapbox\":[{\"type\":\"scattermapbox\",\"marker\":{\"colorbar\":{\"outlinewidth\":0,\"ticks\":\"\"}}}],\"scatterternary\":[{\"type\":\"scatterternary\",\"marker\":{\"colorbar\":{\"outlinewidth\":0,\"ticks\":\"\"}}}],\"scattercarpet\":[{\"type\":\"scattercarpet\",\"marker\":{\"colorbar\":{\"outlinewidth\":0,\"ticks\":\"\"}}}],\"carpet\":[{\"aaxis\":{\"endlinecolor\":\"#A2B1C6\",\"gridcolor\":\"#506784\",\"linecolor\":\"#506784\",\"minorgridcolor\":\"#506784\",\"startlinecolor\":\"#A2B1C6\"},\"baxis\":{\"endlinecolor\":\"#A2B1C6\",\"gridcolor\":\"#506784\",\"linecolor\":\"#506784\",\"minorgridcolor\":\"#506784\",\"startlinecolor\":\"#A2B1C6\"},\"type\":\"carpet\"}],\"table\":[{\"cells\":{\"fill\":{\"color\":\"#506784\"},\"line\":{\"color\":\"rgb(17,17,17)\"}},\"header\":{\"fill\":{\"color\":\"#2a3f5f\"},\"line\":{\"color\":\"rgb(17,17,17)\"}},\"type\":\"table\"}],\"barpolar\":[{\"marker\":{\"line\":{\"color\":\"rgb(17,17,17)\",\"width\":0.5},\"pattern\":{\"fillmode\":\"overlay\",\"size\":10,\"solidity\":0.2}},\"type\":\"barpolar\"}],\"pie\":[{\"automargin\":true,\"type\":\"pie\"}]},\"layout\":{\"autotypenumbers\":\"strict\",\"colorway\":[\"#636efa\",\"#EF553B\",\"#00cc96\",\"#ab63fa\",\"#FFA15A\",\"#19d3f3\",\"#FF6692\",\"#B6E880\",\"#FF97FF\",\"#FECB52\"],\"font\":{\"color\":\"#f2f5fa\"},\"hovermode\":\"closest\",\"hoverlabel\":{\"align\":\"left\"},\"paper_bgcolor\":\"rgb(17,17,17)\",\"plot_bgcolor\":\"rgb(17,17,17)\",\"polar\":{\"bgcolor\":\"rgb(17,17,17)\",\"angularaxis\":{\"gridcolor\":\"#506784\",\"linecolor\":\"#506784\",\"ticks\":\"\"},\"radialaxis\":{\"gridcolor\":\"#506784\",\"linecolor\":\"#506784\",\"ticks\":\"\"}},\"ternary\":{\"bgcolor\":\"rgb(17,17,17)\",\"aaxis\":{\"gridcolor\":\"#506784\",\"linecolor\":\"#506784\",\"ticks\":\"\"},\"baxis\":{\"gridcolor\":\"#506784\",\"linecolor\":\"#506784\",\"ticks\":\"\"},\"caxis\":{\"gridcolor\":\"#506784\",\"linecolor\":\"#506784\",\"ticks\":\"\"}},\"coloraxis\":{\"colorbar\":{\"outlinewidth\":0,\"ticks\":\"\"}},\"colorscale\":{\"sequential\":[[0.0,\"#0d0887\"],[0.1111111111111111,\"#46039f\"],[0.2222222222222222,\"#7201a8\"],[0.3333333333333333,\"#9c179e\"],[0.4444444444444444,\"#bd3786\"],[0.5555555555555556,\"#d8576b\"],[0.6666666666666666,\"#ed7953\"],[0.7777777777777778,\"#fb9f3a\"],[0.8888888888888888,\"#fdca26\"],[1.0,\"#f0f921\"]],\"sequentialminus\":[[0.0,\"#0d0887\"],[0.1111111111111111,\"#46039f\"],[0.2222222222222222,\"#7201a8\"],[0.3333333333333333,\"#9c179e\"],[0.4444444444444444,\"#bd3786\"],[0.5555555555555556,\"#d8576b\"],[0.6666666666666666,\"#ed7953\"],[0.7777777777777778,\"#fb9f3a\"],[0.8888888888888888,\"#fdca26\"],[1.0,\"#f0f921\"]],\"diverging\":[[0,\"#8e0152\"],[0.1,\"#c51b7d\"],[0.2,\"#de77ae\"],[0.3,\"#f1b6da\"],[0.4,\"#fde0ef\"],[0.5,\"#f7f7f7\"],[0.6,\"#e6f5d0\"],[0.7,\"#b8e186\"],[0.8,\"#7fbc41\"],[0.9,\"#4d9221\"],[1,\"#276419\"]]},\"xaxis\":{\"gridcolor\":\"#283442\",\"linecolor\":\"#506784\",\"ticks\":\"\",\"title\":{\"standoff\":15},\"zerolinecolor\":\"#283442\",\"automargin\":true,\"zerolinewidth\":2},\"yaxis\":{\"gridcolor\":\"#283442\",\"linecolor\":\"#506784\",\"ticks\":\"\",\"title\":{\"standoff\":15},\"zerolinecolor\":\"#283442\",\"automargin\":true,\"zerolinewidth\":2},\"scene\":{\"xaxis\":{\"backgroundcolor\":\"rgb(17,17,17)\",\"gridcolor\":\"#506784\",\"linecolor\":\"#506784\",\"showbackground\":true,\"ticks\":\"\",\"zerolinecolor\":\"#C8D4E3\",\"gridwidth\":2},\"yaxis\":{\"backgroundcolor\":\"rgb(17,17,17)\",\"gridcolor\":\"#506784\",\"linecolor\":\"#506784\",\"showbackground\":true,\"ticks\":\"\",\"zerolinecolor\":\"#C8D4E3\",\"gridwidth\":2},\"zaxis\":{\"backgroundcolor\":\"rgb(17,17,17)\",\"gridcolor\":\"#506784\",\"linecolor\":\"#506784\",\"showbackground\":true,\"ticks\":\"\",\"zerolinecolor\":\"#C8D4E3\",\"gridwidth\":2}},\"shapedefaults\":{\"line\":{\"color\":\"#f2f5fa\"}},\"annotationdefaults\":{\"arrowcolor\":\"#f2f5fa\",\"arrowhead\":0,\"arrowwidth\":1},\"geo\":{\"bgcolor\":\"rgb(17,17,17)\",\"landcolor\":\"rgb(17,17,17)\",\"subunitcolor\":\"#506784\",\"showland\":true,\"showlakes\":true,\"lakecolor\":\"rgb(17,17,17)\"},\"title\":{\"x\":0.05},\"updatemenudefaults\":{\"bgcolor\":\"#506784\",\"borderwidth\":0},\"sliderdefaults\":{\"bgcolor\":\"#C8D4E3\",\"borderwidth\":1,\"bordercolor\":\"rgb(17,17,17)\",\"tickwidth\":0},\"mapbox\":{\"style\":\"dark\"}}},\"xaxis\":{\"anchor\":\"y\",\"domain\":[0.0,1.0],\"title\":{\"text\":\"page_count\"}},\"yaxis\":{\"anchor\":\"x\",\"domain\":[0.0,1.0],\"title\":{\"text\":\"len\"}},\"legend\":{\"tracegroupgap\":0,\"itemsizing\":\"constant\"},\"margin\":{\"t\":60}},                        {\"responsive\": true}                    ).then(function(){\n",
       "                            \n",
       "var gd = document.getElementById('ca4eb274-b96f-41e2-b112-641f59469953');\n",
       "var x = new MutationObserver(function (mutations, observer) {{\n",
       "        var display = window.getComputedStyle(gd).display;\n",
       "        if (!display || display === 'none') {{\n",
       "            console.log([gd, 'removed!']);\n",
       "            Plotly.purge(gd);\n",
       "            observer.disconnect();\n",
       "        }}\n",
       "}});\n",
       "\n",
       "// Listen for the removal of the full notebook cells\n",
       "var notebookContainer = gd.closest('#notebook-container');\n",
       "if (notebookContainer) {{\n",
       "    x.observe(notebookContainer, {childList: true});\n",
       "}}\n",
       "\n",
       "// Listen for the clearing of the current output cell\n",
       "var outputEl = gd.closest('.output');\n",
       "if (outputEl) {{\n",
       "    x.observe(outputEl, {childList: true});\n",
       "}}\n",
       "\n",
       "                        })                };                });            </script>        </div>"
      ]
     },
     "metadata": {},
     "output_type": "display_data"
    }
   ],
   "execution_count": 37
  },
  {
   "metadata": {
    "ExecuteTime": {
     "end_time": "2025-01-19T12:09:45.341430Z",
     "start_time": "2025-01-19T12:09:45.321952Z"
    }
   },
   "cell_type": "code",
   "source": "px.histogram(df_extracted, x='len', nbins=30)",
   "id": "63f768f94b4b7fff",
   "outputs": [
    {
     "data": {
      "application/vnd.plotly.v1+json": {
       "data": [
        {
         "alignmentgroup": "True",
         "bingroup": "x",
         "hovertemplate": "len=%{x}<br>count=%{y}<extra></extra>",
         "legendgroup": "",
         "marker": {
          "color": "#636efa",
          "pattern": {
           "shape": ""
          }
         },
         "name": "",
         "nbinsx": 30,
         "offsetgroup": "",
         "orientation": "v",
         "showlegend": false,
         "x": [
          9047,
          4658,
          15546,
          32890,
          12611,
          14870,
          8969,
          4157,
          43872,
          11057,
          2477,
          12112,
          14867,
          14556,
          19442,
          16948,
          3901,
          12390,
          16098,
          2866,
          18605,
          13175,
          15798,
          9391,
          2761,
          4200,
          5945,
          29189,
          18389,
          6447,
          3195,
          12995,
          15158,
          26908,
          18770,
          18557,
          3889,
          1872,
          19235,
          6465,
          6613,
          8800,
          4844,
          5361,
          13396,
          23121,
          5543,
          10925,
          11048,
          17842,
          16524,
          12890,
          13298,
          6064,
          21852,
          10338,
          7706,
          11741,
          8477,
          12059,
          13886,
          12383,
          18198,
          18946,
          4287,
          3014,
          8613,
          6794,
          4818,
          8324,
          23604,
          11836,
          8123,
          23935,
          12496,
          12293,
          2782,
          3750,
          8449,
          11927,
          19262,
          11125,
          12018,
          12383,
          33491,
          11722,
          10762,
          15389,
          14262,
          21432,
          12786,
          26108,
          9655,
          16344,
          15658,
          20001,
          881,
          14464,
          14419,
          29611,
          2612,
          31353,
          12273,
          9444,
          9153,
          8958,
          36723,
          2838,
          25553,
          19590,
          10433,
          20509,
          5874,
          20331,
          11546,
          10614,
          25605,
          10596,
          6622,
          16642,
          24536,
          21835,
          21835,
          4188,
          10819,
          44798,
          13708,
          16582,
          11476,
          28157,
          18843,
          12848,
          8980,
          14321,
          7197,
          11456,
          9391,
          6966,
          2024,
          3163,
          12508,
          19238
         ],
         "xaxis": "x",
         "yaxis": "y",
         "type": "histogram"
        }
       ],
       "layout": {
        "template": {
         "data": {
          "histogram2dcontour": [
           {
            "type": "histogram2dcontour",
            "colorbar": {
             "outlinewidth": 0,
             "ticks": ""
            },
            "colorscale": [
             [
              0.0,
              "#0d0887"
             ],
             [
              0.1111111111111111,
              "#46039f"
             ],
             [
              0.2222222222222222,
              "#7201a8"
             ],
             [
              0.3333333333333333,
              "#9c179e"
             ],
             [
              0.4444444444444444,
              "#bd3786"
             ],
             [
              0.5555555555555556,
              "#d8576b"
             ],
             [
              0.6666666666666666,
              "#ed7953"
             ],
             [
              0.7777777777777778,
              "#fb9f3a"
             ],
             [
              0.8888888888888888,
              "#fdca26"
             ],
             [
              1.0,
              "#f0f921"
             ]
            ]
           }
          ],
          "choropleth": [
           {
            "type": "choropleth",
            "colorbar": {
             "outlinewidth": 0,
             "ticks": ""
            }
           }
          ],
          "histogram2d": [
           {
            "type": "histogram2d",
            "colorbar": {
             "outlinewidth": 0,
             "ticks": ""
            },
            "colorscale": [
             [
              0.0,
              "#0d0887"
             ],
             [
              0.1111111111111111,
              "#46039f"
             ],
             [
              0.2222222222222222,
              "#7201a8"
             ],
             [
              0.3333333333333333,
              "#9c179e"
             ],
             [
              0.4444444444444444,
              "#bd3786"
             ],
             [
              0.5555555555555556,
              "#d8576b"
             ],
             [
              0.6666666666666666,
              "#ed7953"
             ],
             [
              0.7777777777777778,
              "#fb9f3a"
             ],
             [
              0.8888888888888888,
              "#fdca26"
             ],
             [
              1.0,
              "#f0f921"
             ]
            ]
           }
          ],
          "heatmap": [
           {
            "type": "heatmap",
            "colorbar": {
             "outlinewidth": 0,
             "ticks": ""
            },
            "colorscale": [
             [
              0.0,
              "#0d0887"
             ],
             [
              0.1111111111111111,
              "#46039f"
             ],
             [
              0.2222222222222222,
              "#7201a8"
             ],
             [
              0.3333333333333333,
              "#9c179e"
             ],
             [
              0.4444444444444444,
              "#bd3786"
             ],
             [
              0.5555555555555556,
              "#d8576b"
             ],
             [
              0.6666666666666666,
              "#ed7953"
             ],
             [
              0.7777777777777778,
              "#fb9f3a"
             ],
             [
              0.8888888888888888,
              "#fdca26"
             ],
             [
              1.0,
              "#f0f921"
             ]
            ]
           }
          ],
          "heatmapgl": [
           {
            "type": "heatmapgl",
            "colorbar": {
             "outlinewidth": 0,
             "ticks": ""
            },
            "colorscale": [
             [
              0.0,
              "#0d0887"
             ],
             [
              0.1111111111111111,
              "#46039f"
             ],
             [
              0.2222222222222222,
              "#7201a8"
             ],
             [
              0.3333333333333333,
              "#9c179e"
             ],
             [
              0.4444444444444444,
              "#bd3786"
             ],
             [
              0.5555555555555556,
              "#d8576b"
             ],
             [
              0.6666666666666666,
              "#ed7953"
             ],
             [
              0.7777777777777778,
              "#fb9f3a"
             ],
             [
              0.8888888888888888,
              "#fdca26"
             ],
             [
              1.0,
              "#f0f921"
             ]
            ]
           }
          ],
          "contourcarpet": [
           {
            "type": "contourcarpet",
            "colorbar": {
             "outlinewidth": 0,
             "ticks": ""
            }
           }
          ],
          "contour": [
           {
            "type": "contour",
            "colorbar": {
             "outlinewidth": 0,
             "ticks": ""
            },
            "colorscale": [
             [
              0.0,
              "#0d0887"
             ],
             [
              0.1111111111111111,
              "#46039f"
             ],
             [
              0.2222222222222222,
              "#7201a8"
             ],
             [
              0.3333333333333333,
              "#9c179e"
             ],
             [
              0.4444444444444444,
              "#bd3786"
             ],
             [
              0.5555555555555556,
              "#d8576b"
             ],
             [
              0.6666666666666666,
              "#ed7953"
             ],
             [
              0.7777777777777778,
              "#fb9f3a"
             ],
             [
              0.8888888888888888,
              "#fdca26"
             ],
             [
              1.0,
              "#f0f921"
             ]
            ]
           }
          ],
          "surface": [
           {
            "type": "surface",
            "colorbar": {
             "outlinewidth": 0,
             "ticks": ""
            },
            "colorscale": [
             [
              0.0,
              "#0d0887"
             ],
             [
              0.1111111111111111,
              "#46039f"
             ],
             [
              0.2222222222222222,
              "#7201a8"
             ],
             [
              0.3333333333333333,
              "#9c179e"
             ],
             [
              0.4444444444444444,
              "#bd3786"
             ],
             [
              0.5555555555555556,
              "#d8576b"
             ],
             [
              0.6666666666666666,
              "#ed7953"
             ],
             [
              0.7777777777777778,
              "#fb9f3a"
             ],
             [
              0.8888888888888888,
              "#fdca26"
             ],
             [
              1.0,
              "#f0f921"
             ]
            ]
           }
          ],
          "mesh3d": [
           {
            "type": "mesh3d",
            "colorbar": {
             "outlinewidth": 0,
             "ticks": ""
            }
           }
          ],
          "scatter": [
           {
            "marker": {
             "line": {
              "color": "#283442"
             }
            },
            "type": "scatter"
           }
          ],
          "parcoords": [
           {
            "type": "parcoords",
            "line": {
             "colorbar": {
              "outlinewidth": 0,
              "ticks": ""
             }
            }
           }
          ],
          "scatterpolargl": [
           {
            "type": "scatterpolargl",
            "marker": {
             "colorbar": {
              "outlinewidth": 0,
              "ticks": ""
             }
            }
           }
          ],
          "bar": [
           {
            "error_x": {
             "color": "#f2f5fa"
            },
            "error_y": {
             "color": "#f2f5fa"
            },
            "marker": {
             "line": {
              "color": "rgb(17,17,17)",
              "width": 0.5
             },
             "pattern": {
              "fillmode": "overlay",
              "size": 10,
              "solidity": 0.2
             }
            },
            "type": "bar"
           }
          ],
          "scattergeo": [
           {
            "type": "scattergeo",
            "marker": {
             "colorbar": {
              "outlinewidth": 0,
              "ticks": ""
             }
            }
           }
          ],
          "scatterpolar": [
           {
            "type": "scatterpolar",
            "marker": {
             "colorbar": {
              "outlinewidth": 0,
              "ticks": ""
             }
            }
           }
          ],
          "histogram": [
           {
            "marker": {
             "pattern": {
              "fillmode": "overlay",
              "size": 10,
              "solidity": 0.2
             }
            },
            "type": "histogram"
           }
          ],
          "scattergl": [
           {
            "marker": {
             "line": {
              "color": "#283442"
             }
            },
            "type": "scattergl"
           }
          ],
          "scatter3d": [
           {
            "type": "scatter3d",
            "line": {
             "colorbar": {
              "outlinewidth": 0,
              "ticks": ""
             }
            },
            "marker": {
             "colorbar": {
              "outlinewidth": 0,
              "ticks": ""
             }
            }
           }
          ],
          "scattermapbox": [
           {
            "type": "scattermapbox",
            "marker": {
             "colorbar": {
              "outlinewidth": 0,
              "ticks": ""
             }
            }
           }
          ],
          "scatterternary": [
           {
            "type": "scatterternary",
            "marker": {
             "colorbar": {
              "outlinewidth": 0,
              "ticks": ""
             }
            }
           }
          ],
          "scattercarpet": [
           {
            "type": "scattercarpet",
            "marker": {
             "colorbar": {
              "outlinewidth": 0,
              "ticks": ""
             }
            }
           }
          ],
          "carpet": [
           {
            "aaxis": {
             "endlinecolor": "#A2B1C6",
             "gridcolor": "#506784",
             "linecolor": "#506784",
             "minorgridcolor": "#506784",
             "startlinecolor": "#A2B1C6"
            },
            "baxis": {
             "endlinecolor": "#A2B1C6",
             "gridcolor": "#506784",
             "linecolor": "#506784",
             "minorgridcolor": "#506784",
             "startlinecolor": "#A2B1C6"
            },
            "type": "carpet"
           }
          ],
          "table": [
           {
            "cells": {
             "fill": {
              "color": "#506784"
             },
             "line": {
              "color": "rgb(17,17,17)"
             }
            },
            "header": {
             "fill": {
              "color": "#2a3f5f"
             },
             "line": {
              "color": "rgb(17,17,17)"
             }
            },
            "type": "table"
           }
          ],
          "barpolar": [
           {
            "marker": {
             "line": {
              "color": "rgb(17,17,17)",
              "width": 0.5
             },
             "pattern": {
              "fillmode": "overlay",
              "size": 10,
              "solidity": 0.2
             }
            },
            "type": "barpolar"
           }
          ],
          "pie": [
           {
            "automargin": true,
            "type": "pie"
           }
          ]
         },
         "layout": {
          "autotypenumbers": "strict",
          "colorway": [
           "#636efa",
           "#EF553B",
           "#00cc96",
           "#ab63fa",
           "#FFA15A",
           "#19d3f3",
           "#FF6692",
           "#B6E880",
           "#FF97FF",
           "#FECB52"
          ],
          "font": {
           "color": "#f2f5fa"
          },
          "hovermode": "closest",
          "hoverlabel": {
           "align": "left"
          },
          "paper_bgcolor": "rgb(17,17,17)",
          "plot_bgcolor": "rgb(17,17,17)",
          "polar": {
           "bgcolor": "rgb(17,17,17)",
           "angularaxis": {
            "gridcolor": "#506784",
            "linecolor": "#506784",
            "ticks": ""
           },
           "radialaxis": {
            "gridcolor": "#506784",
            "linecolor": "#506784",
            "ticks": ""
           }
          },
          "ternary": {
           "bgcolor": "rgb(17,17,17)",
           "aaxis": {
            "gridcolor": "#506784",
            "linecolor": "#506784",
            "ticks": ""
           },
           "baxis": {
            "gridcolor": "#506784",
            "linecolor": "#506784",
            "ticks": ""
           },
           "caxis": {
            "gridcolor": "#506784",
            "linecolor": "#506784",
            "ticks": ""
           }
          },
          "coloraxis": {
           "colorbar": {
            "outlinewidth": 0,
            "ticks": ""
           }
          },
          "colorscale": {
           "sequential": [
            [
             0.0,
             "#0d0887"
            ],
            [
             0.1111111111111111,
             "#46039f"
            ],
            [
             0.2222222222222222,
             "#7201a8"
            ],
            [
             0.3333333333333333,
             "#9c179e"
            ],
            [
             0.4444444444444444,
             "#bd3786"
            ],
            [
             0.5555555555555556,
             "#d8576b"
            ],
            [
             0.6666666666666666,
             "#ed7953"
            ],
            [
             0.7777777777777778,
             "#fb9f3a"
            ],
            [
             0.8888888888888888,
             "#fdca26"
            ],
            [
             1.0,
             "#f0f921"
            ]
           ],
           "sequentialminus": [
            [
             0.0,
             "#0d0887"
            ],
            [
             0.1111111111111111,
             "#46039f"
            ],
            [
             0.2222222222222222,
             "#7201a8"
            ],
            [
             0.3333333333333333,
             "#9c179e"
            ],
            [
             0.4444444444444444,
             "#bd3786"
            ],
            [
             0.5555555555555556,
             "#d8576b"
            ],
            [
             0.6666666666666666,
             "#ed7953"
            ],
            [
             0.7777777777777778,
             "#fb9f3a"
            ],
            [
             0.8888888888888888,
             "#fdca26"
            ],
            [
             1.0,
             "#f0f921"
            ]
           ],
           "diverging": [
            [
             0,
             "#8e0152"
            ],
            [
             0.1,
             "#c51b7d"
            ],
            [
             0.2,
             "#de77ae"
            ],
            [
             0.3,
             "#f1b6da"
            ],
            [
             0.4,
             "#fde0ef"
            ],
            [
             0.5,
             "#f7f7f7"
            ],
            [
             0.6,
             "#e6f5d0"
            ],
            [
             0.7,
             "#b8e186"
            ],
            [
             0.8,
             "#7fbc41"
            ],
            [
             0.9,
             "#4d9221"
            ],
            [
             1,
             "#276419"
            ]
           ]
          },
          "xaxis": {
           "gridcolor": "#283442",
           "linecolor": "#506784",
           "ticks": "",
           "title": {
            "standoff": 15
           },
           "zerolinecolor": "#283442",
           "automargin": true,
           "zerolinewidth": 2
          },
          "yaxis": {
           "gridcolor": "#283442",
           "linecolor": "#506784",
           "ticks": "",
           "title": {
            "standoff": 15
           },
           "zerolinecolor": "#283442",
           "automargin": true,
           "zerolinewidth": 2
          },
          "scene": {
           "xaxis": {
            "backgroundcolor": "rgb(17,17,17)",
            "gridcolor": "#506784",
            "linecolor": "#506784",
            "showbackground": true,
            "ticks": "",
            "zerolinecolor": "#C8D4E3",
            "gridwidth": 2
           },
           "yaxis": {
            "backgroundcolor": "rgb(17,17,17)",
            "gridcolor": "#506784",
            "linecolor": "#506784",
            "showbackground": true,
            "ticks": "",
            "zerolinecolor": "#C8D4E3",
            "gridwidth": 2
           },
           "zaxis": {
            "backgroundcolor": "rgb(17,17,17)",
            "gridcolor": "#506784",
            "linecolor": "#506784",
            "showbackground": true,
            "ticks": "",
            "zerolinecolor": "#C8D4E3",
            "gridwidth": 2
           }
          },
          "shapedefaults": {
           "line": {
            "color": "#f2f5fa"
           }
          },
          "annotationdefaults": {
           "arrowcolor": "#f2f5fa",
           "arrowhead": 0,
           "arrowwidth": 1
          },
          "geo": {
           "bgcolor": "rgb(17,17,17)",
           "landcolor": "rgb(17,17,17)",
           "subunitcolor": "#506784",
           "showland": true,
           "showlakes": true,
           "lakecolor": "rgb(17,17,17)"
          },
          "title": {
           "x": 0.05
          },
          "updatemenudefaults": {
           "bgcolor": "#506784",
           "borderwidth": 0
          },
          "sliderdefaults": {
           "bgcolor": "#C8D4E3",
           "borderwidth": 1,
           "bordercolor": "rgb(17,17,17)",
           "tickwidth": 0
          },
          "mapbox": {
           "style": "dark"
          }
         }
        },
        "xaxis": {
         "anchor": "y",
         "domain": [
          0.0,
          1.0
         ],
         "title": {
          "text": "len"
         }
        },
        "yaxis": {
         "anchor": "x",
         "domain": [
          0.0,
          1.0
         ],
         "title": {
          "text": "count"
         }
        },
        "legend": {
         "tracegroupgap": 0
        },
        "margin": {
         "t": 60
        },
        "barmode": "relative"
       },
       "config": {
        "plotlyServerURL": "https://plot.ly"
       }
      },
      "text/html": [
       "<div>                            <div id=\"01fbba2e-1740-487c-88c4-3e05beb10b0d\" class=\"plotly-graph-div\" style=\"height:525px; width:100%;\"></div>            <script type=\"text/javascript\">                require([\"plotly\"], function(Plotly) {                    window.PLOTLYENV=window.PLOTLYENV || {};                                    if (document.getElementById(\"01fbba2e-1740-487c-88c4-3e05beb10b0d\")) {                    Plotly.newPlot(                        \"01fbba2e-1740-487c-88c4-3e05beb10b0d\",                        [{\"alignmentgroup\":\"True\",\"bingroup\":\"x\",\"hovertemplate\":\"len=%{x}\\u003cbr\\u003ecount=%{y}\\u003cextra\\u003e\\u003c\\u002fextra\\u003e\",\"legendgroup\":\"\",\"marker\":{\"color\":\"#636efa\",\"pattern\":{\"shape\":\"\"}},\"name\":\"\",\"nbinsx\":30,\"offsetgroup\":\"\",\"orientation\":\"v\",\"showlegend\":false,\"x\":[9047,4658,15546,32890,12611,14870,8969,4157,43872,11057,2477,12112,14867,14556,19442,16948,3901,12390,16098,2866,18605,13175,15798,9391,2761,4200,5945,29189,18389,6447,3195,12995,15158,26908,18770,18557,3889,1872,19235,6465,6613,8800,4844,5361,13396,23121,5543,10925,11048,17842,16524,12890,13298,6064,21852,10338,7706,11741,8477,12059,13886,12383,18198,18946,4287,3014,8613,6794,4818,8324,23604,11836,8123,23935,12496,12293,2782,3750,8449,11927,19262,11125,12018,12383,33491,11722,10762,15389,14262,21432,12786,26108,9655,16344,15658,20001,881,14464,14419,29611,2612,31353,12273,9444,9153,8958,36723,2838,25553,19590,10433,20509,5874,20331,11546,10614,25605,10596,6622,16642,24536,21835,21835,4188,10819,44798,13708,16582,11476,28157,18843,12848,8980,14321,7197,11456,9391,6966,2024,3163,12508,19238],\"xaxis\":\"x\",\"yaxis\":\"y\",\"type\":\"histogram\"}],                        {\"template\":{\"data\":{\"histogram2dcontour\":[{\"type\":\"histogram2dcontour\",\"colorbar\":{\"outlinewidth\":0,\"ticks\":\"\"},\"colorscale\":[[0.0,\"#0d0887\"],[0.1111111111111111,\"#46039f\"],[0.2222222222222222,\"#7201a8\"],[0.3333333333333333,\"#9c179e\"],[0.4444444444444444,\"#bd3786\"],[0.5555555555555556,\"#d8576b\"],[0.6666666666666666,\"#ed7953\"],[0.7777777777777778,\"#fb9f3a\"],[0.8888888888888888,\"#fdca26\"],[1.0,\"#f0f921\"]]}],\"choropleth\":[{\"type\":\"choropleth\",\"colorbar\":{\"outlinewidth\":0,\"ticks\":\"\"}}],\"histogram2d\":[{\"type\":\"histogram2d\",\"colorbar\":{\"outlinewidth\":0,\"ticks\":\"\"},\"colorscale\":[[0.0,\"#0d0887\"],[0.1111111111111111,\"#46039f\"],[0.2222222222222222,\"#7201a8\"],[0.3333333333333333,\"#9c179e\"],[0.4444444444444444,\"#bd3786\"],[0.5555555555555556,\"#d8576b\"],[0.6666666666666666,\"#ed7953\"],[0.7777777777777778,\"#fb9f3a\"],[0.8888888888888888,\"#fdca26\"],[1.0,\"#f0f921\"]]}],\"heatmap\":[{\"type\":\"heatmap\",\"colorbar\":{\"outlinewidth\":0,\"ticks\":\"\"},\"colorscale\":[[0.0,\"#0d0887\"],[0.1111111111111111,\"#46039f\"],[0.2222222222222222,\"#7201a8\"],[0.3333333333333333,\"#9c179e\"],[0.4444444444444444,\"#bd3786\"],[0.5555555555555556,\"#d8576b\"],[0.6666666666666666,\"#ed7953\"],[0.7777777777777778,\"#fb9f3a\"],[0.8888888888888888,\"#fdca26\"],[1.0,\"#f0f921\"]]}],\"heatmapgl\":[{\"type\":\"heatmapgl\",\"colorbar\":{\"outlinewidth\":0,\"ticks\":\"\"},\"colorscale\":[[0.0,\"#0d0887\"],[0.1111111111111111,\"#46039f\"],[0.2222222222222222,\"#7201a8\"],[0.3333333333333333,\"#9c179e\"],[0.4444444444444444,\"#bd3786\"],[0.5555555555555556,\"#d8576b\"],[0.6666666666666666,\"#ed7953\"],[0.7777777777777778,\"#fb9f3a\"],[0.8888888888888888,\"#fdca26\"],[1.0,\"#f0f921\"]]}],\"contourcarpet\":[{\"type\":\"contourcarpet\",\"colorbar\":{\"outlinewidth\":0,\"ticks\":\"\"}}],\"contour\":[{\"type\":\"contour\",\"colorbar\":{\"outlinewidth\":0,\"ticks\":\"\"},\"colorscale\":[[0.0,\"#0d0887\"],[0.1111111111111111,\"#46039f\"],[0.2222222222222222,\"#7201a8\"],[0.3333333333333333,\"#9c179e\"],[0.4444444444444444,\"#bd3786\"],[0.5555555555555556,\"#d8576b\"],[0.6666666666666666,\"#ed7953\"],[0.7777777777777778,\"#fb9f3a\"],[0.8888888888888888,\"#fdca26\"],[1.0,\"#f0f921\"]]}],\"surface\":[{\"type\":\"surface\",\"colorbar\":{\"outlinewidth\":0,\"ticks\":\"\"},\"colorscale\":[[0.0,\"#0d0887\"],[0.1111111111111111,\"#46039f\"],[0.2222222222222222,\"#7201a8\"],[0.3333333333333333,\"#9c179e\"],[0.4444444444444444,\"#bd3786\"],[0.5555555555555556,\"#d8576b\"],[0.6666666666666666,\"#ed7953\"],[0.7777777777777778,\"#fb9f3a\"],[0.8888888888888888,\"#fdca26\"],[1.0,\"#f0f921\"]]}],\"mesh3d\":[{\"type\":\"mesh3d\",\"colorbar\":{\"outlinewidth\":0,\"ticks\":\"\"}}],\"scatter\":[{\"marker\":{\"line\":{\"color\":\"#283442\"}},\"type\":\"scatter\"}],\"parcoords\":[{\"type\":\"parcoords\",\"line\":{\"colorbar\":{\"outlinewidth\":0,\"ticks\":\"\"}}}],\"scatterpolargl\":[{\"type\":\"scatterpolargl\",\"marker\":{\"colorbar\":{\"outlinewidth\":0,\"ticks\":\"\"}}}],\"bar\":[{\"error_x\":{\"color\":\"#f2f5fa\"},\"error_y\":{\"color\":\"#f2f5fa\"},\"marker\":{\"line\":{\"color\":\"rgb(17,17,17)\",\"width\":0.5},\"pattern\":{\"fillmode\":\"overlay\",\"size\":10,\"solidity\":0.2}},\"type\":\"bar\"}],\"scattergeo\":[{\"type\":\"scattergeo\",\"marker\":{\"colorbar\":{\"outlinewidth\":0,\"ticks\":\"\"}}}],\"scatterpolar\":[{\"type\":\"scatterpolar\",\"marker\":{\"colorbar\":{\"outlinewidth\":0,\"ticks\":\"\"}}}],\"histogram\":[{\"marker\":{\"pattern\":{\"fillmode\":\"overlay\",\"size\":10,\"solidity\":0.2}},\"type\":\"histogram\"}],\"scattergl\":[{\"marker\":{\"line\":{\"color\":\"#283442\"}},\"type\":\"scattergl\"}],\"scatter3d\":[{\"type\":\"scatter3d\",\"line\":{\"colorbar\":{\"outlinewidth\":0,\"ticks\":\"\"}},\"marker\":{\"colorbar\":{\"outlinewidth\":0,\"ticks\":\"\"}}}],\"scattermapbox\":[{\"type\":\"scattermapbox\",\"marker\":{\"colorbar\":{\"outlinewidth\":0,\"ticks\":\"\"}}}],\"scatterternary\":[{\"type\":\"scatterternary\",\"marker\":{\"colorbar\":{\"outlinewidth\":0,\"ticks\":\"\"}}}],\"scattercarpet\":[{\"type\":\"scattercarpet\",\"marker\":{\"colorbar\":{\"outlinewidth\":0,\"ticks\":\"\"}}}],\"carpet\":[{\"aaxis\":{\"endlinecolor\":\"#A2B1C6\",\"gridcolor\":\"#506784\",\"linecolor\":\"#506784\",\"minorgridcolor\":\"#506784\",\"startlinecolor\":\"#A2B1C6\"},\"baxis\":{\"endlinecolor\":\"#A2B1C6\",\"gridcolor\":\"#506784\",\"linecolor\":\"#506784\",\"minorgridcolor\":\"#506784\",\"startlinecolor\":\"#A2B1C6\"},\"type\":\"carpet\"}],\"table\":[{\"cells\":{\"fill\":{\"color\":\"#506784\"},\"line\":{\"color\":\"rgb(17,17,17)\"}},\"header\":{\"fill\":{\"color\":\"#2a3f5f\"},\"line\":{\"color\":\"rgb(17,17,17)\"}},\"type\":\"table\"}],\"barpolar\":[{\"marker\":{\"line\":{\"color\":\"rgb(17,17,17)\",\"width\":0.5},\"pattern\":{\"fillmode\":\"overlay\",\"size\":10,\"solidity\":0.2}},\"type\":\"barpolar\"}],\"pie\":[{\"automargin\":true,\"type\":\"pie\"}]},\"layout\":{\"autotypenumbers\":\"strict\",\"colorway\":[\"#636efa\",\"#EF553B\",\"#00cc96\",\"#ab63fa\",\"#FFA15A\",\"#19d3f3\",\"#FF6692\",\"#B6E880\",\"#FF97FF\",\"#FECB52\"],\"font\":{\"color\":\"#f2f5fa\"},\"hovermode\":\"closest\",\"hoverlabel\":{\"align\":\"left\"},\"paper_bgcolor\":\"rgb(17,17,17)\",\"plot_bgcolor\":\"rgb(17,17,17)\",\"polar\":{\"bgcolor\":\"rgb(17,17,17)\",\"angularaxis\":{\"gridcolor\":\"#506784\",\"linecolor\":\"#506784\",\"ticks\":\"\"},\"radialaxis\":{\"gridcolor\":\"#506784\",\"linecolor\":\"#506784\",\"ticks\":\"\"}},\"ternary\":{\"bgcolor\":\"rgb(17,17,17)\",\"aaxis\":{\"gridcolor\":\"#506784\",\"linecolor\":\"#506784\",\"ticks\":\"\"},\"baxis\":{\"gridcolor\":\"#506784\",\"linecolor\":\"#506784\",\"ticks\":\"\"},\"caxis\":{\"gridcolor\":\"#506784\",\"linecolor\":\"#506784\",\"ticks\":\"\"}},\"coloraxis\":{\"colorbar\":{\"outlinewidth\":0,\"ticks\":\"\"}},\"colorscale\":{\"sequential\":[[0.0,\"#0d0887\"],[0.1111111111111111,\"#46039f\"],[0.2222222222222222,\"#7201a8\"],[0.3333333333333333,\"#9c179e\"],[0.4444444444444444,\"#bd3786\"],[0.5555555555555556,\"#d8576b\"],[0.6666666666666666,\"#ed7953\"],[0.7777777777777778,\"#fb9f3a\"],[0.8888888888888888,\"#fdca26\"],[1.0,\"#f0f921\"]],\"sequentialminus\":[[0.0,\"#0d0887\"],[0.1111111111111111,\"#46039f\"],[0.2222222222222222,\"#7201a8\"],[0.3333333333333333,\"#9c179e\"],[0.4444444444444444,\"#bd3786\"],[0.5555555555555556,\"#d8576b\"],[0.6666666666666666,\"#ed7953\"],[0.7777777777777778,\"#fb9f3a\"],[0.8888888888888888,\"#fdca26\"],[1.0,\"#f0f921\"]],\"diverging\":[[0,\"#8e0152\"],[0.1,\"#c51b7d\"],[0.2,\"#de77ae\"],[0.3,\"#f1b6da\"],[0.4,\"#fde0ef\"],[0.5,\"#f7f7f7\"],[0.6,\"#e6f5d0\"],[0.7,\"#b8e186\"],[0.8,\"#7fbc41\"],[0.9,\"#4d9221\"],[1,\"#276419\"]]},\"xaxis\":{\"gridcolor\":\"#283442\",\"linecolor\":\"#506784\",\"ticks\":\"\",\"title\":{\"standoff\":15},\"zerolinecolor\":\"#283442\",\"automargin\":true,\"zerolinewidth\":2},\"yaxis\":{\"gridcolor\":\"#283442\",\"linecolor\":\"#506784\",\"ticks\":\"\",\"title\":{\"standoff\":15},\"zerolinecolor\":\"#283442\",\"automargin\":true,\"zerolinewidth\":2},\"scene\":{\"xaxis\":{\"backgroundcolor\":\"rgb(17,17,17)\",\"gridcolor\":\"#506784\",\"linecolor\":\"#506784\",\"showbackground\":true,\"ticks\":\"\",\"zerolinecolor\":\"#C8D4E3\",\"gridwidth\":2},\"yaxis\":{\"backgroundcolor\":\"rgb(17,17,17)\",\"gridcolor\":\"#506784\",\"linecolor\":\"#506784\",\"showbackground\":true,\"ticks\":\"\",\"zerolinecolor\":\"#C8D4E3\",\"gridwidth\":2},\"zaxis\":{\"backgroundcolor\":\"rgb(17,17,17)\",\"gridcolor\":\"#506784\",\"linecolor\":\"#506784\",\"showbackground\":true,\"ticks\":\"\",\"zerolinecolor\":\"#C8D4E3\",\"gridwidth\":2}},\"shapedefaults\":{\"line\":{\"color\":\"#f2f5fa\"}},\"annotationdefaults\":{\"arrowcolor\":\"#f2f5fa\",\"arrowhead\":0,\"arrowwidth\":1},\"geo\":{\"bgcolor\":\"rgb(17,17,17)\",\"landcolor\":\"rgb(17,17,17)\",\"subunitcolor\":\"#506784\",\"showland\":true,\"showlakes\":true,\"lakecolor\":\"rgb(17,17,17)\"},\"title\":{\"x\":0.05},\"updatemenudefaults\":{\"bgcolor\":\"#506784\",\"borderwidth\":0},\"sliderdefaults\":{\"bgcolor\":\"#C8D4E3\",\"borderwidth\":1,\"bordercolor\":\"rgb(17,17,17)\",\"tickwidth\":0},\"mapbox\":{\"style\":\"dark\"}}},\"xaxis\":{\"anchor\":\"y\",\"domain\":[0.0,1.0],\"title\":{\"text\":\"len\"}},\"yaxis\":{\"anchor\":\"x\",\"domain\":[0.0,1.0],\"title\":{\"text\":\"count\"}},\"legend\":{\"tracegroupgap\":0},\"margin\":{\"t\":60},\"barmode\":\"relative\"},                        {\"responsive\": true}                    ).then(function(){\n",
       "                            \n",
       "var gd = document.getElementById('01fbba2e-1740-487c-88c4-3e05beb10b0d');\n",
       "var x = new MutationObserver(function (mutations, observer) {{\n",
       "        var display = window.getComputedStyle(gd).display;\n",
       "        if (!display || display === 'none') {{\n",
       "            console.log([gd, 'removed!']);\n",
       "            Plotly.purge(gd);\n",
       "            observer.disconnect();\n",
       "        }}\n",
       "}});\n",
       "\n",
       "// Listen for the removal of the full notebook cells\n",
       "var notebookContainer = gd.closest('#notebook-container');\n",
       "if (notebookContainer) {{\n",
       "    x.observe(notebookContainer, {childList: true});\n",
       "}}\n",
       "\n",
       "// Listen for the clearing of the current output cell\n",
       "var outputEl = gd.closest('.output');\n",
       "if (outputEl) {{\n",
       "    x.observe(outputEl, {childList: true});\n",
       "}}\n",
       "\n",
       "                        })                };                });            </script>        </div>"
      ]
     },
     "metadata": {},
     "output_type": "display_data"
    }
   ],
   "execution_count": 42
  }
 ],
 "metadata": {
  "kernelspec": {
   "display_name": "Python 3",
   "language": "python",
   "name": "python3"
  },
  "language_info": {
   "codemirror_mode": {
    "name": "ipython",
    "version": 2
   },
   "file_extension": ".py",
   "mimetype": "text/x-python",
   "name": "python",
   "nbconvert_exporter": "python",
   "pygments_lexer": "ipython2",
   "version": "2.7.6"
  }
 },
 "nbformat": 4,
 "nbformat_minor": 5
}
