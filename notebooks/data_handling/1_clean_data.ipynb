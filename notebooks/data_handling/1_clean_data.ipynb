{
 "cells": [
  {
   "metadata": {},
   "cell_type": "markdown",
   "source": "# Imports",
   "id": "f16a6279f13396a0"
  },
  {
   "cell_type": "code",
   "id": "initial_id",
   "metadata": {
    "collapsed": true,
    "ExecuteTime": {
     "end_time": "2025-01-25T12:45:25.496648Z",
     "start_time": "2025-01-25T12:45:25.493157Z"
    }
   },
   "source": [
    "import re\n",
    "\n",
    "import pandas as pd\n",
    "from git_root import git_root"
   ],
   "outputs": [],
   "execution_count": 15
  },
  {
   "metadata": {
    "ExecuteTime": {
     "end_time": "2025-01-25T12:45:25.541473Z",
     "start_time": "2025-01-25T12:45:25.537985Z"
    }
   },
   "cell_type": "code",
   "source": "my_git_root = git_root()",
   "id": "90d890338148465f",
   "outputs": [],
   "execution_count": 16
  },
  {
   "metadata": {
    "ExecuteTime": {
     "end_time": "2025-01-25T12:45:25.612907Z",
     "start_time": "2025-01-25T12:45:25.582561Z"
    }
   },
   "cell_type": "code",
   "source": [
    "df_chunked_path = f'{my_git_root}/data/documents.csv'\n",
    "df_chunked = pd.read_csv(df_chunked_path)"
   ],
   "id": "6c4fdafab1098eb9",
   "outputs": [],
   "execution_count": 17
  },
  {
   "metadata": {},
   "cell_type": "markdown",
   "source": "# Clean step by step",
   "id": "c09de7fd9148caf3"
  },
  {
   "metadata": {},
   "cell_type": "markdown",
   "source": "Remove URLs",
   "id": "e4bbd5faa609037e"
  },
  {
   "metadata": {
    "ExecuteTime": {
     "end_time": "2025-01-25T12:45:25.632551Z",
     "start_time": "2025-01-25T12:45:25.626418Z"
    }
   },
   "cell_type": "code",
   "source": [
    "def remove_urls(text):\n",
    "    return re.sub(r'https?:\\/\\/[^\\s]+', ' ', text)\n",
    "\n",
    "df_chunked['text'] = df_chunked['text'].apply(remove_urls)"
   ],
   "id": "380c133dac97af99",
   "outputs": [],
   "execution_count": 18
  },
  {
   "metadata": {},
   "cell_type": "markdown",
   "source": "Remove markdown images",
   "id": "f7d8aa47ca0d0b8d"
  },
  {
   "metadata": {
    "ExecuteTime": {
     "end_time": "2025-01-25T12:45:25.678537Z",
     "start_time": "2025-01-25T12:45:25.674320Z"
    }
   },
   "cell_type": "code",
   "source": [
    "def remove_images(text):\n",
    "    return re.sub(r'!\\[.*\\]\\(.*\\)', '', text)\n",
    "\n",
    "df_chunked['text'] = df_chunked['text'].apply(remove_images)"
   ],
   "id": "8cfa6a66a7bffaa7",
   "outputs": [],
   "execution_count": 19
  },
  {
   "metadata": {},
   "cell_type": "markdown",
   "source": "Remove lingering whitespaces",
   "id": "17513d6cc22e936b"
  },
  {
   "metadata": {
    "ExecuteTime": {
     "end_time": "2025-01-25T12:45:25.756516Z",
     "start_time": "2025-01-25T12:45:25.720527Z"
    }
   },
   "cell_type": "code",
   "source": [
    "def remove_whitespaces(text):\n",
    "    text = re.sub(r'^\\s+', '', text)\n",
    "    text = re.sub(r'\\s+$', '', text)\n",
    "    return text\n",
    "\n",
    "df_chunked['text'] = df_chunked['text'].apply(remove_whitespaces)"
   ],
   "id": "db65658c51a87a35",
   "outputs": [],
   "execution_count": 20
  },
  {
   "metadata": {
    "ExecuteTime": {
     "end_time": "2025-01-25T12:45:25.794774Z",
     "start_time": "2025-01-25T12:45:25.769140Z"
    }
   },
   "cell_type": "code",
   "source": "df_chunked.to_csv(f'{my_git_root}/data/documents_cleaned.csv', index=False)",
   "id": "8698205b015062e5",
   "outputs": [],
   "execution_count": 21
  }
 ],
 "metadata": {
  "kernelspec": {
   "display_name": "Python 3",
   "language": "python",
   "name": "python3"
  },
  "language_info": {
   "codemirror_mode": {
    "name": "ipython",
    "version": 2
   },
   "file_extension": ".py",
   "mimetype": "text/x-python",
   "name": "python",
   "nbconvert_exporter": "python",
   "pygments_lexer": "ipython2",
   "version": "2.7.6"
  }
 },
 "nbformat": 4,
 "nbformat_minor": 5
}
