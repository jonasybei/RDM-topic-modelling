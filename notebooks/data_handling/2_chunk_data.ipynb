{
 "cells": [
  {
   "metadata": {},
   "cell_type": "markdown",
   "source": "# Imports",
   "id": "764c5c7f2e1f2c20"
  },
  {
   "metadata": {
    "collapsed": true,
    "ExecuteTime": {
     "end_time": "2025-01-20T21:12:39.078841Z",
     "start_time": "2025-01-20T21:12:39.076463Z"
    }
   },
   "cell_type": "code",
   "source": [
    "# Importing libraries\n",
    "\n",
    "import re\n",
    "import sys\n",
    "import matplotlib.pyplot as plt\n",
    "\n",
    "import pandas as pd\n",
    "import plotly.express as px\n",
    "import yaml\n",
    "from git_root import git_root\n",
    "from transformers import AutoTokenizer"
   ],
   "id": "13f81067d9bf8f70",
   "outputs": [],
   "execution_count": 59
  },
  {
   "metadata": {
    "ExecuteTime": {
     "end_time": "2025-01-20T21:12:39.124381Z",
     "start_time": "2025-01-20T21:12:39.120898Z"
    }
   },
   "cell_type": "code",
   "source": [
    "# adding git_root and local imports\n",
    "my_git_root = git_root()\n",
    "sys.path.append(my_git_root)\n",
    "\n",
    "from src import flatten, contains_text, extract_table"
   ],
   "id": "79d8a8c9873ba010",
   "outputs": [],
   "execution_count": 60
  },
  {
   "metadata": {
    "ExecuteTime": {
     "end_time": "2025-01-20T21:12:39.194393Z",
     "start_time": "2025-01-20T21:12:39.164969Z"
    }
   },
   "cell_type": "code",
   "source": [
    "# importing data\n",
    "df_documents_path = f'{my_git_root}/data/documents_cleaned.csv'\n",
    "df_documents = pd.read_csv(df_documents_path)"
   ],
   "id": "c77f7240d0bd2e1d",
   "outputs": [],
   "execution_count": 61
  },
  {
   "metadata": {
    "ExecuteTime": {
     "end_time": "2025-01-20T21:12:39.216299Z",
     "start_time": "2025-01-20T21:12:39.212420Z"
    }
   },
   "cell_type": "code",
   "source": [
    "# importing settings\n",
    "with open(f'{my_git_root}/settings.yaml', 'r') as file:\n",
    "    settings = yaml.safe_load(file)\n",
    "\n",
    "print(settings)\n",
    "\n",
    "sentence_transformer_model_name = settings['sentence_transformer_model_name']\n",
    "sentence_transformer_max_tokens = settings['sentence_transformer_max_tokens']"
   ],
   "id": "3e32e1731c639d9c",
   "outputs": [
    {
     "name": "stdout",
     "output_type": "stream",
     "text": [
      "{'sentence_transformer_model_name': 'thenlper/gte-small', 'sentence_transformer_max_tokens': 512, 'llm_model_name': 'tiiuae/Falcon3-7B-Instruct'}\n"
     ]
    }
   ],
   "execution_count": 62
  },
  {
   "metadata": {
    "ExecuteTime": {
     "end_time": "2025-01-20T21:12:39.424479Z",
     "start_time": "2025-01-20T21:12:39.258329Z"
    }
   },
   "cell_type": "code",
   "source": [
    "# initializing tokenizer\n",
    "tokenizer = AutoTokenizer.from_pretrained(sentence_transformer_model_name)"
   ],
   "id": "b0050d479da5bf95",
   "outputs": [],
   "execution_count": 63
  },
  {
   "metadata": {},
   "cell_type": "markdown",
   "source": "# What does our current data look like?",
   "id": "1f6f06bdad0e7c9d"
  },
  {
   "metadata": {
    "ExecuteTime": {
     "end_time": "2025-01-20T21:12:39.987876Z",
     "start_time": "2025-01-20T21:12:39.439918Z"
    }
   },
   "cell_type": "code",
   "source": [
    "# Calculate the number of tokens for each document\n",
    "num_tokens = []\n",
    "\n",
    "for text in df_documents['text'].to_list():\n",
    "    tokens = tokenizer.tokenize(text)\n",
    "    num_tokens.append(len(tokens))\n",
    "df_documents['num_tokens'] = num_tokens"
   ],
   "id": "5e7ff3a2097b609c",
   "outputs": [],
   "execution_count": 64
  },
  {
   "metadata": {
    "ExecuteTime": {
     "end_time": "2025-01-20T21:12:40.005760Z",
     "start_time": "2025-01-20T21:12:39.998341Z"
    }
   },
   "cell_type": "code",
   "source": "df_documents",
   "id": "1654d971c8645892",
   "outputs": [
    {
     "data": {
      "text/plain": [
       "                            name  \\\n",
       "0            aalto-university.md   \n",
       "1      aberystwyth-university.md   \n",
       "2            aston-university.md   \n",
       "3           bangor-university.md   \n",
       "4    brunel-university-london.md   \n",
       "..                           ...   \n",
       "137       universität-rostock.md   \n",
       "138        universität-siegen.md   \n",
       "139     universität-stuttgart.md   \n",
       "140        utrecht-university.md   \n",
       "141        wrexham-university.md   \n",
       "\n",
       "                                                  text  num_tokens  \n",
       "0    # Aalto University Research Data Management Po...        1476  \n",
       "1    # Research Data Management Policy  \\n\\nVersion...        1003  \n",
       "2    # Research Data Management Policy  \\n\\nJuly 20...        3131  \n",
       "3    # Data Protection Policy  \\n\\n<html><body><tab...        6125  \n",
       "4    # runel University Research Data Management Po...        2244  \n",
       "..                                                 ...         ...  \n",
       "137  # Research Data Policy of the University of Ro...        1226  \n",
       "138  # Research-Data-Policy of the University of Si...         349  \n",
       "139  # Research data management policy of the Unive...         527  \n",
       "140  # University policy framework for research dat...        2225  \n",
       "141  # Research Data Management Policy 2024  \\n\\nAp...        3526  \n",
       "\n",
       "[142 rows x 3 columns]"
      ],
      "text/html": [
       "<div>\n",
       "<style scoped>\n",
       "    .dataframe tbody tr th:only-of-type {\n",
       "        vertical-align: middle;\n",
       "    }\n",
       "\n",
       "    .dataframe tbody tr th {\n",
       "        vertical-align: top;\n",
       "    }\n",
       "\n",
       "    .dataframe thead th {\n",
       "        text-align: right;\n",
       "    }\n",
       "</style>\n",
       "<table border=\"1\" class=\"dataframe\">\n",
       "  <thead>\n",
       "    <tr style=\"text-align: right;\">\n",
       "      <th></th>\n",
       "      <th>name</th>\n",
       "      <th>text</th>\n",
       "      <th>num_tokens</th>\n",
       "    </tr>\n",
       "  </thead>\n",
       "  <tbody>\n",
       "    <tr>\n",
       "      <th>0</th>\n",
       "      <td>aalto-university.md</td>\n",
       "      <td># Aalto University Research Data Management Po...</td>\n",
       "      <td>1476</td>\n",
       "    </tr>\n",
       "    <tr>\n",
       "      <th>1</th>\n",
       "      <td>aberystwyth-university.md</td>\n",
       "      <td># Research Data Management Policy  \\n\\nVersion...</td>\n",
       "      <td>1003</td>\n",
       "    </tr>\n",
       "    <tr>\n",
       "      <th>2</th>\n",
       "      <td>aston-university.md</td>\n",
       "      <td># Research Data Management Policy  \\n\\nJuly 20...</td>\n",
       "      <td>3131</td>\n",
       "    </tr>\n",
       "    <tr>\n",
       "      <th>3</th>\n",
       "      <td>bangor-university.md</td>\n",
       "      <td># Data Protection Policy  \\n\\n&lt;html&gt;&lt;body&gt;&lt;tab...</td>\n",
       "      <td>6125</td>\n",
       "    </tr>\n",
       "    <tr>\n",
       "      <th>4</th>\n",
       "      <td>brunel-university-london.md</td>\n",
       "      <td># runel University Research Data Management Po...</td>\n",
       "      <td>2244</td>\n",
       "    </tr>\n",
       "    <tr>\n",
       "      <th>...</th>\n",
       "      <td>...</td>\n",
       "      <td>...</td>\n",
       "      <td>...</td>\n",
       "    </tr>\n",
       "    <tr>\n",
       "      <th>137</th>\n",
       "      <td>universität-rostock.md</td>\n",
       "      <td># Research Data Policy of the University of Ro...</td>\n",
       "      <td>1226</td>\n",
       "    </tr>\n",
       "    <tr>\n",
       "      <th>138</th>\n",
       "      <td>universität-siegen.md</td>\n",
       "      <td># Research-Data-Policy of the University of Si...</td>\n",
       "      <td>349</td>\n",
       "    </tr>\n",
       "    <tr>\n",
       "      <th>139</th>\n",
       "      <td>universität-stuttgart.md</td>\n",
       "      <td># Research data management policy of the Unive...</td>\n",
       "      <td>527</td>\n",
       "    </tr>\n",
       "    <tr>\n",
       "      <th>140</th>\n",
       "      <td>utrecht-university.md</td>\n",
       "      <td># University policy framework for research dat...</td>\n",
       "      <td>2225</td>\n",
       "    </tr>\n",
       "    <tr>\n",
       "      <th>141</th>\n",
       "      <td>wrexham-university.md</td>\n",
       "      <td># Research Data Management Policy 2024  \\n\\nAp...</td>\n",
       "      <td>3526</td>\n",
       "    </tr>\n",
       "  </tbody>\n",
       "</table>\n",
       "<p>142 rows × 3 columns</p>\n",
       "</div>"
      ]
     },
     "execution_count": 65,
     "metadata": {},
     "output_type": "execute_result"
    }
   ],
   "execution_count": 65
  },
  {
   "metadata": {
    "ExecuteTime": {
     "end_time": "2025-01-20T21:12:40.088671Z",
     "start_time": "2025-01-20T21:12:40.057903Z"
    }
   },
   "cell_type": "code",
   "source": [
    "# histogram: number of tokens for each document\n",
    "px.histogram(df_documents, x='num_tokens', nbins=100)"
   ],
   "id": "6db16765e7c4b50c",
   "outputs": [
    {
     "data": {
      "application/vnd.plotly.v1+json": {
       "data": [
        {
         "alignmentgroup": "True",
         "bingroup": "x",
         "hovertemplate": "num_tokens=%{x}<br>count=%{y}<extra></extra>",
         "legendgroup": "",
         "marker": {
          "color": "#636efa",
          "pattern": {
           "shape": ""
          }
         },
         "name": "",
         "nbinsx": 100,
         "offsetgroup": "",
         "orientation": "v",
         "showlegend": false,
         "x": [
          1476,
          1003,
          3131,
          6125,
          2244,
          2808,
          1596,
          778,
          8872,
          1948,
          408,
          2104,
          2809,
          2782,
          3683,
          3339,
          708,
          2244,
          2984,
          560,
          3460,
          2436,
          3023,
          1797,
          530,
          872,
          1136,
          5449,
          3576,
          1135,
          603,
          2171,
          3120,
          5293,
          3810,
          3467,
          977,
          312,
          3300,
          1171,
          1158,
          1618,
          793,
          1057,
          2569,
          4267,
          861,
          2001,
          2144,
          4083,
          3513,
          2901,
          2391,
          1190,
          3849,
          1812,
          1623,
          2304,
          1522,
          2118,
          2575,
          2440,
          4068,
          3710,
          731,
          537,
          1520,
          1207,
          822,
          1557,
          4396,
          2139,
          1455,
          4476,
          2264,
          2252,
          525,
          688,
          1761,
          2169,
          3526,
          1940,
          2768,
          2440,
          6235,
          2102,
          1826,
          2883,
          2560,
          4286,
          2310,
          6409,
          2215,
          3320,
          3050,
          3923,
          189,
          2723,
          2643,
          5961,
          453,
          6857,
          2642,
          1809,
          1789,
          1565,
          6768,
          486,
          4426,
          3748,
          2300,
          3587,
          1251,
          3899,
          2043,
          1895,
          4941,
          1843,
          1201,
          3349,
          4291,
          5872,
          5872,
          697,
          2601,
          9195,
          2522,
          3494,
          1969,
          5437,
          3501,
          2485,
          1551,
          2620,
          1275,
          2105,
          1797,
          1226,
          349,
          527,
          2225,
          3526
         ],
         "xaxis": "x",
         "yaxis": "y",
         "type": "histogram"
        }
       ],
       "layout": {
        "template": {
         "data": {
          "histogram2dcontour": [
           {
            "type": "histogram2dcontour",
            "colorbar": {
             "outlinewidth": 0,
             "ticks": ""
            },
            "colorscale": [
             [
              0.0,
              "#0d0887"
             ],
             [
              0.1111111111111111,
              "#46039f"
             ],
             [
              0.2222222222222222,
              "#7201a8"
             ],
             [
              0.3333333333333333,
              "#9c179e"
             ],
             [
              0.4444444444444444,
              "#bd3786"
             ],
             [
              0.5555555555555556,
              "#d8576b"
             ],
             [
              0.6666666666666666,
              "#ed7953"
             ],
             [
              0.7777777777777778,
              "#fb9f3a"
             ],
             [
              0.8888888888888888,
              "#fdca26"
             ],
             [
              1.0,
              "#f0f921"
             ]
            ]
           }
          ],
          "choropleth": [
           {
            "type": "choropleth",
            "colorbar": {
             "outlinewidth": 0,
             "ticks": ""
            }
           }
          ],
          "histogram2d": [
           {
            "type": "histogram2d",
            "colorbar": {
             "outlinewidth": 0,
             "ticks": ""
            },
            "colorscale": [
             [
              0.0,
              "#0d0887"
             ],
             [
              0.1111111111111111,
              "#46039f"
             ],
             [
              0.2222222222222222,
              "#7201a8"
             ],
             [
              0.3333333333333333,
              "#9c179e"
             ],
             [
              0.4444444444444444,
              "#bd3786"
             ],
             [
              0.5555555555555556,
              "#d8576b"
             ],
             [
              0.6666666666666666,
              "#ed7953"
             ],
             [
              0.7777777777777778,
              "#fb9f3a"
             ],
             [
              0.8888888888888888,
              "#fdca26"
             ],
             [
              1.0,
              "#f0f921"
             ]
            ]
           }
          ],
          "heatmap": [
           {
            "type": "heatmap",
            "colorbar": {
             "outlinewidth": 0,
             "ticks": ""
            },
            "colorscale": [
             [
              0.0,
              "#0d0887"
             ],
             [
              0.1111111111111111,
              "#46039f"
             ],
             [
              0.2222222222222222,
              "#7201a8"
             ],
             [
              0.3333333333333333,
              "#9c179e"
             ],
             [
              0.4444444444444444,
              "#bd3786"
             ],
             [
              0.5555555555555556,
              "#d8576b"
             ],
             [
              0.6666666666666666,
              "#ed7953"
             ],
             [
              0.7777777777777778,
              "#fb9f3a"
             ],
             [
              0.8888888888888888,
              "#fdca26"
             ],
             [
              1.0,
              "#f0f921"
             ]
            ]
           }
          ],
          "heatmapgl": [
           {
            "type": "heatmapgl",
            "colorbar": {
             "outlinewidth": 0,
             "ticks": ""
            },
            "colorscale": [
             [
              0.0,
              "#0d0887"
             ],
             [
              0.1111111111111111,
              "#46039f"
             ],
             [
              0.2222222222222222,
              "#7201a8"
             ],
             [
              0.3333333333333333,
              "#9c179e"
             ],
             [
              0.4444444444444444,
              "#bd3786"
             ],
             [
              0.5555555555555556,
              "#d8576b"
             ],
             [
              0.6666666666666666,
              "#ed7953"
             ],
             [
              0.7777777777777778,
              "#fb9f3a"
             ],
             [
              0.8888888888888888,
              "#fdca26"
             ],
             [
              1.0,
              "#f0f921"
             ]
            ]
           }
          ],
          "contourcarpet": [
           {
            "type": "contourcarpet",
            "colorbar": {
             "outlinewidth": 0,
             "ticks": ""
            }
           }
          ],
          "contour": [
           {
            "type": "contour",
            "colorbar": {
             "outlinewidth": 0,
             "ticks": ""
            },
            "colorscale": [
             [
              0.0,
              "#0d0887"
             ],
             [
              0.1111111111111111,
              "#46039f"
             ],
             [
              0.2222222222222222,
              "#7201a8"
             ],
             [
              0.3333333333333333,
              "#9c179e"
             ],
             [
              0.4444444444444444,
              "#bd3786"
             ],
             [
              0.5555555555555556,
              "#d8576b"
             ],
             [
              0.6666666666666666,
              "#ed7953"
             ],
             [
              0.7777777777777778,
              "#fb9f3a"
             ],
             [
              0.8888888888888888,
              "#fdca26"
             ],
             [
              1.0,
              "#f0f921"
             ]
            ]
           }
          ],
          "surface": [
           {
            "type": "surface",
            "colorbar": {
             "outlinewidth": 0,
             "ticks": ""
            },
            "colorscale": [
             [
              0.0,
              "#0d0887"
             ],
             [
              0.1111111111111111,
              "#46039f"
             ],
             [
              0.2222222222222222,
              "#7201a8"
             ],
             [
              0.3333333333333333,
              "#9c179e"
             ],
             [
              0.4444444444444444,
              "#bd3786"
             ],
             [
              0.5555555555555556,
              "#d8576b"
             ],
             [
              0.6666666666666666,
              "#ed7953"
             ],
             [
              0.7777777777777778,
              "#fb9f3a"
             ],
             [
              0.8888888888888888,
              "#fdca26"
             ],
             [
              1.0,
              "#f0f921"
             ]
            ]
           }
          ],
          "mesh3d": [
           {
            "type": "mesh3d",
            "colorbar": {
             "outlinewidth": 0,
             "ticks": ""
            }
           }
          ],
          "scatter": [
           {
            "marker": {
             "line": {
              "color": "#283442"
             }
            },
            "type": "scatter"
           }
          ],
          "parcoords": [
           {
            "type": "parcoords",
            "line": {
             "colorbar": {
              "outlinewidth": 0,
              "ticks": ""
             }
            }
           }
          ],
          "scatterpolargl": [
           {
            "type": "scatterpolargl",
            "marker": {
             "colorbar": {
              "outlinewidth": 0,
              "ticks": ""
             }
            }
           }
          ],
          "bar": [
           {
            "error_x": {
             "color": "#f2f5fa"
            },
            "error_y": {
             "color": "#f2f5fa"
            },
            "marker": {
             "line": {
              "color": "rgb(17,17,17)",
              "width": 0.5
             },
             "pattern": {
              "fillmode": "overlay",
              "size": 10,
              "solidity": 0.2
             }
            },
            "type": "bar"
           }
          ],
          "scattergeo": [
           {
            "type": "scattergeo",
            "marker": {
             "colorbar": {
              "outlinewidth": 0,
              "ticks": ""
             }
            }
           }
          ],
          "scatterpolar": [
           {
            "type": "scatterpolar",
            "marker": {
             "colorbar": {
              "outlinewidth": 0,
              "ticks": ""
             }
            }
           }
          ],
          "histogram": [
           {
            "marker": {
             "pattern": {
              "fillmode": "overlay",
              "size": 10,
              "solidity": 0.2
             }
            },
            "type": "histogram"
           }
          ],
          "scattergl": [
           {
            "marker": {
             "line": {
              "color": "#283442"
             }
            },
            "type": "scattergl"
           }
          ],
          "scatter3d": [
           {
            "type": "scatter3d",
            "line": {
             "colorbar": {
              "outlinewidth": 0,
              "ticks": ""
             }
            },
            "marker": {
             "colorbar": {
              "outlinewidth": 0,
              "ticks": ""
             }
            }
           }
          ],
          "scattermapbox": [
           {
            "type": "scattermapbox",
            "marker": {
             "colorbar": {
              "outlinewidth": 0,
              "ticks": ""
             }
            }
           }
          ],
          "scatterternary": [
           {
            "type": "scatterternary",
            "marker": {
             "colorbar": {
              "outlinewidth": 0,
              "ticks": ""
             }
            }
           }
          ],
          "scattercarpet": [
           {
            "type": "scattercarpet",
            "marker": {
             "colorbar": {
              "outlinewidth": 0,
              "ticks": ""
             }
            }
           }
          ],
          "carpet": [
           {
            "aaxis": {
             "endlinecolor": "#A2B1C6",
             "gridcolor": "#506784",
             "linecolor": "#506784",
             "minorgridcolor": "#506784",
             "startlinecolor": "#A2B1C6"
            },
            "baxis": {
             "endlinecolor": "#A2B1C6",
             "gridcolor": "#506784",
             "linecolor": "#506784",
             "minorgridcolor": "#506784",
             "startlinecolor": "#A2B1C6"
            },
            "type": "carpet"
           }
          ],
          "table": [
           {
            "cells": {
             "fill": {
              "color": "#506784"
             },
             "line": {
              "color": "rgb(17,17,17)"
             }
            },
            "header": {
             "fill": {
              "color": "#2a3f5f"
             },
             "line": {
              "color": "rgb(17,17,17)"
             }
            },
            "type": "table"
           }
          ],
          "barpolar": [
           {
            "marker": {
             "line": {
              "color": "rgb(17,17,17)",
              "width": 0.5
             },
             "pattern": {
              "fillmode": "overlay",
              "size": 10,
              "solidity": 0.2
             }
            },
            "type": "barpolar"
           }
          ],
          "pie": [
           {
            "automargin": true,
            "type": "pie"
           }
          ]
         },
         "layout": {
          "autotypenumbers": "strict",
          "colorway": [
           "#636efa",
           "#EF553B",
           "#00cc96",
           "#ab63fa",
           "#FFA15A",
           "#19d3f3",
           "#FF6692",
           "#B6E880",
           "#FF97FF",
           "#FECB52"
          ],
          "font": {
           "color": "#f2f5fa"
          },
          "hovermode": "closest",
          "hoverlabel": {
           "align": "left"
          },
          "paper_bgcolor": "rgb(17,17,17)",
          "plot_bgcolor": "rgb(17,17,17)",
          "polar": {
           "bgcolor": "rgb(17,17,17)",
           "angularaxis": {
            "gridcolor": "#506784",
            "linecolor": "#506784",
            "ticks": ""
           },
           "radialaxis": {
            "gridcolor": "#506784",
            "linecolor": "#506784",
            "ticks": ""
           }
          },
          "ternary": {
           "bgcolor": "rgb(17,17,17)",
           "aaxis": {
            "gridcolor": "#506784",
            "linecolor": "#506784",
            "ticks": ""
           },
           "baxis": {
            "gridcolor": "#506784",
            "linecolor": "#506784",
            "ticks": ""
           },
           "caxis": {
            "gridcolor": "#506784",
            "linecolor": "#506784",
            "ticks": ""
           }
          },
          "coloraxis": {
           "colorbar": {
            "outlinewidth": 0,
            "ticks": ""
           }
          },
          "colorscale": {
           "sequential": [
            [
             0.0,
             "#0d0887"
            ],
            [
             0.1111111111111111,
             "#46039f"
            ],
            [
             0.2222222222222222,
             "#7201a8"
            ],
            [
             0.3333333333333333,
             "#9c179e"
            ],
            [
             0.4444444444444444,
             "#bd3786"
            ],
            [
             0.5555555555555556,
             "#d8576b"
            ],
            [
             0.6666666666666666,
             "#ed7953"
            ],
            [
             0.7777777777777778,
             "#fb9f3a"
            ],
            [
             0.8888888888888888,
             "#fdca26"
            ],
            [
             1.0,
             "#f0f921"
            ]
           ],
           "sequentialminus": [
            [
             0.0,
             "#0d0887"
            ],
            [
             0.1111111111111111,
             "#46039f"
            ],
            [
             0.2222222222222222,
             "#7201a8"
            ],
            [
             0.3333333333333333,
             "#9c179e"
            ],
            [
             0.4444444444444444,
             "#bd3786"
            ],
            [
             0.5555555555555556,
             "#d8576b"
            ],
            [
             0.6666666666666666,
             "#ed7953"
            ],
            [
             0.7777777777777778,
             "#fb9f3a"
            ],
            [
             0.8888888888888888,
             "#fdca26"
            ],
            [
             1.0,
             "#f0f921"
            ]
           ],
           "diverging": [
            [
             0,
             "#8e0152"
            ],
            [
             0.1,
             "#c51b7d"
            ],
            [
             0.2,
             "#de77ae"
            ],
            [
             0.3,
             "#f1b6da"
            ],
            [
             0.4,
             "#fde0ef"
            ],
            [
             0.5,
             "#f7f7f7"
            ],
            [
             0.6,
             "#e6f5d0"
            ],
            [
             0.7,
             "#b8e186"
            ],
            [
             0.8,
             "#7fbc41"
            ],
            [
             0.9,
             "#4d9221"
            ],
            [
             1,
             "#276419"
            ]
           ]
          },
          "xaxis": {
           "gridcolor": "#283442",
           "linecolor": "#506784",
           "ticks": "",
           "title": {
            "standoff": 15
           },
           "zerolinecolor": "#283442",
           "automargin": true,
           "zerolinewidth": 2
          },
          "yaxis": {
           "gridcolor": "#283442",
           "linecolor": "#506784",
           "ticks": "",
           "title": {
            "standoff": 15
           },
           "zerolinecolor": "#283442",
           "automargin": true,
           "zerolinewidth": 2
          },
          "scene": {
           "xaxis": {
            "backgroundcolor": "rgb(17,17,17)",
            "gridcolor": "#506784",
            "linecolor": "#506784",
            "showbackground": true,
            "ticks": "",
            "zerolinecolor": "#C8D4E3",
            "gridwidth": 2
           },
           "yaxis": {
            "backgroundcolor": "rgb(17,17,17)",
            "gridcolor": "#506784",
            "linecolor": "#506784",
            "showbackground": true,
            "ticks": "",
            "zerolinecolor": "#C8D4E3",
            "gridwidth": 2
           },
           "zaxis": {
            "backgroundcolor": "rgb(17,17,17)",
            "gridcolor": "#506784",
            "linecolor": "#506784",
            "showbackground": true,
            "ticks": "",
            "zerolinecolor": "#C8D4E3",
            "gridwidth": 2
           }
          },
          "shapedefaults": {
           "line": {
            "color": "#f2f5fa"
           }
          },
          "annotationdefaults": {
           "arrowcolor": "#f2f5fa",
           "arrowhead": 0,
           "arrowwidth": 1
          },
          "geo": {
           "bgcolor": "rgb(17,17,17)",
           "landcolor": "rgb(17,17,17)",
           "subunitcolor": "#506784",
           "showland": true,
           "showlakes": true,
           "lakecolor": "rgb(17,17,17)"
          },
          "title": {
           "x": 0.05
          },
          "updatemenudefaults": {
           "bgcolor": "#506784",
           "borderwidth": 0
          },
          "sliderdefaults": {
           "bgcolor": "#C8D4E3",
           "borderwidth": 1,
           "bordercolor": "rgb(17,17,17)",
           "tickwidth": 0
          },
          "mapbox": {
           "style": "dark"
          }
         }
        },
        "xaxis": {
         "anchor": "y",
         "domain": [
          0.0,
          1.0
         ],
         "title": {
          "text": "num_tokens"
         }
        },
        "yaxis": {
         "anchor": "x",
         "domain": [
          0.0,
          1.0
         ],
         "title": {
          "text": "count"
         }
        },
        "legend": {
         "tracegroupgap": 0
        },
        "margin": {
         "t": 60
        },
        "barmode": "relative"
       },
       "config": {
        "plotlyServerURL": "https://plot.ly"
       }
      },
      "text/html": [
       "<div>                            <div id=\"ae3177da-48a2-4aa2-847f-7888c6e65fc6\" class=\"plotly-graph-div\" style=\"height:525px; width:100%;\"></div>            <script type=\"text/javascript\">                require([\"plotly\"], function(Plotly) {                    window.PLOTLYENV=window.PLOTLYENV || {};                                    if (document.getElementById(\"ae3177da-48a2-4aa2-847f-7888c6e65fc6\")) {                    Plotly.newPlot(                        \"ae3177da-48a2-4aa2-847f-7888c6e65fc6\",                        [{\"alignmentgroup\":\"True\",\"bingroup\":\"x\",\"hovertemplate\":\"num_tokens=%{x}\\u003cbr\\u003ecount=%{y}\\u003cextra\\u003e\\u003c\\u002fextra\\u003e\",\"legendgroup\":\"\",\"marker\":{\"color\":\"#636efa\",\"pattern\":{\"shape\":\"\"}},\"name\":\"\",\"nbinsx\":100,\"offsetgroup\":\"\",\"orientation\":\"v\",\"showlegend\":false,\"x\":[1476,1003,3131,6125,2244,2808,1596,778,8872,1948,408,2104,2809,2782,3683,3339,708,2244,2984,560,3460,2436,3023,1797,530,872,1136,5449,3576,1135,603,2171,3120,5293,3810,3467,977,312,3300,1171,1158,1618,793,1057,2569,4267,861,2001,2144,4083,3513,2901,2391,1190,3849,1812,1623,2304,1522,2118,2575,2440,4068,3710,731,537,1520,1207,822,1557,4396,2139,1455,4476,2264,2252,525,688,1761,2169,3526,1940,2768,2440,6235,2102,1826,2883,2560,4286,2310,6409,2215,3320,3050,3923,189,2723,2643,5961,453,6857,2642,1809,1789,1565,6768,486,4426,3748,2300,3587,1251,3899,2043,1895,4941,1843,1201,3349,4291,5872,5872,697,2601,9195,2522,3494,1969,5437,3501,2485,1551,2620,1275,2105,1797,1226,349,527,2225,3526],\"xaxis\":\"x\",\"yaxis\":\"y\",\"type\":\"histogram\"}],                        {\"template\":{\"data\":{\"histogram2dcontour\":[{\"type\":\"histogram2dcontour\",\"colorbar\":{\"outlinewidth\":0,\"ticks\":\"\"},\"colorscale\":[[0.0,\"#0d0887\"],[0.1111111111111111,\"#46039f\"],[0.2222222222222222,\"#7201a8\"],[0.3333333333333333,\"#9c179e\"],[0.4444444444444444,\"#bd3786\"],[0.5555555555555556,\"#d8576b\"],[0.6666666666666666,\"#ed7953\"],[0.7777777777777778,\"#fb9f3a\"],[0.8888888888888888,\"#fdca26\"],[1.0,\"#f0f921\"]]}],\"choropleth\":[{\"type\":\"choropleth\",\"colorbar\":{\"outlinewidth\":0,\"ticks\":\"\"}}],\"histogram2d\":[{\"type\":\"histogram2d\",\"colorbar\":{\"outlinewidth\":0,\"ticks\":\"\"},\"colorscale\":[[0.0,\"#0d0887\"],[0.1111111111111111,\"#46039f\"],[0.2222222222222222,\"#7201a8\"],[0.3333333333333333,\"#9c179e\"],[0.4444444444444444,\"#bd3786\"],[0.5555555555555556,\"#d8576b\"],[0.6666666666666666,\"#ed7953\"],[0.7777777777777778,\"#fb9f3a\"],[0.8888888888888888,\"#fdca26\"],[1.0,\"#f0f921\"]]}],\"heatmap\":[{\"type\":\"heatmap\",\"colorbar\":{\"outlinewidth\":0,\"ticks\":\"\"},\"colorscale\":[[0.0,\"#0d0887\"],[0.1111111111111111,\"#46039f\"],[0.2222222222222222,\"#7201a8\"],[0.3333333333333333,\"#9c179e\"],[0.4444444444444444,\"#bd3786\"],[0.5555555555555556,\"#d8576b\"],[0.6666666666666666,\"#ed7953\"],[0.7777777777777778,\"#fb9f3a\"],[0.8888888888888888,\"#fdca26\"],[1.0,\"#f0f921\"]]}],\"heatmapgl\":[{\"type\":\"heatmapgl\",\"colorbar\":{\"outlinewidth\":0,\"ticks\":\"\"},\"colorscale\":[[0.0,\"#0d0887\"],[0.1111111111111111,\"#46039f\"],[0.2222222222222222,\"#7201a8\"],[0.3333333333333333,\"#9c179e\"],[0.4444444444444444,\"#bd3786\"],[0.5555555555555556,\"#d8576b\"],[0.6666666666666666,\"#ed7953\"],[0.7777777777777778,\"#fb9f3a\"],[0.8888888888888888,\"#fdca26\"],[1.0,\"#f0f921\"]]}],\"contourcarpet\":[{\"type\":\"contourcarpet\",\"colorbar\":{\"outlinewidth\":0,\"ticks\":\"\"}}],\"contour\":[{\"type\":\"contour\",\"colorbar\":{\"outlinewidth\":0,\"ticks\":\"\"},\"colorscale\":[[0.0,\"#0d0887\"],[0.1111111111111111,\"#46039f\"],[0.2222222222222222,\"#7201a8\"],[0.3333333333333333,\"#9c179e\"],[0.4444444444444444,\"#bd3786\"],[0.5555555555555556,\"#d8576b\"],[0.6666666666666666,\"#ed7953\"],[0.7777777777777778,\"#fb9f3a\"],[0.8888888888888888,\"#fdca26\"],[1.0,\"#f0f921\"]]}],\"surface\":[{\"type\":\"surface\",\"colorbar\":{\"outlinewidth\":0,\"ticks\":\"\"},\"colorscale\":[[0.0,\"#0d0887\"],[0.1111111111111111,\"#46039f\"],[0.2222222222222222,\"#7201a8\"],[0.3333333333333333,\"#9c179e\"],[0.4444444444444444,\"#bd3786\"],[0.5555555555555556,\"#d8576b\"],[0.6666666666666666,\"#ed7953\"],[0.7777777777777778,\"#fb9f3a\"],[0.8888888888888888,\"#fdca26\"],[1.0,\"#f0f921\"]]}],\"mesh3d\":[{\"type\":\"mesh3d\",\"colorbar\":{\"outlinewidth\":0,\"ticks\":\"\"}}],\"scatter\":[{\"marker\":{\"line\":{\"color\":\"#283442\"}},\"type\":\"scatter\"}],\"parcoords\":[{\"type\":\"parcoords\",\"line\":{\"colorbar\":{\"outlinewidth\":0,\"ticks\":\"\"}}}],\"scatterpolargl\":[{\"type\":\"scatterpolargl\",\"marker\":{\"colorbar\":{\"outlinewidth\":0,\"ticks\":\"\"}}}],\"bar\":[{\"error_x\":{\"color\":\"#f2f5fa\"},\"error_y\":{\"color\":\"#f2f5fa\"},\"marker\":{\"line\":{\"color\":\"rgb(17,17,17)\",\"width\":0.5},\"pattern\":{\"fillmode\":\"overlay\",\"size\":10,\"solidity\":0.2}},\"type\":\"bar\"}],\"scattergeo\":[{\"type\":\"scattergeo\",\"marker\":{\"colorbar\":{\"outlinewidth\":0,\"ticks\":\"\"}}}],\"scatterpolar\":[{\"type\":\"scatterpolar\",\"marker\":{\"colorbar\":{\"outlinewidth\":0,\"ticks\":\"\"}}}],\"histogram\":[{\"marker\":{\"pattern\":{\"fillmode\":\"overlay\",\"size\":10,\"solidity\":0.2}},\"type\":\"histogram\"}],\"scattergl\":[{\"marker\":{\"line\":{\"color\":\"#283442\"}},\"type\":\"scattergl\"}],\"scatter3d\":[{\"type\":\"scatter3d\",\"line\":{\"colorbar\":{\"outlinewidth\":0,\"ticks\":\"\"}},\"marker\":{\"colorbar\":{\"outlinewidth\":0,\"ticks\":\"\"}}}],\"scattermapbox\":[{\"type\":\"scattermapbox\",\"marker\":{\"colorbar\":{\"outlinewidth\":0,\"ticks\":\"\"}}}],\"scatterternary\":[{\"type\":\"scatterternary\",\"marker\":{\"colorbar\":{\"outlinewidth\":0,\"ticks\":\"\"}}}],\"scattercarpet\":[{\"type\":\"scattercarpet\",\"marker\":{\"colorbar\":{\"outlinewidth\":0,\"ticks\":\"\"}}}],\"carpet\":[{\"aaxis\":{\"endlinecolor\":\"#A2B1C6\",\"gridcolor\":\"#506784\",\"linecolor\":\"#506784\",\"minorgridcolor\":\"#506784\",\"startlinecolor\":\"#A2B1C6\"},\"baxis\":{\"endlinecolor\":\"#A2B1C6\",\"gridcolor\":\"#506784\",\"linecolor\":\"#506784\",\"minorgridcolor\":\"#506784\",\"startlinecolor\":\"#A2B1C6\"},\"type\":\"carpet\"}],\"table\":[{\"cells\":{\"fill\":{\"color\":\"#506784\"},\"line\":{\"color\":\"rgb(17,17,17)\"}},\"header\":{\"fill\":{\"color\":\"#2a3f5f\"},\"line\":{\"color\":\"rgb(17,17,17)\"}},\"type\":\"table\"}],\"barpolar\":[{\"marker\":{\"line\":{\"color\":\"rgb(17,17,17)\",\"width\":0.5},\"pattern\":{\"fillmode\":\"overlay\",\"size\":10,\"solidity\":0.2}},\"type\":\"barpolar\"}],\"pie\":[{\"automargin\":true,\"type\":\"pie\"}]},\"layout\":{\"autotypenumbers\":\"strict\",\"colorway\":[\"#636efa\",\"#EF553B\",\"#00cc96\",\"#ab63fa\",\"#FFA15A\",\"#19d3f3\",\"#FF6692\",\"#B6E880\",\"#FF97FF\",\"#FECB52\"],\"font\":{\"color\":\"#f2f5fa\"},\"hovermode\":\"closest\",\"hoverlabel\":{\"align\":\"left\"},\"paper_bgcolor\":\"rgb(17,17,17)\",\"plot_bgcolor\":\"rgb(17,17,17)\",\"polar\":{\"bgcolor\":\"rgb(17,17,17)\",\"angularaxis\":{\"gridcolor\":\"#506784\",\"linecolor\":\"#506784\",\"ticks\":\"\"},\"radialaxis\":{\"gridcolor\":\"#506784\",\"linecolor\":\"#506784\",\"ticks\":\"\"}},\"ternary\":{\"bgcolor\":\"rgb(17,17,17)\",\"aaxis\":{\"gridcolor\":\"#506784\",\"linecolor\":\"#506784\",\"ticks\":\"\"},\"baxis\":{\"gridcolor\":\"#506784\",\"linecolor\":\"#506784\",\"ticks\":\"\"},\"caxis\":{\"gridcolor\":\"#506784\",\"linecolor\":\"#506784\",\"ticks\":\"\"}},\"coloraxis\":{\"colorbar\":{\"outlinewidth\":0,\"ticks\":\"\"}},\"colorscale\":{\"sequential\":[[0.0,\"#0d0887\"],[0.1111111111111111,\"#46039f\"],[0.2222222222222222,\"#7201a8\"],[0.3333333333333333,\"#9c179e\"],[0.4444444444444444,\"#bd3786\"],[0.5555555555555556,\"#d8576b\"],[0.6666666666666666,\"#ed7953\"],[0.7777777777777778,\"#fb9f3a\"],[0.8888888888888888,\"#fdca26\"],[1.0,\"#f0f921\"]],\"sequentialminus\":[[0.0,\"#0d0887\"],[0.1111111111111111,\"#46039f\"],[0.2222222222222222,\"#7201a8\"],[0.3333333333333333,\"#9c179e\"],[0.4444444444444444,\"#bd3786\"],[0.5555555555555556,\"#d8576b\"],[0.6666666666666666,\"#ed7953\"],[0.7777777777777778,\"#fb9f3a\"],[0.8888888888888888,\"#fdca26\"],[1.0,\"#f0f921\"]],\"diverging\":[[0,\"#8e0152\"],[0.1,\"#c51b7d\"],[0.2,\"#de77ae\"],[0.3,\"#f1b6da\"],[0.4,\"#fde0ef\"],[0.5,\"#f7f7f7\"],[0.6,\"#e6f5d0\"],[0.7,\"#b8e186\"],[0.8,\"#7fbc41\"],[0.9,\"#4d9221\"],[1,\"#276419\"]]},\"xaxis\":{\"gridcolor\":\"#283442\",\"linecolor\":\"#506784\",\"ticks\":\"\",\"title\":{\"standoff\":15},\"zerolinecolor\":\"#283442\",\"automargin\":true,\"zerolinewidth\":2},\"yaxis\":{\"gridcolor\":\"#283442\",\"linecolor\":\"#506784\",\"ticks\":\"\",\"title\":{\"standoff\":15},\"zerolinecolor\":\"#283442\",\"automargin\":true,\"zerolinewidth\":2},\"scene\":{\"xaxis\":{\"backgroundcolor\":\"rgb(17,17,17)\",\"gridcolor\":\"#506784\",\"linecolor\":\"#506784\",\"showbackground\":true,\"ticks\":\"\",\"zerolinecolor\":\"#C8D4E3\",\"gridwidth\":2},\"yaxis\":{\"backgroundcolor\":\"rgb(17,17,17)\",\"gridcolor\":\"#506784\",\"linecolor\":\"#506784\",\"showbackground\":true,\"ticks\":\"\",\"zerolinecolor\":\"#C8D4E3\",\"gridwidth\":2},\"zaxis\":{\"backgroundcolor\":\"rgb(17,17,17)\",\"gridcolor\":\"#506784\",\"linecolor\":\"#506784\",\"showbackground\":true,\"ticks\":\"\",\"zerolinecolor\":\"#C8D4E3\",\"gridwidth\":2}},\"shapedefaults\":{\"line\":{\"color\":\"#f2f5fa\"}},\"annotationdefaults\":{\"arrowcolor\":\"#f2f5fa\",\"arrowhead\":0,\"arrowwidth\":1},\"geo\":{\"bgcolor\":\"rgb(17,17,17)\",\"landcolor\":\"rgb(17,17,17)\",\"subunitcolor\":\"#506784\",\"showland\":true,\"showlakes\":true,\"lakecolor\":\"rgb(17,17,17)\"},\"title\":{\"x\":0.05},\"updatemenudefaults\":{\"bgcolor\":\"#506784\",\"borderwidth\":0},\"sliderdefaults\":{\"bgcolor\":\"#C8D4E3\",\"borderwidth\":1,\"bordercolor\":\"rgb(17,17,17)\",\"tickwidth\":0},\"mapbox\":{\"style\":\"dark\"}}},\"xaxis\":{\"anchor\":\"y\",\"domain\":[0.0,1.0],\"title\":{\"text\":\"num_tokens\"}},\"yaxis\":{\"anchor\":\"x\",\"domain\":[0.0,1.0],\"title\":{\"text\":\"count\"}},\"legend\":{\"tracegroupgap\":0},\"margin\":{\"t\":60},\"barmode\":\"relative\"},                        {\"responsive\": true}                    ).then(function(){\n",
       "                            \n",
       "var gd = document.getElementById('ae3177da-48a2-4aa2-847f-7888c6e65fc6');\n",
       "var x = new MutationObserver(function (mutations, observer) {{\n",
       "        var display = window.getComputedStyle(gd).display;\n",
       "        if (!display || display === 'none') {{\n",
       "            console.log([gd, 'removed!']);\n",
       "            Plotly.purge(gd);\n",
       "            observer.disconnect();\n",
       "        }}\n",
       "}});\n",
       "\n",
       "// Listen for the removal of the full notebook cells\n",
       "var notebookContainer = gd.closest('#notebook-container');\n",
       "if (notebookContainer) {{\n",
       "    x.observe(notebookContainer, {childList: true});\n",
       "}}\n",
       "\n",
       "// Listen for the clearing of the current output cell\n",
       "var outputEl = gd.closest('.output');\n",
       "if (outputEl) {{\n",
       "    x.observe(outputEl, {childList: true});\n",
       "}}\n",
       "\n",
       "                        })                };                });            </script>        </div>"
      ]
     },
     "metadata": {},
     "output_type": "display_data"
    }
   ],
   "execution_count": 66
  },
  {
   "metadata": {
    "ExecuteTime": {
     "end_time": "2025-01-20T21:12:40.192705Z",
     "start_time": "2025-01-20T21:12:40.119767Z"
    }
   },
   "cell_type": "code",
   "source": [
    "_ = plt.boxplot(df_documents['num_tokens'], showfliers=True)\n",
    "plt.savefig(f'{my_git_root}/notebooks/images/boxplot_original_tokens.svg')"
   ],
   "id": "660fcfbb9a4aa239",
   "outputs": [
    {
     "data": {
      "text/plain": [
       "<Figure size 640x480 with 1 Axes>"
      ],
      "image/png": "[encoded data removed]"
     },
     "metadata": {},
     "output_type": "display_data"
    }
   ],
   "execution_count": 67
  },
  {
   "metadata": {},
   "cell_type": "markdown",
   "source": "# Chunking documents",
   "id": "af47f9c4019a0ffa"
  },
  {
   "metadata": {},
   "cell_type": "markdown",
   "source": "## Step 1: Split Documents based on the detected headings",
   "id": "4e8e81457c7d32b4"
  },
  {
   "metadata": {
    "ExecuteTime": {
     "end_time": "2025-01-20T21:12:40.289774Z",
     "start_time": "2025-01-20T21:12:40.240327Z"
    }
   },
   "cell_type": "code",
   "source": [
    "# Split the documents whenever one or more headings symbols # are detected\n",
    "# Store the number of splits per document\n",
    "names = []\n",
    "documents_split = []\n",
    "\n",
    "for index, row in df_documents.iterrows():\n",
    "    document_split = re.split(r'\\s*#+\\s*', row['text'])\n",
    "    names.append([row['name']] * len(document_split))\n",
    "    documents_split.append(document_split)\n",
    "\n",
    "# Flatten the lists from 2-dimensional to 1-dimensional\n",
    "names = flatten(names)\n",
    "documents_split = flatten(documents_split)"
   ],
   "id": "7cd3be1bef3c0bb4",
   "outputs": [],
   "execution_count": 68
  },
  {
   "metadata": {
    "ExecuteTime": {
     "end_time": "2025-01-20T21:12:40.958353Z",
     "start_time": "2025-01-20T21:12:40.328346Z"
    }
   },
   "cell_type": "code",
   "source": [
    "# Calculate the number of tokens after splitting\n",
    "num_tokens = []\n",
    "for text in documents_split:\n",
    "    tokens = tokenizer.tokenize(text)\n",
    "    num_tokens.append(len(tokens))"
   ],
   "id": "e8be9523666dc1",
   "outputs": [],
   "execution_count": 69
  },
  {
   "metadata": {
    "ExecuteTime": {
     "end_time": "2025-01-20T21:12:40.970370Z",
     "start_time": "2025-01-20T21:12:40.968203Z"
    }
   },
   "cell_type": "code",
   "source": [
    "# Create dataframe\n",
    "df_documents_split = pd.DataFrame(data={\n",
    "    'name': names,\n",
    "    'text': documents_split,\n",
    "    'num_tokens': num_tokens\n",
    "})"
   ],
   "id": "39aa8128f48e9823",
   "outputs": [],
   "execution_count": 70
  },
  {
   "metadata": {
    "ExecuteTime": {
     "end_time": "2025-01-20T21:12:41.025178Z",
     "start_time": "2025-01-20T21:12:41.020524Z"
    }
   },
   "cell_type": "code",
   "source": [
    "# Remove chunks without letters\n",
    "mask = df_documents_split['text'].apply(contains_text)\n",
    "df_documents_split = df_documents_split[mask].reset_index(drop=True)"
   ],
   "id": "4ca569c6d7ef8ef",
   "outputs": [],
   "execution_count": 71
  },
  {
   "metadata": {
    "ExecuteTime": {
     "end_time": "2025-01-20T21:12:41.106900Z",
     "start_time": "2025-01-20T21:12:41.098639Z"
    }
   },
   "cell_type": "code",
   "source": [
    "# What does our dataset look like now?\n",
    "df_documents_split.sort_values(by=['num_tokens'], ascending=False)"
   ],
   "id": "e6b8368ccb6b863b",
   "outputs": [
    {
     "data": {
      "text/plain": [
       "                                      name  \\\n",
       "1644          university-of-strathclyde.md   \n",
       "769            robert-gordon-university.md   \n",
       "1131  university-medical-center-utrecht.md   \n",
       "153              de-montfort-university.md   \n",
       "1646          university-of-strathclyde.md   \n",
       "...                                    ...   \n",
       "1557              university-of-potsdam.md   \n",
       "1453                 university-of-hull.md   \n",
       "1370             university-of-helsinki.md   \n",
       "830          technical-university-delft.md   \n",
       "888         technical-university-vienna.md   \n",
       "\n",
       "                                                   text  num_tokens  \n",
       "1644  4. Operational requirements  \\n\\nThe following...        3167  \n",
       "769   RESEARCHDATAMANAGEMENT  \\n\\n1. Purpose and Con...        2402  \n",
       "1131  3.7.2. Trusted Third Party (TTP)  \\n\\nFor link...        2069  \n",
       "153   SCOPE  \\n\\n3. This policy applies to all DMU s...        1945  \n",
       "1646  Appendix A – Glossary of Terms  \\n\\n<html><bod...        1912  \n",
       "...                                                 ...         ...  \n",
       "1557                                           Contents           1  \n",
       "1453                                   Responsibilities           1  \n",
       "1370                                           Contents           1  \n",
       "830                                        Introduction           1  \n",
       "888                                               Annex           1  \n",
       "\n",
       "[1835 rows x 3 columns]"
      ],
      "text/html": [
       "<div>\n",
       "<style scoped>\n",
       "    .dataframe tbody tr th:only-of-type {\n",
       "        vertical-align: middle;\n",
       "    }\n",
       "\n",
       "    .dataframe tbody tr th {\n",
       "        vertical-align: top;\n",
       "    }\n",
       "\n",
       "    .dataframe thead th {\n",
       "        text-align: right;\n",
       "    }\n",
       "</style>\n",
       "<table border=\"1\" class=\"dataframe\">\n",
       "  <thead>\n",
       "    <tr style=\"text-align: right;\">\n",
       "      <th></th>\n",
       "      <th>name</th>\n",
       "      <th>text</th>\n",
       "      <th>num_tokens</th>\n",
       "    </tr>\n",
       "  </thead>\n",
       "  <tbody>\n",
       "    <tr>\n",
       "      <th>1644</th>\n",
       "      <td>university-of-strathclyde.md</td>\n",
       "      <td>4. Operational requirements  \\n\\nThe following...</td>\n",
       "      <td>3167</td>\n",
       "    </tr>\n",
       "    <tr>\n",
       "      <th>769</th>\n",
       "      <td>robert-gordon-university.md</td>\n",
       "      <td>RESEARCHDATAMANAGEMENT  \\n\\n1. Purpose and Con...</td>\n",
       "      <td>2402</td>\n",
       "    </tr>\n",
       "    <tr>\n",
       "      <th>1131</th>\n",
       "      <td>university-medical-center-utrecht.md</td>\n",
       "      <td>3.7.2. Trusted Third Party (TTP)  \\n\\nFor link...</td>\n",
       "      <td>2069</td>\n",
       "    </tr>\n",
       "    <tr>\n",
       "      <th>153</th>\n",
       "      <td>de-montfort-university.md</td>\n",
       "      <td>SCOPE  \\n\\n3. This policy applies to all DMU s...</td>\n",
       "      <td>1945</td>\n",
       "    </tr>\n",
       "    <tr>\n",
       "      <th>1646</th>\n",
       "      <td>university-of-strathclyde.md</td>\n",
       "      <td>Appendix A – Glossary of Terms  \\n\\n&lt;html&gt;&lt;bod...</td>\n",
       "      <td>1912</td>\n",
       "    </tr>\n",
       "    <tr>\n",
       "      <th>...</th>\n",
       "      <td>...</td>\n",
       "      <td>...</td>\n",
       "      <td>...</td>\n",
       "    </tr>\n",
       "    <tr>\n",
       "      <th>1557</th>\n",
       "      <td>university-of-potsdam.md</td>\n",
       "      <td>Contents</td>\n",
       "      <td>1</td>\n",
       "    </tr>\n",
       "    <tr>\n",
       "      <th>1453</th>\n",
       "      <td>university-of-hull.md</td>\n",
       "      <td>Responsibilities</td>\n",
       "      <td>1</td>\n",
       "    </tr>\n",
       "    <tr>\n",
       "      <th>1370</th>\n",
       "      <td>university-of-helsinki.md</td>\n",
       "      <td>Contents</td>\n",
       "      <td>1</td>\n",
       "    </tr>\n",
       "    <tr>\n",
       "      <th>830</th>\n",
       "      <td>technical-university-delft.md</td>\n",
       "      <td>Introduction</td>\n",
       "      <td>1</td>\n",
       "    </tr>\n",
       "    <tr>\n",
       "      <th>888</th>\n",
       "      <td>technical-university-vienna.md</td>\n",
       "      <td>Annex</td>\n",
       "      <td>1</td>\n",
       "    </tr>\n",
       "  </tbody>\n",
       "</table>\n",
       "<p>1835 rows × 3 columns</p>\n",
       "</div>"
      ]
     },
     "execution_count": 72,
     "metadata": {},
     "output_type": "execute_result"
    }
   ],
   "execution_count": 72
  },
  {
   "metadata": {
    "ExecuteTime": {
     "end_time": "2025-01-20T21:12:41.371578Z",
     "start_time": "2025-01-20T21:12:41.166617Z"
    }
   },
   "cell_type": "code",
   "source": [
    "fig = px.histogram(df_documents_split, x='num_tokens', nbins=100)\n",
    "fig.update_layout(height=500, width=1000)\n",
    "fig.write_image(f'{my_git_root}/notebooks/images/1_token_hist_headings.pdf')"
   ],
   "id": "9248cac95b141e4d",
   "outputs": [],
   "execution_count": 73
  },
  {
   "metadata": {
    "ExecuteTime": {
     "end_time": "2025-01-20T21:12:41.455745Z",
     "start_time": "2025-01-20T21:12:41.393769Z"
    }
   },
   "cell_type": "code",
   "source": [
    "_ = plt.boxplot(df_documents_split['num_tokens'], showfliers=True)\n",
    "plt.grid()\n",
    "plt.savefig(f'{my_git_root}/notebooks/images/1_token_boxplot_headings.svg')"
   ],
   "id": "b0b589e28e8b4d16",
   "outputs": [
    {
     "data": {
      "text/plain": [
       "<Figure size 640x480 with 1 Axes>"
      ],
      "image/png": "[encoded data removed]"
     },
     "metadata": {},
     "output_type": "display_data"
    }
   ],
   "execution_count": 74
  },
  {
   "metadata": {},
   "cell_type": "markdown",
   "source": "**After this point, we ONLY split if the chunks exceed the given sentence_transformer_max_tokens!!**",
   "id": "edcecf1a07593fc7"
  },
  {
   "metadata": {},
   "cell_type": "markdown",
   "source": "## Step 2: Split by Section Numbering (First Order)",
   "id": "960777994ac9ba21"
  },
  {
   "metadata": {
    "ExecuteTime": {
     "end_time": "2025-01-20T21:12:41.514973Z",
     "start_time": "2025-01-20T21:12:41.458450Z"
    }
   },
   "cell_type": "code",
   "source": [
    "# Split the documents whenever a numbering '\\n1.', '\\n2.', '\\n3.' is detected right after a linebreak\n",
    "# We only consider linebreaks of the first order, so we do not consider '\\n1.1.', '\\n1.2.', '\\n1.3.'\n",
    "# Store the number of splits per document\n",
    "names = []\n",
    "documents_split = []\n",
    "\n",
    "for index, row in df_documents_split.iterrows():\n",
    "    if row['num_tokens'] > sentence_transformer_max_tokens:\n",
    "        document_split = re.split(r'\\n\\d+\\.\\s*(?!\\d+\\.?)\\s*', row['text'])\n",
    "        names.append([row['name']] * len(document_split))\n",
    "    else:\n",
    "        document_split = row['text']\n",
    "        names.append(row['name'])\n",
    "    documents_split.append(document_split)\n",
    "\n",
    "# Flatten the lists from 2-dimensional to 1-dimensional\n",
    "names = flatten(names)\n",
    "documents_split = flatten(documents_split)"
   ],
   "id": "9dce2b136b4e24f",
   "outputs": [],
   "execution_count": 75
  },
  {
   "metadata": {
    "ExecuteTime": {
     "end_time": "2025-01-20T21:12:42.165135Z",
     "start_time": "2025-01-20T21:12:41.532930Z"
    }
   },
   "cell_type": "code",
   "source": [
    "# Calculate the number of tokens after splitting\n",
    "num_tokens = []\n",
    "for text in documents_split:\n",
    "    tokens = tokenizer.tokenize(text)\n",
    "    num_tokens.append(len(tokens))"
   ],
   "id": "1f4ad89a18de2323",
   "outputs": [],
   "execution_count": 76
  },
  {
   "metadata": {
    "ExecuteTime": {
     "end_time": "2025-01-20T21:12:42.178018Z",
     "start_time": "2025-01-20T21:12:42.175711Z"
    }
   },
   "cell_type": "code",
   "source": [
    "# Create dataframe\n",
    "df_documents_split = pd.DataFrame(data={\n",
    "    'name': names,\n",
    "    'text': documents_split,\n",
    "    'num_tokens': num_tokens\n",
    "})"
   ],
   "id": "55d7ad0f036b582",
   "outputs": [],
   "execution_count": 77
  },
  {
   "metadata": {
    "ExecuteTime": {
     "end_time": "2025-01-20T21:12:42.230198Z",
     "start_time": "2025-01-20T21:12:42.226787Z"
    }
   },
   "cell_type": "code",
   "source": [
    "# Remove chunks without letters\n",
    "mask = df_documents_split['text'].apply(contains_text)\n",
    "df_documents_split = df_documents_split[mask].reset_index(drop=True)"
   ],
   "id": "53fa0e814e470067",
   "outputs": [],
   "execution_count": 78
  },
  {
   "metadata": {
    "ExecuteTime": {
     "end_time": "2025-01-20T21:12:42.286628Z",
     "start_time": "2025-01-20T21:12:42.281507Z"
    }
   },
   "cell_type": "code",
   "source": [
    "# What does our dataset look like now?\n",
    "df_documents_split.sort_values(by=['num_tokens'], ascending=False)"
   ],
   "id": "9358374cefa8cf89",
   "outputs": [
    {
     "data": {
      "text/plain": [
       "                                      name  \\\n",
       "1931          university-of-strathclyde.md   \n",
       "1339  university-medical-center-utrecht.md   \n",
       "1933          university-of-strathclyde.md   \n",
       "1482           university-of-copenhagen.md   \n",
       "1882              university-of-reading.md   \n",
       "...                                    ...   \n",
       "1111                the-open-university.md   \n",
       "1401             university-of-bradford.md   \n",
       "1421            university-of-cambridge.md   \n",
       "1708                 university-of-hull.md   \n",
       "2109                 wrexham-university.md   \n",
       "\n",
       "                                                   text  num_tokens  \n",
       "1931  4. Operational requirements  \\n\\nThe following...        3167  \n",
       "1339  Abbreviations and definitions   \\n\\n\\n<html><b...        2019  \n",
       "1933  Appendix A – Glossary of Terms  \\n\\n<html><bod...        1912  \n",
       "1482  Appendix 1: Definitions  \\n\\n<html><body><tabl...        1885  \n",
       "1882  7.0 Contact  \\n\\na. Queries regarding research...        1742  \n",
       "...                                                 ...         ...  \n",
       "1111                                             Policy           1  \n",
       "1401                                             Policy           1  \n",
       "1421                                     Background  \\n           1  \n",
       "1708                                   Responsibilities           1  \n",
       "2109                                         Principles           1  \n",
       "\n",
       "[2122 rows x 3 columns]"
      ],
      "text/html": [
       "<div>\n",
       "<style scoped>\n",
       "    .dataframe tbody tr th:only-of-type {\n",
       "        vertical-align: middle;\n",
       "    }\n",
       "\n",
       "    .dataframe tbody tr th {\n",
       "        vertical-align: top;\n",
       "    }\n",
       "\n",
       "    .dataframe thead th {\n",
       "        text-align: right;\n",
       "    }\n",
       "</style>\n",
       "<table border=\"1\" class=\"dataframe\">\n",
       "  <thead>\n",
       "    <tr style=\"text-align: right;\">\n",
       "      <th></th>\n",
       "      <th>name</th>\n",
       "      <th>text</th>\n",
       "      <th>num_tokens</th>\n",
       "    </tr>\n",
       "  </thead>\n",
       "  <tbody>\n",
       "    <tr>\n",
       "      <th>1931</th>\n",
       "      <td>university-of-strathclyde.md</td>\n",
       "      <td>4. Operational requirements  \\n\\nThe following...</td>\n",
       "      <td>3167</td>\n",
       "    </tr>\n",
       "    <tr>\n",
       "      <th>1339</th>\n",
       "      <td>university-medical-center-utrecht.md</td>\n",
       "      <td>Abbreviations and definitions   \\n\\n\\n&lt;html&gt;&lt;b...</td>\n",
       "      <td>2019</td>\n",
       "    </tr>\n",
       "    <tr>\n",
       "      <th>1933</th>\n",
       "      <td>university-of-strathclyde.md</td>\n",
       "      <td>Appendix A – Glossary of Terms  \\n\\n&lt;html&gt;&lt;bod...</td>\n",
       "      <td>1912</td>\n",
       "    </tr>\n",
       "    <tr>\n",
       "      <th>1482</th>\n",
       "      <td>university-of-copenhagen.md</td>\n",
       "      <td>Appendix 1: Definitions  \\n\\n&lt;html&gt;&lt;body&gt;&lt;tabl...</td>\n",
       "      <td>1885</td>\n",
       "    </tr>\n",
       "    <tr>\n",
       "      <th>1882</th>\n",
       "      <td>university-of-reading.md</td>\n",
       "      <td>7.0 Contact  \\n\\na. Queries regarding research...</td>\n",
       "      <td>1742</td>\n",
       "    </tr>\n",
       "    <tr>\n",
       "      <th>...</th>\n",
       "      <td>...</td>\n",
       "      <td>...</td>\n",
       "      <td>...</td>\n",
       "    </tr>\n",
       "    <tr>\n",
       "      <th>1111</th>\n",
       "      <td>the-open-university.md</td>\n",
       "      <td>Policy</td>\n",
       "      <td>1</td>\n",
       "    </tr>\n",
       "    <tr>\n",
       "      <th>1401</th>\n",
       "      <td>university-of-bradford.md</td>\n",
       "      <td>Policy</td>\n",
       "      <td>1</td>\n",
       "    </tr>\n",
       "    <tr>\n",
       "      <th>1421</th>\n",
       "      <td>university-of-cambridge.md</td>\n",
       "      <td>Background  \\n</td>\n",
       "      <td>1</td>\n",
       "    </tr>\n",
       "    <tr>\n",
       "      <th>1708</th>\n",
       "      <td>university-of-hull.md</td>\n",
       "      <td>Responsibilities</td>\n",
       "      <td>1</td>\n",
       "    </tr>\n",
       "    <tr>\n",
       "      <th>2109</th>\n",
       "      <td>wrexham-university.md</td>\n",
       "      <td>Principles</td>\n",
       "      <td>1</td>\n",
       "    </tr>\n",
       "  </tbody>\n",
       "</table>\n",
       "<p>2122 rows × 3 columns</p>\n",
       "</div>"
      ]
     },
     "execution_count": 79,
     "metadata": {},
     "output_type": "execute_result"
    }
   ],
   "execution_count": 79
  },
  {
   "metadata": {
    "ExecuteTime": {
     "end_time": "2025-01-20T21:12:42.404894Z",
     "start_time": "2025-01-20T21:12:42.344260Z"
    }
   },
   "cell_type": "code",
   "source": [
    "fig = px.histogram(df_documents_split, x='num_tokens', nbins=100)\n",
    "fig.update_layout(height=500, width=1000)\n",
    "fig.write_image(f'{my_git_root}/notebooks/images/2_token_hist_sections_1.pdf')"
   ],
   "id": "da45a8037d4547a5",
   "outputs": [],
   "execution_count": 80
  },
  {
   "metadata": {
    "ExecuteTime": {
     "end_time": "2025-01-20T21:12:42.482992Z",
     "start_time": "2025-01-20T21:12:42.427927Z"
    }
   },
   "cell_type": "code",
   "source": [
    "_ = plt.boxplot(df_documents_split['num_tokens'], showfliers=True)\n",
    "plt.savefig(f'{my_git_root}/notebooks/images/2_token_boxplot_sections_1.svg')"
   ],
   "id": "1829d9d1097898a0",
   "outputs": [
    {
     "data": {
      "text/plain": [
       "<Figure size 640x480 with 1 Axes>"
      ],
      "image/png": "[encoded data removed]"
     },
     "metadata": {},
     "output_type": "display_data"
    }
   ],
   "execution_count": 81
  },
  {
   "metadata": {},
   "cell_type": "markdown",
   "source": "## Step 3: Split by Section Numbering (Second Order)",
   "id": "76903e26fed55576"
  },
  {
   "metadata": {
    "ExecuteTime": {
     "end_time": "2025-01-20T21:12:42.541953Z",
     "start_time": "2025-01-20T21:12:42.486029Z"
    }
   },
   "cell_type": "code",
   "source": [
    "# Split the documents whenever a second-order numbering '\\n1.1', '\\n2.1.', '\\n3.4' is detected right after a linebreak\n",
    "# Store the number of splits per document\n",
    "\n",
    "names = []\n",
    "documents_split = []\n",
    "\n",
    "for index, row in df_documents_split.iterrows():\n",
    "    if row['num_tokens'] > sentence_transformer_max_tokens:\n",
    "        document_split = re.split(r'\\n(?<!\\d\\.)\\d+\\.\\s*\\d+\\.?\\s+', row['text'])\n",
    "        names.append([row['name']] * len(document_split))\n",
    "    else:\n",
    "        document_split = row['text']\n",
    "        names.append(row['name'])\n",
    "    documents_split.append(document_split)\n",
    "\n",
    "# Flatten the lists from 2-dimensional to 1-dimensional\n",
    "names = flatten(names)\n",
    "documents_split = flatten(documents_split)"
   ],
   "id": "5c9e53897da92a32",
   "outputs": [],
   "execution_count": 82
  },
  {
   "metadata": {
    "ExecuteTime": {
     "end_time": "2025-01-20T21:12:43.183730Z",
     "start_time": "2025-01-20T21:12:42.568809Z"
    }
   },
   "cell_type": "code",
   "source": [
    "# Calculate the number of tokens after splitting\n",
    "num_tokens = []\n",
    "for text in documents_split:\n",
    "    tokens = tokenizer.tokenize(text)\n",
    "    num_tokens.append(len(tokens))"
   ],
   "id": "fdcf34acaa93f4fc",
   "outputs": [],
   "execution_count": 83
  },
  {
   "metadata": {
    "ExecuteTime": {
     "end_time": "2025-01-20T21:12:43.195730Z",
     "start_time": "2025-01-20T21:12:43.193460Z"
    }
   },
   "cell_type": "code",
   "source": [
    "# Create dataframe\n",
    "df_documents_split = pd.DataFrame(data={\n",
    "    'name': names,\n",
    "    'text': documents_split,\n",
    "    'num_tokens': num_tokens\n",
    "})"
   ],
   "id": "94ee269e29039f97",
   "outputs": [],
   "execution_count": 84
  },
  {
   "metadata": {
    "ExecuteTime": {
     "end_time": "2025-01-20T21:12:43.237367Z",
     "start_time": "2025-01-20T21:12:43.234016Z"
    }
   },
   "cell_type": "code",
   "source": [
    "# Remove chunks without letters\n",
    "mask = df_documents_split['text'].apply(contains_text)\n",
    "df_documents_split = df_documents_split[mask].reset_index(drop=True)"
   ],
   "id": "1c3600b52e31936d",
   "outputs": [],
   "execution_count": 85
  },
  {
   "metadata": {
    "ExecuteTime": {
     "end_time": "2025-01-20T21:12:43.285254Z",
     "start_time": "2025-01-20T21:12:43.280419Z"
    }
   },
   "cell_type": "code",
   "source": [
    "# What does our dataset look like now?\n",
    "df_documents_split.sort_values(by=['num_tokens'], ascending=False)"
   ],
   "id": "c735e73b9a0f87ed",
   "outputs": [
    {
     "data": {
      "text/plain": [
       "                                              name  \\\n",
       "1433          university-medical-center-utrecht.md   \n",
       "2104                  university-of-strathclyde.md   \n",
       "1576                   university-of-copenhagen.md   \n",
       "2054                      university-of-salford.md   \n",
       "2029                      university-of-reading.md   \n",
       "...                                            ...   \n",
       "601   iscte---instituto-universitario-de-lisboa.md   \n",
       "1981                      university-of-potsdam.md   \n",
       "520                      heriot-watt-university.md   \n",
       "1515                    university-of-cambridge.md   \n",
       "518                      heriot-watt-university.md   \n",
       "\n",
       "                                                   text  num_tokens  \n",
       "1433  Abbreviations and definitions   \\n\\n\\n<html><b...        2019  \n",
       "2104  Appendix A – Glossary of Terms  \\n\\n<html><bod...        1912  \n",
       "1576  Appendix 1: Definitions  \\n\\n<html><body><tabl...        1885  \n",
       "2054  7.0 Contact  \\n\\na. Queries regarding research...        1742  \n",
       "2029  7.0 Contact  \\n\\na. Queries regarding research...        1742  \n",
       "...                                                 ...         ...  \n",
       "601                                        Introduction           1  \n",
       "1981                                           Contents           1  \n",
       "520                                             Section           1  \n",
       "1515                                     Background  \\n           1  \n",
       "518                                                   C           1  \n",
       "\n",
       "[2322 rows x 3 columns]"
      ],
      "text/html": [
       "<div>\n",
       "<style scoped>\n",
       "    .dataframe tbody tr th:only-of-type {\n",
       "        vertical-align: middle;\n",
       "    }\n",
       "\n",
       "    .dataframe tbody tr th {\n",
       "        vertical-align: top;\n",
       "    }\n",
       "\n",
       "    .dataframe thead th {\n",
       "        text-align: right;\n",
       "    }\n",
       "</style>\n",
       "<table border=\"1\" class=\"dataframe\">\n",
       "  <thead>\n",
       "    <tr style=\"text-align: right;\">\n",
       "      <th></th>\n",
       "      <th>name</th>\n",
       "      <th>text</th>\n",
       "      <th>num_tokens</th>\n",
       "    </tr>\n",
       "  </thead>\n",
       "  <tbody>\n",
       "    <tr>\n",
       "      <th>1433</th>\n",
       "      <td>university-medical-center-utrecht.md</td>\n",
       "      <td>Abbreviations and definitions   \\n\\n\\n&lt;html&gt;&lt;b...</td>\n",
       "      <td>2019</td>\n",
       "    </tr>\n",
       "    <tr>\n",
       "      <th>2104</th>\n",
       "      <td>university-of-strathclyde.md</td>\n",
       "      <td>Appendix A – Glossary of Terms  \\n\\n&lt;html&gt;&lt;bod...</td>\n",
       "      <td>1912</td>\n",
       "    </tr>\n",
       "    <tr>\n",
       "      <th>1576</th>\n",
       "      <td>university-of-copenhagen.md</td>\n",
       "      <td>Appendix 1: Definitions  \\n\\n&lt;html&gt;&lt;body&gt;&lt;tabl...</td>\n",
       "      <td>1885</td>\n",
       "    </tr>\n",
       "    <tr>\n",
       "      <th>2054</th>\n",
       "      <td>university-of-salford.md</td>\n",
       "      <td>7.0 Contact  \\n\\na. Queries regarding research...</td>\n",
       "      <td>1742</td>\n",
       "    </tr>\n",
       "    <tr>\n",
       "      <th>2029</th>\n",
       "      <td>university-of-reading.md</td>\n",
       "      <td>7.0 Contact  \\n\\na. Queries regarding research...</td>\n",
       "      <td>1742</td>\n",
       "    </tr>\n",
       "    <tr>\n",
       "      <th>...</th>\n",
       "      <td>...</td>\n",
       "      <td>...</td>\n",
       "      <td>...</td>\n",
       "    </tr>\n",
       "    <tr>\n",
       "      <th>601</th>\n",
       "      <td>iscte---instituto-universitario-de-lisboa.md</td>\n",
       "      <td>Introduction</td>\n",
       "      <td>1</td>\n",
       "    </tr>\n",
       "    <tr>\n",
       "      <th>1981</th>\n",
       "      <td>university-of-potsdam.md</td>\n",
       "      <td>Contents</td>\n",
       "      <td>1</td>\n",
       "    </tr>\n",
       "    <tr>\n",
       "      <th>520</th>\n",
       "      <td>heriot-watt-university.md</td>\n",
       "      <td>Section</td>\n",
       "      <td>1</td>\n",
       "    </tr>\n",
       "    <tr>\n",
       "      <th>1515</th>\n",
       "      <td>university-of-cambridge.md</td>\n",
       "      <td>Background  \\n</td>\n",
       "      <td>1</td>\n",
       "    </tr>\n",
       "    <tr>\n",
       "      <th>518</th>\n",
       "      <td>heriot-watt-university.md</td>\n",
       "      <td>C</td>\n",
       "      <td>1</td>\n",
       "    </tr>\n",
       "  </tbody>\n",
       "</table>\n",
       "<p>2322 rows × 3 columns</p>\n",
       "</div>"
      ]
     },
     "execution_count": 86,
     "metadata": {},
     "output_type": "execute_result"
    }
   ],
   "execution_count": 86
  },
  {
   "metadata": {
    "ExecuteTime": {
     "end_time": "2025-01-20T21:12:43.399392Z",
     "start_time": "2025-01-20T21:12:43.344312Z"
    }
   },
   "cell_type": "code",
   "source": [
    "fig = px.histogram(df_documents_split, x='num_tokens', nbins=100)\n",
    "fig.update_layout(height=500, width=1000)\n",
    "fig.write_image(f'{my_git_root}/notebooks/images/3_token_hist_sections_2.pdf')"
   ],
   "id": "808c06f41c10245a",
   "outputs": [],
   "execution_count": 87
  },
  {
   "metadata": {
    "ExecuteTime": {
     "end_time": "2025-01-20T21:12:43.485974Z",
     "start_time": "2025-01-20T21:12:43.422797Z"
    }
   },
   "cell_type": "code",
   "source": [
    "_ = plt.boxplot(df_documents_split['num_tokens'], showfliers=True)\n",
    "plt.savefig(f'{my_git_root}/notebooks/images/3_token_boxplot_sections_2.svg')"
   ],
   "id": "27e4e33d934ffaac",
   "outputs": [
    {
     "data": {
      "text/plain": [
       "<Figure size 640x480 with 1 Axes>"
      ],
      "image/png": "[encoded data removed]"
     },
     "metadata": {},
     "output_type": "display_data"
    }
   ],
   "execution_count": 88
  },
  {
   "metadata": {},
   "cell_type": "markdown",
   "source": "## Step 4: Split by paragraphs",
   "id": "1ecbf31f87a89c0c"
  },
  {
   "metadata": {
    "ExecuteTime": {
     "end_time": "2025-01-20T21:12:43.549835Z",
     "start_time": "2025-01-20T21:12:43.488381Z"
    }
   },
   "cell_type": "code",
   "source": [
    "# Split the documents by paragraphs '\\n\\n'\n",
    "# Store the number of splits per document\n",
    "names = []\n",
    "documents_split = []\n",
    "\n",
    "for index, row in df_documents_split.iterrows():\n",
    "    if row['num_tokens'] > sentence_transformer_max_tokens:\n",
    "        document_split = re.split(r'\\s*\\n\\s*\\n\\s*', row['text'])\n",
    "        names.append([row['name']] * len(document_split))\n",
    "    else:\n",
    "        document_split = row['text']\n",
    "        names.append(row['name'])\n",
    "    documents_split.append(document_split)\n",
    "\n",
    "# Flatten the lists from 2-dimensional to 1-dimensional\n",
    "names = flatten(names)\n",
    "documents_split = flatten(documents_split)"
   ],
   "id": "2aef341b7005ae31",
   "outputs": [],
   "execution_count": 89
  },
  {
   "metadata": {
    "ExecuteTime": {
     "end_time": "2025-01-20T21:12:44.184185Z",
     "start_time": "2025-01-20T21:12:43.560267Z"
    }
   },
   "cell_type": "code",
   "source": [
    "# Calculate the number of tokens\n",
    "num_tokens = []\n",
    "for text in documents_split:\n",
    "    tokens = tokenizer.tokenize(text)\n",
    "    num_tokens.append(len(tokens))"
   ],
   "id": "2f895c065ebcf692",
   "outputs": [],
   "execution_count": 90
  },
  {
   "metadata": {
    "ExecuteTime": {
     "end_time": "2025-01-20T21:12:44.196050Z",
     "start_time": "2025-01-20T21:12:44.193730Z"
    }
   },
   "cell_type": "code",
   "source": [
    "# Create dataframe\n",
    "df_documents_split = pd.DataFrame(data={\n",
    "    'name': names,\n",
    "    'text': documents_split,\n",
    "    'num_tokens': num_tokens\n",
    "})"
   ],
   "id": "a48f1a6b34446cd3",
   "outputs": [],
   "execution_count": 91
  },
  {
   "metadata": {
    "ExecuteTime": {
     "end_time": "2025-01-20T21:12:44.238506Z",
     "start_time": "2025-01-20T21:12:44.234933Z"
    }
   },
   "cell_type": "code",
   "source": [
    "# Remove chunks without letters\n",
    "mask = df_documents_split['text'].apply(contains_text)\n",
    "df_documents_split = df_documents_split[mask].reset_index(drop=True)"
   ],
   "id": "ddcde3b637d411ce",
   "outputs": [],
   "execution_count": 92
  },
  {
   "metadata": {
    "ExecuteTime": {
     "end_time": "2025-01-20T21:12:44.286869Z",
     "start_time": "2025-01-20T21:12:44.281764Z"
    }
   },
   "cell_type": "code",
   "source": [
    "# What does our dataset look like now?\n",
    "df_documents_split.sort_values(by=['num_tokens'], ascending=False)"
   ],
   "id": "9ab037951c14de45",
   "outputs": [
    {
     "data": {
      "text/plain": [
       "                                      name  \\\n",
       "2568              university-of-salford.md   \n",
       "2537              university-of-reading.md   \n",
       "1811  university-medical-center-utrecht.md   \n",
       "1265           robert-gordon-university.md   \n",
       "1810  university-medical-center-utrecht.md   \n",
       "...                                    ...   \n",
       "1524        the-university-of-edinburgh.md   \n",
       "653              heriot-watt-university.md   \n",
       "655              heriot-watt-university.md   \n",
       "2483              university-of-potsdam.md   \n",
       "1545           the-university-of-exeter.md   \n",
       "\n",
       "                                                   text  num_tokens  \n",
       "2568  <html><body><table><tr><td colspan=\"5\">Documen...        1689  \n",
       "2537  <html><body><table><tr><td colspan=\"5\">Documen...        1689  \n",
       "1811  <html><body><table><tr><td>Human research</td>...        1036  \n",
       "1265  <html><body><table><tr><td></td><td>Institutio...         917  \n",
       "1810  <html><body><table><tr><td>Term</td><td>Defini...         862  \n",
       "...                                                 ...         ...  \n",
       "1524                                         References           1  \n",
       "653                                                   C           1  \n",
       "655                                             Section           1  \n",
       "2483                                           Contents           1  \n",
       "1545                                            Context           1  \n",
       "\n",
       "[2936 rows x 3 columns]"
      ],
      "text/html": [
       "<div>\n",
       "<style scoped>\n",
       "    .dataframe tbody tr th:only-of-type {\n",
       "        vertical-align: middle;\n",
       "    }\n",
       "\n",
       "    .dataframe tbody tr th {\n",
       "        vertical-align: top;\n",
       "    }\n",
       "\n",
       "    .dataframe thead th {\n",
       "        text-align: right;\n",
       "    }\n",
       "</style>\n",
       "<table border=\"1\" class=\"dataframe\">\n",
       "  <thead>\n",
       "    <tr style=\"text-align: right;\">\n",
       "      <th></th>\n",
       "      <th>name</th>\n",
       "      <th>text</th>\n",
       "      <th>num_tokens</th>\n",
       "    </tr>\n",
       "  </thead>\n",
       "  <tbody>\n",
       "    <tr>\n",
       "      <th>2568</th>\n",
       "      <td>university-of-salford.md</td>\n",
       "      <td>&lt;html&gt;&lt;body&gt;&lt;table&gt;&lt;tr&gt;&lt;td colspan=\"5\"&gt;Documen...</td>\n",
       "      <td>1689</td>\n",
       "    </tr>\n",
       "    <tr>\n",
       "      <th>2537</th>\n",
       "      <td>university-of-reading.md</td>\n",
       "      <td>&lt;html&gt;&lt;body&gt;&lt;table&gt;&lt;tr&gt;&lt;td colspan=\"5\"&gt;Documen...</td>\n",
       "      <td>1689</td>\n",
       "    </tr>\n",
       "    <tr>\n",
       "      <th>1811</th>\n",
       "      <td>university-medical-center-utrecht.md</td>\n",
       "      <td>&lt;html&gt;&lt;body&gt;&lt;table&gt;&lt;tr&gt;&lt;td&gt;Human research&lt;/td&gt;...</td>\n",
       "      <td>1036</td>\n",
       "    </tr>\n",
       "    <tr>\n",
       "      <th>1265</th>\n",
       "      <td>robert-gordon-university.md</td>\n",
       "      <td>&lt;html&gt;&lt;body&gt;&lt;table&gt;&lt;tr&gt;&lt;td&gt;&lt;/td&gt;&lt;td&gt;Institutio...</td>\n",
       "      <td>917</td>\n",
       "    </tr>\n",
       "    <tr>\n",
       "      <th>1810</th>\n",
       "      <td>university-medical-center-utrecht.md</td>\n",
       "      <td>&lt;html&gt;&lt;body&gt;&lt;table&gt;&lt;tr&gt;&lt;td&gt;Term&lt;/td&gt;&lt;td&gt;Defini...</td>\n",
       "      <td>862</td>\n",
       "    </tr>\n",
       "    <tr>\n",
       "      <th>...</th>\n",
       "      <td>...</td>\n",
       "      <td>...</td>\n",
       "      <td>...</td>\n",
       "    </tr>\n",
       "    <tr>\n",
       "      <th>1524</th>\n",
       "      <td>the-university-of-edinburgh.md</td>\n",
       "      <td>References</td>\n",
       "      <td>1</td>\n",
       "    </tr>\n",
       "    <tr>\n",
       "      <th>653</th>\n",
       "      <td>heriot-watt-university.md</td>\n",
       "      <td>C</td>\n",
       "      <td>1</td>\n",
       "    </tr>\n",
       "    <tr>\n",
       "      <th>655</th>\n",
       "      <td>heriot-watt-university.md</td>\n",
       "      <td>Section</td>\n",
       "      <td>1</td>\n",
       "    </tr>\n",
       "    <tr>\n",
       "      <th>2483</th>\n",
       "      <td>university-of-potsdam.md</td>\n",
       "      <td>Contents</td>\n",
       "      <td>1</td>\n",
       "    </tr>\n",
       "    <tr>\n",
       "      <th>1545</th>\n",
       "      <td>the-university-of-exeter.md</td>\n",
       "      <td>Context</td>\n",
       "      <td>1</td>\n",
       "    </tr>\n",
       "  </tbody>\n",
       "</table>\n",
       "<p>2936 rows × 3 columns</p>\n",
       "</div>"
      ]
     },
     "execution_count": 93,
     "metadata": {},
     "output_type": "execute_result"
    }
   ],
   "execution_count": 93
  },
  {
   "metadata": {
    "ExecuteTime": {
     "end_time": "2025-01-20T21:12:44.415935Z",
     "start_time": "2025-01-20T21:12:44.347823Z"
    }
   },
   "cell_type": "code",
   "source": [
    "fig = px.histogram(df_documents_split, x='num_tokens', nbins=100)\n",
    "fig.update_layout(height=500, width=1000)\n",
    "fig.write_image(f'{my_git_root}/notebooks/images/4_token_hist_paragraphs.pdf')"
   ],
   "id": "5b9c0fc2b538f30d",
   "outputs": [],
   "execution_count": 94
  },
  {
   "metadata": {
    "ExecuteTime": {
     "end_time": "2025-01-20T21:12:44.494100Z",
     "start_time": "2025-01-20T21:12:44.436499Z"
    }
   },
   "cell_type": "code",
   "source": [
    "_ = plt.boxplot(df_documents_split['num_tokens'], showfliers=True)\n",
    "plt.savefig(f'{my_git_root}/notebooks/images/4_token_boxplot_paragraphs.svg')"
   ],
   "id": "45cfa0c0c2563e2a",
   "outputs": [
    {
     "data": {
      "text/plain": [
       "<Figure size 640x480 with 1 Axes>"
      ],
      "image/png": "[encoded data removed]"
     },
     "metadata": {},
     "output_type": "display_data"
    }
   ],
   "execution_count": 95
  },
  {
   "metadata": {},
   "cell_type": "markdown",
   "source": "## Step 5: Extract table data",
   "id": "e452ab6e26a57f53"
  },
  {
   "metadata": {
    "ExecuteTime": {
     "end_time": "2025-01-20T21:12:44.529336Z",
     "start_time": "2025-01-20T21:12:44.499550Z"
    }
   },
   "cell_type": "code",
   "source": [
    "# Extract the data from the table into plain text\n",
    "documents_split = df_documents_split['text'].apply(extract_table).to_list()\n",
    "df_documents_split['text'] = documents_split"
   ],
   "id": "feafc2d14ac0bd2a",
   "outputs": [],
   "execution_count": 96
  },
  {
   "metadata": {
    "ExecuteTime": {
     "end_time": "2025-01-20T21:12:45.183383Z",
     "start_time": "2025-01-20T21:12:44.567846Z"
    }
   },
   "cell_type": "code",
   "source": [
    "# Calculate the number of tokens\n",
    "num_tokens = []\n",
    "for text in documents_split:\n",
    "    tokens = tokenizer.tokenize(text)\n",
    "    num_tokens.append(len(tokens))"
   ],
   "id": "39f80c42eb247cb1",
   "outputs": [],
   "execution_count": 97
  },
  {
   "metadata": {
    "ExecuteTime": {
     "end_time": "2025-01-20T21:12:45.201458Z",
     "start_time": "2025-01-20T21:12:45.197614Z"
    }
   },
   "cell_type": "code",
   "source": [
    "# Add to dataframe\n",
    "df_documents_split['num_tokens'] = num_tokens"
   ],
   "id": "69e9bf3cadfd03e6",
   "outputs": [],
   "execution_count": 98
  },
  {
   "metadata": {
    "ExecuteTime": {
     "end_time": "2025-01-20T21:12:45.273823Z",
     "start_time": "2025-01-20T21:12:45.263353Z"
    }
   },
   "cell_type": "code",
   "source": [
    "#What does our data look like now?\n",
    "df_documents_split.sort_values(by=['num_tokens'], ascending=False)"
   ],
   "id": "34830b34c3259ab9",
   "outputs": [
    {
     "data": {
      "text/plain": [
       "                                                   name  \\\n",
       "742   international-institute-for-geo---information-...   \n",
       "1265                        robert-gordon-university.md   \n",
       "1811               university-medical-center-utrecht.md   \n",
       "1894                          university-of-bradford.md   \n",
       "1752                       university-campus-suffolk.md   \n",
       "...                                                 ...   \n",
       "2291                              university-of-hull.md   \n",
       "2483                           university-of-potsdam.md   \n",
       "2190                          university-of-helsinki.md   \n",
       "1330                        staffordshire-university.md   \n",
       "2913                              wrexham-university.md   \n",
       "\n",
       "                                                   text  num_tokens  \n",
       "742   • All research activities involving personal d...         858  \n",
       "1265  InstitutionSchoolAcademicGuidanceDocumentation...         629  \n",
       "1811  Human researchAllscientificresearchinwhichpeop...         626  \n",
       "1894  5.2.1  Researchers must comply with all legal,...         591  \n",
       "1752  a. The Data Subject has given explicit consent...         524  \n",
       "...                                                 ...         ...  \n",
       "2291                                   Responsibilities           1  \n",
       "2483                                           Contents           1  \n",
       "2190                                           Contents           1  \n",
       "1330                                         Policy  \\n           1  \n",
       "2913                                         Principles           1  \n",
       "\n",
       "[2936 rows x 3 columns]"
      ],
      "text/html": [
       "<div>\n",
       "<style scoped>\n",
       "    .dataframe tbody tr th:only-of-type {\n",
       "        vertical-align: middle;\n",
       "    }\n",
       "\n",
       "    .dataframe tbody tr th {\n",
       "        vertical-align: top;\n",
       "    }\n",
       "\n",
       "    .dataframe thead th {\n",
       "        text-align: right;\n",
       "    }\n",
       "</style>\n",
       "<table border=\"1\" class=\"dataframe\">\n",
       "  <thead>\n",
       "    <tr style=\"text-align: right;\">\n",
       "      <th></th>\n",
       "      <th>name</th>\n",
       "      <th>text</th>\n",
       "      <th>num_tokens</th>\n",
       "    </tr>\n",
       "  </thead>\n",
       "  <tbody>\n",
       "    <tr>\n",
       "      <th>742</th>\n",
       "      <td>international-institute-for-geo---information-...</td>\n",
       "      <td>• All research activities involving personal d...</td>\n",
       "      <td>858</td>\n",
       "    </tr>\n",
       "    <tr>\n",
       "      <th>1265</th>\n",
       "      <td>robert-gordon-university.md</td>\n",
       "      <td>InstitutionSchoolAcademicGuidanceDocumentation...</td>\n",
       "      <td>629</td>\n",
       "    </tr>\n",
       "    <tr>\n",
       "      <th>1811</th>\n",
       "      <td>university-medical-center-utrecht.md</td>\n",
       "      <td>Human researchAllscientificresearchinwhichpeop...</td>\n",
       "      <td>626</td>\n",
       "    </tr>\n",
       "    <tr>\n",
       "      <th>1894</th>\n",
       "      <td>university-of-bradford.md</td>\n",
       "      <td>5.2.1  Researchers must comply with all legal,...</td>\n",
       "      <td>591</td>\n",
       "    </tr>\n",
       "    <tr>\n",
       "      <th>1752</th>\n",
       "      <td>university-campus-suffolk.md</td>\n",
       "      <td>a. The Data Subject has given explicit consent...</td>\n",
       "      <td>524</td>\n",
       "    </tr>\n",
       "    <tr>\n",
       "      <th>...</th>\n",
       "      <td>...</td>\n",
       "      <td>...</td>\n",
       "      <td>...</td>\n",
       "    </tr>\n",
       "    <tr>\n",
       "      <th>2291</th>\n",
       "      <td>university-of-hull.md</td>\n",
       "      <td>Responsibilities</td>\n",
       "      <td>1</td>\n",
       "    </tr>\n",
       "    <tr>\n",
       "      <th>2483</th>\n",
       "      <td>university-of-potsdam.md</td>\n",
       "      <td>Contents</td>\n",
       "      <td>1</td>\n",
       "    </tr>\n",
       "    <tr>\n",
       "      <th>2190</th>\n",
       "      <td>university-of-helsinki.md</td>\n",
       "      <td>Contents</td>\n",
       "      <td>1</td>\n",
       "    </tr>\n",
       "    <tr>\n",
       "      <th>1330</th>\n",
       "      <td>staffordshire-university.md</td>\n",
       "      <td>Policy  \\n</td>\n",
       "      <td>1</td>\n",
       "    </tr>\n",
       "    <tr>\n",
       "      <th>2913</th>\n",
       "      <td>wrexham-university.md</td>\n",
       "      <td>Principles</td>\n",
       "      <td>1</td>\n",
       "    </tr>\n",
       "  </tbody>\n",
       "</table>\n",
       "<p>2936 rows × 3 columns</p>\n",
       "</div>"
      ]
     },
     "execution_count": 99,
     "metadata": {},
     "output_type": "execute_result"
    }
   ],
   "execution_count": 99
  },
  {
   "metadata": {
    "ExecuteTime": {
     "end_time": "2025-01-20T21:12:45.391933Z",
     "start_time": "2025-01-20T21:12:45.331479Z"
    }
   },
   "cell_type": "code",
   "source": [
    "fig = px.histogram(df_documents_split, x='num_tokens', nbins=100)\n",
    "fig.update_layout(height=500, width=1000)\n",
    "fig.write_image(f'{my_git_root}/notebooks/images//5_token_hist_tables.pdf')"
   ],
   "id": "8f6a383cd371a0e3",
   "outputs": [],
   "execution_count": 100
  },
  {
   "metadata": {
    "ExecuteTime": {
     "end_time": "2025-01-20T21:12:45.461606Z",
     "start_time": "2025-01-20T21:12:45.412208Z"
    }
   },
   "cell_type": "code",
   "source": [
    "_ = plt.boxplot(df_documents_split['num_tokens'], showfliers=True)\n",
    "plt.savefig(f'{my_git_root}/notebooks/images/5_token_boxplot_tables.svg')"
   ],
   "id": "5cd151e6f2a58f78",
   "outputs": [
    {
     "data": {
      "text/plain": [
       "<Figure size 640x480 with 1 Axes>"
      ],
      "image/png": "[encoded data removed]"
     },
     "metadata": {},
     "output_type": "display_data"
    }
   ],
   "execution_count": 101
  },
  {
   "metadata": {},
   "cell_type": "markdown",
   "source": "## Step 6: Split newlines",
   "id": "7b62e1338599a19"
  },
  {
   "metadata": {
    "ExecuteTime": {
     "end_time": "2025-01-20T21:12:45.536050Z",
     "start_time": "2025-01-20T21:12:45.465150Z"
    }
   },
   "cell_type": "code",
   "source": [
    "# If any chunk is still too long, we split it by its newline symbols '\\n'\n",
    "# Split the documents by list items while keeping track of the names\n",
    "names = []\n",
    "documents_split = []\n",
    "\n",
    "for index, row in df_documents_split.iterrows():\n",
    "    if row['num_tokens'] > sentence_transformer_max_tokens:\n",
    "        document_split = re.split(r'\\n+', row['text'])\n",
    "        names.append([row['name']] * len(document_split))\n",
    "    else:\n",
    "        document_split = row['text']\n",
    "        names.append(row['name'])\n",
    "    documents_split.append(document_split)\n",
    "\n",
    "# Flatten the lists from 2-dimensional to 1-dimensional\n",
    "\n",
    "names = flatten(names)\n",
    "documents_split = flatten(documents_split)"
   ],
   "id": "31ea81c615611b63",
   "outputs": [],
   "execution_count": 102
  },
  {
   "metadata": {
    "ExecuteTime": {
     "end_time": "2025-01-20T21:12:46.169445Z",
     "start_time": "2025-01-20T21:12:45.560870Z"
    }
   },
   "cell_type": "code",
   "source": [
    "# Calculate the number of tokens\n",
    "\n",
    "num_tokens = []\n",
    "for text in documents_split:\n",
    "    tokens = tokenizer.tokenize(text)\n",
    "    num_tokens.append(len(tokens))"
   ],
   "id": "99a6130538d64d76",
   "outputs": [],
   "execution_count": 103
  },
  {
   "metadata": {
    "ExecuteTime": {
     "end_time": "2025-01-20T21:12:46.182277Z",
     "start_time": "2025-01-20T21:12:46.179695Z"
    }
   },
   "cell_type": "code",
   "source": [
    "# Create dataframe\n",
    "df_documents_split = pd.DataFrame(data={\n",
    "    'name': names,\n",
    "    'text': documents_split,\n",
    "    'num_tokens': num_tokens\n",
    "})"
   ],
   "id": "132ab335a4deccbf",
   "outputs": [],
   "execution_count": 104
  },
  {
   "metadata": {
    "ExecuteTime": {
     "end_time": "2025-01-20T21:12:46.234829Z",
     "start_time": "2025-01-20T21:12:46.230231Z"
    }
   },
   "cell_type": "code",
   "source": [
    "# What does our data look like now?\n",
    "df_documents_split.sort_values(by=['num_tokens'], ascending=False)"
   ],
   "id": "1410864d1b0ba414",
   "outputs": [
    {
     "data": {
      "text/plain": [
       "                                                name  \\\n",
       "1279                     robert-gordon-university.md   \n",
       "1834            university-medical-center-utrecht.md   \n",
       "1006                medizinische-universität-graz.md   \n",
       "1833            university-medical-center-utrecht.md   \n",
       "1608                the-university-of-northampton.md   \n",
       "...                                              ...   \n",
       "2325                           university-of-hull.md   \n",
       "1840            university-medical-center-utrecht.md   \n",
       "1905                       university-of-bradford.md   \n",
       "484   faculty-of-humanities-of-utrecht-university.md   \n",
       "1385                   technical-university-delft.md   \n",
       "\n",
       "                                                   text  num_tokens  \n",
       "1279  InstitutionSchoolAcademicGuidanceDocumentation...         629  \n",
       "1834  Human researchAllscientificresearchinwhichpeop...         626  \n",
       "1006  TermAbbreviationMeaningThirdA natural or legal...         520  \n",
       "1833  TermDefinitieAnonymiseThe removal of directly ...         513  \n",
       "1608  4.2 Research data management procedure  \\n\\nAt...         512  \n",
       "...                                                 ...         ...  \n",
       "2325                                   Responsibilities           1  \n",
       "1840  TotstandkomingengoedkeuringDatumBeheerderResea...           1  \n",
       "1905                                             Policy           1  \n",
       "484                                         Regulations           1  \n",
       "1385                                       Introduction           1  \n",
       "\n",
       "[2970 rows x 3 columns]"
      ],
      "text/html": [
       "<div>\n",
       "<style scoped>\n",
       "    .dataframe tbody tr th:only-of-type {\n",
       "        vertical-align: middle;\n",
       "    }\n",
       "\n",
       "    .dataframe tbody tr th {\n",
       "        vertical-align: top;\n",
       "    }\n",
       "\n",
       "    .dataframe thead th {\n",
       "        text-align: right;\n",
       "    }\n",
       "</style>\n",
       "<table border=\"1\" class=\"dataframe\">\n",
       "  <thead>\n",
       "    <tr style=\"text-align: right;\">\n",
       "      <th></th>\n",
       "      <th>name</th>\n",
       "      <th>text</th>\n",
       "      <th>num_tokens</th>\n",
       "    </tr>\n",
       "  </thead>\n",
       "  <tbody>\n",
       "    <tr>\n",
       "      <th>1279</th>\n",
       "      <td>robert-gordon-university.md</td>\n",
       "      <td>InstitutionSchoolAcademicGuidanceDocumentation...</td>\n",
       "      <td>629</td>\n",
       "    </tr>\n",
       "    <tr>\n",
       "      <th>1834</th>\n",
       "      <td>university-medical-center-utrecht.md</td>\n",
       "      <td>Human researchAllscientificresearchinwhichpeop...</td>\n",
       "      <td>626</td>\n",
       "    </tr>\n",
       "    <tr>\n",
       "      <th>1006</th>\n",
       "      <td>medizinische-universität-graz.md</td>\n",
       "      <td>TermAbbreviationMeaningThirdA natural or legal...</td>\n",
       "      <td>520</td>\n",
       "    </tr>\n",
       "    <tr>\n",
       "      <th>1833</th>\n",
       "      <td>university-medical-center-utrecht.md</td>\n",
       "      <td>TermDefinitieAnonymiseThe removal of directly ...</td>\n",
       "      <td>513</td>\n",
       "    </tr>\n",
       "    <tr>\n",
       "      <th>1608</th>\n",
       "      <td>the-university-of-northampton.md</td>\n",
       "      <td>4.2 Research data management procedure  \\n\\nAt...</td>\n",
       "      <td>512</td>\n",
       "    </tr>\n",
       "    <tr>\n",
       "      <th>...</th>\n",
       "      <td>...</td>\n",
       "      <td>...</td>\n",
       "      <td>...</td>\n",
       "    </tr>\n",
       "    <tr>\n",
       "      <th>2325</th>\n",
       "      <td>university-of-hull.md</td>\n",
       "      <td>Responsibilities</td>\n",
       "      <td>1</td>\n",
       "    </tr>\n",
       "    <tr>\n",
       "      <th>1840</th>\n",
       "      <td>university-medical-center-utrecht.md</td>\n",
       "      <td>TotstandkomingengoedkeuringDatumBeheerderResea...</td>\n",
       "      <td>1</td>\n",
       "    </tr>\n",
       "    <tr>\n",
       "      <th>1905</th>\n",
       "      <td>university-of-bradford.md</td>\n",
       "      <td>Policy</td>\n",
       "      <td>1</td>\n",
       "    </tr>\n",
       "    <tr>\n",
       "      <th>484</th>\n",
       "      <td>faculty-of-humanities-of-utrecht-university.md</td>\n",
       "      <td>Regulations</td>\n",
       "      <td>1</td>\n",
       "    </tr>\n",
       "    <tr>\n",
       "      <th>1385</th>\n",
       "      <td>technical-university-delft.md</td>\n",
       "      <td>Introduction</td>\n",
       "      <td>1</td>\n",
       "    </tr>\n",
       "  </tbody>\n",
       "</table>\n",
       "<p>2970 rows × 3 columns</p>\n",
       "</div>"
      ]
     },
     "execution_count": 105,
     "metadata": {},
     "output_type": "execute_result"
    }
   ],
   "execution_count": 105
  },
  {
   "metadata": {
    "ExecuteTime": {
     "end_time": "2025-01-20T21:12:46.344114Z",
     "start_time": "2025-01-20T21:12:46.289340Z"
    }
   },
   "cell_type": "code",
   "source": [
    "fig = px.histogram(df_documents_split, x='num_tokens', nbins=100)\n",
    "fig.update_layout(height=500, width=1000)\n",
    "fig.write_image(f'{my_git_root}/notebooks/images/6_token_hist_newlines.pdf')"
   ],
   "id": "10fc9be980291627",
   "outputs": [],
   "execution_count": 106
  },
  {
   "metadata": {
    "ExecuteTime": {
     "end_time": "2025-01-20T21:12:46.430502Z",
     "start_time": "2025-01-20T21:12:46.372522Z"
    }
   },
   "cell_type": "code",
   "source": [
    "_ = plt.boxplot(df_documents_split['num_tokens'], showfliers=True)\n",
    "plt.savefig(f'{my_git_root}/notebooks/images/6_token_boxplot_newlines.svg')\n"
   ],
   "id": "9da9775d54615422",
   "outputs": [
    {
     "data": {
      "text/plain": [
       "<Figure size 640x480 with 1 Axes>"
      ],
      "image/png": "[encoded data removed]"
     },
     "metadata": {},
     "output_type": "display_data"
    }
   ],
   "execution_count": 107
  },
  {
   "metadata": {},
   "cell_type": "markdown",
   "source": "## Step 7: Split chunks into halves",
   "id": "6b5b3c4fc3c4b0bc"
  },
  {
   "metadata": {
    "ExecuteTime": {
     "end_time": "2025-01-20T21:12:46.503358Z",
     "start_time": "2025-01-20T21:12:46.432721Z"
    }
   },
   "cell_type": "code",
   "source": [
    "# For all the remaining chunks, we will simply cut them in half\n",
    "# Split the documents by paragraphs while keeping track of the names\n",
    "names = []\n",
    "documents_split = []\n",
    "\n",
    "for index, row in df_documents_split.iterrows():\n",
    "    if row['num_tokens'] > sentence_transformer_max_tokens:\n",
    "        text = row['text']\n",
    "        document_split = [text[:len(text)//2], text[len(text)//2:]]\n",
    "        names.append([row['name']] * 2)\n",
    "    else:\n",
    "        document_split = row['text']\n",
    "        names.append(row['name'])\n",
    "    documents_split.append(document_split)\n",
    "\n",
    "# Flatten the lists from 2-dimensional to 1-dimensional\n",
    "\n",
    "names = flatten(names)\n",
    "documents_split = flatten(documents_split)"
   ],
   "id": "f81029af4cdaa1eb",
   "outputs": [],
   "execution_count": 108
  },
  {
   "metadata": {
    "ExecuteTime": {
     "end_time": "2025-01-20T21:12:47.132484Z",
     "start_time": "2025-01-20T21:12:46.513541Z"
    }
   },
   "cell_type": "code",
   "source": [
    "# Calculate the number of tokens\n",
    "\n",
    "num_tokens = []\n",
    "for text in documents_split:\n",
    "    tokens = tokenizer.tokenize(text)\n",
    "    num_tokens.append(len(tokens))"
   ],
   "id": "6baf3293700691bd",
   "outputs": [],
   "execution_count": 109
  },
  {
   "metadata": {
    "ExecuteTime": {
     "end_time": "2025-01-20T21:12:47.144390Z",
     "start_time": "2025-01-20T21:12:47.142109Z"
    }
   },
   "cell_type": "code",
   "source": [
    "# Create dataframe\n",
    "df_documents_split = pd.DataFrame(data={\n",
    "    'name': names,\n",
    "    'text': documents_split,\n",
    "    'num_tokens': num_tokens\n",
    "})"
   ],
   "id": "14460659ea7aca9e",
   "outputs": [],
   "execution_count": 110
  },
  {
   "metadata": {
    "ExecuteTime": {
     "end_time": "2025-01-20T21:12:47.195217Z",
     "start_time": "2025-01-20T21:12:47.191582Z"
    }
   },
   "cell_type": "code",
   "source": [
    "# Remove chunks without letters\n",
    "mask = df_documents_split['text'].apply(contains_text)\n",
    "df_documents_split = df_documents_split[mask].reset_index(drop=True)"
   ],
   "id": "248e82dc20332c4a",
   "outputs": [],
   "execution_count": 111
  },
  {
   "metadata": {
    "ExecuteTime": {
     "end_time": "2025-01-20T21:12:47.249148Z",
     "start_time": "2025-01-20T21:12:47.244402Z"
    }
   },
   "cell_type": "code",
   "source": [
    "# What does our data look like now?\n",
    "df_documents_split.sort_values(by=['num_tokens'], ascending=False)"
   ],
   "id": "99f9db65fe5a46cc",
   "outputs": [
    {
     "data": {
      "text/plain": [
       "                                      name  \\\n",
       "1244    research-data-management-policy.md   \n",
       "1610      the-university-of-northampton.md   \n",
       "1343                sorbonne-university.md   \n",
       "1027      medizinische-universität-wien.md   \n",
       "897                   leiden-university.md   \n",
       "...                                    ...   \n",
       "108            brunel-university-london.md   \n",
       "1561           the-university-of-exeter.md   \n",
       "1201                             qutech.md   \n",
       "1409  technical-university-of-darmstadt.md   \n",
       "1346           staffordshire-university.md   \n",
       "\n",
       "                                                   text  num_tokens  \n",
       "1244  4.2 Research data management procedure  \\n\\nAt...         512  \n",
       "1610  4.2 Research data management procedure  \\n\\nAt...         512  \n",
       "1343  Recommendations for the opening of research da...         511  \n",
       "1027  TermAbbreviationMeaningDataClearingHouseBefore...         511  \n",
       "897   B. Responsibilities  \\n\\n10. The Faculty Board...         511  \n",
       "...                                                 ...         ...  \n",
       "108                                              Policy           1  \n",
       "1561                                            Context           1  \n",
       "1201                                            Preface           1  \n",
       "1409                                     Guidelines  \\n           1  \n",
       "1346                                         Policy  \\n           1  \n",
       "\n",
       "[2974 rows x 3 columns]"
      ],
      "text/html": [
       "<div>\n",
       "<style scoped>\n",
       "    .dataframe tbody tr th:only-of-type {\n",
       "        vertical-align: middle;\n",
       "    }\n",
       "\n",
       "    .dataframe tbody tr th {\n",
       "        vertical-align: top;\n",
       "    }\n",
       "\n",
       "    .dataframe thead th {\n",
       "        text-align: right;\n",
       "    }\n",
       "</style>\n",
       "<table border=\"1\" class=\"dataframe\">\n",
       "  <thead>\n",
       "    <tr style=\"text-align: right;\">\n",
       "      <th></th>\n",
       "      <th>name</th>\n",
       "      <th>text</th>\n",
       "      <th>num_tokens</th>\n",
       "    </tr>\n",
       "  </thead>\n",
       "  <tbody>\n",
       "    <tr>\n",
       "      <th>1244</th>\n",
       "      <td>research-data-management-policy.md</td>\n",
       "      <td>4.2 Research data management procedure  \\n\\nAt...</td>\n",
       "      <td>512</td>\n",
       "    </tr>\n",
       "    <tr>\n",
       "      <th>1610</th>\n",
       "      <td>the-university-of-northampton.md</td>\n",
       "      <td>4.2 Research data management procedure  \\n\\nAt...</td>\n",
       "      <td>512</td>\n",
       "    </tr>\n",
       "    <tr>\n",
       "      <th>1343</th>\n",
       "      <td>sorbonne-university.md</td>\n",
       "      <td>Recommendations for the opening of research da...</td>\n",
       "      <td>511</td>\n",
       "    </tr>\n",
       "    <tr>\n",
       "      <th>1027</th>\n",
       "      <td>medizinische-universität-wien.md</td>\n",
       "      <td>TermAbbreviationMeaningDataClearingHouseBefore...</td>\n",
       "      <td>511</td>\n",
       "    </tr>\n",
       "    <tr>\n",
       "      <th>897</th>\n",
       "      <td>leiden-university.md</td>\n",
       "      <td>B. Responsibilities  \\n\\n10. The Faculty Board...</td>\n",
       "      <td>511</td>\n",
       "    </tr>\n",
       "    <tr>\n",
       "      <th>...</th>\n",
       "      <td>...</td>\n",
       "      <td>...</td>\n",
       "      <td>...</td>\n",
       "    </tr>\n",
       "    <tr>\n",
       "      <th>108</th>\n",
       "      <td>brunel-university-london.md</td>\n",
       "      <td>Policy</td>\n",
       "      <td>1</td>\n",
       "    </tr>\n",
       "    <tr>\n",
       "      <th>1561</th>\n",
       "      <td>the-university-of-exeter.md</td>\n",
       "      <td>Context</td>\n",
       "      <td>1</td>\n",
       "    </tr>\n",
       "    <tr>\n",
       "      <th>1201</th>\n",
       "      <td>qutech.md</td>\n",
       "      <td>Preface</td>\n",
       "      <td>1</td>\n",
       "    </tr>\n",
       "    <tr>\n",
       "      <th>1409</th>\n",
       "      <td>technical-university-of-darmstadt.md</td>\n",
       "      <td>Guidelines  \\n</td>\n",
       "      <td>1</td>\n",
       "    </tr>\n",
       "    <tr>\n",
       "      <th>1346</th>\n",
       "      <td>staffordshire-university.md</td>\n",
       "      <td>Policy  \\n</td>\n",
       "      <td>1</td>\n",
       "    </tr>\n",
       "  </tbody>\n",
       "</table>\n",
       "<p>2974 rows × 3 columns</p>\n",
       "</div>"
      ]
     },
     "execution_count": 112,
     "metadata": {},
     "output_type": "execute_result"
    }
   ],
   "execution_count": 112
  },
  {
   "metadata": {
    "ExecuteTime": {
     "end_time": "2025-01-20T21:12:47.347874Z",
     "start_time": "2025-01-20T21:12:47.288015Z"
    }
   },
   "cell_type": "code",
   "source": [
    "fig = px.histogram(df_documents_split, x='num_tokens', nbins=100)\n",
    "fig.update_layout(height=500, width=1000)\n",
    "fig.write_image(f'{my_git_root}/notebooks/images/7_token_hist_halves.pdf')"
   ],
   "id": "b4d602e3c68a6d58",
   "outputs": [],
   "execution_count": 113
  },
  {
   "metadata": {
    "ExecuteTime": {
     "end_time": "2025-01-20T21:12:47.420775Z",
     "start_time": "2025-01-20T21:12:47.366285Z"
    }
   },
   "cell_type": "code",
   "source": [
    "_ = plt.boxplot(df_documents_split['num_tokens'], showfliers=True)\n",
    "plt.savefig(f'{my_git_root}/notebooks/images/7_token_boxplot_halves.svg')"
   ],
   "id": "bd965e53c6086ea5",
   "outputs": [
    {
     "data": {
      "text/plain": [
       "<Figure size 640x480 with 1 Axes>"
      ],
      "image/png": "[encoded data removed]"
     },
     "metadata": {},
     "output_type": "display_data"
    }
   ],
   "execution_count": 114
  },
  {
   "metadata": {},
   "cell_type": "markdown",
   "source": "# Export chunked dataset",
   "id": "b15876c32f15fead"
  },
  {
   "metadata": {
    "ExecuteTime": {
     "end_time": "2025-01-20T21:12:47.672459Z",
     "start_time": "2025-01-20T21:12:47.670893Z"
    }
   },
   "cell_type": "code",
   "source": "# df_documents_split.to_csv(f'{my_git_root}/data/documents_chunked.csv', index=False)",
   "id": "50ae62e036e84865",
   "outputs": [],
   "execution_count": 115
  }
 ],
 "metadata": {
  "kernelspec": {
   "display_name": "Python 3",
   "language": "python",
   "name": "python3"
  },
  "language_info": {
   "codemirror_mode": {
    "name": "ipython",
    "version": 2
   },
   "file_extension": ".py",
   "mimetype": "text/x-python",
   "name": "python",
   "nbconvert_exporter": "python",
   "pygments_lexer": "ipython2",
   "version": "2.7.6"
  }
 },
 "nbformat": 4,
 "nbformat_minor": 5
}
