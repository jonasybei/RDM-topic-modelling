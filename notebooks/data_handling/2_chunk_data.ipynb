{
 "cells": [
  {
   "metadata": {},
   "cell_type": "markdown",
   "source": "# Imports",
   "id": "764c5c7f2e1f2c20"
  },
  {
   "metadata": {
    "collapsed": true,
    "ExecuteTime": {
     "end_time": "2025-01-25T13:04:05.337850Z",
     "start_time": "2025-01-25T13:04:05.335415Z"
    }
   },
   "cell_type": "code",
   "source": [
    "# Importing libraries\n",
    "\n",
    "import re\n",
    "import sys\n",
    "import matplotlib.pyplot as plt\n",
    "\n",
    "import pandas as pd\n",
    "import plotly.express as px\n",
    "import yaml\n",
    "from git_root import git_root\n",
    "from transformers import AutoTokenizer"
   ],
   "id": "13f81067d9bf8f70",
   "outputs": [],
   "execution_count": 115
  },
  {
   "metadata": {
    "ExecuteTime": {
     "end_time": "2025-01-25T13:04:05.384251Z",
     "start_time": "2025-01-25T13:04:05.379836Z"
    }
   },
   "cell_type": "code",
   "source": [
    "# adding git_root and local imports\n",
    "my_git_root = git_root()\n",
    "sys.path.append(my_git_root)\n",
    "\n",
    "from src import flatten, contains_text, extract_table"
   ],
   "id": "79d8a8c9873ba010",
   "outputs": [],
   "execution_count": 116
  },
  {
   "metadata": {
    "ExecuteTime": {
     "end_time": "2025-01-25T13:04:05.447293Z",
     "start_time": "2025-01-25T13:04:05.425006Z"
    }
   },
   "cell_type": "code",
   "source": [
    "# importing data\n",
    "df_documents_path = f'{my_git_root}/data/documents_cleaned.csv'\n",
    "df_documents = pd.read_csv(df_documents_path)"
   ],
   "id": "c77f7240d0bd2e1d",
   "outputs": [],
   "execution_count": 117
  },
  {
   "metadata": {
    "ExecuteTime": {
     "end_time": "2025-01-25T13:04:05.476683Z",
     "start_time": "2025-01-25T13:04:05.472391Z"
    }
   },
   "cell_type": "code",
   "source": [
    "# importing settings\n",
    "with open(f'{my_git_root}/settings.yaml', 'r') as file:\n",
    "    settings = yaml.safe_load(file)\n",
    "\n",
    "print(settings)\n",
    "\n",
    "sentence_transformer_model_name = settings['sentence_transformer_model_name']\n",
    "sentence_transformer_max_tokens = settings['sentence_transformer_max_tokens']"
   ],
   "id": "3e32e1731c639d9c",
   "outputs": [
    {
     "name": "stdout",
     "output_type": "stream",
     "text": [
      "{'sentence_transformer_model_name': 'thenlper/gte-small', 'sentence_transformer_max_tokens': 512, 'llm_model_name': 'tiiuae/Falcon3-7B-Instruct'}\n"
     ]
    }
   ],
   "execution_count": 118
  },
  {
   "metadata": {
    "ExecuteTime": {
     "end_time": "2025-01-25T13:04:05.757442Z",
     "start_time": "2025-01-25T13:04:05.520634Z"
    }
   },
   "cell_type": "code",
   "source": [
    "# initializing tokenizer\n",
    "tokenizer = AutoTokenizer.from_pretrained(sentence_transformer_model_name)"
   ],
   "id": "b0050d479da5bf95",
   "outputs": [],
   "execution_count": 119
  },
  {
   "metadata": {},
   "cell_type": "markdown",
   "source": "# What does our current data look like?",
   "id": "1f6f06bdad0e7c9d"
  },
  {
   "metadata": {
    "ExecuteTime": {
     "end_time": "2025-01-25T13:04:06.338997Z",
     "start_time": "2025-01-25T13:04:05.769488Z"
    }
   },
   "cell_type": "code",
   "source": [
    "# Calculate the number of tokens for each document\n",
    "num_tokens = []\n",
    "\n",
    "for text in df_documents['text'].to_list():\n",
    "    tokens = tokenizer.tokenize(text)\n",
    "    num_tokens.append(len(tokens))\n",
    "df_documents['num_tokens'] = num_tokens"
   ],
   "id": "5e7ff3a2097b609c",
   "outputs": [],
   "execution_count": 120
  },
  {
   "metadata": {
    "ExecuteTime": {
     "end_time": "2025-01-25T13:04:06.356679Z",
     "start_time": "2025-01-25T13:04:06.350617Z"
    }
   },
   "cell_type": "code",
   "source": "df_documents",
   "id": "1654d971c8645892",
   "outputs": [
    {
     "data": {
      "text/plain": [
       "                            name  \\\n",
       "0            aalto-university.md   \n",
       "1      aberystwyth-university.md   \n",
       "2            aston-university.md   \n",
       "3           bangor-university.md   \n",
       "4    brunel-university-london.md   \n",
       "..                           ...   \n",
       "137       universität-rostock.md   \n",
       "138        universität-siegen.md   \n",
       "139     universität-stuttgart.md   \n",
       "140        utrecht-university.md   \n",
       "141        wrexham-university.md   \n",
       "\n",
       "                                                  text  num_tokens  \n",
       "0    # Aalto University  \\n\\n## Aalto University Re...        1480  \n",
       "1    # Research Data Management Policy  \\n\\nVersion...        1002  \n",
       "2    # Research Data Management Policy  \\n\\nJuly 20...        3173  \n",
       "3    # Data Protection Policy  \\n\\n<html><body><tab...        6222  \n",
       "4    # Brunel University Research Data Management P...        2278  \n",
       "..                                                 ...         ...  \n",
       "137  # Research Data Policy of the University of Ro...        1335  \n",
       "138  # Research-Data-Policy of the University of Si...         349  \n",
       "139  # Research data management policy of the Unive...         532  \n",
       "140  # University policy framework for research dat...        2250  \n",
       "141  # Prifysgol Wrecsam Wrexham University\\n\\n# Re...        3609  \n",
       "\n",
       "[142 rows x 3 columns]"
      ],
      "text/html": [
       "<div>\n",
       "<style scoped>\n",
       "    .dataframe tbody tr th:only-of-type {\n",
       "        vertical-align: middle;\n",
       "    }\n",
       "\n",
       "    .dataframe tbody tr th {\n",
       "        vertical-align: top;\n",
       "    }\n",
       "\n",
       "    .dataframe thead th {\n",
       "        text-align: right;\n",
       "    }\n",
       "</style>\n",
       "<table border=\"1\" class=\"dataframe\">\n",
       "  <thead>\n",
       "    <tr style=\"text-align: right;\">\n",
       "      <th></th>\n",
       "      <th>name</th>\n",
       "      <th>text</th>\n",
       "      <th>num_tokens</th>\n",
       "    </tr>\n",
       "  </thead>\n",
       "  <tbody>\n",
       "    <tr>\n",
       "      <th>0</th>\n",
       "      <td>aalto-university.md</td>\n",
       "      <td># Aalto University  \\n\\n## Aalto University Re...</td>\n",
       "      <td>1480</td>\n",
       "    </tr>\n",
       "    <tr>\n",
       "      <th>1</th>\n",
       "      <td>aberystwyth-university.md</td>\n",
       "      <td># Research Data Management Policy  \\n\\nVersion...</td>\n",
       "      <td>1002</td>\n",
       "    </tr>\n",
       "    <tr>\n",
       "      <th>2</th>\n",
       "      <td>aston-university.md</td>\n",
       "      <td># Research Data Management Policy  \\n\\nJuly 20...</td>\n",
       "      <td>3173</td>\n",
       "    </tr>\n",
       "    <tr>\n",
       "      <th>3</th>\n",
       "      <td>bangor-university.md</td>\n",
       "      <td># Data Protection Policy  \\n\\n&lt;html&gt;&lt;body&gt;&lt;tab...</td>\n",
       "      <td>6222</td>\n",
       "    </tr>\n",
       "    <tr>\n",
       "      <th>4</th>\n",
       "      <td>brunel-university-london.md</td>\n",
       "      <td># Brunel University Research Data Management P...</td>\n",
       "      <td>2278</td>\n",
       "    </tr>\n",
       "    <tr>\n",
       "      <th>...</th>\n",
       "      <td>...</td>\n",
       "      <td>...</td>\n",
       "      <td>...</td>\n",
       "    </tr>\n",
       "    <tr>\n",
       "      <th>137</th>\n",
       "      <td>universität-rostock.md</td>\n",
       "      <td># Research Data Policy of the University of Ro...</td>\n",
       "      <td>1335</td>\n",
       "    </tr>\n",
       "    <tr>\n",
       "      <th>138</th>\n",
       "      <td>universität-siegen.md</td>\n",
       "      <td># Research-Data-Policy of the University of Si...</td>\n",
       "      <td>349</td>\n",
       "    </tr>\n",
       "    <tr>\n",
       "      <th>139</th>\n",
       "      <td>universität-stuttgart.md</td>\n",
       "      <td># Research data management policy of the Unive...</td>\n",
       "      <td>532</td>\n",
       "    </tr>\n",
       "    <tr>\n",
       "      <th>140</th>\n",
       "      <td>utrecht-university.md</td>\n",
       "      <td># University policy framework for research dat...</td>\n",
       "      <td>2250</td>\n",
       "    </tr>\n",
       "    <tr>\n",
       "      <th>141</th>\n",
       "      <td>wrexham-university.md</td>\n",
       "      <td># Prifysgol Wrecsam Wrexham University\\n\\n# Re...</td>\n",
       "      <td>3609</td>\n",
       "    </tr>\n",
       "  </tbody>\n",
       "</table>\n",
       "<p>142 rows × 3 columns</p>\n",
       "</div>"
      ]
     },
     "execution_count": 121,
     "metadata": {},
     "output_type": "execute_result"
    }
   ],
   "execution_count": 121
  },
  {
   "metadata": {
    "ExecuteTime": {
     "end_time": "2025-01-25T13:04:06.466997Z",
     "start_time": "2025-01-25T13:04:06.441741Z"
    }
   },
   "cell_type": "code",
   "source": [
    "# histogram: number of tokens for each document\n",
    "px.histogram(df_documents, x='num_tokens', nbins=100)"
   ],
   "id": "6db16765e7c4b50c",
   "outputs": [
    {
     "data": {
      "application/vnd.plotly.v1+json": {
       "data": [
        {
         "alignmentgroup": "True",
         "bingroup": "x",
         "hovertemplate": "num_tokens=%{x}<br>count=%{y}<extra></extra>",
         "legendgroup": "",
         "marker": {
          "color": "#636efa",
          "pattern": {
           "shape": ""
          }
         },
         "name": "",
         "nbinsx": 100,
         "offsetgroup": "",
         "orientation": "v",
         "showlegend": false,
         "x": [
          1480,
          1002,
          3173,
          6222,
          2278,
          2836,
          1628,
          779,
          9071,
          1968,
          408,
          2145,
          2825,
          2797,
          3646,
          3465,
          714,
          2240,
          3052,
          601,
          3509,
          2420,
          3717,
          1802,
          527,
          883,
          1152,
          5511,
          3626,
          1283,
          618,
          2206,
          3135,
          5265,
          3801,
          3498,
          890,
          410,
          3498,
          1098,
          1206,
          1619,
          798,
          1063,
          2579,
          4034,
          875,
          2011,
          2160,
          4016,
          3492,
          2835,
          2405,
          1210,
          3914,
          1833,
          1670,
          2329,
          1528,
          2345,
          2588,
          3917,
          3727,
          736,
          546,
          1531,
          1209,
          835,
          1558,
          4575,
          2134,
          1458,
          4532,
          2321,
          2271,
          608,
          696,
          1786,
          2769,
          3037,
          1947,
          2701,
          2462,
          6295,
          2118,
          1851,
          2918,
          2612,
          4309,
          2349,
          6327,
          2209,
          3346,
          3123,
          3851,
          180,
          2747,
          2717,
          5940,
          456,
          6581,
          2636,
          1823,
          1825,
          1574,
          6794,
          486,
          4519,
          3756,
          2310,
          3651,
          1274,
          3916,
          2050,
          1830,
          4965,
          1823,
          1217,
          3427,
          3879,
          4225,
          5309,
          5333,
          697,
          2598,
          9182,
          2543,
          3510,
          1981,
          5474,
          3758,
          2514,
          1553,
          2650,
          1302,
          2124,
          1802,
          1335,
          349,
          532,
          2250,
          3609
         ],
         "xaxis": "x",
         "yaxis": "y",
         "type": "histogram"
        }
       ],
       "layout": {
        "template": {
         "data": {
          "histogram2dcontour": [
           {
            "type": "histogram2dcontour",
            "colorbar": {
             "outlinewidth": 0,
             "ticks": ""
            },
            "colorscale": [
             [
              0.0,
              "#0d0887"
             ],
             [
              0.1111111111111111,
              "#46039f"
             ],
             [
              0.2222222222222222,
              "#7201a8"
             ],
             [
              0.3333333333333333,
              "#9c179e"
             ],
             [
              0.4444444444444444,
              "#bd3786"
             ],
             [
              0.5555555555555556,
              "#d8576b"
             ],
             [
              0.6666666666666666,
              "#ed7953"
             ],
             [
              0.7777777777777778,
              "#fb9f3a"
             ],
             [
              0.8888888888888888,
              "#fdca26"
             ],
             [
              1.0,
              "#f0f921"
             ]
            ]
           }
          ],
          "choropleth": [
           {
            "type": "choropleth",
            "colorbar": {
             "outlinewidth": 0,
             "ticks": ""
            }
           }
          ],
          "histogram2d": [
           {
            "type": "histogram2d",
            "colorbar": {
             "outlinewidth": 0,
             "ticks": ""
            },
            "colorscale": [
             [
              0.0,
              "#0d0887"
             ],
             [
              0.1111111111111111,
              "#46039f"
             ],
             [
              0.2222222222222222,
              "#7201a8"
             ],
             [
              0.3333333333333333,
              "#9c179e"
             ],
             [
              0.4444444444444444,
              "#bd3786"
             ],
             [
              0.5555555555555556,
              "#d8576b"
             ],
             [
              0.6666666666666666,
              "#ed7953"
             ],
             [
              0.7777777777777778,
              "#fb9f3a"
             ],
             [
              0.8888888888888888,
              "#fdca26"
             ],
             [
              1.0,
              "#f0f921"
             ]
            ]
           }
          ],
          "heatmap": [
           {
            "type": "heatmap",
            "colorbar": {
             "outlinewidth": 0,
             "ticks": ""
            },
            "colorscale": [
             [
              0.0,
              "#0d0887"
             ],
             [
              0.1111111111111111,
              "#46039f"
             ],
             [
              0.2222222222222222,
              "#7201a8"
             ],
             [
              0.3333333333333333,
              "#9c179e"
             ],
             [
              0.4444444444444444,
              "#bd3786"
             ],
             [
              0.5555555555555556,
              "#d8576b"
             ],
             [
              0.6666666666666666,
              "#ed7953"
             ],
             [
              0.7777777777777778,
              "#fb9f3a"
             ],
             [
              0.8888888888888888,
              "#fdca26"
             ],
             [
              1.0,
              "#f0f921"
             ]
            ]
           }
          ],
          "heatmapgl": [
           {
            "type": "heatmapgl",
            "colorbar": {
             "outlinewidth": 0,
             "ticks": ""
            },
            "colorscale": [
             [
              0.0,
              "#0d0887"
             ],
             [
              0.1111111111111111,
              "#46039f"
             ],
             [
              0.2222222222222222,
              "#7201a8"
             ],
             [
              0.3333333333333333,
              "#9c179e"
             ],
             [
              0.4444444444444444,
              "#bd3786"
             ],
             [
              0.5555555555555556,
              "#d8576b"
             ],
             [
              0.6666666666666666,
              "#ed7953"
             ],
             [
              0.7777777777777778,
              "#fb9f3a"
             ],
             [
              0.8888888888888888,
              "#fdca26"
             ],
             [
              1.0,
              "#f0f921"
             ]
            ]
           }
          ],
          "contourcarpet": [
           {
            "type": "contourcarpet",
            "colorbar": {
             "outlinewidth": 0,
             "ticks": ""
            }
           }
          ],
          "contour": [
           {
            "type": "contour",
            "colorbar": {
             "outlinewidth": 0,
             "ticks": ""
            },
            "colorscale": [
             [
              0.0,
              "#0d0887"
             ],
             [
              0.1111111111111111,
              "#46039f"
             ],
             [
              0.2222222222222222,
              "#7201a8"
             ],
             [
              0.3333333333333333,
              "#9c179e"
             ],
             [
              0.4444444444444444,
              "#bd3786"
             ],
             [
              0.5555555555555556,
              "#d8576b"
             ],
             [
              0.6666666666666666,
              "#ed7953"
             ],
             [
              0.7777777777777778,
              "#fb9f3a"
             ],
             [
              0.8888888888888888,
              "#fdca26"
             ],
             [
              1.0,
              "#f0f921"
             ]
            ]
           }
          ],
          "surface": [
           {
            "type": "surface",
            "colorbar": {
             "outlinewidth": 0,
             "ticks": ""
            },
            "colorscale": [
             [
              0.0,
              "#0d0887"
             ],
             [
              0.1111111111111111,
              "#46039f"
             ],
             [
              0.2222222222222222,
              "#7201a8"
             ],
             [
              0.3333333333333333,
              "#9c179e"
             ],
             [
              0.4444444444444444,
              "#bd3786"
             ],
             [
              0.5555555555555556,
              "#d8576b"
             ],
             [
              0.6666666666666666,
              "#ed7953"
             ],
             [
              0.7777777777777778,
              "#fb9f3a"
             ],
             [
              0.8888888888888888,
              "#fdca26"
             ],
             [
              1.0,
              "#f0f921"
             ]
            ]
           }
          ],
          "mesh3d": [
           {
            "type": "mesh3d",
            "colorbar": {
             "outlinewidth": 0,
             "ticks": ""
            }
           }
          ],
          "scatter": [
           {
            "marker": {
             "line": {
              "color": "#283442"
             }
            },
            "type": "scatter"
           }
          ],
          "parcoords": [
           {
            "type": "parcoords",
            "line": {
             "colorbar": {
              "outlinewidth": 0,
              "ticks": ""
             }
            }
           }
          ],
          "scatterpolargl": [
           {
            "type": "scatterpolargl",
            "marker": {
             "colorbar": {
              "outlinewidth": 0,
              "ticks": ""
             }
            }
           }
          ],
          "bar": [
           {
            "error_x": {
             "color": "#f2f5fa"
            },
            "error_y": {
             "color": "#f2f5fa"
            },
            "marker": {
             "line": {
              "color": "rgb(17,17,17)",
              "width": 0.5
             },
             "pattern": {
              "fillmode": "overlay",
              "size": 10,
              "solidity": 0.2
             }
            },
            "type": "bar"
           }
          ],
          "scattergeo": [
           {
            "type": "scattergeo",
            "marker": {
             "colorbar": {
              "outlinewidth": 0,
              "ticks": ""
             }
            }
           }
          ],
          "scatterpolar": [
           {
            "type": "scatterpolar",
            "marker": {
             "colorbar": {
              "outlinewidth": 0,
              "ticks": ""
             }
            }
           }
          ],
          "histogram": [
           {
            "marker": {
             "pattern": {
              "fillmode": "overlay",
              "size": 10,
              "solidity": 0.2
             }
            },
            "type": "histogram"
           }
          ],
          "scattergl": [
           {
            "marker": {
             "line": {
              "color": "#283442"
             }
            },
            "type": "scattergl"
           }
          ],
          "scatter3d": [
           {
            "type": "scatter3d",
            "line": {
             "colorbar": {
              "outlinewidth": 0,
              "ticks": ""
             }
            },
            "marker": {
             "colorbar": {
              "outlinewidth": 0,
              "ticks": ""
             }
            }
           }
          ],
          "scattermapbox": [
           {
            "type": "scattermapbox",
            "marker": {
             "colorbar": {
              "outlinewidth": 0,
              "ticks": ""
             }
            }
           }
          ],
          "scatterternary": [
           {
            "type": "scatterternary",
            "marker": {
             "colorbar": {
              "outlinewidth": 0,
              "ticks": ""
             }
            }
           }
          ],
          "scattercarpet": [
           {
            "type": "scattercarpet",
            "marker": {
             "colorbar": {
              "outlinewidth": 0,
              "ticks": ""
             }
            }
           }
          ],
          "carpet": [
           {
            "aaxis": {
             "endlinecolor": "#A2B1C6",
             "gridcolor": "#506784",
             "linecolor": "#506784",
             "minorgridcolor": "#506784",
             "startlinecolor": "#A2B1C6"
            },
            "baxis": {
             "endlinecolor": "#A2B1C6",
             "gridcolor": "#506784",
             "linecolor": "#506784",
             "minorgridcolor": "#506784",
             "startlinecolor": "#A2B1C6"
            },
            "type": "carpet"
           }
          ],
          "table": [
           {
            "cells": {
             "fill": {
              "color": "#506784"
             },
             "line": {
              "color": "rgb(17,17,17)"
             }
            },
            "header": {
             "fill": {
              "color": "#2a3f5f"
             },
             "line": {
              "color": "rgb(17,17,17)"
             }
            },
            "type": "table"
           }
          ],
          "barpolar": [
           {
            "marker": {
             "line": {
              "color": "rgb(17,17,17)",
              "width": 0.5
             },
             "pattern": {
              "fillmode": "overlay",
              "size": 10,
              "solidity": 0.2
             }
            },
            "type": "barpolar"
           }
          ],
          "pie": [
           {
            "automargin": true,
            "type": "pie"
           }
          ]
         },
         "layout": {
          "autotypenumbers": "strict",
          "colorway": [
           "#636efa",
           "#EF553B",
           "#00cc96",
           "#ab63fa",
           "#FFA15A",
           "#19d3f3",
           "#FF6692",
           "#B6E880",
           "#FF97FF",
           "#FECB52"
          ],
          "font": {
           "color": "#f2f5fa"
          },
          "hovermode": "closest",
          "hoverlabel": {
           "align": "left"
          },
          "paper_bgcolor": "rgb(17,17,17)",
          "plot_bgcolor": "rgb(17,17,17)",
          "polar": {
           "bgcolor": "rgb(17,17,17)",
           "angularaxis": {
            "gridcolor": "#506784",
            "linecolor": "#506784",
            "ticks": ""
           },
           "radialaxis": {
            "gridcolor": "#506784",
            "linecolor": "#506784",
            "ticks": ""
           }
          },
          "ternary": {
           "bgcolor": "rgb(17,17,17)",
           "aaxis": {
            "gridcolor": "#506784",
            "linecolor": "#506784",
            "ticks": ""
           },
           "baxis": {
            "gridcolor": "#506784",
            "linecolor": "#506784",
            "ticks": ""
           },
           "caxis": {
            "gridcolor": "#506784",
            "linecolor": "#506784",
            "ticks": ""
           }
          },
          "coloraxis": {
           "colorbar": {
            "outlinewidth": 0,
            "ticks": ""
           }
          },
          "colorscale": {
           "sequential": [
            [
             0.0,
             "#0d0887"
            ],
            [
             0.1111111111111111,
             "#46039f"
            ],
            [
             0.2222222222222222,
             "#7201a8"
            ],
            [
             0.3333333333333333,
             "#9c179e"
            ],
            [
             0.4444444444444444,
             "#bd3786"
            ],
            [
             0.5555555555555556,
             "#d8576b"
            ],
            [
             0.6666666666666666,
             "#ed7953"
            ],
            [
             0.7777777777777778,
             "#fb9f3a"
            ],
            [
             0.8888888888888888,
             "#fdca26"
            ],
            [
             1.0,
             "#f0f921"
            ]
           ],
           "sequentialminus": [
            [
             0.0,
             "#0d0887"
            ],
            [
             0.1111111111111111,
             "#46039f"
            ],
            [
             0.2222222222222222,
             "#7201a8"
            ],
            [
             0.3333333333333333,
             "#9c179e"
            ],
            [
             0.4444444444444444,
             "#bd3786"
            ],
            [
             0.5555555555555556,
             "#d8576b"
            ],
            [
             0.6666666666666666,
             "#ed7953"
            ],
            [
             0.7777777777777778,
             "#fb9f3a"
            ],
            [
             0.8888888888888888,
             "#fdca26"
            ],
            [
             1.0,
             "#f0f921"
            ]
           ],
           "diverging": [
            [
             0,
             "#8e0152"
            ],
            [
             0.1,
             "#c51b7d"
            ],
            [
             0.2,
             "#de77ae"
            ],
            [
             0.3,
             "#f1b6da"
            ],
            [
             0.4,
             "#fde0ef"
            ],
            [
             0.5,
             "#f7f7f7"
            ],
            [
             0.6,
             "#e6f5d0"
            ],
            [
             0.7,
             "#b8e186"
            ],
            [
             0.8,
             "#7fbc41"
            ],
            [
             0.9,
             "#4d9221"
            ],
            [
             1,
             "#276419"
            ]
           ]
          },
          "xaxis": {
           "gridcolor": "#283442",
           "linecolor": "#506784",
           "ticks": "",
           "title": {
            "standoff": 15
           },
           "zerolinecolor": "#283442",
           "automargin": true,
           "zerolinewidth": 2
          },
          "yaxis": {
           "gridcolor": "#283442",
           "linecolor": "#506784",
           "ticks": "",
           "title": {
            "standoff": 15
           },
           "zerolinecolor": "#283442",
           "automargin": true,
           "zerolinewidth": 2
          },
          "scene": {
           "xaxis": {
            "backgroundcolor": "rgb(17,17,17)",
            "gridcolor": "#506784",
            "linecolor": "#506784",
            "showbackground": true,
            "ticks": "",
            "zerolinecolor": "#C8D4E3",
            "gridwidth": 2
           },
           "yaxis": {
            "backgroundcolor": "rgb(17,17,17)",
            "gridcolor": "#506784",
            "linecolor": "#506784",
            "showbackground": true,
            "ticks": "",
            "zerolinecolor": "#C8D4E3",
            "gridwidth": 2
           },
           "zaxis": {
            "backgroundcolor": "rgb(17,17,17)",
            "gridcolor": "#506784",
            "linecolor": "#506784",
            "showbackground": true,
            "ticks": "",
            "zerolinecolor": "#C8D4E3",
            "gridwidth": 2
           }
          },
          "shapedefaults": {
           "line": {
            "color": "#f2f5fa"
           }
          },
          "annotationdefaults": {
           "arrowcolor": "#f2f5fa",
           "arrowhead": 0,
           "arrowwidth": 1
          },
          "geo": {
           "bgcolor": "rgb(17,17,17)",
           "landcolor": "rgb(17,17,17)",
           "subunitcolor": "#506784",
           "showland": true,
           "showlakes": true,
           "lakecolor": "rgb(17,17,17)"
          },
          "title": {
           "x": 0.05
          },
          "updatemenudefaults": {
           "bgcolor": "#506784",
           "borderwidth": 0
          },
          "sliderdefaults": {
           "bgcolor": "#C8D4E3",
           "borderwidth": 1,
           "bordercolor": "rgb(17,17,17)",
           "tickwidth": 0
          },
          "mapbox": {
           "style": "dark"
          }
         }
        },
        "xaxis": {
         "anchor": "y",
         "domain": [
          0.0,
          1.0
         ],
         "title": {
          "text": "num_tokens"
         }
        },
        "yaxis": {
         "anchor": "x",
         "domain": [
          0.0,
          1.0
         ],
         "title": {
          "text": "count"
         }
        },
        "legend": {
         "tracegroupgap": 0
        },
        "margin": {
         "t": 60
        },
        "barmode": "relative"
       },
       "config": {
        "plotlyServerURL": "https://plot.ly"
       }
      },
      "text/html": [
       "<div>                            <div id=\"39db91f7-af1f-489b-ab61-b7f8dd851ccc\" class=\"plotly-graph-div\" style=\"height:525px; width:100%;\"></div>            <script type=\"text/javascript\">                require([\"plotly\"], function(Plotly) {                    window.PLOTLYENV=window.PLOTLYENV || {};                                    if (document.getElementById(\"39db91f7-af1f-489b-ab61-b7f8dd851ccc\")) {                    Plotly.newPlot(                        \"39db91f7-af1f-489b-ab61-b7f8dd851ccc\",                        [{\"alignmentgroup\":\"True\",\"bingroup\":\"x\",\"hovertemplate\":\"num_tokens=%{x}\\u003cbr\\u003ecount=%{y}\\u003cextra\\u003e\\u003c\\u002fextra\\u003e\",\"legendgroup\":\"\",\"marker\":{\"color\":\"#636efa\",\"pattern\":{\"shape\":\"\"}},\"name\":\"\",\"nbinsx\":100,\"offsetgroup\":\"\",\"orientation\":\"v\",\"showlegend\":false,\"x\":[1480,1002,3173,6222,2278,2836,1628,779,9071,1968,408,2145,2825,2797,3646,3465,714,2240,3052,601,3509,2420,3717,1802,527,883,1152,5511,3626,1283,618,2206,3135,5265,3801,3498,890,410,3498,1098,1206,1619,798,1063,2579,4034,875,2011,2160,4016,3492,2835,2405,1210,3914,1833,1670,2329,1528,2345,2588,3917,3727,736,546,1531,1209,835,1558,4575,2134,1458,4532,2321,2271,608,696,1786,2769,3037,1947,2701,2462,6295,2118,1851,2918,2612,4309,2349,6327,2209,3346,3123,3851,180,2747,2717,5940,456,6581,2636,1823,1825,1574,6794,486,4519,3756,2310,3651,1274,3916,2050,1830,4965,1823,1217,3427,3879,4225,5309,5333,697,2598,9182,2543,3510,1981,5474,3758,2514,1553,2650,1302,2124,1802,1335,349,532,2250,3609],\"xaxis\":\"x\",\"yaxis\":\"y\",\"type\":\"histogram\"}],                        {\"template\":{\"data\":{\"histogram2dcontour\":[{\"type\":\"histogram2dcontour\",\"colorbar\":{\"outlinewidth\":0,\"ticks\":\"\"},\"colorscale\":[[0.0,\"#0d0887\"],[0.1111111111111111,\"#46039f\"],[0.2222222222222222,\"#7201a8\"],[0.3333333333333333,\"#9c179e\"],[0.4444444444444444,\"#bd3786\"],[0.5555555555555556,\"#d8576b\"],[0.6666666666666666,\"#ed7953\"],[0.7777777777777778,\"#fb9f3a\"],[0.8888888888888888,\"#fdca26\"],[1.0,\"#f0f921\"]]}],\"choropleth\":[{\"type\":\"choropleth\",\"colorbar\":{\"outlinewidth\":0,\"ticks\":\"\"}}],\"histogram2d\":[{\"type\":\"histogram2d\",\"colorbar\":{\"outlinewidth\":0,\"ticks\":\"\"},\"colorscale\":[[0.0,\"#0d0887\"],[0.1111111111111111,\"#46039f\"],[0.2222222222222222,\"#7201a8\"],[0.3333333333333333,\"#9c179e\"],[0.4444444444444444,\"#bd3786\"],[0.5555555555555556,\"#d8576b\"],[0.6666666666666666,\"#ed7953\"],[0.7777777777777778,\"#fb9f3a\"],[0.8888888888888888,\"#fdca26\"],[1.0,\"#f0f921\"]]}],\"heatmap\":[{\"type\":\"heatmap\",\"colorbar\":{\"outlinewidth\":0,\"ticks\":\"\"},\"colorscale\":[[0.0,\"#0d0887\"],[0.1111111111111111,\"#46039f\"],[0.2222222222222222,\"#7201a8\"],[0.3333333333333333,\"#9c179e\"],[0.4444444444444444,\"#bd3786\"],[0.5555555555555556,\"#d8576b\"],[0.6666666666666666,\"#ed7953\"],[0.7777777777777778,\"#fb9f3a\"],[0.8888888888888888,\"#fdca26\"],[1.0,\"#f0f921\"]]}],\"heatmapgl\":[{\"type\":\"heatmapgl\",\"colorbar\":{\"outlinewidth\":0,\"ticks\":\"\"},\"colorscale\":[[0.0,\"#0d0887\"],[0.1111111111111111,\"#46039f\"],[0.2222222222222222,\"#7201a8\"],[0.3333333333333333,\"#9c179e\"],[0.4444444444444444,\"#bd3786\"],[0.5555555555555556,\"#d8576b\"],[0.6666666666666666,\"#ed7953\"],[0.7777777777777778,\"#fb9f3a\"],[0.8888888888888888,\"#fdca26\"],[1.0,\"#f0f921\"]]}],\"contourcarpet\":[{\"type\":\"contourcarpet\",\"colorbar\":{\"outlinewidth\":0,\"ticks\":\"\"}}],\"contour\":[{\"type\":\"contour\",\"colorbar\":{\"outlinewidth\":0,\"ticks\":\"\"},\"colorscale\":[[0.0,\"#0d0887\"],[0.1111111111111111,\"#46039f\"],[0.2222222222222222,\"#7201a8\"],[0.3333333333333333,\"#9c179e\"],[0.4444444444444444,\"#bd3786\"],[0.5555555555555556,\"#d8576b\"],[0.6666666666666666,\"#ed7953\"],[0.7777777777777778,\"#fb9f3a\"],[0.8888888888888888,\"#fdca26\"],[1.0,\"#f0f921\"]]}],\"surface\":[{\"type\":\"surface\",\"colorbar\":{\"outlinewidth\":0,\"ticks\":\"\"},\"colorscale\":[[0.0,\"#0d0887\"],[0.1111111111111111,\"#46039f\"],[0.2222222222222222,\"#7201a8\"],[0.3333333333333333,\"#9c179e\"],[0.4444444444444444,\"#bd3786\"],[0.5555555555555556,\"#d8576b\"],[0.6666666666666666,\"#ed7953\"],[0.7777777777777778,\"#fb9f3a\"],[0.8888888888888888,\"#fdca26\"],[1.0,\"#f0f921\"]]}],\"mesh3d\":[{\"type\":\"mesh3d\",\"colorbar\":{\"outlinewidth\":0,\"ticks\":\"\"}}],\"scatter\":[{\"marker\":{\"line\":{\"color\":\"#283442\"}},\"type\":\"scatter\"}],\"parcoords\":[{\"type\":\"parcoords\",\"line\":{\"colorbar\":{\"outlinewidth\":0,\"ticks\":\"\"}}}],\"scatterpolargl\":[{\"type\":\"scatterpolargl\",\"marker\":{\"colorbar\":{\"outlinewidth\":0,\"ticks\":\"\"}}}],\"bar\":[{\"error_x\":{\"color\":\"#f2f5fa\"},\"error_y\":{\"color\":\"#f2f5fa\"},\"marker\":{\"line\":{\"color\":\"rgb(17,17,17)\",\"width\":0.5},\"pattern\":{\"fillmode\":\"overlay\",\"size\":10,\"solidity\":0.2}},\"type\":\"bar\"}],\"scattergeo\":[{\"type\":\"scattergeo\",\"marker\":{\"colorbar\":{\"outlinewidth\":0,\"ticks\":\"\"}}}],\"scatterpolar\":[{\"type\":\"scatterpolar\",\"marker\":{\"colorbar\":{\"outlinewidth\":0,\"ticks\":\"\"}}}],\"histogram\":[{\"marker\":{\"pattern\":{\"fillmode\":\"overlay\",\"size\":10,\"solidity\":0.2}},\"type\":\"histogram\"}],\"scattergl\":[{\"marker\":{\"line\":{\"color\":\"#283442\"}},\"type\":\"scattergl\"}],\"scatter3d\":[{\"type\":\"scatter3d\",\"line\":{\"colorbar\":{\"outlinewidth\":0,\"ticks\":\"\"}},\"marker\":{\"colorbar\":{\"outlinewidth\":0,\"ticks\":\"\"}}}],\"scattermapbox\":[{\"type\":\"scattermapbox\",\"marker\":{\"colorbar\":{\"outlinewidth\":0,\"ticks\":\"\"}}}],\"scatterternary\":[{\"type\":\"scatterternary\",\"marker\":{\"colorbar\":{\"outlinewidth\":0,\"ticks\":\"\"}}}],\"scattercarpet\":[{\"type\":\"scattercarpet\",\"marker\":{\"colorbar\":{\"outlinewidth\":0,\"ticks\":\"\"}}}],\"carpet\":[{\"aaxis\":{\"endlinecolor\":\"#A2B1C6\",\"gridcolor\":\"#506784\",\"linecolor\":\"#506784\",\"minorgridcolor\":\"#506784\",\"startlinecolor\":\"#A2B1C6\"},\"baxis\":{\"endlinecolor\":\"#A2B1C6\",\"gridcolor\":\"#506784\",\"linecolor\":\"#506784\",\"minorgridcolor\":\"#506784\",\"startlinecolor\":\"#A2B1C6\"},\"type\":\"carpet\"}],\"table\":[{\"cells\":{\"fill\":{\"color\":\"#506784\"},\"line\":{\"color\":\"rgb(17,17,17)\"}},\"header\":{\"fill\":{\"color\":\"#2a3f5f\"},\"line\":{\"color\":\"rgb(17,17,17)\"}},\"type\":\"table\"}],\"barpolar\":[{\"marker\":{\"line\":{\"color\":\"rgb(17,17,17)\",\"width\":0.5},\"pattern\":{\"fillmode\":\"overlay\",\"size\":10,\"solidity\":0.2}},\"type\":\"barpolar\"}],\"pie\":[{\"automargin\":true,\"type\":\"pie\"}]},\"layout\":{\"autotypenumbers\":\"strict\",\"colorway\":[\"#636efa\",\"#EF553B\",\"#00cc96\",\"#ab63fa\",\"#FFA15A\",\"#19d3f3\",\"#FF6692\",\"#B6E880\",\"#FF97FF\",\"#FECB52\"],\"font\":{\"color\":\"#f2f5fa\"},\"hovermode\":\"closest\",\"hoverlabel\":{\"align\":\"left\"},\"paper_bgcolor\":\"rgb(17,17,17)\",\"plot_bgcolor\":\"rgb(17,17,17)\",\"polar\":{\"bgcolor\":\"rgb(17,17,17)\",\"angularaxis\":{\"gridcolor\":\"#506784\",\"linecolor\":\"#506784\",\"ticks\":\"\"},\"radialaxis\":{\"gridcolor\":\"#506784\",\"linecolor\":\"#506784\",\"ticks\":\"\"}},\"ternary\":{\"bgcolor\":\"rgb(17,17,17)\",\"aaxis\":{\"gridcolor\":\"#506784\",\"linecolor\":\"#506784\",\"ticks\":\"\"},\"baxis\":{\"gridcolor\":\"#506784\",\"linecolor\":\"#506784\",\"ticks\":\"\"},\"caxis\":{\"gridcolor\":\"#506784\",\"linecolor\":\"#506784\",\"ticks\":\"\"}},\"coloraxis\":{\"colorbar\":{\"outlinewidth\":0,\"ticks\":\"\"}},\"colorscale\":{\"sequential\":[[0.0,\"#0d0887\"],[0.1111111111111111,\"#46039f\"],[0.2222222222222222,\"#7201a8\"],[0.3333333333333333,\"#9c179e\"],[0.4444444444444444,\"#bd3786\"],[0.5555555555555556,\"#d8576b\"],[0.6666666666666666,\"#ed7953\"],[0.7777777777777778,\"#fb9f3a\"],[0.8888888888888888,\"#fdca26\"],[1.0,\"#f0f921\"]],\"sequentialminus\":[[0.0,\"#0d0887\"],[0.1111111111111111,\"#46039f\"],[0.2222222222222222,\"#7201a8\"],[0.3333333333333333,\"#9c179e\"],[0.4444444444444444,\"#bd3786\"],[0.5555555555555556,\"#d8576b\"],[0.6666666666666666,\"#ed7953\"],[0.7777777777777778,\"#fb9f3a\"],[0.8888888888888888,\"#fdca26\"],[1.0,\"#f0f921\"]],\"diverging\":[[0,\"#8e0152\"],[0.1,\"#c51b7d\"],[0.2,\"#de77ae\"],[0.3,\"#f1b6da\"],[0.4,\"#fde0ef\"],[0.5,\"#f7f7f7\"],[0.6,\"#e6f5d0\"],[0.7,\"#b8e186\"],[0.8,\"#7fbc41\"],[0.9,\"#4d9221\"],[1,\"#276419\"]]},\"xaxis\":{\"gridcolor\":\"#283442\",\"linecolor\":\"#506784\",\"ticks\":\"\",\"title\":{\"standoff\":15},\"zerolinecolor\":\"#283442\",\"automargin\":true,\"zerolinewidth\":2},\"yaxis\":{\"gridcolor\":\"#283442\",\"linecolor\":\"#506784\",\"ticks\":\"\",\"title\":{\"standoff\":15},\"zerolinecolor\":\"#283442\",\"automargin\":true,\"zerolinewidth\":2},\"scene\":{\"xaxis\":{\"backgroundcolor\":\"rgb(17,17,17)\",\"gridcolor\":\"#506784\",\"linecolor\":\"#506784\",\"showbackground\":true,\"ticks\":\"\",\"zerolinecolor\":\"#C8D4E3\",\"gridwidth\":2},\"yaxis\":{\"backgroundcolor\":\"rgb(17,17,17)\",\"gridcolor\":\"#506784\",\"linecolor\":\"#506784\",\"showbackground\":true,\"ticks\":\"\",\"zerolinecolor\":\"#C8D4E3\",\"gridwidth\":2},\"zaxis\":{\"backgroundcolor\":\"rgb(17,17,17)\",\"gridcolor\":\"#506784\",\"linecolor\":\"#506784\",\"showbackground\":true,\"ticks\":\"\",\"zerolinecolor\":\"#C8D4E3\",\"gridwidth\":2}},\"shapedefaults\":{\"line\":{\"color\":\"#f2f5fa\"}},\"annotationdefaults\":{\"arrowcolor\":\"#f2f5fa\",\"arrowhead\":0,\"arrowwidth\":1},\"geo\":{\"bgcolor\":\"rgb(17,17,17)\",\"landcolor\":\"rgb(17,17,17)\",\"subunitcolor\":\"#506784\",\"showland\":true,\"showlakes\":true,\"lakecolor\":\"rgb(17,17,17)\"},\"title\":{\"x\":0.05},\"updatemenudefaults\":{\"bgcolor\":\"#506784\",\"borderwidth\":0},\"sliderdefaults\":{\"bgcolor\":\"#C8D4E3\",\"borderwidth\":1,\"bordercolor\":\"rgb(17,17,17)\",\"tickwidth\":0},\"mapbox\":{\"style\":\"dark\"}}},\"xaxis\":{\"anchor\":\"y\",\"domain\":[0.0,1.0],\"title\":{\"text\":\"num_tokens\"}},\"yaxis\":{\"anchor\":\"x\",\"domain\":[0.0,1.0],\"title\":{\"text\":\"count\"}},\"legend\":{\"tracegroupgap\":0},\"margin\":{\"t\":60},\"barmode\":\"relative\"},                        {\"responsive\": true}                    ).then(function(){\n",
       "                            \n",
       "var gd = document.getElementById('39db91f7-af1f-489b-ab61-b7f8dd851ccc');\n",
       "var x = new MutationObserver(function (mutations, observer) {{\n",
       "        var display = window.getComputedStyle(gd).display;\n",
       "        if (!display || display === 'none') {{\n",
       "            console.log([gd, 'removed!']);\n",
       "            Plotly.purge(gd);\n",
       "            observer.disconnect();\n",
       "        }}\n",
       "}});\n",
       "\n",
       "// Listen for the removal of the full notebook cells\n",
       "var notebookContainer = gd.closest('#notebook-container');\n",
       "if (notebookContainer) {{\n",
       "    x.observe(notebookContainer, {childList: true});\n",
       "}}\n",
       "\n",
       "// Listen for the clearing of the current output cell\n",
       "var outputEl = gd.closest('.output');\n",
       "if (outputEl) {{\n",
       "    x.observe(outputEl, {childList: true});\n",
       "}}\n",
       "\n",
       "                        })                };                });            </script>        </div>"
      ]
     },
     "metadata": {},
     "output_type": "display_data"
    }
   ],
   "execution_count": 122
  },
  {
   "metadata": {
    "ExecuteTime": {
     "end_time": "2025-01-25T13:04:06.585646Z",
     "start_time": "2025-01-25T13:04:06.521525Z"
    }
   },
   "cell_type": "code",
   "source": [
    "_ = plt.boxplot(df_documents['num_tokens'], showfliers=True)\n",
    "plt.savefig(f'{my_git_root}/notebooks/images/boxplot_original_tokens.svg')"
   ],
   "id": "660fcfbb9a4aa239",
   "outputs": [
    {
     "data": {
      "text/plain": [
       "<Figure size 640x480 with 1 Axes>"
      ],
      "image/png": "[encoded data removed]"
     },
     "metadata": {},
     "output_type": "display_data"
    }
   ],
   "execution_count": 123
  },
  {
   "metadata": {},
   "cell_type": "markdown",
   "source": "# Chunking documents",
   "id": "af47f9c4019a0ffa"
  },
  {
   "metadata": {},
   "cell_type": "markdown",
   "source": "## Step 1: Split Documents based on the detected headings",
   "id": "4e8e81457c7d32b4"
  },
  {
   "metadata": {
    "ExecuteTime": {
     "end_time": "2025-01-25T13:04:06.673850Z",
     "start_time": "2025-01-25T13:04:06.601444Z"
    }
   },
   "cell_type": "code",
   "source": [
    "# Split the documents whenever one or more headings symbols # are detected\n",
    "# Store the number of splits per document\n",
    "names = []\n",
    "documents_split = []\n",
    "\n",
    "for index, row in df_documents.iterrows():\n",
    "    document_split = re.split(r'\\s*#+\\s*', row['text'])\n",
    "    names.append([row['name']] * len(document_split))\n",
    "    documents_split.append(document_split)\n",
    "\n",
    "# Flatten the lists from 2-dimensional to 1-dimensional\n",
    "names = flatten(names)\n",
    "documents_split = flatten(documents_split)"
   ],
   "id": "7cd3be1bef3c0bb4",
   "outputs": [],
   "execution_count": 124
  },
  {
   "metadata": {
    "ExecuteTime": {
     "end_time": "2025-01-25T13:04:07.362911Z",
     "start_time": "2025-01-25T13:04:06.716872Z"
    }
   },
   "cell_type": "code",
   "source": [
    "# Calculate the number of tokens after splitting\n",
    "num_tokens = []\n",
    "for text in documents_split:\n",
    "    tokens = tokenizer.tokenize(text)\n",
    "    num_tokens.append(len(tokens))"
   ],
   "id": "e8be9523666dc1",
   "outputs": [],
   "execution_count": 125
  },
  {
   "metadata": {
    "ExecuteTime": {
     "end_time": "2025-01-25T13:04:07.375668Z",
     "start_time": "2025-01-25T13:04:07.373409Z"
    }
   },
   "cell_type": "code",
   "source": [
    "# Create dataframe\n",
    "df_documents_split = pd.DataFrame(data={\n",
    "    'name': names,\n",
    "    'text': documents_split,\n",
    "    'num_tokens': num_tokens\n",
    "})"
   ],
   "id": "39aa8128f48e9823",
   "outputs": [],
   "execution_count": 126
  },
  {
   "metadata": {
    "ExecuteTime": {
     "end_time": "2025-01-25T13:04:07.419145Z",
     "start_time": "2025-01-25T13:04:07.415616Z"
    }
   },
   "cell_type": "code",
   "source": [
    "# Remove chunks without letters\n",
    "mask = df_documents_split['text'].apply(contains_text)\n",
    "df_documents_split = df_documents_split[mask].reset_index(drop=True)"
   ],
   "id": "4ca569c6d7ef8ef",
   "outputs": [],
   "execution_count": 127
  },
  {
   "metadata": {
    "ExecuteTime": {
     "end_time": "2025-01-25T13:04:07.471333Z",
     "start_time": "2025-01-25T13:04:07.465174Z"
    }
   },
   "cell_type": "code",
   "source": [
    "# What does our dataset look like now?\n",
    "df_documents_split.sort_values(by=['num_tokens'], ascending=False)"
   ],
   "id": "e6b8368ccb6b863b",
   "outputs": [
    {
     "data": {
      "text/plain": [
       "                                                name  \\\n",
       "1228            university-medical-center-utrecht.md   \n",
       "1827                    university-of-strathclyde.md   \n",
       "179                        de-montfort-university.md   \n",
       "1367                     university-of-copenhagen.md   \n",
       "74                       brunel-university-london.md   \n",
       "...                                              ...   \n",
       "1256                 university-of-abertay-dundee.md   \n",
       "317   faculty-of-humanities-of-utrecht-university.md   \n",
       "72                       brunel-university-london.md   \n",
       "830                          royal-college-of-art.md   \n",
       "2018                           wrexham-university.md   \n",
       "\n",
       "                                                   text  num_tokens  \n",
       "1228  4. Abbreviations and definitions\\n\\n<html><bod...        2018  \n",
       "1827  Appendix A – Glossary of Terms\\n\\n<html><body>...        1990  \n",
       "179   SCOPE  \\n\\n3. This policy applies to all DMU s...        1945  \n",
       "1367  Appendix 1: Definitions\\n\\n<html><body><table>...        1831  \n",
       "74    Managing research data  \\n\\n1. The University ...        1585  \n",
       "...                                                 ...         ...  \n",
       "1256                                   Responsibilities           1  \n",
       "317                                         Definitions           1  \n",
       "72                                               Policy           1  \n",
       "830                                            Contents           1  \n",
       "2018                                         Principles           1  \n",
       "\n",
       "[2036 rows x 3 columns]"
      ],
      "text/html": [
       "<div>\n",
       "<style scoped>\n",
       "    .dataframe tbody tr th:only-of-type {\n",
       "        vertical-align: middle;\n",
       "    }\n",
       "\n",
       "    .dataframe tbody tr th {\n",
       "        vertical-align: top;\n",
       "    }\n",
       "\n",
       "    .dataframe thead th {\n",
       "        text-align: right;\n",
       "    }\n",
       "</style>\n",
       "<table border=\"1\" class=\"dataframe\">\n",
       "  <thead>\n",
       "    <tr style=\"text-align: right;\">\n",
       "      <th></th>\n",
       "      <th>name</th>\n",
       "      <th>text</th>\n",
       "      <th>num_tokens</th>\n",
       "    </tr>\n",
       "  </thead>\n",
       "  <tbody>\n",
       "    <tr>\n",
       "      <th>1228</th>\n",
       "      <td>university-medical-center-utrecht.md</td>\n",
       "      <td>4. Abbreviations and definitions\\n\\n&lt;html&gt;&lt;bod...</td>\n",
       "      <td>2018</td>\n",
       "    </tr>\n",
       "    <tr>\n",
       "      <th>1827</th>\n",
       "      <td>university-of-strathclyde.md</td>\n",
       "      <td>Appendix A – Glossary of Terms\\n\\n&lt;html&gt;&lt;body&gt;...</td>\n",
       "      <td>1990</td>\n",
       "    </tr>\n",
       "    <tr>\n",
       "      <th>179</th>\n",
       "      <td>de-montfort-university.md</td>\n",
       "      <td>SCOPE  \\n\\n3. This policy applies to all DMU s...</td>\n",
       "      <td>1945</td>\n",
       "    </tr>\n",
       "    <tr>\n",
       "      <th>1367</th>\n",
       "      <td>university-of-copenhagen.md</td>\n",
       "      <td>Appendix 1: Definitions\\n\\n&lt;html&gt;&lt;body&gt;&lt;table&gt;...</td>\n",
       "      <td>1831</td>\n",
       "    </tr>\n",
       "    <tr>\n",
       "      <th>74</th>\n",
       "      <td>brunel-university-london.md</td>\n",
       "      <td>Managing research data  \\n\\n1. The University ...</td>\n",
       "      <td>1585</td>\n",
       "    </tr>\n",
       "    <tr>\n",
       "      <th>...</th>\n",
       "      <td>...</td>\n",
       "      <td>...</td>\n",
       "      <td>...</td>\n",
       "    </tr>\n",
       "    <tr>\n",
       "      <th>1256</th>\n",
       "      <td>university-of-abertay-dundee.md</td>\n",
       "      <td>Responsibilities</td>\n",
       "      <td>1</td>\n",
       "    </tr>\n",
       "    <tr>\n",
       "      <th>317</th>\n",
       "      <td>faculty-of-humanities-of-utrecht-university.md</td>\n",
       "      <td>Definitions</td>\n",
       "      <td>1</td>\n",
       "    </tr>\n",
       "    <tr>\n",
       "      <th>72</th>\n",
       "      <td>brunel-university-london.md</td>\n",
       "      <td>Policy</td>\n",
       "      <td>1</td>\n",
       "    </tr>\n",
       "    <tr>\n",
       "      <th>830</th>\n",
       "      <td>royal-college-of-art.md</td>\n",
       "      <td>Contents</td>\n",
       "      <td>1</td>\n",
       "    </tr>\n",
       "    <tr>\n",
       "      <th>2018</th>\n",
       "      <td>wrexham-university.md</td>\n",
       "      <td>Principles</td>\n",
       "      <td>1</td>\n",
       "    </tr>\n",
       "  </tbody>\n",
       "</table>\n",
       "<p>2036 rows × 3 columns</p>\n",
       "</div>"
      ]
     },
     "execution_count": 128,
     "metadata": {},
     "output_type": "execute_result"
    }
   ],
   "execution_count": 128
  },
  {
   "metadata": {
    "ExecuteTime": {
     "end_time": "2025-01-25T13:04:07.594003Z",
     "start_time": "2025-01-25T13:04:07.538830Z"
    }
   },
   "cell_type": "code",
   "source": [
    "fig = px.histogram(df_documents_split, x='num_tokens', nbins=100)\n",
    "fig.update_layout(height=500, width=1000)\n",
    "fig.write_image(f'{my_git_root}/notebooks/images/1_token_hist_headings.pdf')"
   ],
   "id": "9248cac95b141e4d",
   "outputs": [],
   "execution_count": 129
  },
  {
   "metadata": {
    "ExecuteTime": {
     "end_time": "2025-01-25T13:04:07.689037Z",
     "start_time": "2025-01-25T13:04:07.619866Z"
    }
   },
   "cell_type": "code",
   "source": [
    "_ = plt.boxplot(df_documents_split['num_tokens'], showfliers=True)\n",
    "plt.grid()\n",
    "plt.savefig(f'{my_git_root}/notebooks/images/1_token_boxplot_headings.svg')"
   ],
   "id": "b0b589e28e8b4d16",
   "outputs": [
    {
     "data": {
      "text/plain": [
       "<Figure size 640x480 with 1 Axes>"
      ],
      "image/png": "[encoded data removed]"
     },
     "metadata": {},
     "output_type": "display_data"
    }
   ],
   "execution_count": 130
  },
  {
   "metadata": {},
   "cell_type": "markdown",
   "source": "**After this point, we ONLY split if the chunks exceed the given sentence_transformer_max_tokens!!**",
   "id": "edcecf1a07593fc7"
  },
  {
   "metadata": {},
   "cell_type": "markdown",
   "source": "## Step 2: Split by Section Numbering (First Order)",
   "id": "960777994ac9ba21"
  },
  {
   "metadata": {
    "ExecuteTime": {
     "end_time": "2025-01-25T13:04:07.750236Z",
     "start_time": "2025-01-25T13:04:07.694923Z"
    }
   },
   "cell_type": "code",
   "source": [
    "# Split the documents whenever a numbering '\\n1.', '\\n2.', '\\n3.' is detected right after a linebreak\n",
    "# We only consider linebreaks of the first order, so we do not consider '\\n1.1.', '\\n1.2.', '\\n1.3.'\n",
    "# Store the number of splits per document\n",
    "names = []\n",
    "documents_split = []\n",
    "\n",
    "for index, row in df_documents_split.iterrows():\n",
    "    if row['num_tokens'] > sentence_transformer_max_tokens:\n",
    "        document_split = re.split(r'\\n\\d+\\.\\s*(?!\\d+\\.?)\\s*', row['text'])\n",
    "        names.append([row['name']] * len(document_split))\n",
    "    else:\n",
    "        document_split = row['text']\n",
    "        names.append(row['name'])\n",
    "    documents_split.append(document_split)\n",
    "\n",
    "# Flatten the lists from 2-dimensional to 1-dimensional\n",
    "names = flatten(names)\n",
    "documents_split = flatten(documents_split)"
   ],
   "id": "9dce2b136b4e24f",
   "outputs": [],
   "execution_count": 131
  },
  {
   "metadata": {
    "ExecuteTime": {
     "end_time": "2025-01-25T13:04:08.393602Z",
     "start_time": "2025-01-25T13:04:07.765259Z"
    }
   },
   "cell_type": "code",
   "source": [
    "# Calculate the number of tokens after splitting\n",
    "num_tokens = []\n",
    "for text in documents_split:\n",
    "    tokens = tokenizer.tokenize(text)\n",
    "    num_tokens.append(len(tokens))"
   ],
   "id": "1f4ad89a18de2323",
   "outputs": [],
   "execution_count": 132
  },
  {
   "metadata": {
    "ExecuteTime": {
     "end_time": "2025-01-25T13:04:08.407668Z",
     "start_time": "2025-01-25T13:04:08.405162Z"
    }
   },
   "cell_type": "code",
   "source": [
    "# Create dataframe\n",
    "df_documents_split = pd.DataFrame(data={\n",
    "    'name': names,\n",
    "    'text': documents_split,\n",
    "    'num_tokens': num_tokens\n",
    "})"
   ],
   "id": "55d7ad0f036b582",
   "outputs": [],
   "execution_count": 133
  },
  {
   "metadata": {
    "ExecuteTime": {
     "end_time": "2025-01-25T13:04:08.462044Z",
     "start_time": "2025-01-25T13:04:08.458652Z"
    }
   },
   "cell_type": "code",
   "source": [
    "# Remove chunks without letters\n",
    "mask = df_documents_split['text'].apply(contains_text)\n",
    "df_documents_split = df_documents_split[mask].reset_index(drop=True)"
   ],
   "id": "53fa0e814e470067",
   "outputs": [],
   "execution_count": 134
  },
  {
   "metadata": {
    "ExecuteTime": {
     "end_time": "2025-01-25T13:04:08.508399Z",
     "start_time": "2025-01-25T13:04:08.502699Z"
    }
   },
   "cell_type": "code",
   "source": [
    "# What does our dataset look like now?\n",
    "df_documents_split.sort_values(by=['num_tokens'], ascending=False)"
   ],
   "id": "9358374cefa8cf89",
   "outputs": [
    {
     "data": {
      "text/plain": [
       "                                      name  \\\n",
       "1406  university-medical-center-utrecht.md   \n",
       "2093          university-of-strathclyde.md   \n",
       "1562           university-of-copenhagen.md   \n",
       "954            robert-gordon-university.md   \n",
       "2060              university-of-salford.md   \n",
       "...                                    ...   \n",
       "1052         technical-university-delft.md   \n",
       "1008           staffordshire-university.md   \n",
       "1075  technical-university-of-darmstadt.md   \n",
       "1708             university-of-helsinki.md   \n",
       "533              heriot-watt-university.md   \n",
       "\n",
       "                                                   text  num_tokens  \n",
       "1406  4. Abbreviations and definitions\\n\\n<html><bod...        2018  \n",
       "2093  Appendix A – Glossary of Terms\\n\\n<html><body>...        1990  \n",
       "1562  Appendix 1: Definitions\\n\\n<html><body><table>...        1831  \n",
       "954   5. Roles and Responsibilities\\n\\nIt is the col...        1469  \n",
       "2060  7.0 Contact\\n\\na. Queries regarding research d...        1348  \n",
       "...                                                 ...         ...  \n",
       "1052                                       Introduction           1  \n",
       "1008                                           Policy\\n           1  \n",
       "1075                                       Guidelines\\n           1  \n",
       "1708                                           Contents           1  \n",
       "533                                             Section           1  \n",
       "\n",
       "[2302 rows x 3 columns]"
      ],
      "text/html": [
       "<div>\n",
       "<style scoped>\n",
       "    .dataframe tbody tr th:only-of-type {\n",
       "        vertical-align: middle;\n",
       "    }\n",
       "\n",
       "    .dataframe tbody tr th {\n",
       "        vertical-align: top;\n",
       "    }\n",
       "\n",
       "    .dataframe thead th {\n",
       "        text-align: right;\n",
       "    }\n",
       "</style>\n",
       "<table border=\"1\" class=\"dataframe\">\n",
       "  <thead>\n",
       "    <tr style=\"text-align: right;\">\n",
       "      <th></th>\n",
       "      <th>name</th>\n",
       "      <th>text</th>\n",
       "      <th>num_tokens</th>\n",
       "    </tr>\n",
       "  </thead>\n",
       "  <tbody>\n",
       "    <tr>\n",
       "      <th>1406</th>\n",
       "      <td>university-medical-center-utrecht.md</td>\n",
       "      <td>4. Abbreviations and definitions\\n\\n&lt;html&gt;&lt;bod...</td>\n",
       "      <td>2018</td>\n",
       "    </tr>\n",
       "    <tr>\n",
       "      <th>2093</th>\n",
       "      <td>university-of-strathclyde.md</td>\n",
       "      <td>Appendix A – Glossary of Terms\\n\\n&lt;html&gt;&lt;body&gt;...</td>\n",
       "      <td>1990</td>\n",
       "    </tr>\n",
       "    <tr>\n",
       "      <th>1562</th>\n",
       "      <td>university-of-copenhagen.md</td>\n",
       "      <td>Appendix 1: Definitions\\n\\n&lt;html&gt;&lt;body&gt;&lt;table&gt;...</td>\n",
       "      <td>1831</td>\n",
       "    </tr>\n",
       "    <tr>\n",
       "      <th>954</th>\n",
       "      <td>robert-gordon-university.md</td>\n",
       "      <td>5. Roles and Responsibilities\\n\\nIt is the col...</td>\n",
       "      <td>1469</td>\n",
       "    </tr>\n",
       "    <tr>\n",
       "      <th>2060</th>\n",
       "      <td>university-of-salford.md</td>\n",
       "      <td>7.0 Contact\\n\\na. Queries regarding research d...</td>\n",
       "      <td>1348</td>\n",
       "    </tr>\n",
       "    <tr>\n",
       "      <th>...</th>\n",
       "      <td>...</td>\n",
       "      <td>...</td>\n",
       "      <td>...</td>\n",
       "    </tr>\n",
       "    <tr>\n",
       "      <th>1052</th>\n",
       "      <td>technical-university-delft.md</td>\n",
       "      <td>Introduction</td>\n",
       "      <td>1</td>\n",
       "    </tr>\n",
       "    <tr>\n",
       "      <th>1008</th>\n",
       "      <td>staffordshire-university.md</td>\n",
       "      <td>Policy\\n</td>\n",
       "      <td>1</td>\n",
       "    </tr>\n",
       "    <tr>\n",
       "      <th>1075</th>\n",
       "      <td>technical-university-of-darmstadt.md</td>\n",
       "      <td>Guidelines\\n</td>\n",
       "      <td>1</td>\n",
       "    </tr>\n",
       "    <tr>\n",
       "      <th>1708</th>\n",
       "      <td>university-of-helsinki.md</td>\n",
       "      <td>Contents</td>\n",
       "      <td>1</td>\n",
       "    </tr>\n",
       "    <tr>\n",
       "      <th>533</th>\n",
       "      <td>heriot-watt-university.md</td>\n",
       "      <td>Section</td>\n",
       "      <td>1</td>\n",
       "    </tr>\n",
       "  </tbody>\n",
       "</table>\n",
       "<p>2302 rows × 3 columns</p>\n",
       "</div>"
      ]
     },
     "execution_count": 135,
     "metadata": {},
     "output_type": "execute_result"
    }
   ],
   "execution_count": 135
  },
  {
   "metadata": {
    "ExecuteTime": {
     "end_time": "2025-01-25T13:04:08.619689Z",
     "start_time": "2025-01-25T13:04:08.571267Z"
    }
   },
   "cell_type": "code",
   "source": [
    "fig = px.histogram(df_documents_split, x='num_tokens', nbins=100)\n",
    "fig.update_layout(height=500, width=1000)\n",
    "fig.write_image(f'{my_git_root}/notebooks/images/2_token_hist_sections_1.pdf')"
   ],
   "id": "da45a8037d4547a5",
   "outputs": [],
   "execution_count": 136
  },
  {
   "metadata": {
    "ExecuteTime": {
     "end_time": "2025-01-25T13:04:08.714593Z",
     "start_time": "2025-01-25T13:04:08.644168Z"
    }
   },
   "cell_type": "code",
   "source": [
    "_ = plt.boxplot(df_documents_split['num_tokens'], showfliers=True)\n",
    "plt.savefig(f'{my_git_root}/notebooks/images/2_token_boxplot_sections_1.svg')"
   ],
   "id": "1829d9d1097898a0",
   "outputs": [
    {
     "data": {
      "text/plain": [
       "<Figure size 640x480 with 1 Axes>"
      ],
      "image/png": "[encoded data removed]"
     },
     "metadata": {},
     "output_type": "display_data"
    }
   ],
   "execution_count": 137
  },
  {
   "metadata": {},
   "cell_type": "markdown",
   "source": "## Step 3: Split by Section Numbering (Second Order)",
   "id": "76903e26fed55576"
  },
  {
   "metadata": {
    "ExecuteTime": {
     "end_time": "2025-01-25T13:04:08.789075Z",
     "start_time": "2025-01-25T13:04:08.731537Z"
    }
   },
   "cell_type": "code",
   "source": [
    "# Split the documents whenever a second-order numbering '\\n1.1', '\\n2.1.', '\\n3.4' is detected right after a linebreak\n",
    "# Store the number of splits per document\n",
    "\n",
    "names = []\n",
    "documents_split = []\n",
    "\n",
    "for index, row in df_documents_split.iterrows():\n",
    "    if row['num_tokens'] > sentence_transformer_max_tokens:\n",
    "        document_split = re.split(r'\\n(?<!\\d\\.)\\d+\\.\\s*\\d+\\.?\\s+', row['text'])\n",
    "        names.append([row['name']] * len(document_split))\n",
    "    else:\n",
    "        document_split = row['text']\n",
    "        names.append(row['name'])\n",
    "    documents_split.append(document_split)\n",
    "\n",
    "# Flatten the lists from 2-dimensional to 1-dimensional\n",
    "names = flatten(names)\n",
    "documents_split = flatten(documents_split)"
   ],
   "id": "5c9e53897da92a32",
   "outputs": [],
   "execution_count": 138
  },
  {
   "metadata": {
    "ExecuteTime": {
     "end_time": "2025-01-25T13:04:09.484856Z",
     "start_time": "2025-01-25T13:04:08.830309Z"
    }
   },
   "cell_type": "code",
   "source": [
    "# Calculate the number of tokens after splitting\n",
    "num_tokens = []\n",
    "for text in documents_split:\n",
    "    tokens = tokenizer.tokenize(text)\n",
    "    num_tokens.append(len(tokens))"
   ],
   "id": "fdcf34acaa93f4fc",
   "outputs": [],
   "execution_count": 139
  },
  {
   "metadata": {
    "ExecuteTime": {
     "end_time": "2025-01-25T13:04:09.498366Z",
     "start_time": "2025-01-25T13:04:09.495712Z"
    }
   },
   "cell_type": "code",
   "source": [
    "# Create dataframe\n",
    "df_documents_split = pd.DataFrame(data={\n",
    "    'name': names,\n",
    "    'text': documents_split,\n",
    "    'num_tokens': num_tokens\n",
    "})"
   ],
   "id": "94ee269e29039f97",
   "outputs": [],
   "execution_count": 140
  },
  {
   "metadata": {
    "ExecuteTime": {
     "end_time": "2025-01-25T13:04:09.541395Z",
     "start_time": "2025-01-25T13:04:09.537502Z"
    }
   },
   "cell_type": "code",
   "source": [
    "# Remove chunks without letters\n",
    "mask = df_documents_split['text'].apply(contains_text)\n",
    "df_documents_split = df_documents_split[mask].reset_index(drop=True)"
   ],
   "id": "1c3600b52e31936d",
   "outputs": [],
   "execution_count": 141
  },
  {
   "metadata": {
    "ExecuteTime": {
     "end_time": "2025-01-25T13:04:09.590770Z",
     "start_time": "2025-01-25T13:04:09.585471Z"
    }
   },
   "cell_type": "code",
   "source": [
    "# What does our dataset look like now?\n",
    "df_documents_split.sort_values(by=['num_tokens'], ascending=False)"
   ],
   "id": "c735e73b9a0f87ed",
   "outputs": [
    {
     "data": {
      "text/plain": [
       "                                               name  \\\n",
       "1480           university-medical-center-utrecht.md   \n",
       "2240                   university-of-strathclyde.md   \n",
       "1646                    university-of-copenhagen.md   \n",
       "1006                    robert-gordon-university.md   \n",
       "2192                       university-of-salford.md   \n",
       "...                                             ...   \n",
       "1909                          university-of-hull.md   \n",
       "1922                          university-of-hull.md   \n",
       "1915                          university-of-hull.md   \n",
       "788   max-delbrück-center-for-molecular-medicine.md   \n",
       "2460                          wrexham-university.md   \n",
       "\n",
       "                                                   text  num_tokens  \n",
       "1480  4. Abbreviations and definitions\\n\\n<html><bod...        2018  \n",
       "2240  Appendix A – Glossary of Terms\\n\\n<html><body>...        1990  \n",
       "1646  Appendix 1: Definitions\\n\\n<html><body><table>...        1831  \n",
       "1006  5. Roles and Responsibilities\\n\\nIt is the col...        1469  \n",
       "2192  7.0 Contact\\n\\na. Queries regarding research d...        1348  \n",
       "...                                                 ...         ...  \n",
       "1909                                       Introduction           1  \n",
       "1922                                   Responsibilities           1  \n",
       "1915                                         Principles           1  \n",
       "788                                             Content           1  \n",
       "2460                                         Principles           1  \n",
       "\n",
       "[2478 rows x 3 columns]"
      ],
      "text/html": [
       "<div>\n",
       "<style scoped>\n",
       "    .dataframe tbody tr th:only-of-type {\n",
       "        vertical-align: middle;\n",
       "    }\n",
       "\n",
       "    .dataframe tbody tr th {\n",
       "        vertical-align: top;\n",
       "    }\n",
       "\n",
       "    .dataframe thead th {\n",
       "        text-align: right;\n",
       "    }\n",
       "</style>\n",
       "<table border=\"1\" class=\"dataframe\">\n",
       "  <thead>\n",
       "    <tr style=\"text-align: right;\">\n",
       "      <th></th>\n",
       "      <th>name</th>\n",
       "      <th>text</th>\n",
       "      <th>num_tokens</th>\n",
       "    </tr>\n",
       "  </thead>\n",
       "  <tbody>\n",
       "    <tr>\n",
       "      <th>1480</th>\n",
       "      <td>university-medical-center-utrecht.md</td>\n",
       "      <td>4. Abbreviations and definitions\\n\\n&lt;html&gt;&lt;bod...</td>\n",
       "      <td>2018</td>\n",
       "    </tr>\n",
       "    <tr>\n",
       "      <th>2240</th>\n",
       "      <td>university-of-strathclyde.md</td>\n",
       "      <td>Appendix A – Glossary of Terms\\n\\n&lt;html&gt;&lt;body&gt;...</td>\n",
       "      <td>1990</td>\n",
       "    </tr>\n",
       "    <tr>\n",
       "      <th>1646</th>\n",
       "      <td>university-of-copenhagen.md</td>\n",
       "      <td>Appendix 1: Definitions\\n\\n&lt;html&gt;&lt;body&gt;&lt;table&gt;...</td>\n",
       "      <td>1831</td>\n",
       "    </tr>\n",
       "    <tr>\n",
       "      <th>1006</th>\n",
       "      <td>robert-gordon-university.md</td>\n",
       "      <td>5. Roles and Responsibilities\\n\\nIt is the col...</td>\n",
       "      <td>1469</td>\n",
       "    </tr>\n",
       "    <tr>\n",
       "      <th>2192</th>\n",
       "      <td>university-of-salford.md</td>\n",
       "      <td>7.0 Contact\\n\\na. Queries regarding research d...</td>\n",
       "      <td>1348</td>\n",
       "    </tr>\n",
       "    <tr>\n",
       "      <th>...</th>\n",
       "      <td>...</td>\n",
       "      <td>...</td>\n",
       "      <td>...</td>\n",
       "    </tr>\n",
       "    <tr>\n",
       "      <th>1909</th>\n",
       "      <td>university-of-hull.md</td>\n",
       "      <td>Introduction</td>\n",
       "      <td>1</td>\n",
       "    </tr>\n",
       "    <tr>\n",
       "      <th>1922</th>\n",
       "      <td>university-of-hull.md</td>\n",
       "      <td>Responsibilities</td>\n",
       "      <td>1</td>\n",
       "    </tr>\n",
       "    <tr>\n",
       "      <th>1915</th>\n",
       "      <td>university-of-hull.md</td>\n",
       "      <td>Principles</td>\n",
       "      <td>1</td>\n",
       "    </tr>\n",
       "    <tr>\n",
       "      <th>788</th>\n",
       "      <td>max-delbrück-center-for-molecular-medicine.md</td>\n",
       "      <td>Content</td>\n",
       "      <td>1</td>\n",
       "    </tr>\n",
       "    <tr>\n",
       "      <th>2460</th>\n",
       "      <td>wrexham-university.md</td>\n",
       "      <td>Principles</td>\n",
       "      <td>1</td>\n",
       "    </tr>\n",
       "  </tbody>\n",
       "</table>\n",
       "<p>2478 rows × 3 columns</p>\n",
       "</div>"
      ]
     },
     "execution_count": 142,
     "metadata": {},
     "output_type": "execute_result"
    }
   ],
   "execution_count": 142
  },
  {
   "metadata": {
    "ExecuteTime": {
     "end_time": "2025-01-25T13:04:09.726905Z",
     "start_time": "2025-01-25T13:04:09.655050Z"
    }
   },
   "cell_type": "code",
   "source": [
    "fig = px.histogram(df_documents_split, x='num_tokens', nbins=100)\n",
    "fig.update_layout(height=500, width=1000)\n",
    "fig.write_image(f'{my_git_root}/notebooks/images/3_token_hist_sections_2.pdf')"
   ],
   "id": "808c06f41c10245a",
   "outputs": [],
   "execution_count": 143
  },
  {
   "metadata": {
    "ExecuteTime": {
     "end_time": "2025-01-25T13:04:09.818592Z",
     "start_time": "2025-01-25T13:04:09.750719Z"
    }
   },
   "cell_type": "code",
   "source": [
    "_ = plt.boxplot(df_documents_split['num_tokens'], showfliers=True)\n",
    "plt.savefig(f'{my_git_root}/notebooks/images/3_token_boxplot_sections_2.svg')"
   ],
   "id": "27e4e33d934ffaac",
   "outputs": [
    {
     "data": {
      "text/plain": [
       "<Figure size 640x480 with 1 Axes>"
      ],
      "image/png": "[encoded data removed]"
     },
     "metadata": {},
     "output_type": "display_data"
    }
   ],
   "execution_count": 144
  },
  {
   "metadata": {},
   "cell_type": "markdown",
   "source": "## Step 4: Split by paragraphs",
   "id": "1ecbf31f87a89c0c"
  },
  {
   "metadata": {
    "ExecuteTime": {
     "end_time": "2025-01-25T13:04:09.893917Z",
     "start_time": "2025-01-25T13:04:09.824051Z"
    }
   },
   "cell_type": "code",
   "source": [
    "# Split the documents by paragraphs '\\n\\n'\n",
    "# Store the number of splits per document\n",
    "names = []\n",
    "documents_split = []\n",
    "\n",
    "for index, row in df_documents_split.iterrows():\n",
    "    if row['num_tokens'] > sentence_transformer_max_tokens:\n",
    "        document_split = re.split(r'\\s*\\n\\s*\\n\\s*', row['text'])\n",
    "        names.append([row['name']] * len(document_split))\n",
    "    else:\n",
    "        document_split = row['text']\n",
    "        names.append(row['name'])\n",
    "    documents_split.append(document_split)\n",
    "\n",
    "# Flatten the lists from 2-dimensional to 1-dimensional\n",
    "names = flatten(names)\n",
    "documents_split = flatten(documents_split)"
   ],
   "id": "2aef341b7005ae31",
   "outputs": [],
   "execution_count": 145
  },
  {
   "metadata": {
    "ExecuteTime": {
     "end_time": "2025-01-25T13:04:10.562105Z",
     "start_time": "2025-01-25T13:04:09.905721Z"
    }
   },
   "cell_type": "code",
   "source": [
    "# Calculate the number of tokens\n",
    "num_tokens = []\n",
    "for text in documents_split:\n",
    "    tokens = tokenizer.tokenize(text)\n",
    "    num_tokens.append(len(tokens))"
   ],
   "id": "2f895c065ebcf692",
   "outputs": [],
   "execution_count": 146
  },
  {
   "metadata": {
    "ExecuteTime": {
     "end_time": "2025-01-25T13:04:10.575119Z",
     "start_time": "2025-01-25T13:04:10.572262Z"
    }
   },
   "cell_type": "code",
   "source": [
    "# Create dataframe\n",
    "df_documents_split = pd.DataFrame(data={\n",
    "    'name': names,\n",
    "    'text': documents_split,\n",
    "    'num_tokens': num_tokens\n",
    "})"
   ],
   "id": "a48f1a6b34446cd3",
   "outputs": [],
   "execution_count": 147
  },
  {
   "metadata": {
    "ExecuteTime": {
     "end_time": "2025-01-25T13:04:10.617396Z",
     "start_time": "2025-01-25T13:04:10.613599Z"
    }
   },
   "cell_type": "code",
   "source": [
    "# Remove chunks without letters\n",
    "mask = df_documents_split['text'].apply(contains_text)\n",
    "df_documents_split = df_documents_split[mask].reset_index(drop=True)"
   ],
   "id": "ddcde3b637d411ce",
   "outputs": [],
   "execution_count": 148
  },
  {
   "metadata": {
    "ExecuteTime": {
     "end_time": "2025-01-25T13:04:10.668344Z",
     "start_time": "2025-01-25T13:04:10.661991Z"
    }
   },
   "cell_type": "code",
   "source": [
    "# What does our dataset look like now?\n",
    "df_documents_split.sort_values(by=['num_tokens'], ascending=False)"
   ],
   "id": "9ab037951c14de45",
   "outputs": [
    {
     "data": {
      "text/plain": [
       "                                               name  \\\n",
       "2698                       university-of-salford.md   \n",
       "1835           university-medical-center-utrecht.md   \n",
       "1285                    robert-gordon-university.md   \n",
       "1834           university-medical-center-utrecht.md   \n",
       "533                       free-university-berlin.md   \n",
       "...                                             ...   \n",
       "1873                university-of-abertay-dundee.md   \n",
       "1009               medizinische-universität-graz.md   \n",
       "762    iscte---instituto-universitario-de-lisboa.md   \n",
       "989   max-delbrück-center-for-molecular-medicine.md   \n",
       "53                              aston-university.md   \n",
       "\n",
       "                                                   text  num_tokens  \n",
       "2698  <html><body><table><tr><td colspan=\"4\">niversi...        1295  \n",
       "1835  <html><body><table><tr><td>Human research</td>...        1031  \n",
       "1285  <html><body><table><tr><td></td><td>Institutio...         863  \n",
       "1834  <html><body><table><tr><td>Term</td><td>Defini...         857  \n",
       "533   ‘§ 43 Mitglieder der Hochschule’. 2011. Gesetz...         819  \n",
       "...                                                 ...         ...  \n",
       "1873                                   Responsibilities           1  \n",
       "1009                                                 MU           1  \n",
       "762                                        Introduction           1  \n",
       "989                                             Content           1  \n",
       "53                                             Appendix           1  \n",
       "\n",
       "[3074 rows x 3 columns]"
      ],
      "text/html": [
       "<div>\n",
       "<style scoped>\n",
       "    .dataframe tbody tr th:only-of-type {\n",
       "        vertical-align: middle;\n",
       "    }\n",
       "\n",
       "    .dataframe tbody tr th {\n",
       "        vertical-align: top;\n",
       "    }\n",
       "\n",
       "    .dataframe thead th {\n",
       "        text-align: right;\n",
       "    }\n",
       "</style>\n",
       "<table border=\"1\" class=\"dataframe\">\n",
       "  <thead>\n",
       "    <tr style=\"text-align: right;\">\n",
       "      <th></th>\n",
       "      <th>name</th>\n",
       "      <th>text</th>\n",
       "      <th>num_tokens</th>\n",
       "    </tr>\n",
       "  </thead>\n",
       "  <tbody>\n",
       "    <tr>\n",
       "      <th>2698</th>\n",
       "      <td>university-of-salford.md</td>\n",
       "      <td>&lt;html&gt;&lt;body&gt;&lt;table&gt;&lt;tr&gt;&lt;td colspan=\"4\"&gt;niversi...</td>\n",
       "      <td>1295</td>\n",
       "    </tr>\n",
       "    <tr>\n",
       "      <th>1835</th>\n",
       "      <td>university-medical-center-utrecht.md</td>\n",
       "      <td>&lt;html&gt;&lt;body&gt;&lt;table&gt;&lt;tr&gt;&lt;td&gt;Human research&lt;/td&gt;...</td>\n",
       "      <td>1031</td>\n",
       "    </tr>\n",
       "    <tr>\n",
       "      <th>1285</th>\n",
       "      <td>robert-gordon-university.md</td>\n",
       "      <td>&lt;html&gt;&lt;body&gt;&lt;table&gt;&lt;tr&gt;&lt;td&gt;&lt;/td&gt;&lt;td&gt;Institutio...</td>\n",
       "      <td>863</td>\n",
       "    </tr>\n",
       "    <tr>\n",
       "      <th>1834</th>\n",
       "      <td>university-medical-center-utrecht.md</td>\n",
       "      <td>&lt;html&gt;&lt;body&gt;&lt;table&gt;&lt;tr&gt;&lt;td&gt;Term&lt;/td&gt;&lt;td&gt;Defini...</td>\n",
       "      <td>857</td>\n",
       "    </tr>\n",
       "    <tr>\n",
       "      <th>533</th>\n",
       "      <td>free-university-berlin.md</td>\n",
       "      <td>‘§ 43 Mitglieder der Hochschule’. 2011. Gesetz...</td>\n",
       "      <td>819</td>\n",
       "    </tr>\n",
       "    <tr>\n",
       "      <th>...</th>\n",
       "      <td>...</td>\n",
       "      <td>...</td>\n",
       "      <td>...</td>\n",
       "    </tr>\n",
       "    <tr>\n",
       "      <th>1873</th>\n",
       "      <td>university-of-abertay-dundee.md</td>\n",
       "      <td>Responsibilities</td>\n",
       "      <td>1</td>\n",
       "    </tr>\n",
       "    <tr>\n",
       "      <th>1009</th>\n",
       "      <td>medizinische-universität-graz.md</td>\n",
       "      <td>MU</td>\n",
       "      <td>1</td>\n",
       "    </tr>\n",
       "    <tr>\n",
       "      <th>762</th>\n",
       "      <td>iscte---instituto-universitario-de-lisboa.md</td>\n",
       "      <td>Introduction</td>\n",
       "      <td>1</td>\n",
       "    </tr>\n",
       "    <tr>\n",
       "      <th>989</th>\n",
       "      <td>max-delbrück-center-for-molecular-medicine.md</td>\n",
       "      <td>Content</td>\n",
       "      <td>1</td>\n",
       "    </tr>\n",
       "    <tr>\n",
       "      <th>53</th>\n",
       "      <td>aston-university.md</td>\n",
       "      <td>Appendix</td>\n",
       "      <td>1</td>\n",
       "    </tr>\n",
       "  </tbody>\n",
       "</table>\n",
       "<p>3074 rows × 3 columns</p>\n",
       "</div>"
      ]
     },
     "execution_count": 149,
     "metadata": {},
     "output_type": "execute_result"
    }
   ],
   "execution_count": 149
  },
  {
   "metadata": {
    "ExecuteTime": {
     "end_time": "2025-01-25T13:04:10.779881Z",
     "start_time": "2025-01-25T13:04:10.726451Z"
    }
   },
   "cell_type": "code",
   "source": [
    "fig = px.histogram(df_documents_split, x='num_tokens', nbins=100)\n",
    "fig.update_layout(height=500, width=1000)\n",
    "fig.write_image(f'{my_git_root}/notebooks/images/4_token_hist_paragraphs.pdf')"
   ],
   "id": "5b9c0fc2b538f30d",
   "outputs": [],
   "execution_count": 150
  },
  {
   "metadata": {
    "ExecuteTime": {
     "end_time": "2025-01-25T13:04:10.868613Z",
     "start_time": "2025-01-25T13:04:10.802616Z"
    }
   },
   "cell_type": "code",
   "source": [
    "_ = plt.boxplot(df_documents_split['num_tokens'], showfliers=True)\n",
    "plt.savefig(f'{my_git_root}/notebooks/images/4_token_boxplot_paragraphs.svg')"
   ],
   "id": "45cfa0c0c2563e2a",
   "outputs": [
    {
     "data": {
      "text/plain": [
       "<Figure size 640x480 with 1 Axes>"
      ],
      "image/png": "[encoded data removed]"
     },
     "metadata": {},
     "output_type": "display_data"
    }
   ],
   "execution_count": 151
  },
  {
   "metadata": {},
   "cell_type": "markdown",
   "source": "## Step 5: Extract table data",
   "id": "e452ab6e26a57f53"
  },
  {
   "metadata": {
    "ExecuteTime": {
     "end_time": "2025-01-25T13:04:10.912958Z",
     "start_time": "2025-01-25T13:04:10.884161Z"
    }
   },
   "cell_type": "code",
   "source": [
    "# Extract the data from the table into plain text\n",
    "documents_split = df_documents_split['text'].apply(extract_table).to_list()\n",
    "df_documents_split['text'] = documents_split"
   ],
   "id": "feafc2d14ac0bd2a",
   "outputs": [],
   "execution_count": 152
  },
  {
   "metadata": {
    "ExecuteTime": {
     "end_time": "2025-01-25T13:04:11.568395Z",
     "start_time": "2025-01-25T13:04:10.926642Z"
    }
   },
   "cell_type": "code",
   "source": [
    "# Calculate the number of tokens\n",
    "num_tokens = []\n",
    "for text in documents_split:\n",
    "    tokens = tokenizer.tokenize(text)\n",
    "    num_tokens.append(len(tokens))"
   ],
   "id": "39f80c42eb247cb1",
   "outputs": [],
   "execution_count": 153
  },
  {
   "metadata": {
    "ExecuteTime": {
     "end_time": "2025-01-25T13:04:11.581681Z",
     "start_time": "2025-01-25T13:04:11.579613Z"
    }
   },
   "cell_type": "code",
   "source": [
    "# Add to dataframe\n",
    "df_documents_split['num_tokens'] = num_tokens"
   ],
   "id": "69e9bf3cadfd03e6",
   "outputs": [],
   "execution_count": 154
  },
  {
   "metadata": {
    "ExecuteTime": {
     "end_time": "2025-01-25T13:04:11.640660Z",
     "start_time": "2025-01-25T13:04:11.635646Z"
    }
   },
   "cell_type": "code",
   "source": [
    "#What does our data look like now?\n",
    "df_documents_split.sort_values(by=['num_tokens'], ascending=False)"
   ],
   "id": "34830b34c3259ab9",
   "outputs": [
    {
     "data": {
      "text/plain": [
       "                                                   name  \\\n",
       "533                           free-university-berlin.md   \n",
       "112                         brunel-university-london.md   \n",
       "1835               university-medical-center-utrecht.md   \n",
       "1285                        robert-gordon-university.md   \n",
       "747   international-institute-for-geo---information-...   \n",
       "...                                                 ...   \n",
       "2648                           university-of-reading.md   \n",
       "1960                         university-of-cambridge.md   \n",
       "1270                        robert-gordon-university.md   \n",
       "1287                            royal-college-of-art.md   \n",
       "2128                       university-of-east-anglia.md   \n",
       "\n",
       "                                                   text  num_tokens  \n",
       "533   ‘§ 43 Mitglieder der Hochschule’. 2011. Gesetz...         819  \n",
       "112   data management: researchdata@brunel.ac.uk See...         652  \n",
       "1835  Human researchAllscientificresearchinwhichpeop...         616  \n",
       "1285  InstitutionSchoolAcademicGuidanceDocumentation...         588  \n",
       "747   All research activities involving personal dat...         534  \n",
       "...                                                 ...         ...  \n",
       "2648                                           Guidance           1  \n",
       "1960                                       Background\\n           1  \n",
       "1270                                     Infrastructure           1  \n",
       "1287                                           Contents           1  \n",
       "2128                                        Definitions           1  \n",
       "\n",
       "[3074 rows x 3 columns]"
      ],
      "text/html": [
       "<div>\n",
       "<style scoped>\n",
       "    .dataframe tbody tr th:only-of-type {\n",
       "        vertical-align: middle;\n",
       "    }\n",
       "\n",
       "    .dataframe tbody tr th {\n",
       "        vertical-align: top;\n",
       "    }\n",
       "\n",
       "    .dataframe thead th {\n",
       "        text-align: right;\n",
       "    }\n",
       "</style>\n",
       "<table border=\"1\" class=\"dataframe\">\n",
       "  <thead>\n",
       "    <tr style=\"text-align: right;\">\n",
       "      <th></th>\n",
       "      <th>name</th>\n",
       "      <th>text</th>\n",
       "      <th>num_tokens</th>\n",
       "    </tr>\n",
       "  </thead>\n",
       "  <tbody>\n",
       "    <tr>\n",
       "      <th>533</th>\n",
       "      <td>free-university-berlin.md</td>\n",
       "      <td>‘§ 43 Mitglieder der Hochschule’. 2011. Gesetz...</td>\n",
       "      <td>819</td>\n",
       "    </tr>\n",
       "    <tr>\n",
       "      <th>112</th>\n",
       "      <td>brunel-university-london.md</td>\n",
       "      <td>data management: researchdata@brunel.ac.uk See...</td>\n",
       "      <td>652</td>\n",
       "    </tr>\n",
       "    <tr>\n",
       "      <th>1835</th>\n",
       "      <td>university-medical-center-utrecht.md</td>\n",
       "      <td>Human researchAllscientificresearchinwhichpeop...</td>\n",
       "      <td>616</td>\n",
       "    </tr>\n",
       "    <tr>\n",
       "      <th>1285</th>\n",
       "      <td>robert-gordon-university.md</td>\n",
       "      <td>InstitutionSchoolAcademicGuidanceDocumentation...</td>\n",
       "      <td>588</td>\n",
       "    </tr>\n",
       "    <tr>\n",
       "      <th>747</th>\n",
       "      <td>international-institute-for-geo---information-...</td>\n",
       "      <td>All research activities involving personal dat...</td>\n",
       "      <td>534</td>\n",
       "    </tr>\n",
       "    <tr>\n",
       "      <th>...</th>\n",
       "      <td>...</td>\n",
       "      <td>...</td>\n",
       "      <td>...</td>\n",
       "    </tr>\n",
       "    <tr>\n",
       "      <th>2648</th>\n",
       "      <td>university-of-reading.md</td>\n",
       "      <td>Guidance</td>\n",
       "      <td>1</td>\n",
       "    </tr>\n",
       "    <tr>\n",
       "      <th>1960</th>\n",
       "      <td>university-of-cambridge.md</td>\n",
       "      <td>Background\\n</td>\n",
       "      <td>1</td>\n",
       "    </tr>\n",
       "    <tr>\n",
       "      <th>1270</th>\n",
       "      <td>robert-gordon-university.md</td>\n",
       "      <td>Infrastructure</td>\n",
       "      <td>1</td>\n",
       "    </tr>\n",
       "    <tr>\n",
       "      <th>1287</th>\n",
       "      <td>royal-college-of-art.md</td>\n",
       "      <td>Contents</td>\n",
       "      <td>1</td>\n",
       "    </tr>\n",
       "    <tr>\n",
       "      <th>2128</th>\n",
       "      <td>university-of-east-anglia.md</td>\n",
       "      <td>Definitions</td>\n",
       "      <td>1</td>\n",
       "    </tr>\n",
       "  </tbody>\n",
       "</table>\n",
       "<p>3074 rows × 3 columns</p>\n",
       "</div>"
      ]
     },
     "execution_count": 155,
     "metadata": {},
     "output_type": "execute_result"
    }
   ],
   "execution_count": 155
  },
  {
   "metadata": {
    "ExecuteTime": {
     "end_time": "2025-01-25T13:04:11.757687Z",
     "start_time": "2025-01-25T13:04:11.697075Z"
    }
   },
   "cell_type": "code",
   "source": [
    "fig = px.histogram(df_documents_split, x='num_tokens', nbins=100)\n",
    "fig.update_layout(height=500, width=1000)\n",
    "fig.write_image(f'{my_git_root}/notebooks/images//5_token_hist_tables.pdf')"
   ],
   "id": "8f6a383cd371a0e3",
   "outputs": [],
   "execution_count": 156
  },
  {
   "metadata": {
    "ExecuteTime": {
     "end_time": "2025-01-25T13:04:11.852547Z",
     "start_time": "2025-01-25T13:04:11.785303Z"
    }
   },
   "cell_type": "code",
   "source": [
    "_ = plt.boxplot(df_documents_split['num_tokens'], showfliers=True)\n",
    "plt.savefig(f'{my_git_root}/notebooks/images/5_token_boxplot_tables.svg')"
   ],
   "id": "5cd151e6f2a58f78",
   "outputs": [
    {
     "data": {
      "text/plain": [
       "<Figure size 640x480 with 1 Axes>"
      ],
      "image/png": "[encoded data removed]"
     },
     "metadata": {},
     "output_type": "display_data"
    }
   ],
   "execution_count": 157
  },
  {
   "metadata": {},
   "cell_type": "markdown",
   "source": "## Step 6: Split newlines",
   "id": "7b62e1338599a19"
  },
  {
   "metadata": {
    "ExecuteTime": {
     "end_time": "2025-01-25T13:04:11.929781Z",
     "start_time": "2025-01-25T13:04:11.855559Z"
    }
   },
   "cell_type": "code",
   "source": [
    "# If any chunk is still too long, we split it by its newline symbols '\\n'\n",
    "# Split the documents by list items while keeping track of the names\n",
    "names = []\n",
    "documents_split = []\n",
    "\n",
    "for index, row in df_documents_split.iterrows():\n",
    "    if row['num_tokens'] > sentence_transformer_max_tokens:\n",
    "        document_split = re.split(r'\\n+', row['text'])\n",
    "        names.append([row['name']] * len(document_split))\n",
    "    else:\n",
    "        document_split = row['text']\n",
    "        names.append(row['name'])\n",
    "    documents_split.append(document_split)\n",
    "\n",
    "# Flatten the lists from 2-dimensional to 1-dimensional\n",
    "\n",
    "names = flatten(names)\n",
    "documents_split = flatten(documents_split)"
   ],
   "id": "31ea81c615611b63",
   "outputs": [],
   "execution_count": 158
  },
  {
   "metadata": {
    "ExecuteTime": {
     "end_time": "2025-01-25T13:04:12.553599Z",
     "start_time": "2025-01-25T13:04:11.942470Z"
    }
   },
   "cell_type": "code",
   "source": [
    "# Calculate the number of tokens\n",
    "\n",
    "num_tokens = []\n",
    "for text in documents_split:\n",
    "    tokens = tokenizer.tokenize(text)\n",
    "    num_tokens.append(len(tokens))"
   ],
   "id": "99a6130538d64d76",
   "outputs": [],
   "execution_count": 159
  },
  {
   "metadata": {
    "ExecuteTime": {
     "end_time": "2025-01-25T13:04:12.566059Z",
     "start_time": "2025-01-25T13:04:12.563645Z"
    }
   },
   "cell_type": "code",
   "source": [
    "# Create dataframe\n",
    "df_documents_split = pd.DataFrame(data={\n",
    "    'name': names,\n",
    "    'text': documents_split,\n",
    "    'num_tokens': num_tokens\n",
    "})"
   ],
   "id": "132ab335a4deccbf",
   "outputs": [],
   "execution_count": 160
  },
  {
   "metadata": {
    "ExecuteTime": {
     "end_time": "2025-01-25T13:04:12.612442Z",
     "start_time": "2025-01-25T13:04:12.607870Z"
    }
   },
   "cell_type": "code",
   "source": [
    "# What does our data look like now?\n",
    "df_documents_split.sort_values(by=['num_tokens'], ascending=False)"
   ],
   "id": "1410864d1b0ba414",
   "outputs": [
    {
     "data": {
      "text/plain": [
       "                                                name  \\\n",
       "112                      brunel-university-london.md   \n",
       "1870            university-medical-center-utrecht.md   \n",
       "1312                     robert-gordon-university.md   \n",
       "1869            university-medical-center-utrecht.md   \n",
       "1639                the-university-of-northampton.md   \n",
       "...                                              ...   \n",
       "1908                 university-of-abertay-dundee.md   \n",
       "53                               aston-university.md   \n",
       "2608                        university-of-potsdam.md   \n",
       "484   faculty-of-humanities-of-utrecht-university.md   \n",
       "1297                     robert-gordon-university.md   \n",
       "\n",
       "                                                   text  num_tokens  \n",
       "112   data management: researchdata@brunel.ac.uk See...         652  \n",
       "1870  Human researchAllscientificresearchinwhichpeop...         616  \n",
       "1312  InstitutionSchoolAcademicGuidanceDocumentation...         588  \n",
       "1869  TermDefinitieAnonymiseThe removal of directly ...         512  \n",
       "1639  4.2 Research data management procedure\\n\\nAt t...         512  \n",
       "...                                                 ...         ...  \n",
       "1908                                   Responsibilities           1  \n",
       "53                                             Appendix           1  \n",
       "2608                                           Contents           1  \n",
       "484                                         Regulations           1  \n",
       "1297                                     Infrastructure           1  \n",
       "\n",
       "[3109 rows x 3 columns]"
      ],
      "text/html": [
       "<div>\n",
       "<style scoped>\n",
       "    .dataframe tbody tr th:only-of-type {\n",
       "        vertical-align: middle;\n",
       "    }\n",
       "\n",
       "    .dataframe tbody tr th {\n",
       "        vertical-align: top;\n",
       "    }\n",
       "\n",
       "    .dataframe thead th {\n",
       "        text-align: right;\n",
       "    }\n",
       "</style>\n",
       "<table border=\"1\" class=\"dataframe\">\n",
       "  <thead>\n",
       "    <tr style=\"text-align: right;\">\n",
       "      <th></th>\n",
       "      <th>name</th>\n",
       "      <th>text</th>\n",
       "      <th>num_tokens</th>\n",
       "    </tr>\n",
       "  </thead>\n",
       "  <tbody>\n",
       "    <tr>\n",
       "      <th>112</th>\n",
       "      <td>brunel-university-london.md</td>\n",
       "      <td>data management: researchdata@brunel.ac.uk See...</td>\n",
       "      <td>652</td>\n",
       "    </tr>\n",
       "    <tr>\n",
       "      <th>1870</th>\n",
       "      <td>university-medical-center-utrecht.md</td>\n",
       "      <td>Human researchAllscientificresearchinwhichpeop...</td>\n",
       "      <td>616</td>\n",
       "    </tr>\n",
       "    <tr>\n",
       "      <th>1312</th>\n",
       "      <td>robert-gordon-university.md</td>\n",
       "      <td>InstitutionSchoolAcademicGuidanceDocumentation...</td>\n",
       "      <td>588</td>\n",
       "    </tr>\n",
       "    <tr>\n",
       "      <th>1869</th>\n",
       "      <td>university-medical-center-utrecht.md</td>\n",
       "      <td>TermDefinitieAnonymiseThe removal of directly ...</td>\n",
       "      <td>512</td>\n",
       "    </tr>\n",
       "    <tr>\n",
       "      <th>1639</th>\n",
       "      <td>the-university-of-northampton.md</td>\n",
       "      <td>4.2 Research data management procedure\\n\\nAt t...</td>\n",
       "      <td>512</td>\n",
       "    </tr>\n",
       "    <tr>\n",
       "      <th>...</th>\n",
       "      <td>...</td>\n",
       "      <td>...</td>\n",
       "      <td>...</td>\n",
       "    </tr>\n",
       "    <tr>\n",
       "      <th>1908</th>\n",
       "      <td>university-of-abertay-dundee.md</td>\n",
       "      <td>Responsibilities</td>\n",
       "      <td>1</td>\n",
       "    </tr>\n",
       "    <tr>\n",
       "      <th>53</th>\n",
       "      <td>aston-university.md</td>\n",
       "      <td>Appendix</td>\n",
       "      <td>1</td>\n",
       "    </tr>\n",
       "    <tr>\n",
       "      <th>2608</th>\n",
       "      <td>university-of-potsdam.md</td>\n",
       "      <td>Contents</td>\n",
       "      <td>1</td>\n",
       "    </tr>\n",
       "    <tr>\n",
       "      <th>484</th>\n",
       "      <td>faculty-of-humanities-of-utrecht-university.md</td>\n",
       "      <td>Regulations</td>\n",
       "      <td>1</td>\n",
       "    </tr>\n",
       "    <tr>\n",
       "      <th>1297</th>\n",
       "      <td>robert-gordon-university.md</td>\n",
       "      <td>Infrastructure</td>\n",
       "      <td>1</td>\n",
       "    </tr>\n",
       "  </tbody>\n",
       "</table>\n",
       "<p>3109 rows × 3 columns</p>\n",
       "</div>"
      ]
     },
     "execution_count": 161,
     "metadata": {},
     "output_type": "execute_result"
    }
   ],
   "execution_count": 161
  },
  {
   "metadata": {
    "ExecuteTime": {
     "end_time": "2025-01-25T13:04:12.724617Z",
     "start_time": "2025-01-25T13:04:12.670109Z"
    }
   },
   "cell_type": "code",
   "source": [
    "fig = px.histogram(df_documents_split, x='num_tokens', nbins=100)\n",
    "fig.update_layout(height=500, width=1000)\n",
    "fig.write_image(f'{my_git_root}/notebooks/images/6_token_hist_newlines.pdf')"
   ],
   "id": "10fc9be980291627",
   "outputs": [],
   "execution_count": 162
  },
  {
   "metadata": {
    "ExecuteTime": {
     "end_time": "2025-01-25T13:04:12.803904Z",
     "start_time": "2025-01-25T13:04:12.744264Z"
    }
   },
   "cell_type": "code",
   "source": [
    "_ = plt.boxplot(df_documents_split['num_tokens'], showfliers=True)\n",
    "plt.savefig(f'{my_git_root}/notebooks/images/6_token_boxplot_newlines.svg')\n"
   ],
   "id": "9da9775d54615422",
   "outputs": [
    {
     "data": {
      "text/plain": [
       "<Figure size 640x480 with 1 Axes>"
      ],
      "image/png": "[encoded data removed]"
     },
     "metadata": {},
     "output_type": "display_data"
    }
   ],
   "execution_count": 163
  },
  {
   "metadata": {},
   "cell_type": "markdown",
   "source": "## Step 7: Split chunks into halves",
   "id": "6b5b3c4fc3c4b0bc"
  },
  {
   "metadata": {
    "ExecuteTime": {
     "end_time": "2025-01-25T13:04:12.903164Z",
     "start_time": "2025-01-25T13:04:12.813789Z"
    }
   },
   "cell_type": "code",
   "source": [
    "# For all the remaining chunks, we will simply cut them in half\n",
    "# Split the documents by paragraphs while keeping track of the names\n",
    "names = []\n",
    "documents_split = []\n",
    "\n",
    "for index, row in df_documents_split.iterrows():\n",
    "    if row['num_tokens'] > sentence_transformer_max_tokens:\n",
    "        text = row['text']\n",
    "        document_split = [text[:len(text)//2], text[len(text)//2:]]\n",
    "        names.append([row['name']] * 2)\n",
    "    else:\n",
    "        document_split = row['text']\n",
    "        names.append(row['name'])\n",
    "    documents_split.append(document_split)\n",
    "\n",
    "# Flatten the lists from 2-dimensional to 1-dimensional\n",
    "\n",
    "names = flatten(names)\n",
    "documents_split = flatten(documents_split)"
   ],
   "id": "f81029af4cdaa1eb",
   "outputs": [],
   "execution_count": 164
  },
  {
   "metadata": {
    "ExecuteTime": {
     "end_time": "2025-01-25T13:04:13.578917Z",
     "start_time": "2025-01-25T13:04:12.915949Z"
    }
   },
   "cell_type": "code",
   "source": [
    "# Calculate the number of tokens\n",
    "\n",
    "num_tokens = []\n",
    "for text in documents_split:\n",
    "    tokens = tokenizer.tokenize(text)\n",
    "    num_tokens.append(len(tokens))"
   ],
   "id": "6baf3293700691bd",
   "outputs": [],
   "execution_count": 165
  },
  {
   "metadata": {
    "ExecuteTime": {
     "end_time": "2025-01-25T13:04:13.593857Z",
     "start_time": "2025-01-25T13:04:13.590626Z"
    }
   },
   "cell_type": "code",
   "source": [
    "# Create dataframe\n",
    "df_documents_split = pd.DataFrame(data={\n",
    "    'name': names,\n",
    "    'text': documents_split,\n",
    "    'num_tokens': num_tokens\n",
    "})"
   ],
   "id": "14460659ea7aca9e",
   "outputs": [],
   "execution_count": 166
  },
  {
   "metadata": {
    "ExecuteTime": {
     "end_time": "2025-01-25T13:04:13.636538Z",
     "start_time": "2025-01-25T13:04:13.632257Z"
    }
   },
   "cell_type": "code",
   "source": [
    "# Remove chunks without letters\n",
    "mask = df_documents_split['text'].apply(contains_text)\n",
    "df_documents_split = df_documents_split[mask].reset_index(drop=True)"
   ],
   "id": "248e82dc20332c4a",
   "outputs": [],
   "execution_count": 167
  },
  {
   "metadata": {
    "ExecuteTime": {
     "end_time": "2025-01-25T13:04:13.685099Z",
     "start_time": "2025-01-25T13:04:13.679971Z"
    }
   },
   "cell_type": "code",
   "source": [
    "# What does our data look like now?\n",
    "df_documents_split.sort_values(by=['num_tokens'], ascending=False)"
   ],
   "id": "99f9db65fe5a46cc",
   "outputs": [
    {
     "data": {
      "text/plain": [
       "                                                name  \\\n",
       "1871            university-medical-center-utrecht.md   \n",
       "1641                the-university-of-northampton.md   \n",
       "2404                           university-of-hull.md   \n",
       "933                             leiden-university.md   \n",
       "319                        de-montfort-university.md   \n",
       "...                                              ...   \n",
       "1998                      university-of-cambridge.md   \n",
       "477   faculty-of-humanities-of-utrecht-university.md   \n",
       "102                      brunel-university-london.md   \n",
       "287                        de-montfort-university.md   \n",
       "1229                                       qutech.md   \n",
       "\n",
       "                                                   text  num_tokens  \n",
       "1871  TermDefinitieAnonymiseThe removal of directly ...         512  \n",
       "1641  4.2 Research data management procedure\\n\\nAt t...         512  \n",
       "2404  Managing data\\n\\nThe management of research da...         511  \n",
       "933   B. Responsibilities  \\n\\n10. The Faculty Board...         511  \n",
       "319   DEFINITIONS  \\n\\n“The University” and “DMU” me...         511  \n",
       "...                                                 ...         ...  \n",
       "1998                                       Background\\n           1  \n",
       "477                                         Definitions           1  \n",
       "102                                              Policy           1  \n",
       "287                                           SCOPE  \\n           1  \n",
       "1229                                            Preface           1  \n",
       "\n",
       "[3112 rows x 3 columns]"
      ],
      "text/html": [
       "<div>\n",
       "<style scoped>\n",
       "    .dataframe tbody tr th:only-of-type {\n",
       "        vertical-align: middle;\n",
       "    }\n",
       "\n",
       "    .dataframe tbody tr th {\n",
       "        vertical-align: top;\n",
       "    }\n",
       "\n",
       "    .dataframe thead th {\n",
       "        text-align: right;\n",
       "    }\n",
       "</style>\n",
       "<table border=\"1\" class=\"dataframe\">\n",
       "  <thead>\n",
       "    <tr style=\"text-align: right;\">\n",
       "      <th></th>\n",
       "      <th>name</th>\n",
       "      <th>text</th>\n",
       "      <th>num_tokens</th>\n",
       "    </tr>\n",
       "  </thead>\n",
       "  <tbody>\n",
       "    <tr>\n",
       "      <th>1871</th>\n",
       "      <td>university-medical-center-utrecht.md</td>\n",
       "      <td>TermDefinitieAnonymiseThe removal of directly ...</td>\n",
       "      <td>512</td>\n",
       "    </tr>\n",
       "    <tr>\n",
       "      <th>1641</th>\n",
       "      <td>the-university-of-northampton.md</td>\n",
       "      <td>4.2 Research data management procedure\\n\\nAt t...</td>\n",
       "      <td>512</td>\n",
       "    </tr>\n",
       "    <tr>\n",
       "      <th>2404</th>\n",
       "      <td>university-of-hull.md</td>\n",
       "      <td>Managing data\\n\\nThe management of research da...</td>\n",
       "      <td>511</td>\n",
       "    </tr>\n",
       "    <tr>\n",
       "      <th>933</th>\n",
       "      <td>leiden-university.md</td>\n",
       "      <td>B. Responsibilities  \\n\\n10. The Faculty Board...</td>\n",
       "      <td>511</td>\n",
       "    </tr>\n",
       "    <tr>\n",
       "      <th>319</th>\n",
       "      <td>de-montfort-university.md</td>\n",
       "      <td>DEFINITIONS  \\n\\n“The University” and “DMU” me...</td>\n",
       "      <td>511</td>\n",
       "    </tr>\n",
       "    <tr>\n",
       "      <th>...</th>\n",
       "      <td>...</td>\n",
       "      <td>...</td>\n",
       "      <td>...</td>\n",
       "    </tr>\n",
       "    <tr>\n",
       "      <th>1998</th>\n",
       "      <td>university-of-cambridge.md</td>\n",
       "      <td>Background\\n</td>\n",
       "      <td>1</td>\n",
       "    </tr>\n",
       "    <tr>\n",
       "      <th>477</th>\n",
       "      <td>faculty-of-humanities-of-utrecht-university.md</td>\n",
       "      <td>Definitions</td>\n",
       "      <td>1</td>\n",
       "    </tr>\n",
       "    <tr>\n",
       "      <th>102</th>\n",
       "      <td>brunel-university-london.md</td>\n",
       "      <td>Policy</td>\n",
       "      <td>1</td>\n",
       "    </tr>\n",
       "    <tr>\n",
       "      <th>287</th>\n",
       "      <td>de-montfort-university.md</td>\n",
       "      <td>SCOPE  \\n</td>\n",
       "      <td>1</td>\n",
       "    </tr>\n",
       "    <tr>\n",
       "      <th>1229</th>\n",
       "      <td>qutech.md</td>\n",
       "      <td>Preface</td>\n",
       "      <td>1</td>\n",
       "    </tr>\n",
       "  </tbody>\n",
       "</table>\n",
       "<p>3112 rows × 3 columns</p>\n",
       "</div>"
      ]
     },
     "execution_count": 168,
     "metadata": {},
     "output_type": "execute_result"
    }
   ],
   "execution_count": 168
  },
  {
   "metadata": {
    "ExecuteTime": {
     "end_time": "2025-01-25T13:04:13.817192Z",
     "start_time": "2025-01-25T13:04:13.754274Z"
    }
   },
   "cell_type": "code",
   "source": [
    "fig = px.histogram(df_documents_split, x='num_tokens', nbins=100)\n",
    "fig.update_layout(height=500, width=1000)\n",
    "fig.write_image(f'{my_git_root}/notebooks/images/7_token_hist_halves.pdf')"
   ],
   "id": "b4d602e3c68a6d58",
   "outputs": [],
   "execution_count": 169
  },
  {
   "metadata": {
    "ExecuteTime": {
     "end_time": "2025-01-25T13:04:13.899002Z",
     "start_time": "2025-01-25T13:04:13.838196Z"
    }
   },
   "cell_type": "code",
   "source": [
    "_ = plt.boxplot(df_documents_split['num_tokens'], showfliers=True)\n",
    "plt.savefig(f'{my_git_root}/notebooks/images/7_token_boxplot_halves.svg')"
   ],
   "id": "bd965e53c6086ea5",
   "outputs": [
    {
     "data": {
      "text/plain": [
       "<Figure size 640x480 with 1 Axes>"
      ],
      "image/png": "[encoded data removed]"
     },
     "metadata": {},
     "output_type": "display_data"
    }
   ],
   "execution_count": 170
  },
  {
   "metadata": {},
   "cell_type": "markdown",
   "source": "# Export chunked dataset",
   "id": "b15876c32f15fead"
  },
  {
   "metadata": {
    "ExecuteTime": {
     "end_time": "2025-01-25T13:04:13.908056Z",
     "start_time": "2025-01-25T13:04:13.906144Z"
    }
   },
   "cell_type": "code",
   "source": "# df_documents_split.to_csv(f'{my_git_root}/data/documents_chunked.csv', index=False)",
   "id": "50ae62e036e84865",
   "outputs": [],
   "execution_count": 171
  }
 ],
 "metadata": {
  "kernelspec": {
   "display_name": "Python 3",
   "language": "python",
   "name": "python3"
  },
  "language_info": {
   "codemirror_mode": {
    "name": "ipython",
    "version": 2
   },
   "file_extension": ".py",
   "mimetype": "text/x-python",
   "name": "python",
   "nbconvert_exporter": "python",
   "pygments_lexer": "ipython2",
   "version": "2.7.6"
  }
 },
 "nbformat": 4,
 "nbformat_minor": 5
}
