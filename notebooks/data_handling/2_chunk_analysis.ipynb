{
 "cells": [
  {
   "metadata": {
    "collapsed": true,
    "ExecuteTime": {
     "end_time": "2025-01-29T12:16:10.917101Z",
     "start_time": "2025-01-29T12:16:07.486244Z"
    }
   },
   "cell_type": "code",
   "source": [
    "# Importing libraries\n",
    "\n",
    "import re\n",
    "import sys\n",
    "\n",
    "import matplotlib.pyplot as plt\n",
    "import numpy as np\n",
    "import pandas as pd\n",
    "import plotly.express as px\n",
    "import yaml\n",
    "from git_root import git_root\n",
    "from transformers import AutoTokenizer"
   ],
   "id": "2bf38b2068a0d27b",
   "outputs": [],
   "execution_count": 1
  },
  {
   "metadata": {
    "ExecuteTime": {
     "end_time": "2025-01-29T12:16:10.923938Z",
     "start_time": "2025-01-29T12:16:10.919921Z"
    }
   },
   "cell_type": "code",
   "source": [
    "# adding git_root and local imports\n",
    "my_git_root = git_root()\n",
    "sys.path.append(my_git_root)\n",
    "\n",
    "from src import flatten, contains_text, extract_table"
   ],
   "id": "e6df8af640b7242d",
   "outputs": [],
   "execution_count": 2
  },
  {
   "metadata": {
    "ExecuteTime": {
     "end_time": "2025-01-29T12:16:11.018342Z",
     "start_time": "2025-01-29T12:16:10.997308Z"
    }
   },
   "cell_type": "code",
   "source": [
    "# importing data\n",
    "df_documents_path = f'{my_git_root}/data/documents_cleaned.csv'\n",
    "df_documents = pd.read_csv(df_documents_path)"
   ],
   "id": "c06735c30b149bbe",
   "outputs": [],
   "execution_count": 3
  },
  {
   "metadata": {
    "ExecuteTime": {
     "end_time": "2025-01-29T12:16:11.048485Z",
     "start_time": "2025-01-29T12:16:11.042299Z"
    }
   },
   "cell_type": "code",
   "source": "df_documents",
   "id": "c5861ede794de6cd",
   "outputs": [
    {
     "data": {
      "text/plain": [
       "                            name  \\\n",
       "0            aalto-university.md   \n",
       "1      aberystwyth-university.md   \n",
       "2            aston-university.md   \n",
       "3           bangor-university.md   \n",
       "4    brunel-university-london.md   \n",
       "..                           ...   \n",
       "137       universität-rostock.md   \n",
       "138        universität-siegen.md   \n",
       "139     universität-stuttgart.md   \n",
       "140        utrecht-university.md   \n",
       "141        wrexham-university.md   \n",
       "\n",
       "                                                  text  \n",
       "0    # Aalto University  \\n\\n## Aalto University Re...  \n",
       "1    # Research Data Management Policy  \\n\\nVersion...  \n",
       "2    # Research Data Management Policy  \\n\\nJuly 20...  \n",
       "3    # Data Protection Policy  \\n\\n Rev Date Purpos...  \n",
       "4    # Brunel University Research Data Management P...  \n",
       "..                                                 ...  \n",
       "137  # Research Data Policy of the University of Ro...  \n",
       "138  # Research-Data-Policy of the University of Si...  \n",
       "139  # Research data management policy of the Unive...  \n",
       "140  # University policy framework for research dat...  \n",
       "141  # Prifysgol Wrecsam Wrexham University\\n\\n# Re...  \n",
       "\n",
       "[142 rows x 2 columns]"
      ],
      "text/html": [
       "<div>\n",
       "<style scoped>\n",
       "    .dataframe tbody tr th:only-of-type {\n",
       "        vertical-align: middle;\n",
       "    }\n",
       "\n",
       "    .dataframe tbody tr th {\n",
       "        vertical-align: top;\n",
       "    }\n",
       "\n",
       "    .dataframe thead th {\n",
       "        text-align: right;\n",
       "    }\n",
       "</style>\n",
       "<table border=\"1\" class=\"dataframe\">\n",
       "  <thead>\n",
       "    <tr style=\"text-align: right;\">\n",
       "      <th></th>\n",
       "      <th>name</th>\n",
       "      <th>text</th>\n",
       "    </tr>\n",
       "  </thead>\n",
       "  <tbody>\n",
       "    <tr>\n",
       "      <th>0</th>\n",
       "      <td>aalto-university.md</td>\n",
       "      <td># Aalto University  \\n\\n## Aalto University Re...</td>\n",
       "    </tr>\n",
       "    <tr>\n",
       "      <th>1</th>\n",
       "      <td>aberystwyth-university.md</td>\n",
       "      <td># Research Data Management Policy  \\n\\nVersion...</td>\n",
       "    </tr>\n",
       "    <tr>\n",
       "      <th>2</th>\n",
       "      <td>aston-university.md</td>\n",
       "      <td># Research Data Management Policy  \\n\\nJuly 20...</td>\n",
       "    </tr>\n",
       "    <tr>\n",
       "      <th>3</th>\n",
       "      <td>bangor-university.md</td>\n",
       "      <td># Data Protection Policy  \\n\\n Rev Date Purpos...</td>\n",
       "    </tr>\n",
       "    <tr>\n",
       "      <th>4</th>\n",
       "      <td>brunel-university-london.md</td>\n",
       "      <td># Brunel University Research Data Management P...</td>\n",
       "    </tr>\n",
       "    <tr>\n",
       "      <th>...</th>\n",
       "      <td>...</td>\n",
       "      <td>...</td>\n",
       "    </tr>\n",
       "    <tr>\n",
       "      <th>137</th>\n",
       "      <td>universität-rostock.md</td>\n",
       "      <td># Research Data Policy of the University of Ro...</td>\n",
       "    </tr>\n",
       "    <tr>\n",
       "      <th>138</th>\n",
       "      <td>universität-siegen.md</td>\n",
       "      <td># Research-Data-Policy of the University of Si...</td>\n",
       "    </tr>\n",
       "    <tr>\n",
       "      <th>139</th>\n",
       "      <td>universität-stuttgart.md</td>\n",
       "      <td># Research data management policy of the Unive...</td>\n",
       "    </tr>\n",
       "    <tr>\n",
       "      <th>140</th>\n",
       "      <td>utrecht-university.md</td>\n",
       "      <td># University policy framework for research dat...</td>\n",
       "    </tr>\n",
       "    <tr>\n",
       "      <th>141</th>\n",
       "      <td>wrexham-university.md</td>\n",
       "      <td># Prifysgol Wrecsam Wrexham University\\n\\n# Re...</td>\n",
       "    </tr>\n",
       "  </tbody>\n",
       "</table>\n",
       "<p>142 rows × 2 columns</p>\n",
       "</div>"
      ]
     },
     "execution_count": 4,
     "metadata": {},
     "output_type": "execute_result"
    }
   ],
   "execution_count": 4
  },
  {
   "metadata": {
    "ExecuteTime": {
     "end_time": "2025-01-29T12:16:11.125847Z",
     "start_time": "2025-01-29T12:16:11.123740Z"
    }
   },
   "cell_type": "code",
   "source": [
    "document_names = df_documents['name'].to_list()\n",
    "documents = df_documents['text'].to_list()"
   ],
   "id": "c01619b828f12763",
   "outputs": [],
   "execution_count": 5
  },
  {
   "metadata": {
    "ExecuteTime": {
     "end_time": "2025-01-29T12:16:11.173774Z",
     "start_time": "2025-01-29T12:16:11.165226Z"
    }
   },
   "cell_type": "code",
   "source": [
    "num_headings = []\n",
    "\n",
    "for document in documents:\n",
    "    document_chunked = re.split(rf'\\n\\s*#*\\s*\\d+\\.(\\d+\\.?){{0,{5-1}}}\\s+', document)\n",
    "    num_headings.append(len(document_chunked))"
   ],
   "id": "5531b2f6e440fdc4",
   "outputs": [],
   "execution_count": 6
  },
  {
   "metadata": {
    "ExecuteTime": {
     "end_time": "2025-01-29T12:18:21.262568Z",
     "start_time": "2025-01-29T12:18:21.168690Z"
    }
   },
   "cell_type": "code",
   "source": [
    "import matplotlib.pyplot as plt\n",
    "\n",
    "fig, ax = plt.subplots(figsize = (10,5))\n",
    "ax.hist(num_headings, bins=np.arange(0, np.max(num_headings) + 25, 25))\n",
    "ax.set_xticks(np.arange(0, np.max(num_headings) + 25, 25))\n",
    "ax.grid()\n",
    "plt.savefig(f'{my_git_root}/notebooks/images/num_headings_documents.svg')\n",
    "plt.show()"
   ],
   "id": "22ef3b8d98db8247",
   "outputs": [
    {
     "data": {
      "text/plain": [
       "<Figure size 1000x500 with 1 Axes>"
      ],
      "image/png": "[encoded data removed]"
     },
     "metadata": {},
     "output_type": "display_data"
    }
   ],
   "execution_count": 18
  },
  {
   "metadata": {
    "ExecuteTime": {
     "end_time": "2025-01-28T11:52:04.916069Z",
     "start_time": "2025-01-28T11:52:04.913734Z"
    }
   },
   "cell_type": "code",
   "source": [
    "def chunk_document_regex(document, regex_delimiters):\n",
    "    documents_chunked = []\n",
    "    for key, value in regex_delimiters.items():\n",
    "        document_chunked = re.split(value, document)\n",
    "        document_chunked = [chunk for chunk in document_chunked if chunk is not None]\n",
    "        documents_chunked.append(document_chunked)\n",
    "\n",
    "    documents_chunked_len = [len(document_chunked) for document_chunked in documents_chunked]\n",
    "    print(documents_chunked_len)\n",
    "    max_index = np.argmax(documents_chunked_len)\n",
    "    max_len = documents_chunked_len[max_index]\n",
    "    return documents_chunked, max_index, max_len"
   ],
   "id": "fdab03deed4212dc",
   "outputs": [],
   "execution_count": 6
  },
  {
   "cell_type": "code",
   "id": "initial_id",
   "metadata": {
    "collapsed": true,
    "ExecuteTime": {
     "end_time": "2025-01-28T11:52:24.747862Z",
     "start_time": "2025-01-28T11:52:24.675940Z"
    }
   },
   "source": [
    "document_delimiters = []\n",
    "\n",
    "headings_level = 1\n",
    "list_level = 1\n",
    "\n",
    "explicit_delimiters = {\n",
    "    'headings': rf'\\s*#{{1,{headings_level}}}\\s*',\n",
    "    'list': rf'\\n\\s*#*\\s*\\d+\\.(\\d+\\.?){{0,{list_level-1}}}\\s+',\n",
    "}\n",
    "for document in documents:\n",
    "        documents_chunked, max_index, max_len = chunk_document_regex(document, explicit_delimiters)\n",
    "        my_delimiter = list(explicit_delimiters.keys())[max_index]\n",
    "        print(my_delimiter)\n",
    "        document_delimiters.append(my_delimiter)"
   ],
   "outputs": [
    {
     "name": "stdout",
     "output_type": "stream",
     "text": [
      "[30, 6]\n",
      "headings\n",
      "[2, 15]\n",
      "list\n",
      "[67, 8]\n",
      "headings\n",
      "[110, 33]\n",
      "headings\n",
      "[9, 21]\n",
      "list\n",
      "[41, 4]\n",
      "headings\n",
      "[19, 8]\n",
      "headings\n",
      "[14, 1]\n",
      "headings\n",
      "[118, 50]\n",
      "headings\n",
      "[35, 10]\n",
      "headings\n",
      "[2, 4]\n",
      "list\n",
      "[51, 4]\n",
      "headings\n",
      "[15, 29]\n",
      "list\n",
      "[24, 15]\n",
      "headings\n",
      "[66, 1]\n",
      "headings\n",
      "[121, 9]\n",
      "headings\n",
      "[6, 7]\n",
      "list\n",
      "[47, 1]\n",
      "headings\n",
      "[74, 15]\n",
      "headings\n",
      "[8, 1]\n",
      "headings\n",
      "[58, 5]\n",
      "headings\n",
      "[44, 1]\n",
      "headings\n",
      "[34, 1]\n",
      "headings\n",
      "[8, 1]\n",
      "headings\n",
      "[12, 1]\n",
      "headings\n",
      "[2, 1]\n",
      "headings\n",
      "[29, 17]\n",
      "headings\n",
      "[80, 28]\n",
      "headings\n",
      "[65, 8]\n",
      "headings\n",
      "[68, 12]\n",
      "headings\n",
      "[12, 5]\n",
      "headings\n",
      "[51, 1]\n",
      "headings\n",
      "[35, 7]\n",
      "headings\n",
      "[57, 11]\n",
      "headings\n",
      "[38, 16]\n",
      "headings\n",
      "[41, 15]\n",
      "headings\n",
      "[4, 6]\n",
      "list\n",
      "[7, 6]\n",
      "headings\n",
      "[40, 9]\n",
      "headings\n",
      "[10, 1]\n",
      "headings\n",
      "[22, 1]\n",
      "headings\n",
      "[17, 6]\n",
      "headings\n",
      "[9, 12]\n",
      "list\n",
      "[12, 5]\n",
      "headings\n",
      "[20, 19]\n",
      "headings\n",
      "[41, 1]\n",
      "headings\n",
      "[17, 10]\n",
      "headings\n",
      "[11, 1]\n",
      "headings\n",
      "[38, 9]\n",
      "headings\n",
      "[53, 9]\n",
      "headings\n",
      "[34, 10]\n",
      "headings\n",
      "[39, 1]\n",
      "headings\n",
      "[44, 1]\n",
      "headings\n",
      "[19, 8]\n",
      "headings\n",
      "[95, 14]\n",
      "headings\n",
      "[25, 1]\n",
      "headings\n",
      "[9, 2]\n",
      "headings\n",
      "[34, 1]\n",
      "headings\n",
      "[10, 25]\n",
      "list\n",
      "[31, 1]\n",
      "headings\n",
      "[21, 13]\n",
      "headings\n",
      "[22, 3]\n",
      "headings\n",
      "[34, 17]\n",
      "headings\n",
      "[11, 13]\n",
      "list\n",
      "[4, 10]\n",
      "list\n",
      "[26, 8]\n",
      "headings\n",
      "[6, 27]\n",
      "list\n",
      "[7, 1]\n",
      "headings\n",
      "[5, 17]\n",
      "list\n",
      "[68, 17]\n",
      "headings\n",
      "[59, 1]\n",
      "headings\n",
      "[8, 11]\n",
      "list\n",
      "[83, 9]\n",
      "headings\n",
      "[46, 5]\n",
      "headings\n",
      "[26, 12]\n",
      "headings\n",
      "[7, 1]\n",
      "headings\n",
      "[14, 10]\n",
      "headings\n",
      "[18, 2]\n",
      "headings\n",
      "[50, 15]\n",
      "headings\n",
      "[27, 1]\n",
      "headings\n",
      "[14, 24]\n",
      "list\n",
      "[13, 18]\n",
      "list\n",
      "[33, 1]\n",
      "headings\n",
      "[89, 30]\n",
      "headings\n",
      "[47, 13]\n",
      "headings\n",
      "[32, 3]\n",
      "headings\n",
      "[84, 11]\n",
      "headings\n",
      "[37, 8]\n",
      "headings\n",
      "[39, 35]\n",
      "headings\n",
      "[23, 10]\n",
      "headings\n",
      "[125, 25]\n",
      "headings\n",
      "[14, 16]\n",
      "list\n",
      "[72, 60]\n",
      "headings\n",
      "[80, 7]\n",
      "headings\n",
      "[44, 1]\n",
      "headings\n",
      "[1, 1]\n",
      "headings\n",
      "[16, 39]\n",
      "list\n",
      "[67, 10]\n",
      "headings\n",
      "[65, 5]\n",
      "headings\n",
      "[11, 5]\n",
      "headings\n",
      "[106, 18]\n",
      "headings\n",
      "[19, 15]\n",
      "headings\n",
      "[13, 28]\n",
      "list\n",
      "[41, 16]\n",
      "headings\n",
      "[6, 1]\n",
      "headings\n",
      "[75, 36]\n",
      "headings\n",
      "[2, 11]\n",
      "list\n",
      "[140, 9]\n",
      "headings\n",
      "[71, 1]\n",
      "headings\n",
      "[19, 5]\n",
      "headings\n",
      "[81, 55]\n",
      "headings\n",
      "[4, 10]\n",
      "list\n",
      "[52, 16]\n",
      "headings\n",
      "[21, 33]\n",
      "list\n",
      "[27, 8]\n",
      "headings\n",
      "[39, 1]\n",
      "headings\n",
      "[21, 7]\n",
      "headings\n",
      "[24, 6]\n",
      "headings\n",
      "[62, 17]\n",
      "headings\n",
      "[45, 19]\n",
      "headings\n",
      "[46, 19]\n",
      "headings\n",
      "[112, 1]\n",
      "headings\n",
      "[65, 1]\n",
      "headings\n",
      "[8, 1]\n",
      "headings\n",
      "[11, 4]\n",
      "headings\n",
      "[79, 11]\n",
      "headings\n",
      "[36, 1]\n",
      "headings\n",
      "[39, 6]\n",
      "headings\n",
      "[34, 1]\n",
      "headings\n",
      "[99, 5]\n",
      "headings\n",
      "[31, 25]\n",
      "headings\n",
      "[44, 4]\n",
      "headings\n",
      "[16, 8]\n",
      "headings\n",
      "[46, 6]\n",
      "headings\n",
      "[23, 1]\n",
      "headings\n",
      "[30, 11]\n",
      "headings\n",
      "[8, 1]\n",
      "headings\n",
      "[20, 1]\n",
      "headings\n",
      "[2, 1]\n",
      "headings\n",
      "[10, 4]\n",
      "headings\n",
      "[43, 17]\n",
      "headings\n",
      "[50, 1]\n",
      "headings\n"
     ]
    }
   ],
   "execution_count": 10
  },
  {
   "metadata": {
    "ExecuteTime": {
     "end_time": "2025-01-28T12:04:06.486191Z",
     "start_time": "2025-01-28T12:04:06.477827Z"
    }
   },
   "cell_type": "code",
   "source": [
    "num_headings = []\n",
    "\n",
    "for document in documents:\n",
    "    document_chunked = re.split(rf'\\n\\s*#*\\s*\\d+\\.(\\d+\\.?){{0,{5-1}}}\\s+', document)\n",
    "    num_headings.append(len(document_chunked))"
   ],
   "id": "6ad4b073f5f6dd3e",
   "outputs": [],
   "execution_count": 34
  },
  {
   "metadata": {
    "ExecuteTime": {
     "end_time": "2025-01-28T12:04:07.143346Z",
     "start_time": "2025-01-28T12:04:07.139422Z"
    }
   },
   "cell_type": "code",
   "source": "num_headings",
   "id": "1be75e2ba1390d7a",
   "outputs": [
    {
     "data": {
      "text/plain": [
       "[11,\n",
       " 29,\n",
       " 67,\n",
       " 85,\n",
       " 41,\n",
       " 7,\n",
       " 55,\n",
       " 1,\n",
       " 203,\n",
       " 29,\n",
       " 7,\n",
       " 31,\n",
       " 57,\n",
       " 29,\n",
       " 1,\n",
       " 17,\n",
       " 13,\n",
       " 1,\n",
       " 29,\n",
       " 1,\n",
       " 9,\n",
       " 1,\n",
       " 9,\n",
       " 1,\n",
       " 1,\n",
       " 23,\n",
       " 47,\n",
       " 85,\n",
       " 41,\n",
       " 49,\n",
       " 9,\n",
       " 1,\n",
       " 85,\n",
       " 37,\n",
       " 31,\n",
       " 45,\n",
       " 11,\n",
       " 11,\n",
       " 29,\n",
       " 1,\n",
       " 7,\n",
       " 23,\n",
       " 23,\n",
       " 9,\n",
       " 37,\n",
       " 41,\n",
       " 19,\n",
       " 1,\n",
       " 91,\n",
       " 23,\n",
       " 35,\n",
       " 11,\n",
       " 1,\n",
       " 31,\n",
       " 45,\n",
       " 1,\n",
       " 69,\n",
       " 73,\n",
       " 49,\n",
       " 1,\n",
       " 25,\n",
       " 79,\n",
       " 133,\n",
       " 25,\n",
       " 19,\n",
       " 47,\n",
       " 53,\n",
       " 1,\n",
       " 33,\n",
       " 73,\n",
       " 1,\n",
       " 21,\n",
       " 117,\n",
       " 35,\n",
       " 23,\n",
       " 1,\n",
       " 19,\n",
       " 25,\n",
       " 45,\n",
       " 1,\n",
       " 47,\n",
       " 41,\n",
       " 37,\n",
       " 59,\n",
       " 37,\n",
       " 55,\n",
       " 41,\n",
       " 19,\n",
       " 69,\n",
       " 19,\n",
       " 131,\n",
       " 49,\n",
       " 119,\n",
       " 13,\n",
       " 133,\n",
       " 1,\n",
       " 77,\n",
       " 33,\n",
       " 91,\n",
       " 9,\n",
       " 113,\n",
       " 57,\n",
       " 55,\n",
       " 31,\n",
       " 1,\n",
       " 71,\n",
       " 21,\n",
       " 69,\n",
       " 109,\n",
       " 51,\n",
       " 109,\n",
       " 19,\n",
       " 137,\n",
       " 65,\n",
       " 15,\n",
       " 1,\n",
       " 59,\n",
       " 15,\n",
       " 33,\n",
       " 37,\n",
       " 37,\n",
       " 7,\n",
       " 67,\n",
       " 1,\n",
       " 91,\n",
       " 143,\n",
       " 53,\n",
       " 17,\n",
       " 1,\n",
       " 9,\n",
       " 93,\n",
       " 71,\n",
       " 61,\n",
       " 11,\n",
       " 9,\n",
       " 25,\n",
       " 1,\n",
       " 1,\n",
       " 1,\n",
       " 7,\n",
       " 33,\n",
       " 1]"
      ]
     },
     "execution_count": 35,
     "metadata": {},
     "output_type": "execute_result"
    }
   ],
   "execution_count": 35
  },
  {
   "metadata": {
    "ExecuteTime": {
     "end_time": "2025-01-28T12:04:08.945488Z",
     "start_time": "2025-01-28T12:04:08.942619Z"
    }
   },
   "cell_type": "code",
   "source": "np.argmax(num_headings)",
   "id": "d8de0dfd571aefbe",
   "outputs": [
    {
     "data": {
      "text/plain": [
       "np.int64(8)"
      ]
     },
     "execution_count": 36,
     "metadata": {},
     "output_type": "execute_result"
    }
   ],
   "execution_count": 36
  },
  {
   "metadata": {
    "ExecuteTime": {
     "end_time": "2025-01-28T12:04:09.634369Z",
     "start_time": "2025-01-28T12:04:09.631110Z"
    }
   },
   "cell_type": "code",
   "source": "df_documents.iloc[15]['name']",
   "id": "d5a32ac05990f25e",
   "outputs": [
    {
     "data": {
      "text/plain": [
       "'fachhochschule-joanneum.md'"
      ]
     },
     "execution_count": 37,
     "metadata": {},
     "output_type": "execute_result"
    }
   ],
   "execution_count": 37
  },
  {
   "metadata": {
    "ExecuteTime": {
     "end_time": "2025-01-28T12:04:36.432287Z",
     "start_time": "2025-01-28T12:04:36.328730Z"
    }
   },
   "cell_type": "code",
   "source": [
    "import matplotlib.pyplot as plt\n",
    "\n",
    "fig = plt.hist(num_headings, bins=40)\n",
    "plt.savefig(f'{my_git_root}/notebooks/images/num_headings_documents.svg')\n",
    "plt.show()"
   ],
   "id": "80b17f531fe797e1",
   "outputs": [
    {
     "data": {
      "text/plain": [
       "<Figure size 640x480 with 1 Axes>"
      ],
      "image/png": "[encoded data removed]"
     },
     "metadata": {},
     "output_type": "display_data"
    }
   ],
   "execution_count": 43
  },
  {
   "metadata": {
    "ExecuteTime": {
     "end_time": "2025-01-28T11:52:25.104391Z",
     "start_time": "2025-01-28T11:52:25.101478Z"
    }
   },
   "cell_type": "code",
   "source": [
    "explicit_delimiters = {\n",
    "    'headings': rf'\\s*#{{1,{1}}}\\s*',\n",
    "    'list': rf'\\n\\s*#*\\s*\\d+\\.\\s+',\n",
    "}\n",
    "\n",
    "explicit_delimiters['list']"
   ],
   "id": "f6ac722144e76cce",
   "outputs": [
    {
     "data": {
      "text/plain": [
       "'\\\\n\\\\s*#*\\\\s*\\\\d+\\\\.\\\\s+'"
      ]
     },
     "execution_count": 11,
     "metadata": {},
     "output_type": "execute_result"
    }
   ],
   "execution_count": 11
  },
  {
   "metadata": {
    "ExecuteTime": {
     "end_time": "2025-01-28T11:52:25.608872Z",
     "start_time": "2025-01-28T11:52:25.605347Z"
    }
   },
   "cell_type": "code",
   "source": "np.unique_counts(document_delimiters)",
   "id": "f34ff7810e035395",
   "outputs": [
    {
     "data": {
      "text/plain": [
       "UniqueCountsResult(values=array(['headings', 'list'], dtype='<U8'), counts=array([121,  21]))"
      ]
     },
     "execution_count": 12,
     "metadata": {},
     "output_type": "execute_result"
    }
   ],
   "execution_count": 12
  }
 ],
 "metadata": {
  "kernelspec": {
   "display_name": "Python 3",
   "language": "python",
   "name": "python3"
  },
  "language_info": {
   "codemirror_mode": {
    "name": "ipython",
    "version": 2
   },
   "file_extension": ".py",
   "mimetype": "text/x-python",
   "name": "python",
   "nbconvert_exporter": "python",
   "pygments_lexer": "ipython2",
   "version": "2.7.6"
  }
 },
 "nbformat": 4,
 "nbformat_minor": 5
}
