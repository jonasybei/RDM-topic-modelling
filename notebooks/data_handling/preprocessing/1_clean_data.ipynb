{
 "cells": [
  {
   "metadata": {},
   "cell_type": "markdown",
   "source": "# Imports",
   "id": "f16a6279f13396a0"
  },
  {
   "cell_type": "code",
   "id": "initial_id",
   "metadata": {
    "collapsed": true,
    "ExecuteTime": {
     "end_time": "2025-01-29T08:39:17.480249Z",
     "start_time": "2025-01-29T08:39:17.115619Z"
    }
   },
   "source": [
    "import re\n",
    "\n",
    "import pandas as pd\n",
    "from git_root import git_root"
   ],
   "outputs": [],
   "execution_count": 1
  },
  {
   "metadata": {
    "ExecuteTime": {
     "end_time": "2025-01-29T08:39:17.486449Z",
     "start_time": "2025-01-29T08:39:17.482847Z"
    }
   },
   "cell_type": "code",
   "source": "my_git_root = git_root()",
   "id": "90d890338148465f",
   "outputs": [],
   "execution_count": 2
  },
  {
   "metadata": {
    "ExecuteTime": {
     "end_time": "2025-01-29T08:39:17.618698Z",
     "start_time": "2025-01-29T08:39:17.595793Z"
    }
   },
   "cell_type": "code",
   "source": [
    "df_chunked_path = f'{my_git_root}/data/output/documents.csv'\n",
    "df_chunked = pd.read_csv(df_chunked_path)"
   ],
   "id": "6c4fdafab1098eb9",
   "outputs": [],
   "execution_count": 3
  },
  {
   "metadata": {},
   "cell_type": "markdown",
   "source": "# Clean step by step",
   "id": "c09de7fd9148caf3"
  },
  {
   "metadata": {},
   "cell_type": "markdown",
   "source": "Remove URLs",
   "id": "e4bbd5faa609037e"
  },
  {
   "metadata": {
    "ExecuteTime": {
     "end_time": "2025-01-29T08:39:17.643040Z",
     "start_time": "2025-01-29T08:39:17.638192Z"
    }
   },
   "cell_type": "code",
   "source": [
    "def remove_urls(text):\n",
    "    return re.sub(r'https?:\\/\\/[^\\s]+', ' ', text)\n",
    "\n",
    "df_chunked['text'] = df_chunked['text'].apply(remove_urls)"
   ],
   "id": "380c133dac97af99",
   "outputs": [],
   "execution_count": 4
  },
  {
   "metadata": {},
   "cell_type": "markdown",
   "source": "Remove markdown images",
   "id": "f7d8aa47ca0d0b8d"
  },
  {
   "metadata": {
    "ExecuteTime": {
     "end_time": "2025-01-29T08:39:17.689592Z",
     "start_time": "2025-01-29T08:39:17.685930Z"
    }
   },
   "cell_type": "code",
   "source": [
    "def remove_images(text):\n",
    "    return re.sub(r'!\\[.*\\]\\(.*\\)', '', text)\n",
    "\n",
    "df_chunked['text'] = df_chunked['text'].apply(remove_images)"
   ],
   "id": "8cfa6a66a7bffaa7",
   "outputs": [],
   "execution_count": 5
  },
  {
   "metadata": {},
   "cell_type": "markdown",
   "source": "Remove tables",
   "id": "28ff7f1ec9dedefb"
  },
  {
   "metadata": {
    "ExecuteTime": {
     "end_time": "2025-01-29T08:39:17.774402Z",
     "start_time": "2025-01-29T08:39:17.732633Z"
    }
   },
   "cell_type": "code",
   "source": [
    "def remove_tags_in_table(match):\n",
    "    table_content = match.group(2)\n",
    "    cleaned_table_content = re.sub(r'</?td>', ' ', table_content)\n",
    "    cleaned_table_content = re.sub(r\"</tr><tr>\", '\\n', cleaned_table_content)\n",
    "    cleaned_table_content = re.sub(r\"</?tr>\", '', cleaned_table_content)\n",
    "    cleaned_table_content = re.sub(r'<td (?:colspan|rowspan)=\"\\d+\">', '', cleaned_table_content)\n",
    "    cleaned_table_content = re.sub(r' +', ' ', cleaned_table_content)\n",
    "    cleaned_table_content = re.sub(r'\\n ', '\\n', cleaned_table_content)\n",
    "    return cleaned_table_content\n",
    "\n",
    "def has_table(text):\n",
    "    return bool(re.search(r'\\s*<html><body><table>.*</table></body></html>\\s*', text))\n",
    "\n",
    "def extract_table(text):\n",
    "    if has_table(text):\n",
    "        result = re.sub(r\"(<html><body><table>)(.*?)(</table></body></html>)\", remove_tags_in_table, text, flags=re.DOTALL)\n",
    "        return result\n",
    "    else:\n",
    "        result = re.sub(r'<.*>', ' ', text)\n",
    "        return result\n",
    "\n",
    "df_chunked['text'] = df_chunked['text'].apply(extract_table)"
   ],
   "id": "340297507ea85e29",
   "outputs": [],
   "execution_count": 6
  },
  {
   "metadata": {},
   "cell_type": "markdown",
   "source": "Remove lingering whitespaces",
   "id": "17513d6cc22e936b"
  },
  {
   "metadata": {
    "ExecuteTime": {
     "end_time": "2025-01-29T08:39:17.831035Z",
     "start_time": "2025-01-29T08:39:17.806130Z"
    }
   },
   "cell_type": "code",
   "source": [
    "def remove_whitespaces(text):\n",
    "    text = re.sub(r'^\\s+', '', text)\n",
    "    text = re.sub(r'\\s+$', '', text)\n",
    "    return text\n",
    "\n",
    "df_chunked['text'] = df_chunked['text'].apply(remove_whitespaces)"
   ],
   "id": "2b6a0256b1e772a6",
   "outputs": [],
   "execution_count": 7
  },
  {
   "metadata": {
    "ExecuteTime": {
     "end_time": "2025-01-29T08:39:17.898231Z",
     "start_time": "2025-01-29T08:39:17.873085Z"
    }
   },
   "cell_type": "code",
   "source": "df_chunked.to_csv(f'{my_git_root}/data/output/documents_cleaned.csv', index=False)",
   "id": "8698205b015062e5",
   "outputs": [],
   "execution_count": 8
  }
 ],
 "metadata": {
  "kernelspec": {
   "display_name": "Python 3",
   "language": "python",
   "name": "python3"
  },
  "language_info": {
   "codemirror_mode": {
    "name": "ipython",
    "version": 2
   },
   "file_extension": ".py",
   "mimetype": "text/x-python",
   "name": "python",
   "nbconvert_exporter": "python",
   "pygments_lexer": "ipython2",
   "version": "2.7.6"
  }
 },
 "nbformat": 4,
 "nbformat_minor": 5
}
