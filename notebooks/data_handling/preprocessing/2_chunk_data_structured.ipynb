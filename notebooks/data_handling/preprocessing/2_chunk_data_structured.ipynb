{
 "cells": [
  {
   "metadata": {
    "collapsed": true,
    "ExecuteTime": {
     "end_time": "2025-02-04T20:33:13.470915Z",
     "start_time": "2025-02-04T20:33:10.748009Z"
    }
   },
   "cell_type": "code",
   "source": [
    "# Importing libraries\n",
    "\n",
    "import re\n",
    "import sys\n",
    "\n",
    "import matplotlib.pyplot as plt\n",
    "import numpy as np\n",
    "import pandas as pd\n",
    "import plotly.express as px\n",
    "import yaml\n",
    "from git_root import git_root\n",
    "from transformers import AutoTokenizer"
   ],
   "id": "d015f546304cfdb2",
   "outputs": [],
   "execution_count": 1
  },
  {
   "metadata": {
    "ExecuteTime": {
     "end_time": "2025-02-04T20:33:13.476847Z",
     "start_time": "2025-02-04T20:33:13.473346Z"
    }
   },
   "cell_type": "code",
   "source": [
    "# adding git_root and local imports\n",
    "my_git_root = git_root()\n",
    "sys.path.append(my_git_root)\n",
    "\n",
    "from src import flatten, contains_text, extract_table"
   ],
   "id": "2a04a82e816a91ec",
   "outputs": [],
   "execution_count": 2
  },
  {
   "metadata": {
    "ExecuteTime": {
     "end_time": "2025-02-04T20:33:13.557454Z",
     "start_time": "2025-02-04T20:33:13.540438Z"
    }
   },
   "cell_type": "code",
   "source": [
    "# importing data\n",
    "df_documents_path = f'{my_git_root}/data/output/documents_cleaned.csv'\n",
    "df_documents = pd.read_csv(df_documents_path)"
   ],
   "id": "dd81cd687d8c8aa",
   "outputs": [],
   "execution_count": 3
  },
  {
   "metadata": {
    "ExecuteTime": {
     "end_time": "2025-02-04T20:33:13.586714Z",
     "start_time": "2025-02-04T20:33:13.583984Z"
    }
   },
   "cell_type": "code",
   "source": [
    "# importing settings\n",
    "with open(f'{my_git_root}/settings.yaml', 'r') as file:\n",
    "    settings = yaml.safe_load(file)\n",
    "\n",
    "print(settings)\n",
    "\n",
    "sentence_transformer_model_name = settings['sentence_transformer_model_name']\n",
    "sentence_transformer_max_tokens = settings['sentence_transformer_max_tokens']"
   ],
   "id": "b055700c9e7a12ad",
   "outputs": [
    {
     "name": "stdout",
     "output_type": "stream",
     "text": [
      "{'sentence_transformer_model_name': 'thenlper/gte-small', 'sentence_transformer_max_tokens': 512, 'llm_model_name': 'tiiuae/Falcon3-7B-Instruct'}\n"
     ]
    }
   ],
   "execution_count": 4
  },
  {
   "metadata": {
    "ExecuteTime": {
     "end_time": "2025-02-04T20:33:13.836496Z",
     "start_time": "2025-02-04T20:33:13.629544Z"
    }
   },
   "cell_type": "code",
   "source": [
    "# initializing tokenizer\n",
    "tokenizer = AutoTokenizer.from_pretrained(sentence_transformer_model_name)"
   ],
   "id": "8a48e1884198af01",
   "outputs": [],
   "execution_count": 5
  },
  {
   "metadata": {
    "ExecuteTime": {
     "end_time": "2025-02-04T20:33:13.855334Z",
     "start_time": "2025-02-04T20:33:13.845150Z"
    }
   },
   "cell_type": "code",
   "source": "df_documents",
   "id": "990478ec36afbbc3",
   "outputs": [
    {
     "data": {
      "text/plain": [
       "                            name  \\\n",
       "0            aalto-university.md   \n",
       "1      aberystwyth-university.md   \n",
       "2            aston-university.md   \n",
       "3           bangor-university.md   \n",
       "4    brunel-university-london.md   \n",
       "..                           ...   \n",
       "137       universität-rostock.md   \n",
       "138        universität-siegen.md   \n",
       "139     universität-stuttgart.md   \n",
       "140        utrecht-university.md   \n",
       "141        wrexham-university.md   \n",
       "\n",
       "                                                  text  \n",
       "0    # Aalto University  \\n\\n## Aalto University Re...  \n",
       "1    # Research Data Management Policy  \\n\\nVersion...  \n",
       "2    # Research Data Management Policy  \\n\\nJuly 20...  \n",
       "3    # Data Protection Policy  \\n\\n Rev Date Purpos...  \n",
       "4    # Brunel University Research Data Management P...  \n",
       "..                                                 ...  \n",
       "137  # Research Data Policy of the University of Ro...  \n",
       "138  # Research-Data-Policy of the University of Si...  \n",
       "139  # Research data management policy of the Unive...  \n",
       "140  # University policy framework for research dat...  \n",
       "141  # Prifysgol Wrecsam Wrexham University\\n\\n# Re...  \n",
       "\n",
       "[142 rows x 2 columns]"
      ],
      "text/html": [
       "<div>\n",
       "<style scoped>\n",
       "    .dataframe tbody tr th:only-of-type {\n",
       "        vertical-align: middle;\n",
       "    }\n",
       "\n",
       "    .dataframe tbody tr th {\n",
       "        vertical-align: top;\n",
       "    }\n",
       "\n",
       "    .dataframe thead th {\n",
       "        text-align: right;\n",
       "    }\n",
       "</style>\n",
       "<table border=\"1\" class=\"dataframe\">\n",
       "  <thead>\n",
       "    <tr style=\"text-align: right;\">\n",
       "      <th></th>\n",
       "      <th>name</th>\n",
       "      <th>text</th>\n",
       "    </tr>\n",
       "  </thead>\n",
       "  <tbody>\n",
       "    <tr>\n",
       "      <th>0</th>\n",
       "      <td>aalto-university.md</td>\n",
       "      <td># Aalto University  \\n\\n## Aalto University Re...</td>\n",
       "    </tr>\n",
       "    <tr>\n",
       "      <th>1</th>\n",
       "      <td>aberystwyth-university.md</td>\n",
       "      <td># Research Data Management Policy  \\n\\nVersion...</td>\n",
       "    </tr>\n",
       "    <tr>\n",
       "      <th>2</th>\n",
       "      <td>aston-university.md</td>\n",
       "      <td># Research Data Management Policy  \\n\\nJuly 20...</td>\n",
       "    </tr>\n",
       "    <tr>\n",
       "      <th>3</th>\n",
       "      <td>bangor-university.md</td>\n",
       "      <td># Data Protection Policy  \\n\\n Rev Date Purpos...</td>\n",
       "    </tr>\n",
       "    <tr>\n",
       "      <th>4</th>\n",
       "      <td>brunel-university-london.md</td>\n",
       "      <td># Brunel University Research Data Management P...</td>\n",
       "    </tr>\n",
       "    <tr>\n",
       "      <th>...</th>\n",
       "      <td>...</td>\n",
       "      <td>...</td>\n",
       "    </tr>\n",
       "    <tr>\n",
       "      <th>137</th>\n",
       "      <td>universität-rostock.md</td>\n",
       "      <td># Research Data Policy of the University of Ro...</td>\n",
       "    </tr>\n",
       "    <tr>\n",
       "      <th>138</th>\n",
       "      <td>universität-siegen.md</td>\n",
       "      <td># Research-Data-Policy of the University of Si...</td>\n",
       "    </tr>\n",
       "    <tr>\n",
       "      <th>139</th>\n",
       "      <td>universität-stuttgart.md</td>\n",
       "      <td># Research data management policy of the Unive...</td>\n",
       "    </tr>\n",
       "    <tr>\n",
       "      <th>140</th>\n",
       "      <td>utrecht-university.md</td>\n",
       "      <td># University policy framework for research dat...</td>\n",
       "    </tr>\n",
       "    <tr>\n",
       "      <th>141</th>\n",
       "      <td>wrexham-university.md</td>\n",
       "      <td># Prifysgol Wrecsam Wrexham University\\n\\n# Re...</td>\n",
       "    </tr>\n",
       "  </tbody>\n",
       "</table>\n",
       "<p>142 rows × 2 columns</p>\n",
       "</div>"
      ]
     },
     "execution_count": 6,
     "metadata": {},
     "output_type": "execute_result"
    }
   ],
   "execution_count": 6
  },
  {
   "metadata": {
    "ExecuteTime": {
     "end_time": "2025-02-04T20:33:13.893543Z",
     "start_time": "2025-02-04T20:33:13.891583Z"
    }
   },
   "cell_type": "code",
   "source": [
    "document_names = df_documents['name'].to_list()\n",
    "documents = df_documents['text'].to_list()"
   ],
   "id": "22f0330cc287019b",
   "outputs": [],
   "execution_count": 7
  },
  {
   "metadata": {
    "ExecuteTime": {
     "end_time": "2025-02-04T20:33:13.947674Z",
     "start_time": "2025-02-04T20:33:13.945509Z"
    }
   },
   "cell_type": "code",
   "source": [
    "def remove_empty_chunks(document):\n",
    "    return [chunk for chunk in document if chunk is not None and bool(re.search(r'[a-zA-Z]+', chunk))]"
   ],
   "id": "394d6261b23ab3fe",
   "outputs": [],
   "execution_count": 8
  },
  {
   "metadata": {
    "ExecuteTime": {
     "end_time": "2025-02-04T20:33:14.014173Z",
     "start_time": "2025-02-04T20:33:14.012026Z"
    }
   },
   "cell_type": "code",
   "source": [
    "def chunk_document_regex(document, regex_pattern):\n",
    "    document_chunked = re.split(regex_pattern, document)\n",
    "    document_chunked = remove_empty_chunks(document_chunked)\n",
    "    return document_chunked"
   ],
   "id": "f15cc96c6bd1b6e9",
   "outputs": [],
   "execution_count": 9
  },
  {
   "metadata": {
    "ExecuteTime": {
     "end_time": "2025-02-04T20:33:14.096152Z",
     "start_time": "2025-02-04T20:33:14.093936Z"
    }
   },
   "cell_type": "code",
   "source": [
    "def chunk_document_by_delimiter_type(document, regex_delimiters):\n",
    "    documents_chunked = []\n",
    "    for key, value in regex_delimiters.items():\n",
    "        documents_chunked.append(chunk_document_regex(document, value))\n",
    "\n",
    "    documents_chunked_len = [len(document_chunked) for document_chunked in documents_chunked]\n",
    "    max_index = np.argmax(documents_chunked_len)\n",
    "    max_len = documents_chunked_len[max_index]\n",
    "    return documents_chunked, max_index, max_len"
   ],
   "id": "c7415e9de53ed56e",
   "outputs": [],
   "execution_count": 10
  },
  {
   "metadata": {
    "ExecuteTime": {
     "end_time": "2025-02-04T20:33:14.164562Z",
     "start_time": "2025-02-04T20:33:14.161690Z"
    }
   },
   "cell_type": "code",
   "source": [
    "def chunk_document(document, chunk_levels):\n",
    "    result = []\n",
    "    headings_level = chunk_levels.count('headings') + 1\n",
    "    list_level = chunk_levels.count('list') + 1\n",
    "\n",
    "    delimiters = {\n",
    "        'explicit_delimiters': {\n",
    "            'headings': rf'\\s*#{{1,{headings_level}}}\\s*',\n",
    "            'list': rf'\\n\\s*#*\\s*\\d+\\.(\\d+\\.?){{0,{list_level-1}}}\\s+',\n",
    "        },\n",
    "\n",
    "        'implicit_delimiters' : {\n",
    "            'paragraphs': r'\\s*\\n\\s*\\n\\s*',\n",
    "        },\n",
    "\n",
    "        'fallback_delimiters' : {\n",
    "            'newlines': r'\\s*\\n\\s*',\n",
    "            'list_no_newlines': rf'#*\\s*\\d+\\.(\\d+\\.?){{0,{list_level-1}}}\\s+',\n",
    "        }\n",
    "    }\n",
    "\n",
    "    for delimiter_type in delimiters.keys():\n",
    "        documents_chunked, max_index, max_len = chunk_document_by_delimiter_type(document, delimiters[delimiter_type])\n",
    "        my_delimiter = list(delimiters[delimiter_type].keys())[max_index]\n",
    "        if max_len > 1:\n",
    "            chunk_levels.append(my_delimiter)\n",
    "            document_chunked = documents_chunked[max_index]\n",
    "            break\n",
    "    else:\n",
    "        assert False, 'Cannot find any delimiters'\n",
    "\n",
    "    for chunk in document_chunked:\n",
    "        chunk_tokens = tokenizer.tokenize(chunk)\n",
    "        if len(chunk_tokens) <= sentence_transformer_max_tokens:\n",
    "            result.append(chunk)\n",
    "        else:\n",
    "            result.append(chunk_document(chunk, chunk_levels))\n",
    "\n",
    "    return result\n"
   ],
   "id": "1786594114639dd9",
   "outputs": [],
   "execution_count": 11
  },
  {
   "metadata": {
    "ExecuteTime": {
     "end_time": "2025-02-04T20:33:15.021890Z",
     "start_time": "2025-02-04T20:33:14.203974Z"
    }
   },
   "cell_type": "code",
   "source": [
    "chunked_documents = [chunk_document(document, list()) for document in documents]\n",
    "chunked_documents = [flatten(chunk) for chunk in chunked_documents]"
   ],
   "id": "db889e4ed4957477",
   "outputs": [],
   "execution_count": 12
  },
  {
   "metadata": {
    "ExecuteTime": {
     "end_time": "2025-02-04T20:33:15.032012Z",
     "start_time": "2025-02-04T20:33:15.029614Z"
    }
   },
   "cell_type": "code",
   "source": [
    "chunked_documents_names = []\n",
    "\n",
    "for i, chunked_document in enumerate(chunked_documents):\n",
    "    chunked_document_flat = flatten(chunked_document)\n",
    "    chunked_document_flat_num_chunks = len(chunked_document_flat)\n",
    "    chunked_documents_names.extend([document_names[i]] * chunked_document_flat_num_chunks)\n",
    "\n",
    "chunked_documents_flat = flatten(chunked_documents)"
   ],
   "id": "e1950ba74c8524ec",
   "outputs": [],
   "execution_count": 13
  },
  {
   "metadata": {
    "ExecuteTime": {
     "end_time": "2025-02-04T20:33:15.674668Z",
     "start_time": "2025-02-04T20:33:15.070972Z"
    }
   },
   "cell_type": "code",
   "source": [
    "num_tokens = []\n",
    "\n",
    "for chunk in chunked_documents_flat:\n",
    "    tokens = tokenizer.tokenize(chunk)\n",
    "    num_tokens.append(len(tokens))"
   ],
   "id": "205adc9ff96caaa8",
   "outputs": [],
   "execution_count": 14
  },
  {
   "metadata": {
    "ExecuteTime": {
     "end_time": "2025-02-04T20:33:15.684894Z",
     "start_time": "2025-02-04T20:33:15.682428Z"
    }
   },
   "cell_type": "code",
   "source": [
    "df = pd.DataFrame(data={\n",
    "    'name': chunked_documents_names,\n",
    "    'text': chunked_documents_flat,\n",
    "    'num_tokens': num_tokens,\n",
    "})"
   ],
   "id": "f12b8dcecaa3eec1",
   "outputs": [],
   "execution_count": 15
  },
  {
   "metadata": {
    "ExecuteTime": {
     "end_time": "2025-02-04T20:33:15.730229Z",
     "start_time": "2025-02-04T20:33:15.726066Z"
    }
   },
   "cell_type": "code",
   "source": "df",
   "id": "46b7c0c512a10edf",
   "outputs": [
    {
     "data": {
      "text/plain": [
       "                       name  \\\n",
       "0       aalto-university.md   \n",
       "1       aalto-university.md   \n",
       "2       aalto-university.md   \n",
       "3       aalto-university.md   \n",
       "4       aalto-university.md   \n",
       "...                     ...   \n",
       "3481  wrexham-university.md   \n",
       "3482  wrexham-university.md   \n",
       "3483  wrexham-university.md   \n",
       "3484  wrexham-university.md   \n",
       "3485  wrexham-university.md   \n",
       "\n",
       "                                                   text  num_tokens  \n",
       "0                                      Aalto University           3  \n",
       "1      Aalto University Research Data Management Policy           7  \n",
       "2     The research data management policy aims to ma...          89  \n",
       "3     The data management policy shall be implemente...         104  \n",
       "4     Ownership of copyright protected research data...          77  \n",
       "...                                                 ...         ...  \n",
       "3481  FAIR Data\\n\\nWhere it is lawful to do so, the ...          96  \n",
       "3482  Prifysgol Wrecsam Wrexham University\\n\\nPublic...          80  \n",
       "3483  Reporting a Data Incident/Breach\\n\\nThe UK GDP...         125  \n",
       "3484  Other Polices, Procedures, Legislation\\n\\nThis...          51  \n",
       "3485  Legislation\\n\\nData Protection Act 2018 UK GDP...          13  \n",
       "\n",
       "[3486 rows x 3 columns]"
      ],
      "text/html": [
       "<div>\n",
       "<style scoped>\n",
       "    .dataframe tbody tr th:only-of-type {\n",
       "        vertical-align: middle;\n",
       "    }\n",
       "\n",
       "    .dataframe tbody tr th {\n",
       "        vertical-align: top;\n",
       "    }\n",
       "\n",
       "    .dataframe thead th {\n",
       "        text-align: right;\n",
       "    }\n",
       "</style>\n",
       "<table border=\"1\" class=\"dataframe\">\n",
       "  <thead>\n",
       "    <tr style=\"text-align: right;\">\n",
       "      <th></th>\n",
       "      <th>name</th>\n",
       "      <th>text</th>\n",
       "      <th>num_tokens</th>\n",
       "    </tr>\n",
       "  </thead>\n",
       "  <tbody>\n",
       "    <tr>\n",
       "      <th>0</th>\n",
       "      <td>aalto-university.md</td>\n",
       "      <td>Aalto University</td>\n",
       "      <td>3</td>\n",
       "    </tr>\n",
       "    <tr>\n",
       "      <th>1</th>\n",
       "      <td>aalto-university.md</td>\n",
       "      <td>Aalto University Research Data Management Policy</td>\n",
       "      <td>7</td>\n",
       "    </tr>\n",
       "    <tr>\n",
       "      <th>2</th>\n",
       "      <td>aalto-university.md</td>\n",
       "      <td>The research data management policy aims to ma...</td>\n",
       "      <td>89</td>\n",
       "    </tr>\n",
       "    <tr>\n",
       "      <th>3</th>\n",
       "      <td>aalto-university.md</td>\n",
       "      <td>The data management policy shall be implemente...</td>\n",
       "      <td>104</td>\n",
       "    </tr>\n",
       "    <tr>\n",
       "      <th>4</th>\n",
       "      <td>aalto-university.md</td>\n",
       "      <td>Ownership of copyright protected research data...</td>\n",
       "      <td>77</td>\n",
       "    </tr>\n",
       "    <tr>\n",
       "      <th>...</th>\n",
       "      <td>...</td>\n",
       "      <td>...</td>\n",
       "      <td>...</td>\n",
       "    </tr>\n",
       "    <tr>\n",
       "      <th>3481</th>\n",
       "      <td>wrexham-university.md</td>\n",
       "      <td>FAIR Data\\n\\nWhere it is lawful to do so, the ...</td>\n",
       "      <td>96</td>\n",
       "    </tr>\n",
       "    <tr>\n",
       "      <th>3482</th>\n",
       "      <td>wrexham-university.md</td>\n",
       "      <td>Prifysgol Wrecsam Wrexham University\\n\\nPublic...</td>\n",
       "      <td>80</td>\n",
       "    </tr>\n",
       "    <tr>\n",
       "      <th>3483</th>\n",
       "      <td>wrexham-university.md</td>\n",
       "      <td>Reporting a Data Incident/Breach\\n\\nThe UK GDP...</td>\n",
       "      <td>125</td>\n",
       "    </tr>\n",
       "    <tr>\n",
       "      <th>3484</th>\n",
       "      <td>wrexham-university.md</td>\n",
       "      <td>Other Polices, Procedures, Legislation\\n\\nThis...</td>\n",
       "      <td>51</td>\n",
       "    </tr>\n",
       "    <tr>\n",
       "      <th>3485</th>\n",
       "      <td>wrexham-university.md</td>\n",
       "      <td>Legislation\\n\\nData Protection Act 2018 UK GDP...</td>\n",
       "      <td>13</td>\n",
       "    </tr>\n",
       "  </tbody>\n",
       "</table>\n",
       "<p>3486 rows × 3 columns</p>\n",
       "</div>"
      ]
     },
     "execution_count": 16,
     "metadata": {},
     "output_type": "execute_result"
    }
   ],
   "execution_count": 16
  },
  {
   "metadata": {
    "ExecuteTime": {
     "end_time": "2025-02-04T20:33:15.820775Z",
     "start_time": "2025-02-04T20:33:15.793740Z"
    }
   },
   "cell_type": "code",
   "source": "df.to_csv(f'{my_git_root}/data/output/documents_chunked_structured.csv', index=False)",
   "id": "b7adc93e145306fa",
   "outputs": [],
   "execution_count": 17
  }
 ],
 "metadata": {
  "kernelspec": {
   "display_name": "Python 3",
   "language": "python",
   "name": "python3"
  },
  "language_info": {
   "codemirror_mode": {
    "name": "ipython",
    "version": 2
   },
   "file_extension": ".py",
   "mimetype": "text/x-python",
   "name": "python",
   "nbconvert_exporter": "python",
   "pygments_lexer": "ipython2",
   "version": "2.7.6"
  }
 },
 "nbformat": 4,
 "nbformat_minor": 5
}
