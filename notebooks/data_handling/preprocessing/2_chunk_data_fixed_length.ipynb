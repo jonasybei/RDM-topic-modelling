{
 "cells": [
  {
   "metadata": {
    "collapsed": true,
    "ExecuteTime": {
     "end_time": "2025-01-29T13:00:01.410692Z",
     "start_time": "2025-01-29T13:00:01.408502Z"
    }
   },
   "cell_type": "code",
   "source": [
    "# Importing libraries\n",
    "\n",
    "import sys\n",
    "import nltk\n",
    "\n",
    "import matplotlib.pyplot as plt\n",
    "import numpy as np\n",
    "import pandas as pd\n",
    "import yaml\n",
    "from git_root import git_root\n",
    "from transformers import AutoTokenizer"
   ],
   "id": "eaa0152f965d16e9",
   "outputs": [],
   "execution_count": 120
  },
  {
   "metadata": {
    "ExecuteTime": {
     "end_time": "2025-01-29T13:00:01.457298Z",
     "start_time": "2025-01-29T13:00:01.453127Z"
    }
   },
   "cell_type": "code",
   "source": [
    "# adding git_root and local imports\n",
    "my_git_root = git_root()\n",
    "sys.path.append(my_git_root)\n",
    "\n",
    "from src import *"
   ],
   "id": "cd8d1567a2597579",
   "outputs": [],
   "execution_count": 121
  },
  {
   "metadata": {
    "ExecuteTime": {
     "end_time": "2025-01-29T13:00:01.517985Z",
     "start_time": "2025-01-29T13:00:01.498310Z"
    }
   },
   "cell_type": "code",
   "source": [
    "# importing data\n",
    "df_documents_path = f'{my_git_root}/data/documents_cleaned.csv'\n",
    "df_documents = pd.read_csv(df_documents_path)"
   ],
   "id": "22c4b07c29aa335a",
   "outputs": [],
   "execution_count": 122
  },
  {
   "metadata": {
    "ExecuteTime": {
     "end_time": "2025-01-29T13:00:01.547855Z",
     "start_time": "2025-01-29T13:00:01.544052Z"
    }
   },
   "cell_type": "code",
   "source": [
    "# importing settings\n",
    "with open(f'{my_git_root}/settings.yaml', 'r') as file:\n",
    "    settings = yaml.safe_load(file)\n",
    "\n",
    "print(settings)\n",
    "\n",
    "sentence_transformer_model_name = settings['sentence_transformer_model_name']\n",
    "sentence_transformer_max_tokens = settings['sentence_transformer_max_tokens']"
   ],
   "id": "1fc1d0f663179e7d",
   "outputs": [
    {
     "name": "stdout",
     "output_type": "stream",
     "text": [
      "{'sentence_transformer_model_name': 'thenlper/gte-small', 'sentence_transformer_max_tokens': 512, 'llm_model_name': 'tiiuae/Falcon3-7B-Instruct'}\n"
     ]
    }
   ],
   "execution_count": 123
  },
  {
   "metadata": {
    "ExecuteTime": {
     "end_time": "2025-01-29T13:00:01.824031Z",
     "start_time": "2025-01-29T13:00:01.589939Z"
    }
   },
   "cell_type": "code",
   "source": [
    "# initializing tokenizer\n",
    "tokenizer = AutoTokenizer.from_pretrained(sentence_transformer_model_name)"
   ],
   "id": "4c4f2a6cd207d495",
   "outputs": [],
   "execution_count": 124
  },
  {
   "metadata": {
    "ExecuteTime": {
     "end_time": "2025-01-29T13:00:01.839817Z",
     "start_time": "2025-01-29T13:00:01.837297Z"
    }
   },
   "cell_type": "code",
   "source": [
    "names = df_documents['name'].to_list()\n",
    "documents = df_documents['text'].to_list()"
   ],
   "id": "ea80086ccccb7b17",
   "outputs": [],
   "execution_count": 125
  },
  {
   "metadata": {
    "ExecuteTime": {
     "end_time": "2025-01-29T13:00:01.880404Z",
     "start_time": "2025-01-29T13:00:01.878370Z"
    }
   },
   "cell_type": "code",
   "source": [
    "def get_num_tokens(document):\n",
    "    return len(tokenizer.tokenize(document))"
   ],
   "id": "c1fbb63a6d00d46f",
   "outputs": [],
   "execution_count": 126
  },
  {
   "metadata": {
    "ExecuteTime": {
     "end_time": "2025-01-29T13:00:02.045878Z",
     "start_time": "2025-01-29T13:00:01.923135Z"
    }
   },
   "cell_type": "code",
   "source": [
    "from langchain.text_splitter import TokenTextSplitter\n",
    "from langchain_core.documents import Document\n",
    "\n",
    "splitter = TokenTextSplitter(length_function=get_num_tokens, chunk_size=512, chunk_overlap=100)\n",
    "documents = [Document(page_content=document, metadata={'name':name}) for name, document in zip(names, documents)]\n",
    "documents_chunked = splitter.transform_documents(documents)\n",
    "names_chunked = [document.metadata['name'] for document in documents_chunked]\n",
    "documents_chunked = [document.page_content for document in documents_chunked]\n",
    "assert len(names_chunked) == len(documents_chunked)"
   ],
   "id": "1f8623eaceaa5f6f",
   "outputs": [],
   "execution_count": 127
  },
  {
   "metadata": {
    "ExecuteTime": {
     "end_time": "2025-01-29T13:00:02.057568Z",
     "start_time": "2025-01-29T13:00:02.055914Z"
    }
   },
   "cell_type": "code",
   "source": [
    "def get_num_sentences(document):\n",
    "    return len(nltk.sent_tokenize(document))"
   ],
   "id": "566ed3dc1e62738c",
   "outputs": [],
   "execution_count": 128
  },
  {
   "metadata": {
    "ExecuteTime": {
     "end_time": "2025-01-29T13:00:02.944815Z",
     "start_time": "2025-01-29T13:00:02.097504Z"
    }
   },
   "cell_type": "code",
   "source": [
    "num_tokens = [len(tokenizer.tokenize(chunk)) for chunk in documents_chunked]\n",
    "num_sentences = [get_num_sentences(chunk) for chunk in documents_chunked]"
   ],
   "id": "cdb5aa8099ae3c35",
   "outputs": [],
   "execution_count": 129
  },
  {
   "metadata": {
    "ExecuteTime": {
     "end_time": "2025-01-29T13:00:03.261778Z",
     "start_time": "2025-01-29T13:00:02.962449Z"
    }
   },
   "cell_type": "code",
   "source": [
    "fig, ax = plt.subplots(1, 2, figsize=(15, 5))\n",
    "\n",
    "\n",
    "ax[0].set_xticks(np.arange(0, len(num_tokens), 50))\n",
    "ax[0].grid()\n",
    "ax[0].hist(num_tokens, bins=np.arange(0, np.max(num_tokens) + 50, 50))\n",
    "\n",
    "ax[1].set_xticks(np.arange(0, len(num_sentences), 5))\n",
    "ax[1].grid()\n",
    "ax[1].hist(num_sentences, bins=np.arange(0, np.max(num_sentences) + 5, 5))\n",
    "\n",
    "\n",
    "plt.savefig(f'{my_git_root}/notebooks/images/chunking_statistics/fixed_length_num_tokens.svg')\n",
    "plt.show()"
   ],
   "id": "e524739a210c2fe5",
   "outputs": [
    {
     "data": {
      "text/plain": [
       "<Figure size 1500x500 with 2 Axes>"
      ],
      "image/png": "[encoded data removed]"
     },
     "metadata": {},
     "output_type": "display_data"
    }
   ],
   "execution_count": 130
  },
  {
   "metadata": {
    "ExecuteTime": {
     "end_time": "2025-01-29T13:00:03.275284Z",
     "start_time": "2025-01-29T13:00:03.272817Z"
    }
   },
   "cell_type": "code",
   "source": [
    "df_documents_chunked = pd.DataFrame(data={\n",
    "    'name': names_chunked,\n",
    "    'text': documents_chunked\n",
    "})"
   ],
   "id": "4c64a80b0bf7313b",
   "outputs": [],
   "execution_count": 131
  },
  {
   "metadata": {
    "ExecuteTime": {
     "end_time": "2025-01-29T13:00:03.343936Z",
     "start_time": "2025-01-29T13:00:03.314240Z"
    }
   },
   "cell_type": "code",
   "source": "df_documents_chunked.to_csv(f'{my_git_root}/data/documents_chunked_fixed_length.csv', index=False)",
   "id": "b799ce190bd75bc9",
   "outputs": [],
   "execution_count": 132
  }
 ],
 "metadata": {
  "kernelspec": {
   "display_name": "Python 3",
   "language": "python",
   "name": "python3"
  },
  "language_info": {
   "codemirror_mode": {
    "name": "ipython",
    "version": 2
   },
   "file_extension": ".py",
   "mimetype": "text/x-python",
   "name": "python",
   "nbconvert_exporter": "python",
   "pygments_lexer": "ipython2",
   "version": "2.7.6"
  }
 },
 "nbformat": 4,
 "nbformat_minor": 5
}
