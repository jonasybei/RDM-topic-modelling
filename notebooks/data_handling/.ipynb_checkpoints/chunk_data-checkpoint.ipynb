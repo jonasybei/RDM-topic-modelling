{
 "cells": [
  {
   "cell_type": "code",
   "id": "initial_id",
   "metadata": {
    "collapsed": true,
    "ExecuteTime": {
     "end_time": "2025-01-18T17:22:03.466848Z",
     "start_time": "2025-01-18T17:22:03.447941Z"
    }
   },
   "source": [
    "import re\n",
    "\n",
    "import pandas as pd\n",
    "from git_root import git_root\n",
    "from transfomers import AutoTokenizer\n",
    "from sentence_transformers import SentenceTransformer"
   ],
   "outputs": [
    {
     "ename": "ModuleNotFoundError",
     "evalue": "No module named 'transfomers'",
     "output_type": "error",
     "traceback": [
      "\u001B[0;31m---------------------------------------------------------------------------\u001B[0m",
      "\u001B[0;31mModuleNotFoundError\u001B[0m                       Traceback (most recent call last)",
      "Cell \u001B[0;32mIn[3], line 5\u001B[0m\n\u001B[1;32m      3\u001B[0m \u001B[38;5;28;01mimport\u001B[39;00m\u001B[38;5;250m \u001B[39m\u001B[38;5;21;01mpandas\u001B[39;00m\u001B[38;5;250m \u001B[39m\u001B[38;5;28;01mas\u001B[39;00m\u001B[38;5;250m \u001B[39m\u001B[38;5;21;01mpd\u001B[39;00m\n\u001B[1;32m      4\u001B[0m \u001B[38;5;28;01mfrom\u001B[39;00m\u001B[38;5;250m \u001B[39m\u001B[38;5;21;01mgit_root\u001B[39;00m\u001B[38;5;250m \u001B[39m\u001B[38;5;28;01mimport\u001B[39;00m git_root\n\u001B[0;32m----> 5\u001B[0m \u001B[38;5;28;01mfrom\u001B[39;00m\u001B[38;5;250m \u001B[39m\u001B[38;5;21;01mtransfomers\u001B[39;00m\u001B[38;5;250m \u001B[39m\u001B[38;5;28;01mimport\u001B[39;00m AutoTokenizer\n\u001B[1;32m      6\u001B[0m \u001B[38;5;28;01mfrom\u001B[39;00m\u001B[38;5;250m \u001B[39m\u001B[38;5;21;01msentence_transformers\u001B[39;00m\u001B[38;5;250m \u001B[39m\u001B[38;5;28;01mimport\u001B[39;00m SentenceTransformer\n",
      "\u001B[0;31mModuleNotFoundError\u001B[0m: No module named 'transfomers'"
     ]
    }
   ],
   "execution_count": 3
  },
  {
   "metadata": {
    "ExecuteTime": {
     "end_time": "2025-01-18T17:17:15.449759224Z",
     "start_time": "2025-01-18T17:12:26.563949Z"
    }
   },
   "cell_type": "code",
   "source": "my_git_root = git_root()",
   "id": "a737bf26da004939",
   "outputs": [],
   "execution_count": 20
  },
  {
   "metadata": {
    "ExecuteTime": {
     "end_time": "2025-01-18T17:17:15.474481415Z",
     "start_time": "2025-01-18T17:12:26.607135Z"
    }
   },
   "cell_type": "code",
   "source": [
    "df_documents_path = f'{my_git_root}/data/marker_ocr.csv'\n",
    "df_documents = pd.read_csv(df_documents_path)"
   ],
   "id": "a148db30c1e6cdfa",
   "outputs": [],
   "execution_count": 21
  },
  {
   "metadata": {
    "ExecuteTime": {
     "end_time": "2025-01-18T17:17:15.504523393Z",
     "start_time": "2025-01-18T17:12:26.653497Z"
    }
   },
   "cell_type": "code",
   "source": "df_documents",
   "id": "8552c85810532b31",
   "outputs": [
    {
     "data": {
      "text/plain": [
       "                             name  \\\n",
       "0            aalto-university.pdf   \n",
       "1      aberystwyth-university.pdf   \n",
       "2            aston-university.pdf   \n",
       "3           bangor-university.pdf   \n",
       "4    brunel-university-london.pdf   \n",
       "..                            ...   \n",
       "137       universität-rostock.pdf   \n",
       "138        universität-siegen.pdf   \n",
       "139     universität-stuttgart.pdf   \n",
       "140        utrecht-university.pdf   \n",
       "141        wrexham-university.pdf   \n",
       "\n",
       "                                                  text  \n",
       "0    Aalto University Research Data Management Poli...  \n",
       "1    ## Research Data Management Policy\\n\\nVersion ...  \n",
       "2    # Research Data Management Policy\\n\\nJuly 2023...  \n",
       "3    # Data Protection Policy\\n\\n| Rev | Date | Pur...  \n",
       "4    # Brunel University Research Data Management P...  \n",
       "..                                                 ...  \n",
       "137  # Research Data Policy of the University of Ro...  \n",
       "138  ## CREATING A COMMON FUTURE\\n\\n## Research-Dat...  \n",
       "139  ## Research data management policy of the Univ...  \n",
       "140  # University policy framework for research dat...  \n",
       "141  ## Prifysgol Wrecsam Wrexham University\\n\\n# R...  \n",
       "\n",
       "[142 rows x 2 columns]"
      ],
      "text/html": [
       "<div>\n",
       "<style scoped>\n",
       "    .dataframe tbody tr th:only-of-type {\n",
       "        vertical-align: middle;\n",
       "    }\n",
       "\n",
       "    .dataframe tbody tr th {\n",
       "        vertical-align: top;\n",
       "    }\n",
       "\n",
       "    .dataframe thead th {\n",
       "        text-align: right;\n",
       "    }\n",
       "</style>\n",
       "<table border=\"1\" class=\"dataframe\">\n",
       "  <thead>\n",
       "    <tr style=\"text-align: right;\">\n",
       "      <th></th>\n",
       "      <th>name</th>\n",
       "      <th>text</th>\n",
       "    </tr>\n",
       "  </thead>\n",
       "  <tbody>\n",
       "    <tr>\n",
       "      <th>0</th>\n",
       "      <td>aalto-university.pdf</td>\n",
       "      <td>Aalto University Research Data Management Poli...</td>\n",
       "    </tr>\n",
       "    <tr>\n",
       "      <th>1</th>\n",
       "      <td>aberystwyth-university.pdf</td>\n",
       "      <td>## Research Data Management Policy\\n\\nVersion ...</td>\n",
       "    </tr>\n",
       "    <tr>\n",
       "      <th>2</th>\n",
       "      <td>aston-university.pdf</td>\n",
       "      <td># Research Data Management Policy\\n\\nJuly 2023...</td>\n",
       "    </tr>\n",
       "    <tr>\n",
       "      <th>3</th>\n",
       "      <td>bangor-university.pdf</td>\n",
       "      <td># Data Protection Policy\\n\\n| Rev | Date | Pur...</td>\n",
       "    </tr>\n",
       "    <tr>\n",
       "      <th>4</th>\n",
       "      <td>brunel-university-london.pdf</td>\n",
       "      <td># Brunel University Research Data Management P...</td>\n",
       "    </tr>\n",
       "    <tr>\n",
       "      <th>...</th>\n",
       "      <td>...</td>\n",
       "      <td>...</td>\n",
       "    </tr>\n",
       "    <tr>\n",
       "      <th>137</th>\n",
       "      <td>universität-rostock.pdf</td>\n",
       "      <td># Research Data Policy of the University of Ro...</td>\n",
       "    </tr>\n",
       "    <tr>\n",
       "      <th>138</th>\n",
       "      <td>universität-siegen.pdf</td>\n",
       "      <td>## CREATING A COMMON FUTURE\\n\\n## Research-Dat...</td>\n",
       "    </tr>\n",
       "    <tr>\n",
       "      <th>139</th>\n",
       "      <td>universität-stuttgart.pdf</td>\n",
       "      <td>## Research data management policy of the Univ...</td>\n",
       "    </tr>\n",
       "    <tr>\n",
       "      <th>140</th>\n",
       "      <td>utrecht-university.pdf</td>\n",
       "      <td># University policy framework for research dat...</td>\n",
       "    </tr>\n",
       "    <tr>\n",
       "      <th>141</th>\n",
       "      <td>wrexham-university.pdf</td>\n",
       "      <td>## Prifysgol Wrecsam Wrexham University\\n\\n# R...</td>\n",
       "    </tr>\n",
       "  </tbody>\n",
       "</table>\n",
       "<p>142 rows × 2 columns</p>\n",
       "</div>"
      ]
     },
     "execution_count": 22,
     "metadata": {},
     "output_type": "execute_result"
    }
   ],
   "execution_count": 22
  },
  {
   "metadata": {
    "ExecuteTime": {
     "end_time": "2025-01-18T17:17:15.515508695Z",
     "start_time": "2025-01-18T17:12:26.702704Z"
    }
   },
   "cell_type": "code",
   "source": [
    "documents_split = []\n",
    "\n",
    "for document in df_documents['text'].to_list():\n",
    "    document_split = re.split(r'#+\\s*', document)\n",
    "    documents_split.append(document_split)"
   ],
   "id": "e9e1a1d0eafc44aa",
   "outputs": [],
   "execution_count": 23
  },
  {
   "metadata": {
    "ExecuteTime": {
     "end_time": "2025-01-18T17:17:15.516985719Z",
     "start_time": "2025-01-18T17:12:26.773315Z"
    }
   },
   "cell_type": "code",
   "source": "print(documents_split[0])",
   "id": "d283d2cf9ad4c848",
   "outputs": [
    {
     "name": "stdout",
     "output_type": "stream",
     "text": [
      "['Aalto University Research Data Management Policy Decision by president of 10 February 2016 Appendix 1\\n\\n', 'Aalto University Research Data Management Policy\\n\\nThe research data management policy aims to make data management easier for the individual researcher. Managing and curating data creates competitive edge, and allocating resources for that is a strategic choice of the university. The purposes of this policy are to (1) encourage to informed decision making in research data management and (2) define the principles used in the opening of publicly funded scientific research data to achieve wide societal impact and the strategic goals of Aalto University.\\n\\nThe data management policy shall be implemented through conscious and strategic decisions. Open access publishing of research data aims to make research data easily discoverable, assessable, intelligible, usable and interoperable. Where applicable, these requirements can also be applied to data other than open access published research data, and to the software needed to handle the open data. The decisions to publish software, other than the software explicitly needed to handle the data, are done using the same conscious and strategic grounds as opening of the research data.\\n\\nOwnership of copyright protected research data is transferred to Aalto University if the data is created in an externally funded research proiect of Aalto University. Strategic decisions about opening such data are done by the principal investigators. These decisions are done following the guidelines for ethical principles of research as well as the guidelines for responsible conduct of research, project agreements and guidelines for processing of personal data in scientific research,\\n\\nhttps://inside.aalto.fi/display/AboutAalto/Research+Ethics+Committee.\\n\\nResearch data is not opened if the opening would violate privacy, safety, security, terms of project agreements or legitimate concerns of private partners. Researchers shall follow the \"Guideline on nondisclosure of information and information security classification at Aalto University\" and its appendix \"Rules on the handling of information materials\".\\n\\nhttps://inside.aalto.fi/display/ArchiveandRegistryServices/Guidelines+-+Classification+of+Information.\\n\\nWhen deciding on the opening of research data, the possibilities for commercially exploiting the research results and data are taken into consideration. Aalto University will make agreements about the user rights of third parties according to the strategic goals of the university. Aalto University may also charge a fee from third parties for the use of research data.\\n\\nOpenness of scientific research data will increase the scientific impact of the research, speed up the adoption of research findings and the creation of innovations, enable transparency in science, as well as ensure that research data has wide societal impact and usability in solving global challenges.\\n\\nOpening access to research data shall be made easy for researchers and implemented in a cost-effective manner so that the resources invested are proportioned to the benefits attainable. An appropriate digital infrastructure will be made available to the researchers by combined European, national and Aalto University efforts.\\n\\nThe Aalto University research data management policy applies to digital research materials produced, used and revised in research projects, i.e. research data. Physical materials on which research data are based shall be excluded from research data, along with the use of biological research materials. The concept of\\n\\nresearch data is not specified further in this policy, as the quality and quantity of research data that is chosen for open access publishing is also chosen using the criteria above. (As regards university document preservation, a data management plan (DMP) required by the Archives Act and the instructions provided by Aalto University\\'s Archive and Registry Services shall be abided by.)\\n\\n', 'Principles for open access publishing of research data (recommended to be acknowledged in data management in general, where applicable)\\n\\n', '1. Discoverability\\n\\nThe location of research data and the necessary software to access the data is known and they are easily discoverable and identifiable by means of a standard international identification mechanism.\\n\\n', '2. Accessibility\\n\\nResearch data and the necessary software to access the data shall be easily accessible, along with other necessary information to access the data, such as a mention of the concerned research areas.\\n\\nAn embargo period can be agreed upon, to achieve strategic advantage for the creator. The embargo period is expressed in connection with the material.\\n\\nFor the research data, a licensing framework has been selected for research and educational use and for commercial exploitation. The license recommended for research data is Creative Commons Attribution 4.0 International (CC BY 4.0) and the waiver recommended for metadata is CCQ 1.0 Universal (CC0 1.0) Public Domain Dedication. The license recommended for software is the MIT Licence. Other licenses may be chosen to achieve the strategic goals of the research project. If research data is published using the CC BY 4.0 license, Aalto University and researchers obtain sufficient rights for the re-use of the data, even though the ownership of the research data is not transferred to the University. The terms of the CC BY 4.0 license require that the creators of the research data are attributed.\\n\\n', '3. Assessability and intelligibility\\n\\nThe research data and the necessary software to access the data shall be assessable for and intelligible to third parties for scientific scrutiny and peer review. Research data shall be published together with related scientific publications for the purposes of peer review. Research data shall be provided in a way that judgements can be made about its reliability and the competence of those who created it.\\n\\n', '4. Usability\\n\\nThe research data and the necessary software to access the data shall also be usable for purposes beyond the original project. The research data chosen for long-term preservation shall be safely stored and curated to ensure its usability for wider needs than merely a highly specialised expert group. Whenever possible, certified repositories are used for research data preservation.\\n\\nResearch data shall be stored together with the minimum metadata and documentation to make it useful. Aalto University does not require the creator of the research data to offer support for further use of the data.\\n\\nWhen applicable and allowed by previous licenses, the necessary software will also be stored together with the research data.\\n\\nAalto University Research Data Management Policy Decision by president of 10 February 2016 Appendix 1\\n\\n', '5. Interoperability\\n\\nThe research data and the necessary software shall be produced in a manner that ensures their interoperability with applicable standards and special quality requirements. Interoperability shall be implemented in a way that allows data exchange between researcher groups, higher education institutions and research institutions in different countries. Interoperability will also allow for the re-combination of different datasets from different origins.\\n\\n', 'Related documents and agreements\\n\\nFinnish Advisory Board on Research Integrity (TENK): Ethical review in human sciences (TENK)\\n\\nResponsible conduct of research (TENK)\\n\\nGuideline on non-disclosure of information and information security classification at Aalto University Classification of Information, Guidelines\\n\\nClassification of Information, Rules on the Handling\\n\\nExamples of confidential data and IT services\\n\\nhttps://inside.aalto.fi/display/ArchiveandRegistryServices/Guidelines+-+Classification+of+Information\\n\\nGuidelines for processing of personal data in scientific research https://inside.aalto.fi/display/AboutAalto/Research+Ethics+Committee\\n\\nAnnex 1 to the Employment Contract, Terms and Conditions on Assigning Rights generated in All Projects which Receive Funding from External Sources\\n\\nhttps://inside.aalto.fi/download/attachments/37791336/FINAL Oikeuksiensiirto EN Aalto tyosopimuks en_liite_20110831_2.pdf?version=1&modificationDate=1441263348088&api=v2 .\\n\\nCreative Commons Attribution 4.0 International (CC BY 4.0)\\n\\nCC0 1.0 Universal (CC0 1.0) Public Domain Dedication\\n\\n', 'MIT Licence\\n\\n', 'Background documents\\n\\nGuidelines on Data Management in Horizon 2020 https://ec.europa.eu/research/participants/data/ref/h2020/grants manual/hi/oa pilot/h2020-hi-oadata-mgt en.pdf\\n\\nGuidelines on Open Access to Scientific Publications and Research Data in Horizon 2020 https://ec.europa.eu/research/participants/data/ref/h2020/grants manual/hi/oa pilot/h2020-hi-oapilot-guide en.pdf\\n\\nG8 Science Ministers Statement https://www.gov.uk/government/uploads/system/uploads/attachment_data/file/206801/G8_Science Meeting Statement 12 June 2013.pdf\\n\\n']\n"
     ]
    }
   ],
   "execution_count": 24
  },
  {
   "metadata": {
    "ExecuteTime": {
     "end_time": "2025-01-18T17:17:15.517756465Z",
     "start_time": "2025-01-18T17:12:26.859474Z"
    }
   },
   "cell_type": "code",
   "source": "tokens = tokenizer.tokenize(sentence)",
   "id": "6024596017eb3b5d",
   "outputs": [
    {
     "ename": "NameError",
     "evalue": "name 'AutoTokenizer' is not defined",
     "output_type": "error",
     "traceback": [
      "\u001B[0;31m---------------------------------------------------------------------------\u001B[0m",
      "\u001B[0;31mNameError\u001B[0m                                 Traceback (most recent call last)",
      "Cell \u001B[0;32mIn[25], line 1\u001B[0m\n\u001B[0;32m----> 1\u001B[0m tokenizer \u001B[38;5;241m=\u001B[39m \u001B[43mAutoTokenizer\u001B[49m\u001B[38;5;241m.\u001B[39mfrom_pretrained(\u001B[38;5;124m\"\u001B[39m\u001B[38;5;124mthenlper/gte-small\u001B[39m\u001B[38;5;124m\"\u001B[39m)\n\u001B[1;32m      3\u001B[0m embedding_model \u001B[38;5;241m=\u001B[39m SentenceTransformer(\u001B[38;5;124m'\u001B[39m\u001B[38;5;124mthenlper/gte-small\u001B[39m\u001B[38;5;124m'\u001B[39m, trust_remote_code\u001B[38;5;241m=\u001B[39m\u001B[38;5;28;01mTrue\u001B[39;00m)\n\u001B[1;32m      4\u001B[0m embeddings \u001B[38;5;241m=\u001B[39m embedding_model\u001B[38;5;241m.\u001B[39mencode(documents_split)\n",
      "\u001B[0;31mNameError\u001B[0m: name 'AutoTokenizer' is not defined"
     ]
    }
   ],
   "execution_count": 25
  }
 ],
 "metadata": {
  "kernelspec": {
   "display_name": "Python 3",
   "language": "python",
   "name": "python3"
  },
  "language_info": {
   "codemirror_mode": {
    "name": "ipython",
    "version": 2
   },
   "file_extension": ".py",
   "mimetype": "text/x-python",
   "name": "python",
   "nbconvert_exporter": "python",
   "pygments_lexer": "ipython2",
   "version": "2.7.6"
  }
 },
 "nbformat": 4,
 "nbformat_minor": 5
}
