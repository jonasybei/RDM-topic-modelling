{
 "cells": [
  {
   "metadata": {},
   "cell_type": "markdown",
   "source": "# Importing libraries",
   "id": "a25feb1c06798f4d"
  },
  {
   "metadata": {
    "ExecuteTime": {
     "end_time": "2025-02-07T10:40:11.602943Z",
     "start_time": "2025-02-07T10:40:04.110310Z"
    }
   },
   "cell_type": "code",
   "outputs": [],
   "execution_count": 1,
   "source": [
    "import os\n",
    "import sys\n",
    "\n",
    "import pandas as pd\n",
    "from bertopic import BERTopic\n",
    "from git_root import git_root\n",
    "from hdbscan import HDBSCAN\n",
    "from octis.evaluation_metrics.coherence_metrics import Coherence\n",
    "from octis.evaluation_metrics.diversity_metrics import TopicDiversity\n",
    "from sentence_transformers import SentenceTransformer\n",
    "from umap import UMAP\n",
    "\n",
    "os.environ[\"PYTORCH_CUDA_ALLOC_CONF\"] = \"expandable_segments:True\"\n",
    "my_git_root = git_root()\n",
    "sys.path.append(my_git_root)"
   ],
   "id": "f2c9f5b6635fe113"
  },
  {
   "metadata": {},
   "cell_type": "markdown",
   "source": "# Loading the data",
   "id": "d29f95cbe1c47682"
  },
  {
   "metadata": {
    "ExecuteTime": {
     "end_time": "2025-02-07T10:40:11.629434Z",
     "start_time": "2025-02-07T10:40:11.606990Z"
    }
   },
   "cell_type": "code",
   "outputs": [],
   "execution_count": 2,
   "source": [
    "df_segmented_paragraphs_path = f'{my_git_root}/data/output/documents_chunked_structured.csv'\n",
    "df_segmented_paragraphs = pd.read_csv(df_segmented_paragraphs_path)"
   ],
   "id": "5625c57d20d5c4a0"
  },
  {
   "metadata": {
    "ExecuteTime": {
     "end_time": "2025-02-07T10:40:11.734858Z",
     "start_time": "2025-02-07T10:40:11.729117Z"
    }
   },
   "cell_type": "code",
   "outputs": [
    {
     "data": {
      "text/plain": [
       "                       name                                               text\n",
       "0       aalto-university.md                                   Aalto University\n",
       "1       aalto-university.md   Aalto University Research Data Management Policy\n",
       "2       aalto-university.md  The research data management policy aims to ma...\n",
       "3       aalto-university.md  The data management policy shall be implemente...\n",
       "4       aalto-university.md  Ownership of copyright protected research data...\n",
       "...                     ...                                                ...\n",
       "3481  wrexham-university.md  FAIR Data\\n\\nWhere it is lawful to do so, the ...\n",
       "3482  wrexham-university.md  Prifysgol Wrecsam Wrexham University\\n\\nPublic...\n",
       "3483  wrexham-university.md  Reporting a Data Incident/Breach\\n\\nThe UK GDP...\n",
       "3484  wrexham-university.md  Other Polices, Procedures, Legislation\\n\\nThis...\n",
       "3485  wrexham-university.md  Legislation\\n\\nData Protection Act 2018 UK GDP...\n",
       "\n",
       "[3486 rows x 2 columns]"
      ],
      "text/html": [
       "<div>\n",
       "<style scoped>\n",
       "    .dataframe tbody tr th:only-of-type {\n",
       "        vertical-align: middle;\n",
       "    }\n",
       "\n",
       "    .dataframe tbody tr th {\n",
       "        vertical-align: top;\n",
       "    }\n",
       "\n",
       "    .dataframe thead th {\n",
       "        text-align: right;\n",
       "    }\n",
       "</style>\n",
       "<table border=\"1\" class=\"dataframe\">\n",
       "  <thead>\n",
       "    <tr style=\"text-align: right;\">\n",
       "      <th></th>\n",
       "      <th>name</th>\n",
       "      <th>text</th>\n",
       "    </tr>\n",
       "  </thead>\n",
       "  <tbody>\n",
       "    <tr>\n",
       "      <th>0</th>\n",
       "      <td>aalto-university.md</td>\n",
       "      <td>Aalto University</td>\n",
       "    </tr>\n",
       "    <tr>\n",
       "      <th>1</th>\n",
       "      <td>aalto-university.md</td>\n",
       "      <td>Aalto University Research Data Management Policy</td>\n",
       "    </tr>\n",
       "    <tr>\n",
       "      <th>2</th>\n",
       "      <td>aalto-university.md</td>\n",
       "      <td>The research data management policy aims to ma...</td>\n",
       "    </tr>\n",
       "    <tr>\n",
       "      <th>3</th>\n",
       "      <td>aalto-university.md</td>\n",
       "      <td>The data management policy shall be implemente...</td>\n",
       "    </tr>\n",
       "    <tr>\n",
       "      <th>4</th>\n",
       "      <td>aalto-university.md</td>\n",
       "      <td>Ownership of copyright protected research data...</td>\n",
       "    </tr>\n",
       "    <tr>\n",
       "      <th>...</th>\n",
       "      <td>...</td>\n",
       "      <td>...</td>\n",
       "    </tr>\n",
       "    <tr>\n",
       "      <th>3481</th>\n",
       "      <td>wrexham-university.md</td>\n",
       "      <td>FAIR Data\\n\\nWhere it is lawful to do so, the ...</td>\n",
       "    </tr>\n",
       "    <tr>\n",
       "      <th>3482</th>\n",
       "      <td>wrexham-university.md</td>\n",
       "      <td>Prifysgol Wrecsam Wrexham University\\n\\nPublic...</td>\n",
       "    </tr>\n",
       "    <tr>\n",
       "      <th>3483</th>\n",
       "      <td>wrexham-university.md</td>\n",
       "      <td>Reporting a Data Incident/Breach\\n\\nThe UK GDP...</td>\n",
       "    </tr>\n",
       "    <tr>\n",
       "      <th>3484</th>\n",
       "      <td>wrexham-university.md</td>\n",
       "      <td>Other Polices, Procedures, Legislation\\n\\nThis...</td>\n",
       "    </tr>\n",
       "    <tr>\n",
       "      <th>3485</th>\n",
       "      <td>wrexham-university.md</td>\n",
       "      <td>Legislation\\n\\nData Protection Act 2018 UK GDP...</td>\n",
       "    </tr>\n",
       "  </tbody>\n",
       "</table>\n",
       "<p>3486 rows × 2 columns</p>\n",
       "</div>"
      ]
     },
     "execution_count": 3,
     "metadata": {},
     "output_type": "execute_result"
    }
   ],
   "execution_count": 3,
   "source": "df_segmented_paragraphs",
   "id": "986dbf75bf2b024a"
  },
  {
   "metadata": {
    "ExecuteTime": {
     "end_time": "2025-02-07T10:40:11.819425Z",
     "start_time": "2025-02-07T10:40:11.816519Z"
    }
   },
   "cell_type": "code",
   "outputs": [],
   "execution_count": 4,
   "source": "documents = df_segmented_paragraphs['text'].to_list()",
   "id": "52eb0b3be63805ee"
  },
  {
   "metadata": {
    "ExecuteTime": {
     "end_time": "2025-02-07T10:40:11.860759Z",
     "start_time": "2025-02-07T10:40:11.857943Z"
    }
   },
   "cell_type": "code",
   "outputs": [
    {
     "data": {
      "text/plain": [
       "3486"
      ]
     },
     "execution_count": 5,
     "metadata": {},
     "output_type": "execute_result"
    }
   ],
   "execution_count": 5,
   "source": "len(documents)",
   "id": "57989d19b42711b2"
  },
  {
   "metadata": {},
   "cell_type": "markdown",
   "source": "# Topic Modelling",
   "id": "d0231fe58d34e276"
  },
  {
   "metadata": {
    "ExecuteTime": {
     "end_time": "2025-02-07T10:40:19.436055Z",
     "start_time": "2025-02-07T10:40:11.893535Z"
    }
   },
   "cell_type": "code",
   "outputs": [],
   "execution_count": 6,
   "source": [
    "embedding_model = SentenceTransformer('thenlper/gte-small', trust_remote_code=True)\n",
    "\n",
    "embeddings = embedding_model.encode(documents)"
   ],
   "id": "e6bda54bed7ddc0a"
  },
  {
   "metadata": {},
   "cell_type": "markdown",
   "source": "Apply Default Parameters",
   "id": "518a08737673c142"
  },
  {
   "metadata": {
    "ExecuteTime": {
     "end_time": "2025-02-07T10:40:19.442308Z",
     "start_time": "2025-02-07T10:40:19.439911Z"
    }
   },
   "cell_type": "code",
   "outputs": [],
   "execution_count": 7,
   "source": [
    "umap_parameters = {\n",
    "    'n_neighbors': 15,\n",
    "    'n_components': 5,\n",
    "    'min_dist': 0.0,\n",
    "    'metric': 'cosine',\n",
    "    'random_state': 42\n",
    "}\n",
    "\n",
    "umap_model = UMAP(**umap_parameters)\n",
    "\n",
    "hdbscan_parameters = {\n",
    "    'min_cluster_size': 10,\n",
    "    'min_samples': 10,\n",
    "}\n",
    "\n",
    "hdbscan_model = HDBSCAN(**hdbscan_parameters)\n",
    "\n",
    "bertopic_parameters = {\n",
    "    'top_n_words': 25,\n",
    "    'n_gram_range': (2, 5),\n",
    "    'umap_model': umap_model,\n",
    "    'hdbscan_model': hdbscan_model\n",
    "}"
   ],
   "id": "4f66c857f1a53d4f"
  },
  {
   "metadata": {
    "ExecuteTime": {
     "end_time": "2025-02-07T10:40:37.168690Z",
     "start_time": "2025-02-07T10:40:19.484600Z"
    }
   },
   "cell_type": "code",
   "outputs": [],
   "execution_count": 8,
   "source": [
    "topic_model = BERTopic(**bertopic_parameters)\n",
    "topics, probs = topic_model.fit_transform(documents, embeddings)"
   ],
   "id": "30f66bdfe72ccb1f"
  },
  {
   "metadata": {},
   "cell_type": "markdown",
   "source": "# Evaluation",
   "id": "70055b9e09a13e92"
  },
  {
   "metadata": {
    "ExecuteTime": {
     "end_time": "2025-02-07T10:40:43.358288Z",
     "start_time": "2025-02-07T10:40:37.176936Z"
    }
   },
   "cell_type": "code",
   "outputs": [
    {
     "name": "stdout",
     "output_type": "stream",
     "text": [
      "Diversity: 0.7769014084507042\n",
      "Coherence: -0.0733694153393749\n"
     ]
    }
   ],
   "execution_count": 9,
   "source": [
    "# Preprocess Documents\n",
    "def remove_empty_topics(topic_words, top_n_words):\n",
    "    result = []\n",
    "    for words in topic_words:\n",
    "        if words != ['']*top_n_words:\n",
    "            result.append(words)\n",
    "    return result\n",
    "\n",
    "documents_df = pd.DataFrame({\"Document\": documents,\n",
    "                        \"ID\": range(len(documents)),\n",
    "                        \"Topic\": topics})\n",
    "documents_per_topic = documents_df.groupby(['Topic'], as_index=False).agg({'Document': ' '.join})\n",
    "cleaned_docs = topic_model._preprocess_text(documents_per_topic.Document.values)\n",
    "\n",
    "# Extract vectorizer and analyzer from BERTopic\n",
    "vectorizer = topic_model.vectorizer_model\n",
    "analyzer = vectorizer.build_analyzer()\n",
    "\n",
    "# Extract features for Topic Coherence evaluation\n",
    "words = vectorizer.get_feature_names_out()\n",
    "tokens = [analyzer(doc) for doc in cleaned_docs]\n",
    "\n",
    "topics_dict = topic_model.get_topics()\n",
    "topic_words = [[word for word, _ in words] for words in topics_dict.values()]\n",
    "topic_term_matrix = topic_model.c_tf_idf_.toarray()\n",
    "\n",
    "remove_empty_topics(topic_words, 25)\n",
    "\n",
    "octis_topics = {'topics': topic_words, 'topic-document-matrix': topic_term_matrix}\n",
    "\n",
    "coherence = Coherence(texts = tokens, measure='c_npmi')\n",
    "diversity = TopicDiversity(topk=25)\n",
    "\n",
    "diversity_score = diversity.score(octis_topics)\n",
    "coherence_score = coherence.score(octis_topics)\n",
    "\n",
    "print(f'Diversity: {diversity_score}')\n",
    "print(f'Coherence: {coherence_score}')"
   ],
   "id": "85027f81fcd15c8d"
  },
  {
   "metadata": {
    "ExecuteTime": {
     "end_time": "2025-02-07T10:40:43.373717Z",
     "start_time": "2025-02-07T10:40:43.371310Z"
    }
   },
   "cell_type": "code",
   "outputs": [
    {
     "name": "stdout",
     "output_type": "stream",
     "text": [
      "0.5804635640553681\n"
     ]
    }
   ],
   "execution_count": 10,
   "source": [
    "coherence_score_normalized = (coherence_score + 1) / 2\n",
    "harmonic_mean = 2 * (coherence_score_normalized*diversity_score) / (coherence_score_normalized+diversity_score)\n",
    "print(harmonic_mean)"
   ],
   "id": "44ce3a1118b25f3f"
  }
 ],
 "metadata": {
  "kernelspec": {
   "display_name": "Python 3",
   "language": "python",
   "name": "python3"
  },
  "language_info": {
   "codemirror_mode": {
    "name": "ipython",
    "version": 2
   },
   "file_extension": ".py",
   "mimetype": "text/x-python",
   "name": "python",
   "nbconvert_exporter": "python",
   "pygments_lexer": "ipython2",
   "version": "2.7.6"
  }
 },
 "nbformat": 4,
 "nbformat_minor": 5
}
