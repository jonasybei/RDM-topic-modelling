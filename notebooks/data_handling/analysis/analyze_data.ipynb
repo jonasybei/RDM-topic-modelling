{
 "cells": [
  {
   "metadata": {},
   "cell_type": "markdown",
   "source": "# Imports",
   "id": "338602204565723d"
  },
  {
   "metadata": {
    "ExecuteTime": {
     "end_time": "2025-02-04T21:22:05.181395Z",
     "start_time": "2025-02-04T21:22:05.179256Z"
    }
   },
   "cell_type": "code",
   "source": [
    "import re\n",
    "\n",
    "import matplotlib.pyplot as plt\n",
    "import nltk\n",
    "import numpy as np\n",
    "import pandas as pd\n",
    "import plotly.express as px\n",
    "from git_root import git_root\n",
    "\n",
    "import nltk"
   ],
   "id": "5932679834221689",
   "outputs": [],
   "execution_count": 23
  },
  {
   "metadata": {
    "ExecuteTime": {
     "end_time": "2025-02-04T21:22:05.235909Z",
     "start_time": "2025-02-04T21:22:05.232557Z"
    }
   },
   "cell_type": "code",
   "source": "my_git_root = git_root()",
   "id": "673d61029bf7950c",
   "outputs": [],
   "execution_count": 24
  },
  {
   "metadata": {
    "ExecuteTime": {
     "end_time": "2025-02-04T21:22:05.299944Z",
     "start_time": "2025-02-04T21:22:05.276074Z"
    }
   },
   "cell_type": "code",
   "source": [
    "df_extracted_path = f'{my_git_root}/data/output/documents.csv'\n",
    "df_extracted = pd.read_csv(df_extracted_path)"
   ],
   "id": "47231f355835de99",
   "outputs": [],
   "execution_count": 25
  },
  {
   "metadata": {
    "ExecuteTime": {
     "end_time": "2025-02-04T21:22:05.326435Z",
     "start_time": "2025-02-04T21:22:05.321728Z"
    }
   },
   "cell_type": "code",
   "source": "df_extracted",
   "id": "6c692acf08a9a9a1",
   "outputs": [
    {
     "data": {
      "text/plain": [
       "                            name  \\\n",
       "0            aalto-university.md   \n",
       "1      aberystwyth-university.md   \n",
       "2            aston-university.md   \n",
       "3           bangor-university.md   \n",
       "4    brunel-university-london.md   \n",
       "..                           ...   \n",
       "137       universität-rostock.md   \n",
       "138        universität-siegen.md   \n",
       "139     universität-stuttgart.md   \n",
       "140        utrecht-university.md   \n",
       "141        wrexham-university.md   \n",
       "\n",
       "                                                  text  \n",
       "0    # Aalto University  \\n\\n## Aalto University Re...  \n",
       "1    # Research Data Management Policy  \\n\\nVersion...  \n",
       "2    # Research Data Management Policy  \\n\\nJuly 20...  \n",
       "3    # Data Protection Policy  \\n\\n<html><body><tab...  \n",
       "4    # Brunel University Research Data Management P...  \n",
       "..                                                 ...  \n",
       "137  # Research Data Policy of the University of Ro...  \n",
       "138  # Research-Data-Policy of the University of Si...  \n",
       "139  # Research data management policy of the Unive...  \n",
       "140  # University policy framework for research dat...  \n",
       "141  # Prifysgol Wrecsam Wrexham University\\n\\n# Re...  \n",
       "\n",
       "[142 rows x 2 columns]"
      ],
      "text/html": [
       "<div>\n",
       "<style scoped>\n",
       "    .dataframe tbody tr th:only-of-type {\n",
       "        vertical-align: middle;\n",
       "    }\n",
       "\n",
       "    .dataframe tbody tr th {\n",
       "        vertical-align: top;\n",
       "    }\n",
       "\n",
       "    .dataframe thead th {\n",
       "        text-align: right;\n",
       "    }\n",
       "</style>\n",
       "<table border=\"1\" class=\"dataframe\">\n",
       "  <thead>\n",
       "    <tr style=\"text-align: right;\">\n",
       "      <th></th>\n",
       "      <th>name</th>\n",
       "      <th>text</th>\n",
       "    </tr>\n",
       "  </thead>\n",
       "  <tbody>\n",
       "    <tr>\n",
       "      <th>0</th>\n",
       "      <td>aalto-university.md</td>\n",
       "      <td># Aalto University  \\n\\n## Aalto University Re...</td>\n",
       "    </tr>\n",
       "    <tr>\n",
       "      <th>1</th>\n",
       "      <td>aberystwyth-university.md</td>\n",
       "      <td># Research Data Management Policy  \\n\\nVersion...</td>\n",
       "    </tr>\n",
       "    <tr>\n",
       "      <th>2</th>\n",
       "      <td>aston-university.md</td>\n",
       "      <td># Research Data Management Policy  \\n\\nJuly 20...</td>\n",
       "    </tr>\n",
       "    <tr>\n",
       "      <th>3</th>\n",
       "      <td>bangor-university.md</td>\n",
       "      <td># Data Protection Policy  \\n\\n&lt;html&gt;&lt;body&gt;&lt;tab...</td>\n",
       "    </tr>\n",
       "    <tr>\n",
       "      <th>4</th>\n",
       "      <td>brunel-university-london.md</td>\n",
       "      <td># Brunel University Research Data Management P...</td>\n",
       "    </tr>\n",
       "    <tr>\n",
       "      <th>...</th>\n",
       "      <td>...</td>\n",
       "      <td>...</td>\n",
       "    </tr>\n",
       "    <tr>\n",
       "      <th>137</th>\n",
       "      <td>universität-rostock.md</td>\n",
       "      <td># Research Data Policy of the University of Ro...</td>\n",
       "    </tr>\n",
       "    <tr>\n",
       "      <th>138</th>\n",
       "      <td>universität-siegen.md</td>\n",
       "      <td># Research-Data-Policy of the University of Si...</td>\n",
       "    </tr>\n",
       "    <tr>\n",
       "      <th>139</th>\n",
       "      <td>universität-stuttgart.md</td>\n",
       "      <td># Research data management policy of the Unive...</td>\n",
       "    </tr>\n",
       "    <tr>\n",
       "      <th>140</th>\n",
       "      <td>utrecht-university.md</td>\n",
       "      <td># University policy framework for research dat...</td>\n",
       "    </tr>\n",
       "    <tr>\n",
       "      <th>141</th>\n",
       "      <td>wrexham-university.md</td>\n",
       "      <td># Prifysgol Wrecsam Wrexham University\\n\\n# Re...</td>\n",
       "    </tr>\n",
       "  </tbody>\n",
       "</table>\n",
       "<p>142 rows × 2 columns</p>\n",
       "</div>"
      ]
     },
     "execution_count": 26,
     "metadata": {},
     "output_type": "execute_result"
    }
   ],
   "execution_count": 26
  },
  {
   "metadata": {
    "ExecuteTime": {
     "end_time": "2025-02-04T21:22:06.135900Z",
     "start_time": "2025-02-04T21:22:05.397682Z"
    }
   },
   "cell_type": "code",
   "source": [
    "documents = df_extracted['text']\n",
    "documents_words = [nltk.word_tokenize(document) for document in documents]\n",
    "num_documents_words = [len(document) for document in documents_words]"
   ],
   "id": "f3746bac40ce8658",
   "outputs": [],
   "execution_count": 27
  },
  {
   "metadata": {
    "ExecuteTime": {
     "end_time": "2025-02-04T21:25:04.251882Z",
     "start_time": "2025-02-04T21:25:04.096818Z"
    }
   },
   "cell_type": "code",
   "source": [
    "documents_sents = [nltk.sent_tokenize(document) for document in documents]\n",
    "num_documents_sents = [len(document) for document in documents_sents]"
   ],
   "id": "86a3c7cefad16878",
   "outputs": [],
   "execution_count": 40
  },
  {
   "metadata": {
    "ExecuteTime": {
     "end_time": "2025-02-04T21:28:03.011022Z",
     "start_time": "2025-02-04T21:28:02.817053Z"
    }
   },
   "cell_type": "code",
   "source": [
    "fig, ax = plt.subplots(1, 2, figsize = (12,5))\n",
    "\n",
    "ax[0].hist(num_documents_words, bins=np.arange(0, np.max(num_documents_words) + 100, 1000))\n",
    "ax[0].set_xticks(np.arange(0, np.max(num_documents_words) + 1000, 1000))\n",
    "ax[0].grid()\n",
    "ax[0].set_title('Number of Words in Documents')\n",
    "\n",
    "ax[1].hist(num_documents_sents, bins=np.arange(0, np.max(num_documents_sents) + 50, 50))\n",
    "ax[1].set_xticks(np.arange(0, np.max(num_documents_sents) + 50, 50))\n",
    "ax[1].grid()\n",
    "ax[1].set_title('Number of Sentences in Documents')\n",
    "\n",
    "plt.savefig(f'{my_git_root}/notebooks/images/document_statistics/num_words.svg')\n",
    "plt.show()"
   ],
   "id": "5ba73ff06ee4b6b1",
   "outputs": [
    {
     "data": {
      "text/plain": [
       "<Figure size 1200x500 with 2 Axes>"
      ],
      "image/png": "[encoded data removed]"
     },
     "metadata": {},
     "output_type": "display_data"
    }
   ],
   "execution_count": 57
  },
  {
   "metadata": {
    "ExecuteTime": {
     "end_time": "2025-02-04T21:22:09.527366Z",
     "start_time": "2025-02-04T21:22:09.456550Z"
    }
   },
   "cell_type": "code",
   "source": "plt.hist(num_documents_words)",
   "id": "130a82385a455758",
   "outputs": [
    {
     "data": {
      "text/plain": [
       "(array([24., 28., 38., 27., 10.,  6.,  4.,  3.,  0.,  2.]),\n",
       " array([ 137. ,  943.4, 1749.8, 2556.2, 3362.6, 4169. , 4975.4, 5781.8,\n",
       "        6588.2, 7394.6, 8201. ]),\n",
       " <BarContainer object of 10 artists>)"
      ]
     },
     "execution_count": 29,
     "metadata": {},
     "output_type": "execute_result"
    },
    {
     "data": {
      "text/plain": [
       "<Figure size 640x480 with 1 Axes>"
      ],
      "image/png": "[encoded data removed]"
     },
     "metadata": {},
     "output_type": "display_data"
    }
   ],
   "execution_count": 29
  }
 ],
 "metadata": {
  "kernelspec": {
   "display_name": "Python 3",
   "language": "python",
   "name": "python3"
  },
  "language_info": {
   "codemirror_mode": {
    "name": "ipython",
    "version": 2
   },
   "file_extension": ".py",
   "mimetype": "text/x-python",
   "name": "python",
   "nbconvert_exporter": "python",
   "pygments_lexer": "ipython2",
   "version": "2.7.6"
  }
 },
 "nbformat": 4,
 "nbformat_minor": 5
}
