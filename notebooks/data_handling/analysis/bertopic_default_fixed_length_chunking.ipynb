{
 "cells": [
  {
   "metadata": {},
   "cell_type": "markdown",
   "source": "# Importing libraries",
   "id": "963d5a57ffae1594"
  },
  {
   "metadata": {
    "ExecuteTime": {
     "end_time": "2025-02-07T10:15:46.683982Z",
     "start_time": "2025-02-07T10:15:36.346155Z"
    }
   },
   "cell_type": "code",
   "outputs": [],
   "execution_count": 1,
   "source": [
    "import os\n",
    "import sys\n",
    "\n",
    "import pandas as pd\n",
    "from bertopic import BERTopic\n",
    "from git_root import git_root\n",
    "from hdbscan import HDBSCAN\n",
    "from octis.evaluation_metrics.coherence_metrics import Coherence\n",
    "from octis.evaluation_metrics.diversity_metrics import TopicDiversity\n",
    "from sentence_transformers import SentenceTransformer\n",
    "from umap import UMAP\n",
    "\n",
    "os.environ[\"PYTORCH_CUDA_ALLOC_CONF\"] = \"expandable_segments:True\"\n",
    "my_git_root = git_root()\n",
    "sys.path.append(my_git_root)"
   ],
   "id": "4b936af1ef62aab1"
  },
  {
   "metadata": {},
   "cell_type": "markdown",
   "source": "# Loading the data",
   "id": "85e65642dca0adee"
  },
  {
   "metadata": {
    "ExecuteTime": {
     "end_time": "2025-02-07T10:15:46.711660Z",
     "start_time": "2025-02-07T10:15:46.687640Z"
    }
   },
   "cell_type": "code",
   "outputs": [],
   "execution_count": 2,
   "source": [
    "df_segmented_paragraphs_path = f'{my_git_root}/data/output/documents_chunked_fixed_length.csv'\n",
    "df_segmented_paragraphs = pd.read_csv(df_segmented_paragraphs_path)"
   ],
   "id": "da690c35a4e7f476"
  },
  {
   "metadata": {
    "ExecuteTime": {
     "end_time": "2025-02-07T10:15:46.816803Z",
     "start_time": "2025-02-07T10:15:46.809667Z"
    }
   },
   "cell_type": "code",
   "outputs": [
    {
     "data": {
      "text/plain": [
       "                          name  \\\n",
       "0          aalto-university.md   \n",
       "1          aalto-university.md   \n",
       "2          aalto-university.md   \n",
       "3          aalto-university.md   \n",
       "4    aberystwyth-university.md   \n",
       "..                         ...   \n",
       "960      wrexham-university.md   \n",
       "961      wrexham-university.md   \n",
       "962      wrexham-university.md   \n",
       "963      wrexham-university.md   \n",
       "964      wrexham-university.md   \n",
       "\n",
       "                                                  text  \n",
       "0    # Aalto University  \\n\\n## Aalto University Re...  \n",
       "1     about the user rights of third parties accord...  \n",
       "2    Research data and the necessary software to ac...  \n",
       "3     and documentation to make it useful. Aalto Un...  \n",
       "4    # Research Data Management Policy\\n\\nVersion 3...  \n",
       "..                                                 ...  \n",
       "960  atic monitoring of a publicly accessible area ...  \n",
       "961   loss and corruption, and unauthorised access ...  \n",
       "962   2021, these are Andorra, Argentina, Canada, F...  \n",
       "963   no longer than is necessary for the purposes ...  \n",
       "964  Findable Accessible Interoperable Reusable\\n\\n...  \n",
       "\n",
       "[965 rows x 2 columns]"
      ],
      "text/html": [
       "<div>\n",
       "<style scoped>\n",
       "    .dataframe tbody tr th:only-of-type {\n",
       "        vertical-align: middle;\n",
       "    }\n",
       "\n",
       "    .dataframe tbody tr th {\n",
       "        vertical-align: top;\n",
       "    }\n",
       "\n",
       "    .dataframe thead th {\n",
       "        text-align: right;\n",
       "    }\n",
       "</style>\n",
       "<table border=\"1\" class=\"dataframe\">\n",
       "  <thead>\n",
       "    <tr style=\"text-align: right;\">\n",
       "      <th></th>\n",
       "      <th>name</th>\n",
       "      <th>text</th>\n",
       "    </tr>\n",
       "  </thead>\n",
       "  <tbody>\n",
       "    <tr>\n",
       "      <th>0</th>\n",
       "      <td>aalto-university.md</td>\n",
       "      <td># Aalto University  \\n\\n## Aalto University Re...</td>\n",
       "    </tr>\n",
       "    <tr>\n",
       "      <th>1</th>\n",
       "      <td>aalto-university.md</td>\n",
       "      <td>about the user rights of third parties accord...</td>\n",
       "    </tr>\n",
       "    <tr>\n",
       "      <th>2</th>\n",
       "      <td>aalto-university.md</td>\n",
       "      <td>Research data and the necessary software to ac...</td>\n",
       "    </tr>\n",
       "    <tr>\n",
       "      <th>3</th>\n",
       "      <td>aalto-university.md</td>\n",
       "      <td>and documentation to make it useful. Aalto Un...</td>\n",
       "    </tr>\n",
       "    <tr>\n",
       "      <th>4</th>\n",
       "      <td>aberystwyth-university.md</td>\n",
       "      <td># Research Data Management Policy\\n\\nVersion 3...</td>\n",
       "    </tr>\n",
       "    <tr>\n",
       "      <th>...</th>\n",
       "      <td>...</td>\n",
       "      <td>...</td>\n",
       "    </tr>\n",
       "    <tr>\n",
       "      <th>960</th>\n",
       "      <td>wrexham-university.md</td>\n",
       "      <td>atic monitoring of a publicly accessible area ...</td>\n",
       "    </tr>\n",
       "    <tr>\n",
       "      <th>961</th>\n",
       "      <td>wrexham-university.md</td>\n",
       "      <td>loss and corruption, and unauthorised access ...</td>\n",
       "    </tr>\n",
       "    <tr>\n",
       "      <th>962</th>\n",
       "      <td>wrexham-university.md</td>\n",
       "      <td>2021, these are Andorra, Argentina, Canada, F...</td>\n",
       "    </tr>\n",
       "    <tr>\n",
       "      <th>963</th>\n",
       "      <td>wrexham-university.md</td>\n",
       "      <td>no longer than is necessary for the purposes ...</td>\n",
       "    </tr>\n",
       "    <tr>\n",
       "      <th>964</th>\n",
       "      <td>wrexham-university.md</td>\n",
       "      <td>Findable Accessible Interoperable Reusable\\n\\n...</td>\n",
       "    </tr>\n",
       "  </tbody>\n",
       "</table>\n",
       "<p>965 rows × 2 columns</p>\n",
       "</div>"
      ]
     },
     "execution_count": 3,
     "metadata": {},
     "output_type": "execute_result"
    }
   ],
   "execution_count": 3,
   "source": "df_segmented_paragraphs",
   "id": "7b03f387dbca6123"
  },
  {
   "metadata": {
    "ExecuteTime": {
     "end_time": "2025-02-07T10:15:46.907918Z",
     "start_time": "2025-02-07T10:15:46.905800Z"
    }
   },
   "cell_type": "code",
   "outputs": [],
   "execution_count": 4,
   "source": "documents = df_segmented_paragraphs['text'].to_list()",
   "id": "1ae10f56c426a2c1"
  },
  {
   "metadata": {
    "ExecuteTime": {
     "end_time": "2025-02-07T10:15:46.952296Z",
     "start_time": "2025-02-07T10:15:46.949337Z"
    }
   },
   "cell_type": "code",
   "outputs": [
    {
     "data": {
      "text/plain": [
       "965"
      ]
     },
     "execution_count": 5,
     "metadata": {},
     "output_type": "execute_result"
    }
   ],
   "execution_count": 5,
   "source": "len(documents)",
   "id": "67810c4c8119b1dc"
  },
  {
   "metadata": {},
   "cell_type": "markdown",
   "source": "# Topic Modelling",
   "id": "b5ac86b41228f65"
  },
  {
   "metadata": {
    "ExecuteTime": {
     "end_time": "2025-02-07T10:15:55.734934Z",
     "start_time": "2025-02-07T10:15:46.995298Z"
    }
   },
   "cell_type": "code",
   "outputs": [],
   "execution_count": 6,
   "source": [
    "embedding_model = SentenceTransformer('thenlper/gte-small', trust_remote_code=True)\n",
    "\n",
    "embeddings = embedding_model.encode(documents)"
   ],
   "id": "27fa6241f431496a"
  },
  {
   "metadata": {},
   "cell_type": "markdown",
   "source": "Apply Default Parameters",
   "id": "d797942aba4b6154"
  },
  {
   "metadata": {
    "ExecuteTime": {
     "end_time": "2025-02-07T10:15:55.741093Z",
     "start_time": "2025-02-07T10:15:55.738587Z"
    }
   },
   "cell_type": "code",
   "outputs": [],
   "execution_count": 7,
   "source": [
    "umap_parameters = {\n",
    "    'n_neighbors': 15,\n",
    "    'n_components': 5,\n",
    "    'min_dist': 0.0,\n",
    "    'metric': 'cosine',\n",
    "    'random_state': 42\n",
    "}\n",
    "\n",
    "umap_model = UMAP(**umap_parameters)\n",
    "\n",
    "hdbscan_parameters = {\n",
    "    'min_cluster_size': 10,\n",
    "    'min_samples': 10,\n",
    "}\n",
    "\n",
    "hdbscan_model = HDBSCAN(**hdbscan_parameters)\n",
    "\n",
    "bertopic_parameters = {\n",
    "    'top_n_words': 25,\n",
    "    'n_gram_range': (2, 5),\n",
    "    'umap_model': umap_model,\n",
    "    'hdbscan_model': hdbscan_model\n",
    "}"
   ],
   "id": "92a9a6e4b9ee0744"
  },
  {
   "metadata": {
    "ExecuteTime": {
     "end_time": "2025-02-07T10:16:05.789870Z",
     "start_time": "2025-02-07T10:15:55.783494Z"
    }
   },
   "cell_type": "code",
   "outputs": [],
   "execution_count": 8,
   "source": [
    "topic_model = BERTopic(**bertopic_parameters)\n",
    "topics, probs = topic_model.fit_transform(documents, embeddings)"
   ],
   "id": "3e41402b81178880"
  },
  {
   "metadata": {},
   "cell_type": "markdown",
   "source": "# Evaluation",
   "id": "28478b067c5b38da"
  },
  {
   "metadata": {
    "ExecuteTime": {
     "end_time": "2025-02-07T10:16:11.809857Z",
     "start_time": "2025-02-07T10:16:05.798952Z"
    }
   },
   "cell_type": "code",
   "outputs": [
    {
     "name": "stdout",
     "output_type": "stream",
     "text": [
      "Diversity: 0.5283333333333333\n",
      "Coherence: -0.019322583743616013\n"
     ]
    }
   ],
   "execution_count": 9,
   "source": [
    "# Preprocess Documents\n",
    "def remove_empty_topics(topic_words, top_n_words):\n",
    "    result = []\n",
    "    for words in topic_words:\n",
    "        if words != ['']*top_n_words:\n",
    "            result.append(words)\n",
    "    return result\n",
    "\n",
    "documents_df = pd.DataFrame({\"Document\": documents,\n",
    "                        \"ID\": range(len(documents)),\n",
    "                        \"Topic\": topics})\n",
    "documents_per_topic = documents_df.groupby(['Topic'], as_index=False).agg({'Document': ' '.join})\n",
    "cleaned_docs = topic_model._preprocess_text(documents_per_topic.Document.values)\n",
    "\n",
    "# Extract vectorizer and analyzer from BERTopic\n",
    "vectorizer = topic_model.vectorizer_model\n",
    "analyzer = vectorizer.build_analyzer()\n",
    "\n",
    "# Extract features for Topic Coherence evaluation\n",
    "words = vectorizer.get_feature_names_out()\n",
    "tokens = [analyzer(doc) for doc in cleaned_docs]\n",
    "\n",
    "topics_dict = topic_model.get_topics()\n",
    "topic_words = [[word for word, _ in words] for words in topics_dict.values()]\n",
    "topic_term_matrix = topic_model.c_tf_idf_.toarray()\n",
    "\n",
    "remove_empty_topics(topic_words, 25)\n",
    "\n",
    "octis_topics = {'topics': topic_words, 'topic-document-matrix': topic_term_matrix}\n",
    "\n",
    "coherence = Coherence(texts = tokens, measure='c_npmi')\n",
    "diversity = TopicDiversity(topk=25)\n",
    "\n",
    "diversity_score = diversity.score(octis_topics)\n",
    "coherence_score = coherence.score(octis_topics)\n",
    "\n",
    "print(f'Diversity: {diversity_score}')\n",
    "print(f'Coherence: {coherence_score}')"
   ],
   "id": "6c6ac0f291f1f3d0"
  },
  {
   "metadata": {
    "ExecuteTime": {
     "end_time": "2025-02-07T10:16:11.856587Z",
     "start_time": "2025-02-07T10:16:11.853974Z"
    }
   },
   "cell_type": "code",
   "outputs": [
    {
     "name": "stdout",
     "output_type": "stream",
     "text": [
      "0.5086274553212281\n"
     ]
    }
   ],
   "execution_count": 10,
   "source": [
    "coherence_score_normalized = (coherence_score + 1) / 2\n",
    "harmonic_mean = 2 * (coherence_score_normalized*diversity_score) / (coherence_score_normalized+diversity_score)\n",
    "print(harmonic_mean)"
   ],
   "id": "9991af51cd7dda5e"
  }
 ],
 "metadata": {
  "kernelspec": {
   "display_name": "Python 3",
   "language": "python",
   "name": "python3"
  },
  "language_info": {
   "codemirror_mode": {
    "name": "ipython",
    "version": 2
   },
   "file_extension": ".py",
   "mimetype": "text/x-python",
   "name": "python",
   "nbconvert_exporter": "python",
   "pygments_lexer": "ipython2",
   "version": "2.7.6"
  }
 },
 "nbformat": 4,
 "nbformat_minor": 5
}
