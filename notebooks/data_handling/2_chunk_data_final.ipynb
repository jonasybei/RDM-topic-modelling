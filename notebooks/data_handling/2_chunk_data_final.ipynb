{
 "cells": [
  {
   "metadata": {
    "collapsed": true,
    "ExecuteTime": {
     "end_time": "2025-01-31T23:18:01.335617Z",
     "start_time": "2025-01-31T23:17:54.700284Z"
    }
   },
   "cell_type": "code",
   "source": [
    "# Importing libraries\n",
    "\n",
    "import re\n",
    "import sys\n",
    "\n",
    "import matplotlib.pyplot as plt\n",
    "import numpy as np\n",
    "import pandas as pd\n",
    "import plotly.express as px\n",
    "import yaml\n",
    "from git_root import git_root\n",
    "from transformers import AutoTokenizer"
   ],
   "id": "d015f546304cfdb2",
   "outputs": [],
   "execution_count": 1
  },
  {
   "metadata": {
    "ExecuteTime": {
     "end_time": "2025-01-31T23:18:01.343791Z",
     "start_time": "2025-01-31T23:18:01.338717Z"
    }
   },
   "cell_type": "code",
   "source": [
    "# adding git_root and local imports\n",
    "my_git_root = git_root()\n",
    "sys.path.append(my_git_root)\n",
    "\n",
    "from src import flatten, contains_text, extract_table"
   ],
   "id": "2a04a82e816a91ec",
   "outputs": [],
   "execution_count": 2
  },
  {
   "metadata": {
    "ExecuteTime": {
     "end_time": "2025-01-31T23:18:01.441478Z",
     "start_time": "2025-01-31T23:18:01.420454Z"
    }
   },
   "cell_type": "code",
   "source": [
    "# importing data\n",
    "df_documents_path = f'{my_git_root}/data/documents_cleaned.csv'\n",
    "df_documents = pd.read_csv(df_documents_path)"
   ],
   "id": "dd81cd687d8c8aa",
   "outputs": [],
   "execution_count": 3
  },
  {
   "metadata": {
    "ExecuteTime": {
     "end_time": "2025-01-31T23:18:01.468595Z",
     "start_time": "2025-01-31T23:18:01.465522Z"
    }
   },
   "cell_type": "code",
   "source": [
    "# importing settings\n",
    "with open(f'{my_git_root}/settings.yaml', 'r') as file:\n",
    "    settings = yaml.safe_load(file)\n",
    "\n",
    "print(settings)\n",
    "\n",
    "sentence_transformer_model_name = settings['sentence_transformer_model_name']\n",
    "sentence_transformer_max_tokens = settings['sentence_transformer_max_tokens']"
   ],
   "id": "b055700c9e7a12ad",
   "outputs": [
    {
     "name": "stdout",
     "output_type": "stream",
     "text": [
      "{'sentence_transformer_model_name': 'thenlper/gte-small', 'sentence_transformer_max_tokens': 512, 'llm_model_name': 'tiiuae/Falcon3-7B-Instruct'}\n"
     ]
    }
   ],
   "execution_count": 4
  },
  {
   "metadata": {
    "ExecuteTime": {
     "end_time": "2025-01-31T23:18:01.736566Z",
     "start_time": "2025-01-31T23:18:01.511749Z"
    }
   },
   "cell_type": "code",
   "source": [
    "# initializing tokenizer\n",
    "tokenizer = AutoTokenizer.from_pretrained(sentence_transformer_model_name)"
   ],
   "id": "8a48e1884198af01",
   "outputs": [],
   "execution_count": 5
  },
  {
   "metadata": {
    "ExecuteTime": {
     "end_time": "2025-01-31T23:18:01.758802Z",
     "start_time": "2025-01-31T23:18:01.749870Z"
    }
   },
   "cell_type": "code",
   "source": "df_documents",
   "id": "990478ec36afbbc3",
   "outputs": [
    {
     "data": {
      "text/plain": [
       "                            name  \\\n",
       "0            aalto-university.md   \n",
       "1      aberystwyth-university.md   \n",
       "2            aston-university.md   \n",
       "3           bangor-university.md   \n",
       "4    brunel-university-london.md   \n",
       "..                           ...   \n",
       "137       universität-rostock.md   \n",
       "138        universität-siegen.md   \n",
       "139     universität-stuttgart.md   \n",
       "140        utrecht-university.md   \n",
       "141        wrexham-university.md   \n",
       "\n",
       "                                                  text  \n",
       "0    # Aalto University  \\n\\n## Aalto University Re...  \n",
       "1    # Research Data Management Policy  \\n\\nVersion...  \n",
       "2    # Research Data Management Policy  \\n\\nJuly 20...  \n",
       "3    # Data Protection Policy  \\n\\n Rev Date Purpos...  \n",
       "4    # Brunel University Research Data Management P...  \n",
       "..                                                 ...  \n",
       "137  # Research Data Policy of the University of Ro...  \n",
       "138  # Research-Data-Policy of the University of Si...  \n",
       "139  # Research data management policy of the Unive...  \n",
       "140  # University policy framework for research dat...  \n",
       "141  # Prifysgol Wrecsam Wrexham University\\n\\n# Re...  \n",
       "\n",
       "[142 rows x 2 columns]"
      ],
      "text/html": [
       "<div>\n",
       "<style scoped>\n",
       "    .dataframe tbody tr th:only-of-type {\n",
       "        vertical-align: middle;\n",
       "    }\n",
       "\n",
       "    .dataframe tbody tr th {\n",
       "        vertical-align: top;\n",
       "    }\n",
       "\n",
       "    .dataframe thead th {\n",
       "        text-align: right;\n",
       "    }\n",
       "</style>\n",
       "<table border=\"1\" class=\"dataframe\">\n",
       "  <thead>\n",
       "    <tr style=\"text-align: right;\">\n",
       "      <th></th>\n",
       "      <th>name</th>\n",
       "      <th>text</th>\n",
       "    </tr>\n",
       "  </thead>\n",
       "  <tbody>\n",
       "    <tr>\n",
       "      <th>0</th>\n",
       "      <td>aalto-university.md</td>\n",
       "      <td># Aalto University  \\n\\n## Aalto University Re...</td>\n",
       "    </tr>\n",
       "    <tr>\n",
       "      <th>1</th>\n",
       "      <td>aberystwyth-university.md</td>\n",
       "      <td># Research Data Management Policy  \\n\\nVersion...</td>\n",
       "    </tr>\n",
       "    <tr>\n",
       "      <th>2</th>\n",
       "      <td>aston-university.md</td>\n",
       "      <td># Research Data Management Policy  \\n\\nJuly 20...</td>\n",
       "    </tr>\n",
       "    <tr>\n",
       "      <th>3</th>\n",
       "      <td>bangor-university.md</td>\n",
       "      <td># Data Protection Policy  \\n\\n Rev Date Purpos...</td>\n",
       "    </tr>\n",
       "    <tr>\n",
       "      <th>4</th>\n",
       "      <td>brunel-university-london.md</td>\n",
       "      <td># Brunel University Research Data Management P...</td>\n",
       "    </tr>\n",
       "    <tr>\n",
       "      <th>...</th>\n",
       "      <td>...</td>\n",
       "      <td>...</td>\n",
       "    </tr>\n",
       "    <tr>\n",
       "      <th>137</th>\n",
       "      <td>universität-rostock.md</td>\n",
       "      <td># Research Data Policy of the University of Ro...</td>\n",
       "    </tr>\n",
       "    <tr>\n",
       "      <th>138</th>\n",
       "      <td>universität-siegen.md</td>\n",
       "      <td># Research-Data-Policy of the University of Si...</td>\n",
       "    </tr>\n",
       "    <tr>\n",
       "      <th>139</th>\n",
       "      <td>universität-stuttgart.md</td>\n",
       "      <td># Research data management policy of the Unive...</td>\n",
       "    </tr>\n",
       "    <tr>\n",
       "      <th>140</th>\n",
       "      <td>utrecht-university.md</td>\n",
       "      <td># University policy framework for research dat...</td>\n",
       "    </tr>\n",
       "    <tr>\n",
       "      <th>141</th>\n",
       "      <td>wrexham-university.md</td>\n",
       "      <td># Prifysgol Wrecsam Wrexham University\\n\\n# Re...</td>\n",
       "    </tr>\n",
       "  </tbody>\n",
       "</table>\n",
       "<p>142 rows × 2 columns</p>\n",
       "</div>"
      ]
     },
     "execution_count": 6,
     "metadata": {},
     "output_type": "execute_result"
    }
   ],
   "execution_count": 6
  },
  {
   "metadata": {
    "ExecuteTime": {
     "end_time": "2025-01-31T23:18:02.025826Z",
     "start_time": "2025-01-31T23:18:02.021598Z"
    }
   },
   "cell_type": "code",
   "source": [
    "document_names = df_documents['name'].to_list()\n",
    "documents = df_documents['text'].to_list()"
   ],
   "id": "22f0330cc287019b",
   "outputs": [],
   "execution_count": 7
  },
  {
   "metadata": {
    "ExecuteTime": {
     "end_time": "2025-01-31T23:18:02.122420Z",
     "start_time": "2025-01-31T23:18:02.118866Z"
    }
   },
   "cell_type": "code",
   "source": [
    "def remove_empty_chunks(document):\n",
    "    return [chunk for chunk in document if chunk is not None and bool(re.search(r'[a-zA-Z]+', chunk))]"
   ],
   "id": "394d6261b23ab3fe",
   "outputs": [],
   "execution_count": 8
  },
  {
   "metadata": {
    "ExecuteTime": {
     "end_time": "2025-01-31T23:18:02.287442Z",
     "start_time": "2025-01-31T23:18:02.281726Z"
    }
   },
   "cell_type": "code",
   "source": [
    "def chunk_document_regex(document, regex_pattern):\n",
    "    document_chunked = re.split(regex_pattern, document)\n",
    "    document_chunked = remove_empty_chunks(document_chunked)\n",
    "    return document_chunked"
   ],
   "id": "f15cc96c6bd1b6e9",
   "outputs": [],
   "execution_count": 9
  },
  {
   "metadata": {
    "ExecuteTime": {
     "end_time": "2025-01-31T23:18:02.333661Z",
     "start_time": "2025-01-31T23:18:02.327646Z"
    }
   },
   "cell_type": "code",
   "source": [
    "def chunk_document_by_delimiter_type(document, regex_delimiters):\n",
    "    documents_chunked = []\n",
    "    for key, value in regex_delimiters.items():\n",
    "        documents_chunked.append(chunk_document_regex(document, value))\n",
    "\n",
    "    documents_chunked_len = [len(document_chunked) for document_chunked in documents_chunked]\n",
    "    max_index = np.argmax(documents_chunked_len)\n",
    "    max_len = documents_chunked_len[max_index]\n",
    "    return documents_chunked, max_index, max_len"
   ],
   "id": "c7415e9de53ed56e",
   "outputs": [],
   "execution_count": 10
  },
  {
   "metadata": {
    "ExecuteTime": {
     "end_time": "2025-01-31T23:18:02.395261Z",
     "start_time": "2025-01-31T23:18:02.387043Z"
    }
   },
   "cell_type": "code",
   "source": [
    "def chunk_document(document, chunk_levels):\n",
    "    result = []\n",
    "    headings_level = chunk_levels.count('headings') + 1\n",
    "    list_level = chunk_levels.count('list') + 1\n",
    "\n",
    "    delimiters = {\n",
    "        'explicit_delimiters': {\n",
    "            'headings': rf'\\s*#{{1,{headings_level}}}\\s*',\n",
    "            'list': rf'\\n\\s*#*\\s*\\d+\\.(\\d+\\.?){{0,{list_level-1}}}\\s+',\n",
    "        },\n",
    "\n",
    "        'implicit_delimiters' : {\n",
    "            'paragraphs': r'\\s*\\n\\s*\\n\\s*',\n",
    "        },\n",
    "\n",
    "        'fallback_delimiters' : {\n",
    "            'newlines': r'\\s*\\n\\s*',\n",
    "            'list_no_newlines': rf'#*\\s*\\d+\\.(\\d+\\.?){{0,{list_level-1}}}\\s+',\n",
    "        }\n",
    "    }\n",
    "\n",
    "    for delimiter_type in delimiters.keys():\n",
    "        documents_chunked, max_index, max_len = chunk_document_by_delimiter_type(document, delimiters[delimiter_type])\n",
    "        my_delimiter = list(delimiters[delimiter_type].keys())[max_index]\n",
    "        if max_len > 1:\n",
    "            chunk_levels.append(my_delimiter)\n",
    "            document_chunked = documents_chunked[max_index]\n",
    "            break\n",
    "    else:\n",
    "        assert False, 'Cannot find any delimiters'\n",
    "\n",
    "    for chunk in document_chunked:\n",
    "        chunk_tokens = tokenizer.tokenize(chunk)\n",
    "        if len(chunk_tokens) <= sentence_transformer_max_tokens:\n",
    "            result.append(chunk)\n",
    "        else:\n",
    "            result.append(chunk_document(chunk, chunk_levels))\n",
    "\n",
    "    return result\n"
   ],
   "id": "1786594114639dd9",
   "outputs": [],
   "execution_count": 11
  },
  {
   "metadata": {
    "ExecuteTime": {
     "end_time": "2025-01-31T23:18:03.927251Z",
     "start_time": "2025-01-31T23:18:02.435406Z"
    }
   },
   "cell_type": "code",
   "source": [
    "chunked_documents = [chunk_document(document, list()) for document in documents]\n",
    "chunked_documents = [flatten(chunk) for chunk in chunked_documents]"
   ],
   "id": "db889e4ed4957477",
   "outputs": [],
   "execution_count": 12
  },
  {
   "metadata": {
    "ExecuteTime": {
     "end_time": "2025-01-31T23:18:03.963350Z",
     "start_time": "2025-01-31T23:18:03.957775Z"
    }
   },
   "cell_type": "code",
   "source": [
    "chunked_documents_names = []\n",
    "\n",
    "for i, chunked_document in enumerate(chunked_documents):\n",
    "    chunked_document_flat = flatten(chunked_document)\n",
    "    chunked_document_flat_num_chunks = len(chunked_document_flat)\n",
    "    chunked_documents_names.extend([document_names[i]] * chunked_document_flat_num_chunks)\n",
    "\n",
    "chunked_documents_flat = flatten(chunked_documents)"
   ],
   "id": "e1950ba74c8524ec",
   "outputs": [],
   "execution_count": 13
  },
  {
   "metadata": {
    "ExecuteTime": {
     "end_time": "2025-01-31T23:18:05.021807Z",
     "start_time": "2025-01-31T23:18:04.003492Z"
    }
   },
   "cell_type": "code",
   "source": [
    "num_tokens = []\n",
    "\n",
    "for chunk in chunked_documents_flat:\n",
    "    tokens = tokenizer.tokenize(chunk)\n",
    "    num_tokens.append(len(tokens))"
   ],
   "id": "205adc9ff96caaa8",
   "outputs": [],
   "execution_count": 14
  },
  {
   "metadata": {
    "ExecuteTime": {
     "end_time": "2025-01-31T23:18:05.033918Z",
     "start_time": "2025-01-31T23:18:05.031214Z"
    }
   },
   "cell_type": "code",
   "source": [
    "df = pd.DataFrame(data={\n",
    "    'name': chunked_documents_names,\n",
    "    'text': chunked_documents_flat,\n",
    "    'num_tokens': num_tokens,\n",
    "})"
   ],
   "id": "f12b8dcecaa3eec1",
   "outputs": [],
   "execution_count": 15
  },
  {
   "metadata": {
    "ExecuteTime": {
     "end_time": "2025-01-31T23:18:05.083997Z",
     "start_time": "2025-01-31T23:18:05.077582Z"
    }
   },
   "cell_type": "code",
   "source": "df",
   "id": "46b7c0c512a10edf",
   "outputs": [
    {
     "data": {
      "text/plain": [
       "                       name  \\\n",
       "0       aalto-university.md   \n",
       "1       aalto-university.md   \n",
       "2       aalto-university.md   \n",
       "3       aalto-university.md   \n",
       "4       aalto-university.md   \n",
       "...                     ...   \n",
       "3481  wrexham-university.md   \n",
       "3482  wrexham-university.md   \n",
       "3483  wrexham-university.md   \n",
       "3484  wrexham-university.md   \n",
       "3485  wrexham-university.md   \n",
       "\n",
       "                                                   text  num_tokens  \n",
       "0                                      Aalto University           3  \n",
       "1      Aalto University Research Data Management Policy           7  \n",
       "2     The research data management policy aims to ma...          89  \n",
       "3     The data management policy shall be implemente...         104  \n",
       "4     Ownership of copyright protected research data...          77  \n",
       "...                                                 ...         ...  \n",
       "3481  FAIR Data\\n\\nWhere it is lawful to do so, the ...          96  \n",
       "3482  Prifysgol Wrecsam Wrexham University\\n\\nPublic...          80  \n",
       "3483  Reporting a Data Incident/Breach\\n\\nThe UK GDP...         125  \n",
       "3484  Other Polices, Procedures, Legislation\\n\\nThis...          51  \n",
       "3485  Legislation\\n\\nData Protection Act 2018 UK GDP...          13  \n",
       "\n",
       "[3486 rows x 3 columns]"
      ],
      "text/html": [
       "<div>\n",
       "<style scoped>\n",
       "    .dataframe tbody tr th:only-of-type {\n",
       "        vertical-align: middle;\n",
       "    }\n",
       "\n",
       "    .dataframe tbody tr th {\n",
       "        vertical-align: top;\n",
       "    }\n",
       "\n",
       "    .dataframe thead th {\n",
       "        text-align: right;\n",
       "    }\n",
       "</style>\n",
       "<table border=\"1\" class=\"dataframe\">\n",
       "  <thead>\n",
       "    <tr style=\"text-align: right;\">\n",
       "      <th></th>\n",
       "      <th>name</th>\n",
       "      <th>text</th>\n",
       "      <th>num_tokens</th>\n",
       "    </tr>\n",
       "  </thead>\n",
       "  <tbody>\n",
       "    <tr>\n",
       "      <th>0</th>\n",
       "      <td>aalto-university.md</td>\n",
       "      <td>Aalto University</td>\n",
       "      <td>3</td>\n",
       "    </tr>\n",
       "    <tr>\n",
       "      <th>1</th>\n",
       "      <td>aalto-university.md</td>\n",
       "      <td>Aalto University Research Data Management Policy</td>\n",
       "      <td>7</td>\n",
       "    </tr>\n",
       "    <tr>\n",
       "      <th>2</th>\n",
       "      <td>aalto-university.md</td>\n",
       "      <td>The research data management policy aims to ma...</td>\n",
       "      <td>89</td>\n",
       "    </tr>\n",
       "    <tr>\n",
       "      <th>3</th>\n",
       "      <td>aalto-university.md</td>\n",
       "      <td>The data management policy shall be implemente...</td>\n",
       "      <td>104</td>\n",
       "    </tr>\n",
       "    <tr>\n",
       "      <th>4</th>\n",
       "      <td>aalto-university.md</td>\n",
       "      <td>Ownership of copyright protected research data...</td>\n",
       "      <td>77</td>\n",
       "    </tr>\n",
       "    <tr>\n",
       "      <th>...</th>\n",
       "      <td>...</td>\n",
       "      <td>...</td>\n",
       "      <td>...</td>\n",
       "    </tr>\n",
       "    <tr>\n",
       "      <th>3481</th>\n",
       "      <td>wrexham-university.md</td>\n",
       "      <td>FAIR Data\\n\\nWhere it is lawful to do so, the ...</td>\n",
       "      <td>96</td>\n",
       "    </tr>\n",
       "    <tr>\n",
       "      <th>3482</th>\n",
       "      <td>wrexham-university.md</td>\n",
       "      <td>Prifysgol Wrecsam Wrexham University\\n\\nPublic...</td>\n",
       "      <td>80</td>\n",
       "    </tr>\n",
       "    <tr>\n",
       "      <th>3483</th>\n",
       "      <td>wrexham-university.md</td>\n",
       "      <td>Reporting a Data Incident/Breach\\n\\nThe UK GDP...</td>\n",
       "      <td>125</td>\n",
       "    </tr>\n",
       "    <tr>\n",
       "      <th>3484</th>\n",
       "      <td>wrexham-university.md</td>\n",
       "      <td>Other Polices, Procedures, Legislation\\n\\nThis...</td>\n",
       "      <td>51</td>\n",
       "    </tr>\n",
       "    <tr>\n",
       "      <th>3485</th>\n",
       "      <td>wrexham-university.md</td>\n",
       "      <td>Legislation\\n\\nData Protection Act 2018 UK GDP...</td>\n",
       "      <td>13</td>\n",
       "    </tr>\n",
       "  </tbody>\n",
       "</table>\n",
       "<p>3486 rows × 3 columns</p>\n",
       "</div>"
      ]
     },
     "execution_count": 16,
     "metadata": {},
     "output_type": "execute_result"
    }
   ],
   "execution_count": 16
  },
  {
   "metadata": {
    "ExecuteTime": {
     "end_time": "2025-01-31T23:18:05.277347Z",
     "start_time": "2025-01-31T23:18:05.160607Z"
    }
   },
   "cell_type": "code",
   "source": "plt.hist(num_tokens, bins=30)",
   "id": "478287025b440e12",
   "outputs": [
    {
     "data": {
      "text/plain": [
       "(array([553., 465., 452., 360., 283., 227., 177., 152., 124.,  71.,  68.,\n",
       "         71.,  64.,  66.,  54.,  32.,  35.,  28.,  23.,  20.,  30.,  19.,\n",
       "         19.,  18.,  20.,  10.,  16.,   8.,  10.,  11.]),\n",
       " array([  1.        ,  18.03333333,  35.06666667,  52.1       ,\n",
       "         69.13333333,  86.16666667, 103.2       , 120.23333333,\n",
       "        137.26666667, 154.3       , 171.33333333, 188.36666667,\n",
       "        205.4       , 222.43333333, 239.46666667, 256.5       ,\n",
       "        273.53333333, 290.56666667, 307.6       , 324.63333333,\n",
       "        341.66666667, 358.7       , 375.73333333, 392.76666667,\n",
       "        409.8       , 426.83333333, 443.86666667, 460.9       ,\n",
       "        477.93333333, 494.96666667, 512.        ]),\n",
       " <BarContainer object of 30 artists>)"
      ]
     },
     "execution_count": 17,
     "metadata": {},
     "output_type": "execute_result"
    },
    {
     "data": {
      "text/plain": [
       "<Figure size 640x480 with 1 Axes>"
      ],
      "image/png": "[encoded data removed]"
     },
     "metadata": {},
     "output_type": "display_data"
    }
   ],
   "execution_count": 17
  },
  {
   "metadata": {
    "ExecuteTime": {
     "end_time": "2025-01-31T23:30:26.417289Z",
     "start_time": "2025-01-31T23:30:26.382623Z"
    }
   },
   "cell_type": "code",
   "source": "df.to_csv(f'{my_git_root}/data/chunked_documents_final.csv', index=False)",
   "id": "b7adc93e145306fa",
   "outputs": [],
   "execution_count": 39
  },
  {
   "metadata": {},
   "cell_type": "markdown",
   "source": "# Looking through Documents",
   "id": "c858070165fc76f1"
  },
  {
   "metadata": {
    "ExecuteTime": {
     "end_time": "2025-01-31T23:30:26.429825Z",
     "start_time": "2025-01-31T23:30:26.427467Z"
    }
   },
   "cell_type": "code",
   "source": "index = 5",
   "id": "154e8947a3f6d857",
   "outputs": [],
   "execution_count": 40
  },
  {
   "metadata": {
    "ExecuteTime": {
     "end_time": "2025-01-31T23:30:26.476852Z",
     "start_time": "2025-01-31T23:30:26.473915Z"
    }
   },
   "cell_type": "code",
   "source": "document_names[index]",
   "id": "b28a042560c429d6",
   "outputs": [
    {
     "data": {
      "text/plain": [
       "'buckinghamshire-new-university.md'"
      ]
     },
     "execution_count": 41,
     "metadata": {},
     "output_type": "execute_result"
    }
   ],
   "execution_count": 41
  },
  {
   "metadata": {
    "ExecuteTime": {
     "end_time": "2025-01-31T23:30:26.522833Z",
     "start_time": "2025-01-31T23:30:26.520332Z"
    }
   },
   "cell_type": "code",
   "source": "print(documents[index])",
   "id": "47cf0b98a498f990",
   "outputs": [
    {
     "name": "stdout",
     "output_type": "stream",
     "text": [
      "# RESEARCH DATA MANAGEMENT POLICY  \n",
      "\n",
      "## Table of Contents  \n",
      "\n",
      "Introduction... 3   \n",
      "Purpose ... 3   \n",
      "Scope.... 4   \n",
      "Responsibilities of the University... 4   \n",
      "Responsibilities of the Researchers. 4   \n",
      "Other relevant University policies. 6   \n",
      "Useful resources.... 6   \n",
      "Definitions .... 6   \n",
      "Appendix: Equality Impact Assessment.. 8  \n",
      "\n",
      "## Approved by:  \n",
      "\n",
      "Committee responsible for approval  \n",
      "\n",
      "## Date first published: Jun-2016  \n",
      "\n",
      "## Owner:  \n",
      "\n",
      "Date updated: Sep-2024   \n",
      "Review Date: Sep-2029  \n",
      "\n",
      "Director of Research and Enterprise  \n",
      "\n",
      "This document has been designed to be accessible for readers. However, should you require the document in an alternative format please contact the University Secretariat.  \n",
      "\n",
      "© Buckinghamshire New University  \n",
      "\n",
      "## Introduction  \n",
      "\n",
      "1 The effective management of research data is crucial for ensuring the integrity, reproducibility, and impact of scholarly work. Buckinghamshire New University (BNU) is committed to upholding the highest standards of academic research by implementing a robust Research Data Management (RDM) policy. This policy outlines the principles, responsibilities, and good research practices that govern the lifecycle of research data, from creation and storage to sharing and disposal.  \n",
      "\n",
      "2 BNU promotes compliance with relevant funder and publisher policies, supports the Concordat on Open Research Data, the UKRI Common Principles on Data, endorses Horizon Europe's principle that data should be \"as open as possible, as closed as necessary\" and follows FAIR Principles (Findable, Accessible, Interoperable and Reusable).  \n",
      "\n",
      "3 In common with all UK Higher Education Institutions, the University is required to comply with specific requirements such as those under the Prevent counter-terrorism statutory responsibility for managing security-sensitive research data. This Policy includes the requirement for such information to both be secured and to offer access only to those who require it for study, in respect of research that has been approved by the University Research Ethics Panel.  \n",
      "\n",
      "4 Research data management refers to the storage, curation, preservation and provision of continuing access to digital research data.  \n",
      "\n",
      "### Purpose  \n",
      "\n",
      "5 The primary objective of the Research Data Management policy is to:  \n",
      "\n",
      "Promote research excellence: facilitate high-quality research by ensuring data is accurate, reliable, complete and accessible.   \n",
      "Ensure secure data storage: ensure data is stored securely and preserved in order to ensure its continuing utility.   \n",
      "Ensure compliance: when handling data protected by the UK Data   \n",
      "Protection Act (2018) and the UK General Data Protection Regulation (GDPR), together with any other applicable data protection or privacy laws such as the Freedom of Information Act 2000, and following the requirements of relevant funding bodies and project-specific protocols approved under BNU’s Research Ethics Policy.   \n",
      "Enhance reproducibility and transparency: support the reproducibility of research findings by maintaining detailed records of data handling processes. Protect intellectual property: safeguard the intellectual property and sensitive information of researchers and participants.   \n",
      "Facilitate data sharing: encourage data sharing and collaboration within the research community and beyond, in line with open access principles.   \n",
      "Support sustainable data practices: promote sustainable data   \n",
      "management practices to ensure long-term preservation and usability of research data.  \n",
      "\n",
      "### Scope  \n",
      "\n",
      "6 This policy applies to all members of the University involved in research activities, including staff, students, and persons with honorary positions (hereafter referred to as researchers covers all types of research data, regardless of format, method of generation or method of collection for data gathered during a research project conducted by or on behalf of BNU.   \n",
      "7 Research data includes, but is not limited to text files, spreadsheets, transcripts, photographs, film, audiotapes, data files, database content and artefacts. Where possible, researchers should maintain data in formats which facilitate data access and sharing. Guidance on suitable file formats is available from the UK Data Archive.   \n",
      "8 Not all research data is suitable for long term preservation, but, as a guide, all data that underpins research publications and validates research findings should be preserved in accordance with the Data Management Plan.   \n",
      "9 This policy sits alongside the Data Protection Policy and is subject to the same enforcement rules.  \n",
      "\n",
      "### Responsibilities of the University  \n",
      "\n",
      "10 The University will  \n",
      "\n",
      "Support the principle of open access to the research data where ethically, legally, and commercially appropriate.   \n",
      "Provide infrastructure and support for secure data storage and management. BNU is committed to continual improvement in its storage and management of research data.   \n",
      "Provide support, advice and training to researchers on best practices in research data management.   \n",
      "Monitor compliance with the RDM policy and address any issues that arise. The Research Data Management pages on the staff Intranet provide detailed guidance and training to support researchers in the management of research data. Publish an annual reminder for researchers to register their published data with BNU.  \n",
      "\n",
      "### Responsibilities of the Researchers  \n",
      "\n",
      "11 Researchers are responsible for ensuring that all research data is managed in compliance with this policy and the UK GDPR requirements. This includes the proper documentation, storage, and sharing of data, as well as ensuring that the legitimate interests of research participants are protected at all times. This includes, but is not limited to, seeking informed consent for the recording of personal data and ensuring that data is not shared with an individual or organisation not bound by the UK GDPR or equivalent legislation.  Researchers should seek advice from the Research and  \n",
      "\n",
      "Enterprise Directorate, Digital Technical Services and University Research Ethics Panel when uncertainties arise.  \n",
      "\n",
      "2 The responsibility for data management for any research project lies with the most senior researcher associated with the project.  \n",
      "\n",
      "13 Researchers must also:  \n",
      "\n",
      "Protect confidential, personal, and/or sensitive research data in accordance with the legal and ethical requirements related to the research they conduct. Ensure that ownership of research data and any intellectual property is in accordance with the BNU Intellectual Property Policy and that said ownership is properly established before the start of a project.   \n",
      "Create and adhere to Data Management Plans (DMPs) for research projects in line with funders’ requirements. All plans should address data capture, documentation and metadata, ethical and legal compliance, storage and backup, and selection of data for long term storage. DMP Online provides an online tool to support the creation of Data Management Plans.   \n",
      "Deposit their data in an appropriate data repository and provide sufficient information (such as a metadata record) to ensure that it can be found, understood, and cited. Where data is deposited somewhere other than BNU’s institutional repository (BNU Knowledge Archive), a metadata record should also be created in the BNU repository which describes and points to the data. External repositories, where used, should support the use of Open Researcher and Contributor IDs (ORCIDs) and Digital Object Identifiers (DOIs).   \n",
      "Share data in accordance with the principles of open access (see BNU’s Open Access Policy).   \n",
      "Where possible, researchers should seek to recover any cost associated with research data management from the funding body.  \n",
      "\n",
      "14 All research data must be registered with the University whether it is hosted by the University or retained elsewhere. Researchers are responsible for informing the Research and Enterprise Directorate of the location of the data and who will have access to it. BNU retains the right to store a copy of the data for an acceptable period to ensure regulatory or contractual compliance. Guidance on how to register data with BNU, is available on the Research Data Management pages of the staff intranet.  \n",
      "\n",
      "15 Data should be preserved in accordance with the project specific Data Management Plan, which will outline specific retention periods. These periods may vary depending on the nature of the data and the requirements of specific research projects, as discussed in section 8. The Records Retention Schedule provides guidance on the preservation of data.  \n",
      "\n",
      "16 Not all research data is suitable for long term preservation, for example data which contains highly sensitive personal information that cannot be adequately anonymised, when consent has been withdrawn, or when legal or ethical constraints dictate otherwise. The Classifying Information section on the staff intranet provides guidance on this. Staff can also consult with the University Ethics Panel and the Research and Enterprise Directorate to determine appropriate actions in these cases.  \n",
      "\n",
      "### Other relevant University policies  \n",
      "\n",
      "17 This policy should be read in conjunction with the University’s other policies and guidance including:  \n",
      "\n",
      "BNU Knowledge Archive Policy   \n",
      "Code of Good Research Practice   \n",
      "Research Ethics Policy   \n",
      "Data Protection Policy   \n",
      "Intellectual Property   \n",
      "Intellectual Property – Guidelines for Staff   \n",
      "Open Access Policy   \n",
      "Records Retention Schedule  \n",
      "\n",
      "### Useful resources  \n",
      "\n",
      "BNU Knowledge Archive   \n",
      "Classifying Information (BNU staff intranet)   \n",
      "Data Protection (BNU staff intranet)   \n",
      "The Digital Curation Centre (DCC)   \n",
      "DMP Online- an online tool to support the creation of Data Management Plans   \n",
      "Research Data Management (BNU staff intranet)   \n",
      "The UK Data Service has produced a step-by-step guide for researchers around GDPR compliance. Personal data must not be shared with any third party without the valid consent of the person to which it relates. country.   \n",
      "UK Data Archive  \n",
      "\n",
      "### Definitions  \n",
      "\n",
      " ResearchData Any information that has been collected, observed, generated or created to validate or produce original research findings. Although usually digital, research data also includes non-digital formats such as laboratory notebooks and diaries. For the purposes of this policy, this is limited to digital data. \n",
      "Data ManagementPlan (DMP): A project specific document which defines what data will be created and how. It will outline the plans for protecting against loss, sharing and preservation. A DMP should also take into account the nature of the data and any restrictions required.   \n",
      "\n",
      " Data Repository A place where data may be stored and made available. This includes the BNU Knowledge Archive but encompasses all appropriate repositories or commercial systems. \n",
      "Funder An organisation that provides a financial contribution to support a researchproject \n",
      "DigitalObjectIdentifier (DOI) Anidentifierof anobjectsuchasdatasets andjournal articles that ensures permanent identification of the output. This means a reference to a dataset is not going to break or become outdated. \n",
      "OpenResearcher and Contributor IDs (ORCIDs) A unique and persistent identifier available for all who participate in research, scholarship, and innovation. Researchers own and control their ORClD, distinguishing them from every other researcher.   \n",
      "\n",
      "## Appendix: Equality Impact Assessment  \n",
      "\n",
      "As a university, we are committed to enhancing equality, diversity and inclusion (EDI). We have a legal (Equality Act 2010) and ethical obligation to ensure our policies, systems and processes are fair, inclusive and ensure every member of the BNU community can thrive.  \n",
      "\n",
      "Whilst we all have protected characteristics, we know there are certain characteristics and communities that are marginalised and underrepresented in Higher Education and the workplace. These are: different ethnicities (including Gypsy, Roma, Traveller, Showmen and Boaters, migrants, refugees and asylum seekers) Disabled individuals; neurodiverse individuals; pregnancy (including maternity and paternity impact); the LGBT+ community; carers; people of different faiths; people impacted by menopause and individuals from a range of backgrounds including: socio-economic disadvantage, homeless, alcohol and/or substance misuse, people experiencing domestic and/or sexual violence, ex-armed forces, looked after children and care leavers. We also know individuals have multiple intersectional experiences and different points in their lives and careers.  \n",
      "\n",
      "### 1. With reference to the above characteristics, in what ways does this policy enhance equality and the access of opportunity at BNU?  \n",
      "\n",
      "This policy has been updated to reference BNU’s commitment to best sector practice in relation to making data accessible to all. BNU is committed to the Concordat on Open Research Data, the UKRI Common Principles on Data and endorses Horizon Europe's principle that data should be \"as open as possible as closed as necessary\" and follow FAIR Principles (Findable, Accessible, Interoperable and Reusable).  \n",
      "\n",
      "A fundamental principle of this policy is, where possible, to support research data in being freely available online, at no costs and without restriction to all.  \n",
      "\n",
      "### 2. In what ways does the policy adversely impact individuals from marginalised and underrepresented communities?  \n",
      "\n",
      "This policy does not distinguish or impact differently between people of different characteristics and communities in any way. It is a policy which is applicable to all members of the BNU community and public.  \n",
      "\n",
      "3. How does this proposal work towards achieving the BNU Equality Objectives as outlined in the Equality Strategy 2023-2028? Please signpost objectives and actions in the BNU Equality Strategy.  \n",
      "\n",
      "This policy aligns with Priority three: Build a university community where people can be themselves. Objective E: Develop a welcoming and supportive online presence. It provides the mechanism for staff and students to be able to freely publish their research and for this to be available to all.  \n",
      "\n",
      "Signed: Name: Date:  \n",
      "\n",
      "  \n",
      "\n",
      "Prof. Florin Ioras 11/07/2024  \n",
      "\n",
      "  \n",
      "\n",
      "High Wycombe Campus   \n",
      "Queen Alexandra Road   \n",
      "High Wycombe   \n",
      "Buckinghamshire   \n",
      "HP11 2JZ Aylesbury Campus 59 Walton Street Aylesbury   \n",
      "Buckinghamshire   \n",
      "HP21 7QG   \n",
      "Uxbridge Campus   \n",
      "106 Oxford Road   \n",
      "Uxbridge   \n",
      "Middlesex   \n",
      "UB8 1NA  \n",
      "\n",
      "BNU based at Pinewood Studios  \n",
      "\n",
      "Pinewood Studios Pinewood Road   \n",
      "Iver Heath   \n",
      "Buckinghamshire SLO 0NH  \n",
      "\n",
      "Missenden Abbey London Road Great Missenden Buckinghamshire HP16 0BD\n"
     ]
    }
   ],
   "execution_count": 42
  },
  {
   "metadata": {
    "ExecuteTime": {
     "end_time": "2025-01-31T23:30:26.572500Z",
     "start_time": "2025-01-31T23:30:26.566652Z"
    }
   },
   "cell_type": "code",
   "source": [
    "for chunk in chunked_documents[index]:\n",
    "    print(chunk)\n",
    "    print('-'*50)"
   ],
   "id": "ecf723de0168753d",
   "outputs": [
    {
     "name": "stdout",
     "output_type": "stream",
     "text": [
      "RESEARCH DATA MANAGEMENT POLICY\n",
      "--------------------------------------------------\n",
      "Table of Contents  \n",
      "\n",
      "Introduction... 3   \n",
      "Purpose ... 3   \n",
      "Scope.... 4   \n",
      "Responsibilities of the University... 4   \n",
      "Responsibilities of the Researchers. 4   \n",
      "Other relevant University policies. 6   \n",
      "Useful resources.... 6   \n",
      "Definitions .... 6   \n",
      "Appendix: Equality Impact Assessment.. 8\n",
      "--------------------------------------------------\n",
      "Approved by:  \n",
      "\n",
      "Committee responsible for approval\n",
      "--------------------------------------------------\n",
      "Date first published: Jun-2016\n",
      "--------------------------------------------------\n",
      "Owner:  \n",
      "\n",
      "Date updated: Sep-2024   \n",
      "Review Date: Sep-2029  \n",
      "\n",
      "Director of Research and Enterprise  \n",
      "\n",
      "This document has been designed to be accessible for readers. However, should you require the document in an alternative format please contact the University Secretariat.  \n",
      "\n",
      "© Buckinghamshire New University\n",
      "--------------------------------------------------\n",
      "Introduction  \n",
      "\n",
      "1 The effective management of research data is crucial for ensuring the integrity, reproducibility, and impact of scholarly work. Buckinghamshire New University (BNU) is committed to upholding the highest standards of academic research by implementing a robust Research Data Management (RDM) policy. This policy outlines the principles, responsibilities, and good research practices that govern the lifecycle of research data, from creation and storage to sharing and disposal.  \n",
      "\n",
      "2 BNU promotes compliance with relevant funder and publisher policies, supports the Concordat on Open Research Data, the UKRI Common Principles on Data, endorses Horizon Europe's principle that data should be \"as open as possible, as closed as necessary\" and follows FAIR Principles (Findable, Accessible, Interoperable and Reusable).  \n",
      "\n",
      "3 In common with all UK Higher Education Institutions, the University is required to comply with specific requirements such as those under the Prevent counter-terrorism statutory responsibility for managing security-sensitive research data. This Policy includes the requirement for such information to both be secured and to offer access only to those who require it for study, in respect of research that has been approved by the University Research Ethics Panel.  \n",
      "\n",
      "4 Research data management refers to the storage, curation, preservation and provision of continuing access to digital research data.\n",
      "--------------------------------------------------\n",
      "Purpose  \n",
      "\n",
      "5 The primary objective of the Research Data Management policy is to:  \n",
      "\n",
      "Promote research excellence: facilitate high-quality research by ensuring data is accurate, reliable, complete and accessible.   \n",
      "Ensure secure data storage: ensure data is stored securely and preserved in order to ensure its continuing utility.   \n",
      "Ensure compliance: when handling data protected by the UK Data   \n",
      "Protection Act (2018) and the UK General Data Protection Regulation (GDPR), together with any other applicable data protection or privacy laws such as the Freedom of Information Act 2000, and following the requirements of relevant funding bodies and project-specific protocols approved under BNU’s Research Ethics Policy.   \n",
      "Enhance reproducibility and transparency: support the reproducibility of research findings by maintaining detailed records of data handling processes. Protect intellectual property: safeguard the intellectual property and sensitive information of researchers and participants.   \n",
      "Facilitate data sharing: encourage data sharing and collaboration within the research community and beyond, in line with open access principles.   \n",
      "Support sustainable data practices: promote sustainable data   \n",
      "management practices to ensure long-term preservation and usability of research data.\n",
      "--------------------------------------------------\n",
      "Scope  \n",
      "\n",
      "6 This policy applies to all members of the University involved in research activities, including staff, students, and persons with honorary positions (hereafter referred to as researchers covers all types of research data, regardless of format, method of generation or method of collection for data gathered during a research project conducted by or on behalf of BNU.   \n",
      "7 Research data includes, but is not limited to text files, spreadsheets, transcripts, photographs, film, audiotapes, data files, database content and artefacts. Where possible, researchers should maintain data in formats which facilitate data access and sharing. Guidance on suitable file formats is available from the UK Data Archive.   \n",
      "8 Not all research data is suitable for long term preservation, but, as a guide, all data that underpins research publications and validates research findings should be preserved in accordance with the Data Management Plan.   \n",
      "9 This policy sits alongside the Data Protection Policy and is subject to the same enforcement rules.\n",
      "--------------------------------------------------\n",
      "Responsibilities of the University  \n",
      "\n",
      "10 The University will  \n",
      "\n",
      "Support the principle of open access to the research data where ethically, legally, and commercially appropriate.   \n",
      "Provide infrastructure and support for secure data storage and management. BNU is committed to continual improvement in its storage and management of research data.   \n",
      "Provide support, advice and training to researchers on best practices in research data management.   \n",
      "Monitor compliance with the RDM policy and address any issues that arise. The Research Data Management pages on the staff Intranet provide detailed guidance and training to support researchers in the management of research data. Publish an annual reminder for researchers to register their published data with BNU.\n",
      "--------------------------------------------------\n",
      "Responsibilities of the Researchers\n",
      "--------------------------------------------------\n",
      "11 Researchers are responsible for ensuring that all research data is managed in compliance with this policy and the UK GDPR requirements. This includes the proper documentation, storage, and sharing of data, as well as ensuring that the legitimate interests of research participants are protected at all times. This includes, but is not limited to, seeking informed consent for the recording of personal data and ensuring that data is not shared with an individual or organisation not bound by the UK GDPR or equivalent legislation.  Researchers should seek advice from the Research and\n",
      "--------------------------------------------------\n",
      "Enterprise Directorate, Digital Technical Services and University Research Ethics Panel when uncertainties arise.\n",
      "--------------------------------------------------\n",
      "2 The responsibility for data management for any research project lies with the most senior researcher associated with the project.\n",
      "--------------------------------------------------\n",
      "13 Researchers must also:\n",
      "--------------------------------------------------\n",
      "Protect confidential, personal, and/or sensitive research data in accordance with the legal and ethical requirements related to the research they conduct. Ensure that ownership of research data and any intellectual property is in accordance with the BNU Intellectual Property Policy and that said ownership is properly established before the start of a project.   \n",
      "Create and adhere to Data Management Plans (DMPs) for research projects in line with funders’ requirements. All plans should address data capture, documentation and metadata, ethical and legal compliance, storage and backup, and selection of data for long term storage. DMP Online provides an online tool to support the creation of Data Management Plans.   \n",
      "Deposit their data in an appropriate data repository and provide sufficient information (such as a metadata record) to ensure that it can be found, understood, and cited. Where data is deposited somewhere other than BNU’s institutional repository (BNU Knowledge Archive), a metadata record should also be created in the BNU repository which describes and points to the data. External repositories, where used, should support the use of Open Researcher and Contributor IDs (ORCIDs) and Digital Object Identifiers (DOIs).   \n",
      "Share data in accordance with the principles of open access (see BNU’s Open Access Policy).   \n",
      "Where possible, researchers should seek to recover any cost associated with research data management from the funding body.\n",
      "--------------------------------------------------\n",
      "14 All research data must be registered with the University whether it is hosted by the University or retained elsewhere. Researchers are responsible for informing the Research and Enterprise Directorate of the location of the data and who will have access to it. BNU retains the right to store a copy of the data for an acceptable period to ensure regulatory or contractual compliance. Guidance on how to register data with BNU, is available on the Research Data Management pages of the staff intranet.\n",
      "--------------------------------------------------\n",
      "15 Data should be preserved in accordance with the project specific Data Management Plan, which will outline specific retention periods. These periods may vary depending on the nature of the data and the requirements of specific research projects, as discussed in section 8. The Records Retention Schedule provides guidance on the preservation of data.\n",
      "--------------------------------------------------\n",
      "16 Not all research data is suitable for long term preservation, for example data which contains highly sensitive personal information that cannot be adequately anonymised, when consent has been withdrawn, or when legal or ethical constraints dictate otherwise. The Classifying Information section on the staff intranet provides guidance on this. Staff can also consult with the University Ethics Panel and the Research and Enterprise Directorate to determine appropriate actions in these cases.\n",
      "--------------------------------------------------\n",
      "Other relevant University policies  \n",
      "\n",
      "17 This policy should be read in conjunction with the University’s other policies and guidance including:  \n",
      "\n",
      "BNU Knowledge Archive Policy   \n",
      "Code of Good Research Practice   \n",
      "Research Ethics Policy   \n",
      "Data Protection Policy   \n",
      "Intellectual Property   \n",
      "Intellectual Property – Guidelines for Staff   \n",
      "Open Access Policy   \n",
      "Records Retention Schedule\n",
      "--------------------------------------------------\n",
      "Useful resources  \n",
      "\n",
      "BNU Knowledge Archive   \n",
      "Classifying Information (BNU staff intranet)   \n",
      "Data Protection (BNU staff intranet)   \n",
      "The Digital Curation Centre (DCC)   \n",
      "DMP Online- an online tool to support the creation of Data Management Plans   \n",
      "Research Data Management (BNU staff intranet)   \n",
      "The UK Data Service has produced a step-by-step guide for researchers around GDPR compliance. Personal data must not be shared with any third party without the valid consent of the person to which it relates. country.   \n",
      "UK Data Archive\n",
      "--------------------------------------------------\n",
      "Definitions  \n",
      "\n",
      " ResearchData Any information that has been collected, observed, generated or created to validate or produce original research findings. Although usually digital, research data also includes non-digital formats such as laboratory notebooks and diaries. For the purposes of this policy, this is limited to digital data. \n",
      "Data ManagementPlan (DMP): A project specific document which defines what data will be created and how. It will outline the plans for protecting against loss, sharing and preservation. A DMP should also take into account the nature of the data and any restrictions required.   \n",
      "\n",
      " Data Repository A place where data may be stored and made available. This includes the BNU Knowledge Archive but encompasses all appropriate repositories or commercial systems. \n",
      "Funder An organisation that provides a financial contribution to support a researchproject \n",
      "DigitalObjectIdentifier (DOI) Anidentifierof anobjectsuchasdatasets andjournal articles that ensures permanent identification of the output. This means a reference to a dataset is not going to break or become outdated. \n",
      "OpenResearcher and Contributor IDs (ORCIDs) A unique and persistent identifier available for all who participate in research, scholarship, and innovation. Researchers own and control their ORClD, distinguishing them from every other researcher.\n",
      "--------------------------------------------------\n",
      "Appendix: Equality Impact Assessment  \n",
      "\n",
      "As a university, we are committed to enhancing equality, diversity and inclusion (EDI). We have a legal (Equality Act 2010) and ethical obligation to ensure our policies, systems and processes are fair, inclusive and ensure every member of the BNU community can thrive.  \n",
      "\n",
      "Whilst we all have protected characteristics, we know there are certain characteristics and communities that are marginalised and underrepresented in Higher Education and the workplace. These are: different ethnicities (including Gypsy, Roma, Traveller, Showmen and Boaters, migrants, refugees and asylum seekers) Disabled individuals; neurodiverse individuals; pregnancy (including maternity and paternity impact); the LGBT+ community; carers; people of different faiths; people impacted by menopause and individuals from a range of backgrounds including: socio-economic disadvantage, homeless, alcohol and/or substance misuse, people experiencing domestic and/or sexual violence, ex-armed forces, looked after children and care leavers. We also know individuals have multiple intersectional experiences and different points in their lives and careers.\n",
      "--------------------------------------------------\n",
      "1. With reference to the above characteristics, in what ways does this policy enhance equality and the access of opportunity at BNU?  \n",
      "\n",
      "This policy has been updated to reference BNU’s commitment to best sector practice in relation to making data accessible to all. BNU is committed to the Concordat on Open Research Data, the UKRI Common Principles on Data and endorses Horizon Europe's principle that data should be \"as open as possible as closed as necessary\" and follow FAIR Principles (Findable, Accessible, Interoperable and Reusable).  \n",
      "\n",
      "A fundamental principle of this policy is, where possible, to support research data in being freely available online, at no costs and without restriction to all.\n",
      "--------------------------------------------------\n",
      "2. In what ways does the policy adversely impact individuals from marginalised and underrepresented communities?  \n",
      "\n",
      "This policy does not distinguish or impact differently between people of different characteristics and communities in any way. It is a policy which is applicable to all members of the BNU community and public.  \n",
      "\n",
      "3. How does this proposal work towards achieving the BNU Equality Objectives as outlined in the Equality Strategy 2023-2028? Please signpost objectives and actions in the BNU Equality Strategy.  \n",
      "\n",
      "This policy aligns with Priority three: Build a university community where people can be themselves. Objective E: Develop a welcoming and supportive online presence. It provides the mechanism for staff and students to be able to freely publish their research and for this to be available to all.  \n",
      "\n",
      "Signed: Name: Date:  \n",
      "\n",
      "  \n",
      "\n",
      "Prof. Florin Ioras 11/07/2024  \n",
      "\n",
      "  \n",
      "\n",
      "High Wycombe Campus   \n",
      "Queen Alexandra Road   \n",
      "High Wycombe   \n",
      "Buckinghamshire   \n",
      "HP11 2JZ Aylesbury Campus 59 Walton Street Aylesbury   \n",
      "Buckinghamshire   \n",
      "HP21 7QG   \n",
      "Uxbridge Campus   \n",
      "106 Oxford Road   \n",
      "Uxbridge   \n",
      "Middlesex   \n",
      "UB8 1NA  \n",
      "\n",
      "BNU based at Pinewood Studios  \n",
      "\n",
      "Pinewood Studios Pinewood Road   \n",
      "Iver Heath   \n",
      "Buckinghamshire SLO 0NH  \n",
      "\n",
      "Missenden Abbey London Road Great Missenden Buckinghamshire HP16 0BD\n",
      "--------------------------------------------------\n"
     ]
    }
   ],
   "execution_count": 43
  }
 ],
 "metadata": {
  "kernelspec": {
   "display_name": "Python 3",
   "language": "python",
   "name": "python3"
  },
  "language_info": {
   "codemirror_mode": {
    "name": "ipython",
    "version": 2
   },
   "file_extension": ".py",
   "mimetype": "text/x-python",
   "name": "python",
   "nbconvert_exporter": "python",
   "pygments_lexer": "ipython2",
   "version": "2.7.6"
  }
 },
 "nbformat": 4,
 "nbformat_minor": 5
}
