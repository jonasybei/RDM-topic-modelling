{
 "cells": [
  {
   "metadata": {},
   "cell_type": "markdown",
   "source": "# Imports",
   "id": "617e0048cc90ff4c"
  },
  {
   "metadata": {
    "ExecuteTime": {
     "end_time": "2025-02-06T15:43:11.017408Z",
     "start_time": "2025-02-06T15:43:11.012367Z"
    }
   },
   "cell_type": "code",
   "source": [
    "import os\n",
    "import pickle\n",
    "import sys\n",
    "\n",
    "import polars as pl\n",
    "from git_root import git_root\n",
    "from sentence_transformers import SentenceTransformer\n",
    "\n",
    "os.environ[\"PYTORCH_CUDA_ALLOC_CONF\"] = \"expandable_segments:True\"\n",
    "my_git_root = git_root()\n",
    "sys.path.append(my_git_root)"
   ],
   "id": "7f71de2fa16eb038",
   "outputs": [],
   "execution_count": 2
  },
  {
   "metadata": {},
   "cell_type": "markdown",
   "source": "# Importing Data for RAG",
   "id": "a8fc172acb0248dc"
  },
  {
   "metadata": {
    "ExecuteTime": {
     "end_time": "2025-02-06T15:43:11.027405Z",
     "start_time": "2025-02-06T15:43:11.023880Z"
    }
   },
   "cell_type": "code",
   "source": [
    "# Import embeddings for each topic\n",
    "\n",
    "file_path = f'{my_git_root}/rag_docs/topic_embeddings.pkl'\n",
    "\n",
    "with open(file_path, 'rb') as f:\n",
    "    topic_embeddings = pickle.load(f)"
   ],
   "id": "173673af7936b0f8",
   "outputs": [],
   "execution_count": 3
  },
  {
   "metadata": {
    "ExecuteTime": {
     "end_time": "2025-02-06T15:43:11.106468Z",
     "start_time": "2025-02-06T15:43:11.070233Z"
    }
   },
   "cell_type": "code",
   "source": [
    "# Import Topics for each Document\n",
    "df_document_topics_path = f'{my_git_root}/rag_docs/topic_documents.csv'\n",
    "df_document_topics = pl.read_csv(df_document_topics_path)"
   ],
   "id": "17ade592cc537222",
   "outputs": [],
   "execution_count": 4
  },
  {
   "metadata": {
    "ExecuteTime": {
     "end_time": "2025-02-06T15:43:11.131826Z",
     "start_time": "2025-02-06T15:43:11.123146Z"
    }
   },
   "cell_type": "code",
   "source": [
    "# Import valid data sources\n",
    "df_documents_path = f'{my_git_root}/final_notebooks/data/chunked_documents_final.csv'\n",
    "df_documents = pl.read_csv(df_documents_path)"
   ],
   "id": "ad632e66b3dc87f3",
   "outputs": [],
   "execution_count": 5
  },
  {
   "metadata": {
    "collapsed": true,
    "ExecuteTime": {
     "end_time": "2025-02-06T15:43:13.348531Z",
     "start_time": "2025-02-06T15:43:11.167492Z"
    }
   },
   "cell_type": "code",
   "source": "embedding_model = SentenceTransformer('thenlper/gte-small', trust_remote_code=True)",
   "id": "initial_id",
   "outputs": [],
   "execution_count": 6
  },
  {
   "metadata": {
    "ExecuteTime": {
     "end_time": "2025-02-06T15:43:13.356735Z",
     "start_time": "2025-02-06T15:43:13.354861Z"
    }
   },
   "cell_type": "code",
   "source": "user_input = \"The documents in the context are excerpts from Research Data Management Policies. Please give three diverse examples of how data quality and metadata quality is handled and give a few example quotes to make your point.\"",
   "id": "8514112d8abfd296",
   "outputs": [],
   "execution_count": 7
  },
  {
   "metadata": {
    "ExecuteTime": {
     "end_time": "2025-02-06T15:43:13.709520Z",
     "start_time": "2025-02-06T15:43:13.397405Z"
    }
   },
   "cell_type": "code",
   "source": "input_embed = embedding_model.encode(user_input)",
   "id": "f7e3b3778e9d2d45",
   "outputs": [],
   "execution_count": 8
  },
  {
   "metadata": {
    "ExecuteTime": {
     "end_time": "2025-02-06T15:43:13.722319Z",
     "start_time": "2025-02-06T15:43:13.719340Z"
    }
   },
   "cell_type": "code",
   "source": [
    "import numpy as np\n",
    "from numpy.linalg import norm\n",
    "\n",
    "def closest_vector(vector_dict, new_vector):\n",
    "    \"\"\"\n",
    "    Find the vector in the dictionary closest to the new vector using cosine similarity.\n",
    "\n",
    "    Parameters:\n",
    "        vector_dict (dict): A dictionary where keys are indices and values are vectors (lists or numpy arrays).\n",
    "        new_vector (list or numpy array): The vector to compare against.\n",
    "\n",
    "    Returns:\n",
    "        tuple: The index and the closest vector from the dictionary.\n",
    "    \"\"\"\n",
    "    # Ensure the new vector is a numpy array\n",
    "    new_vector = np.array(new_vector)\n",
    "\n",
    "    # Initialize variables to store the best match\n",
    "    best_index = None\n",
    "    best_similarity = -1  # Cosine similarity ranges from -1 to 1\n",
    "\n",
    "    for index, vector in vector_dict.items():\n",
    "        vector = np.array(vector)\n",
    "\n",
    "        # Compute cosine similarity: (A · B) / (||A|| ||B||)\n",
    "        similarity = np.dot(vector, new_vector) / (norm(vector) * norm(new_vector))\n",
    "\n",
    "        # Update the best match if this similarity is higher\n",
    "        if similarity > best_similarity:\n",
    "            best_similarity = similarity\n",
    "            best_index = index\n",
    "\n",
    "    return best_index, vector_dict[best_index]"
   ],
   "id": "e81bc15cedfe20d7",
   "outputs": [],
   "execution_count": 9
  },
  {
   "metadata": {
    "ExecuteTime": {
     "end_time": "2025-02-06T15:43:13.763651Z",
     "start_time": "2025-02-06T15:43:13.760649Z"
    }
   },
   "cell_type": "code",
   "source": [
    "def get_context(user_input, embedding_model, topic_embeddings, policy_name, df_documents):\n",
    "    input_embed = embedding_model.encode(user_input)\n",
    "    closest_idx, closest_vec = closest_vector(topic_embeddings, input_embed)\n",
    "    df_document_topics_filtered = df_document_topics.filter(pl.col('topic')==closest_idx)\n",
    "    if policy_name is not None:\n",
    "        assert policy_name in df_documents, 'Could not find policy \"{}\"'.format(policy_name)\n",
    "        df_document_topics_filtered = df_document_topics_filtered.filter(pl.col('name')==policy_name)\n",
    "\n",
    "    g = df_document_topics_filtered.group_by('name', maintain_order=True).agg(pl.col('text')).to_dicts()\n",
    "\n",
    "    context = ''\n",
    "\n",
    "    for entry in g:\n",
    "        context += f'{entry[\"name\"]}:\\n{\", \".join(entry[\"text\"])}\\n\\n'\n",
    "    return context"
   ],
   "id": "150ca88d391daa45",
   "outputs": [],
   "execution_count": 10
  },
  {
   "metadata": {
    "ExecuteTime": {
     "end_time": "2025-02-06T15:43:13.807757Z",
     "start_time": "2025-02-06T15:43:13.805485Z"
    }
   },
   "cell_type": "code",
   "source": [
    "from transformers import BitsAndBytesConfig\n",
    "import torch\n",
    "\n",
    "use_4bit = True\n",
    "use_8bit = False\n",
    "\n",
    "# Compute dtype for 4-bit base models\n",
    "bnb_4bit_compute_dtype = \"float16\"\n",
    "\n",
    "# Quantization type (fp4 or nf4)\n",
    "bnb_4bit_quant_type = \"nf4\"\n",
    "\n",
    "# Activate nested quantization for 4-bit base models (double quantization)\n",
    "use_nested_quant = False"
   ],
   "id": "f5564808b41e666a",
   "outputs": [],
   "execution_count": 11
  },
  {
   "metadata": {
    "ExecuteTime": {
     "end_time": "2025-02-06T15:43:13.856849Z",
     "start_time": "2025-02-06T15:43:13.853972Z"
    }
   },
   "cell_type": "code",
   "source": [
    "compute_dtype = getattr(torch, bnb_4bit_compute_dtype)\n",
    "\n",
    "bnb_config = BitsAndBytesConfig(\n",
    "    load_in_4bit=use_4bit,\n",
    "    load_in_8bit=use_8bit,\n",
    "    bnb_4bit_quant_type=bnb_4bit_quant_type,\n",
    "    bnb_4bit_compute_dtype=compute_dtype,\n",
    "    bnb_4bit_use_double_quant=use_nested_quant,\n",
    ")"
   ],
   "id": "e6d6bbe7aa873206",
   "outputs": [],
   "execution_count": 12
  },
  {
   "metadata": {
    "ExecuteTime": {
     "end_time": "2025-02-06T15:43:40.584293Z",
     "start_time": "2025-02-06T15:43:13.908843Z"
    }
   },
   "cell_type": "code",
   "source": [
    "import torch\n",
    "from transformers import AutoModelForCausalLM, AutoTokenizer, pipeline\n",
    "\n",
    "torch.random.manual_seed(0)\n",
    "model_id = \"tiiuae/Falcon3-7B-Instruct\"\n",
    "model = AutoModelForCausalLM.from_pretrained(\n",
    "    model_id,\n",
    "    device_map=\"cuda\",\n",
    "    torch_dtype=\"auto\",\n",
    "    quantization_config=bnb_config,\n",
    "    trust_remote_code=True,\n",
    ")\n",
    "tokenizer = AutoTokenizer.from_pretrained(model_id)\n",
    "\n",
    "pipe = pipeline(\n",
    "    \"text-generation\",\n",
    "    model=model,\n",
    "    tokenizer=tokenizer,\n",
    ")\n",
    "\n",
    "generation_args = {\n",
    "    \"max_new_tokens\": 2000,\n",
    "    \"return_full_text\": False,\n",
    "    \"temperature\": None,\n",
    "    \"do_sample\": False,\n",
    "}\n",
    "\n"
   ],
   "id": "7a39498eda231146",
   "outputs": [
    {
     "data": {
      "text/plain": [
       "Loading checkpoint shards:   0%|          | 0/4 [00:00<?, ?it/s]"
      ],
      "application/vnd.jupyter.widget-view+json": {
       "version_major": 2,
       "version_minor": 0,
       "model_id": "7029f87d70484c81a11822eb24c307de"
      }
     },
     "metadata": {},
     "output_type": "display_data"
    },
    {
     "name": "stderr",
     "output_type": "stream",
     "text": [
      "Device set to use cuda\n"
     ]
    }
   ],
   "execution_count": 13
  },
  {
   "metadata": {},
   "cell_type": "markdown",
   "source": "# First question",
   "id": "ece5a047afee8a2c"
  },
  {
   "metadata": {
    "ExecuteTime": {
     "end_time": "2025-02-06T15:43:40.589776Z",
     "start_time": "2025-02-06T15:43:40.587715Z"
    }
   },
   "cell_type": "code",
   "source": [
    "user_input = \"Please tell me how the documents implement the FAIR principles in practice. Give me three examples, and use quotations from the documents.\"\n",
    "\n",
    "policy_name = None"
   ],
   "id": "e138b32c6628873e",
   "outputs": [],
   "execution_count": 14
  },
  {
   "metadata": {
    "ExecuteTime": {
     "end_time": "2025-02-06T15:43:40.636103Z",
     "start_time": "2025-02-06T15:43:40.633520Z"
    }
   },
   "cell_type": "code",
   "source": [
    "def ask_llm(user_input, embedding_model, topic_embeddings, df_documents, pipe, policy_name=None):\n",
    "    context = get_context(user_input, embedding_model, topic_embeddings, policy_name, df_documents)\n",
    "    if context == '':\n",
    "        return 'I was not able to find any documents for you.'\n",
    "    print(context)\n",
    "    prompt = f'Please answer the following question based on the given context:\\n{user_input}\\nContext:\\n{context}'\n",
    "    return pipe(prompt, **generation_args)[0]['generated_text']"
   ],
   "id": "8d0f3c370d4f022c",
   "outputs": [],
   "execution_count": 15
  },
  {
   "metadata": {
    "ExecuteTime": {
     "end_time": "2025-02-06T15:44:01.410342Z",
     "start_time": "2025-02-06T15:43:40.680772Z"
    }
   },
   "cell_type": "code",
   "source": "output = ask_llm(user_input, embedding_model, topic_embeddings, df_documents, pipe, policy_name)",
   "id": "3ca9ccfe5c00088",
   "outputs": [
    {
     "name": "stdout",
     "output_type": "stream",
     "text": [
      "eth-zurich.md:\n",
      "4 FAIR Principles are internationally recognised guidelines to improve the Findability, Accessibility, Interoperability, and Reuse of digital assets. The principles emphasise machine-actionability (for details see Annex A).15, Art. 6   Publication of Research Data and Programming Code  \n",
      "\n",
      "1 Publication  \n",
      "\n",
      "a. Research Data and Programming Code that are considered as directly relevant for a result publication based on Community Standards must be published and deposited in a FAIR repository along with rich, openly available Metadata.  \n",
      "\n",
      "(i) If there are limitations for sharing relevant raw data online because sharing is technically or economically not feasible, FAIR allows for publishing Metadata only which contain information on how raw data can be accessed if necessary.  \n",
      "\n",
      "(ii) In the case of long-range data collection projects, the Research Data and Programming Code that are relevant for a result publication may be defined as a subset and may be aggregated.  \n",
      "\n",
      "b. Research Data and Programming Code17 are by default published at the same time as the associated results. c. All publications of research results must contain a Data Availability Statement., Annex A: FAIR Principles23  \n",
      "\n",
      "a. Findability:  \n",
      "\n",
      "Research Data and Metadata are assigned a globally unique and persistent identifier.   \n",
      "Research Data are described with rich Metadata.   \n",
      "Metadata clearly and explicitly include the identifier of the Research data they describe.   \n",
      "Research Data and Metadata are registered or indexed in a searchable resource.  \n",
      "\n",
      "b. Accessibility:  \n",
      "\n",
      "(Meta)data are retrievable by their identifier using a standardised   \n",
      "communications protocol. The protocol is open, free and universally implementable and allows for authentication or authorisation procedures, where necessary.   \n",
      "Metadata are accessible, even when the Research Data are not openly accessible or no longer available.  \n",
      "\n",
      "c. Interoperability:  \n",
      "\n",
      "(Meta)data use a formal, accessible, shared, and broadly applicable language for knowledge representation.   \n",
      "(Meta)data use vocabularies that follow FAIR principles.   \n",
      "(Meta)data include qualified references to other (meta)data.  \n",
      "\n",
      "d. Reuse:  \n",
      "\n",
      "(Meta)data are richly described with a plurality of accurate and relevant   \n",
      "attributes: o (Meta)data are released with a clear and accessible data usage license. o (Meta)data are associated with detailed provenance. o (Meta)data meet domain-relevant community standards.\n",
      "\n",
      "helmholtz-munich.md:\n",
      "7.1.7 Data Publication  \n",
      "\n",
      "Data sets can be published in two ways:  \n",
      "\n",
      "A. by simply making them available via a web interface, preferably at a local data repository of Helmholtz Munich,  or via a citable, dedicated  data publication (linked with a DOI). Such a data publication can include the open distribution of the data and metadata, but does not have to.  Instead it can also  show a simple \"landing page\", which broadly describe the context and content of the data set and via which interested parties can submit a request to the respective decentralized data manager (see above under \"Responsibilities and responsibilities\") for data release.  \n",
      "\n",
      "A central technical tool for the publication of research data is a data repository, a server service on which data can be stored by its creators. This data is given a globally unique identifier (e.g. a DOI) and can be searched and, if necessary, downloaded. A restriction of access by the data producer(s) by means of authorization settings is possible depending on the respective repository.\n",
      "\n",
      "iscte---instituto-universitario-de-lisboa.md:\n",
      "It enables data and research management in conformity with the FAIR principles,6 ensuring that the research data are findable, accessible, interoperable, and reusable.   , Requires that the research data be managed in accordance with the FAIR principles, ensuring that they are findable, accessible, interoperable, and reusable.   \n",
      "\n",
      "johannes-kepler-university-linz.md:\n",
      "FAIR principles: Principles implemented within the framework of research data management to ensure the Findability, Accessibility, Interoperability and Re-usability of research data.3\n",
      "\n",
      "karlstad-university.md:\n",
      "5. FAIR principles  \n",
      "\n",
      "The FAIR principles12  (F - Findable, A - Accessible, I - Interoperable, R - Reusable) play an important part in efforts towards open science.  They describe some of the most central guidelines for sound data management and open access to electronic research data.  Research data do not need be in digital form originally, but efficient accessibility and FAIR implementation require data in digital form.  The FAIR principles were published for the first time in 2016 and since then the EU and a number of research funders, universities and research infrastructures have endorsed them. In Sweden,  the Research Council and the Royal Library have the government's mandate to develop criteria for assessing the extent to which research data and scholarly publications meet the FAIR principles.13 Altogether, FAIR comprises 15 principles which can be applied to research in all disciplines.  \n",
      "\n",
      "Handling digital research data at Karlstad University should follow the international FAIR principles to the extent it is practicable.  Karlstad University strives to make research data with related meta data findable, accessible and reusable for new research purposes long-term, which generally means several generations of the hard and software required for the processing.  \n",
      "\n",
      "However, it is important to note that the FAIR principles do not entail that digital research data should always be open and accessible to everyone. Research ethical assessments, information provided to research participants, personal data protection legislation, and secrecy are factors that always warrant attention before research data can be made accessible beyond the research group, as described under section 5 above.\n",
      "\n",
      "kth-royal-institute-of-technology.md:\n",
      "1 Managing research data  \n",
      "\n",
      "KTH strives to ensure that the results of KTH’s research shall be digitally available and usable for researchers and society. Research data that has been fully or partially financed by public funds and forms the basis of published results must therefore be openly available, to the extent possible with due reference to legal, ethical and possible commercial aspects. KTH supports the internationally adopted FAIR principles to ensure that research data shall be findable, accessible, interoperable and reusable. These principles are compatible with the motto “As open as possible, as closed as necessary”., 1.3 Publication of research data  \n",
      "\n",
      "As a basic principle, research data that forms the basis of published research results should be made publicly available and be findable in such a way that data can be reused. When publishing research data or metadata about research data, KTH Royal Institute of Technology should be given as affiliation in the same way as for any other publication (see also Guidelines on Scientific Publications). It is also appropriate for the dataset to be assigned a persistent identifier and for there to be an opportunity for versioning when data is made available in connection with publication.  \n",
      "\n",
      "Metadata must state clearly what conditions apply for access and reproduction of the dataset. If there are legal, ethical or commercial obstacles to complete digital availability, it is recommended that metadata be published describing the dataset including the conditions for access. If the publication of metadata is also considered inappropriate with regard to the protection of critical infrastructure or with regard to Sweden’s national security or information security in general, publication must be avoided.\n",
      "\n",
      "medizinische-universität-graz.md:\n",
      "FAIR principles According to the“FAlR Data Principles\"(Guidelines on FAIR Data Management in Horizon 2020),research data should be \"Findable, Accessible,Interoperable,and Re- therefore, must be considered in the context of research data management and in the creation of research data management plans. However, this does not mean that the re-use of data must always be free of charge or made possible for anyone who wishes to do so.\n",
      "\n",
      "medizinische-universität-wien.md:\n",
      "Under the ,FAIR Data Principles\"(Guidelines on FAIR Data Management in Horizon 2020) research data must be \"Findable, Accessible,Interoperable,andReusable\".Theseprinciplesserveto optimallyprepareresearchdataforreuseandmustthereforebe takeninto accountin thecontextofresearchdatamanagement and in the preparation of research data management plans.\n",
      "\n",
      "mid-sweden-university.md:\n",
      "FAIR principles  \n",
      "\n",
      "At EU and national level, there are requirements for publicly funded research to be made freely available. It includes both scientific publications and related research data. As a result, all research data funded in whole or in part from public funds shall be handled in accordance with the internationally accepted FAIR principles.  \n",
      "\n",
      "Managing research data according to the FAIR principles means making data Findable, Accessible, Interoperable and Reusable. One benefit of managing data FAIR is that machine readability is considered. FAIR does not automatically mean that data should be made open access, but it should be described and made findable. FAIR data should be “as open as possible, as closed as necessary”.\n",
      "\n",
      "radboud-university.md:\n",
      "Appendix 1: Findability, accessibility, interoperability and reusability (FAIR)\n",
      "\n",
      "technical-university-delft.md:\n",
      "FAIR Data Principles\n",
      "\n",
      "Set of guiding principles to make data F indable, A ccessible, I nteroperable, and R eusable. FORCE11 is the organisation which defined these principles and which also provides an explanation of their exact meaning and implementation.\n",
      "\n",
      "technical-university-vienna.md:\n",
      "1.7. The FAIR principles provide a framework to ensure that research data can be effectively reused. FAIR stands for Findable, Accessible, Interoperable and Reusable.\n",
      "\n",
      "technische-universität-berlin-tu-berlin.md:\n",
      "The FAIR principles are international principles for sustainably reusable research data. The main objective of the principles is to ensure that research data is optimally prepared so that it is findable, accessible, interoperable, and reusable. The FAIR principles were created and first published in 2016 by a broad-based interest group consisting of representatives from science, industry, funding organizations, and scientific publishers.9\n",
      "\n",
      "the-university-of-edinburgh.md:\n",
      "FAIR data sharing\n",
      "\n",
      "The University supports the broad global consensus that publicly funded research data should be made openly available as soon as possible with as few restrictions as necessary.8 Additionally, many UK and international funders have embraced FAIR principles for data sharing (making data findable, accessible, interoperable, and reusable).9 FAIR acknowledges legitimate reasons for restricting access to data, such as confidentiality concerns, suggesting the need for information governance processes over usage when necessary.10 Principal Investigators and research students should consider how they can best make their data FAIR in their Data Management Plans.\n",
      "\n",
      "Discoverability and access by machines is considered as important as access by humans, in order to accelerate global science and progress Open Research. FAIR calls for the use of persistent identifiers, standard metadata, vocabularies and licences to allow researchers and computer programs to directly access and process data. An emphasis on reusability means that any relevant documentation, protocols, or designs which add context and usefulness to the data should be included with research data in repositories. Links to relevant publications, people, projects, and other research products such as software or source code should be provided in metadata records, with persistent identifiers when available.\n",
      "\n",
      "In some cases research products such as models and software code can be deposited with research data in data repositories. However, it may be more appropriate to utilise software\n",
      "\n",
      "the-university-of-northampton.md:\n",
      "6.0 KEY PRINCIPLES\n",
      "\n",
      "The University supports the broad global consensus that publicly funded research data should be made openly available as soon as possible and with as few restrictions as necessary.  Many UK and international funders have embraced FAIR principles for data sharing (making data findable, accessible, interoperable, and reusable).  FAIR acknowledges legitimate reasons for restricting access to data, such as confidentiality concerns.  Principal Investigators/Researchers and research students should consider how they can best make their data FAIR in their Data Management Plans.\n",
      "\n",
      "Discoverability and access by machines are considered as important as access by humans. FAIR encourages the use of persistent identifiers, standard metadata, vocabularies, and licences to allow researchers and computer programs to directly access and process data. An emphasis on reusability means that any relevant documentation, protocols, or designs which add context and usefulness to the data should be included with research datasets in repositories (Pure).  Links to relevant publications, people, projects, and other research products such as software or source code should be provided in metadata records, with persistent identifiers when available.\n",
      "\n",
      "In some cases, research products such as models and software code can be deposited with research data in data/subject repositories. However, it may be more appropriate to utilise software repositories such as GitLab or GitHub, which offer the ability for partners or others to develop code into new directions while keeping track of versions. Research projects should plan for their software management as well as their data and consider whether it will be made openly available and if so, what licence is appropriate. In all cases code should be documented in a way that makes its functions transparent to improve quality and enable reuse of software and data. For long-lived projects software sustainability is a further consideration which requires updating and refactoring over time.\n",
      "\n",
      "The University endorses the FAIR data sharing principles for maximising data reuse, and supports related initiatives such as DORA (Declaration on Research Assessment), ORCID (Open Researcher and Contributor ID), digital object identifiers (DOIs), and use of standard open licences for sharing research data and code.\n",
      "\n",
      "ulster-university.md:\n",
      "3.10 Research data produced and/or used during research must in cited in research outputs.  Good research practice is built upon the recognition of all source material that contributes to the performance of research activities.  Researchers must ensure that research data used during the research process is cited in conference papers, journal articles and other research outputs. Journal publications that report on publically funded research should include an access statement that indicates how research data may be accessed and any associated conditions.\n",
      "\n",
      "umea-university.md:\n",
      "Metadata should also be published with open access\n",
      "\n",
      "Both research data and data describing research data (known as metadata) should be published with open access. If there are obstacles to publishing research data, the focus should in the first instance be on making metadata openly accessible on the internet. In this way, users can find information on what research data exists, even when there are obstacles to open publication, for example lack of a suitable publication platform or technical limitations that prevent all data from being published., Publication according to the FAIR principles\n",
      "\n",
      "Publication of research data can be done using various digital platforms, for example via the higher education institution where the research is conducted or via other relevant national and/or international portals, infrastructures and similar organisations and platforms. The publication of research data shall always be based on the FAIR principles.\n",
      "\n",
      "universite-libre-de-bruxelles.md:\n",
      "FAIR Principles: FAIR stands for Findable, Accessible, Interoperable, Reusable. The FAIR principles describe how research outputs should be organised to be easily accessed, understood, exchanged and reused. Major funding bodies, including the European Commission, promote FAIR data to maximise the integrity and impact of their research investment.\n",
      "\n",
      "university-medical-center-utrecht.md:\n",
      "1. FAIR data\n",
      "\n",
      "For all scientific output we strive for the highest possible degree of 'Fairness', where FAIR stands for:\n",
      "\n",
      "Findable: datasets are findable, provided with a persistent identifier1 and sufficient metadata2, with which specific datasets can be found;\n",
      "Accessible: datasets are accessible, either at data level or at metadata level, and clear user conditions have been drawn up;\n",
      "Interoperable: datasets are interchangeable and standard terminologies and vocabularies are used wherever possible;\n",
      "Reusable: datasets are reusable, meet the above criteria and are sufficiently described, so that reuse is scientifically and ethically sound.\n",
      "\n",
      "university-of-groningen.md:\n",
      "FAIR-data stands for findable, accessible, interoperable and reusable data. This means that data or datasets should be archived in such a way that ideally the research results can be replicated. Metadata and data should be machine-readable in order to make it easy to find; anyone who finds the data should be able to know how they can be accessed; the data needs to interoperate with applications or workflows for analysis, storage and processing and, when there no objections the metadata and data should be welldescribed so that they can be replicated and/or combined in different settings.\n",
      "\n",
      "university-of-helsinki.md:\n",
      "2.4 Publication and accessibility of research data\n",
      "\n",
      "Research data produced at the University of Helsinki and linked to published research results are, as a rule, open and available for shared use. The principle of ‘as open as possible, as closed as necessary’ is observed when making research data openly available. Research data are published in data archives that safeguard the findability of data and enable references to them (for the definition of ‘data archive’, see the glossary).\n",
      "\n",
      "Metadata associated with research data must be published whenever possible, either in national or international metadata services.\n",
      "Identifiers and licences enabling the further use of data should always be available for open research data (for the definition of ‘persistent identifier’, see the glossary).\n",
      "If possible, sensitive data are also made available to other researchers, taking into consideration legal, ethical and contractual restrictions. In this, services that enable safe storage and restricted access with a research permit are to be employed.\n",
      "The University has practices and services for data collection and monitoring pertaining to previously collected, produced and opened research data., FAIR Principles\n",
      "\n",
      "European principles for the quality of research data and associated metadata. The acronym FAIR stands for findable, accessible, interoperable and reusable. The FAIR Principles guide the drawing up of metadata in particular. Findable means that research data has a unique persistent identifier that functions as a link to the data that can always be found even if the storage location changes. Findability can also be implemented for non-digital research data whose metadata are openly available. Accessible means that research data and the associated metadata are accessible via web browsers. Interoperable means that data are stored using open file formats and common standards. Reusable means that research data has rich metadata and a licence that specifies the terms of reuse.\n",
      "\n",
      "university-of-liverpool.md:\n",
      "6.9 FAIR data, discoverability, and accessibility\n",
      "\n",
      "Data and accompanying documentation and metadata should follow FAIR Principles to facilitate the discoverability and reuse of the data. Data should be deposited in an appropriate research repository such as the University of Liverpool’s Data Catalogue, a funder-mandated repository, or discipline specific repository with clear accessibility and reuse rights including an appropriate licence. Repositories should support the use of Open Research and Contributor IDs (ORCIDs) and Digital Object Identifiers (DOIs). Researchers are strongly encouraged to link datasets to their publication record using their author ORCID. A data access statement or citation should accompany any associated output or publication.\n",
      "\n",
      "Information and support on ORCID can be found on the Library’s Open Research webpages and by contacting the Open Research Team.\n",
      "Contact the Library’s Research Data Management Team for support and guidance for data sharing including FAIR principles, identifying a suitable repository, and choosing an appropriate licence.\n",
      "\n",
      "university-of-potsdam.md:\n",
      "Preparation and availability of data. Research data should be made accessible in a processing stage (raw or structured data) that enables meaningful reuse by third parties. It is recommended to strive for consistent adherence to the FAIR data principles (findable, accessible, interoper able, and reusable) when preparing data for publication and selecting the place of publication.2 The four principles articulate the following basic requirements:\n",
      "\n",
      "\n",
      "\n",
      "a. Findability: The data is sufficiently described with relevant metadata and referenced by a unique persistent identifier (e.g., a DOI).\n",
      "b. Accessibility: The data is readable by both humans and machines and is stored in a trusted repository.\n",
      "c. Interoperability: Data and metadata use a formal, accessible, shared, and broadly applicable vocabulary for knowledge representation.\n",
      "d. Reusability: The data is unambiguously licensed, contains correct provenance information, and is well documented.3\n",
      "\n",
      "Self-programmed research software should be made publicly available as source code. Source code of published software should be persistent, citable, and documented.4, Citation of data and software. If no subject-specific standards have been established yet for the citation of data and software and if no guidelines by the journal or the publisher are available, it is recommended to refer to the Data Citation Principles.8\n",
      "\n",
      "### III.\t Contracts and Cooperations\n",
      "\n",
      "university-of-potsdam_cropped.md:\n",
      "II. Publication and Citation of Research Data\n",
      "\n",
      "\n",
      "\n",
      "The rules of good scientific practice for publishing also apply to data and software publications. In particular, it is prohibited to withhold data that does not support the authors’ hypotheses, to fragment data and software publications with the aim of increasing the number of publications, or to duplicate publications without disclosing the previous publication. The following points provide further guidance regarding the publication and citation of research data., Preparation and availability of data. Research data should be made accessible in a processing stage (raw or structured data) that enables meaningful reuse by third parties. It is recommended to strive for consistent adherence to the FAIR data principles (findable, accessible, interoper able, and reusable) when preparing data for publication and selecting the place of publication.2 The four principles articulate the following basic requirements:\n",
      "\n",
      "\n",
      "\n",
      "a. Findability: The data is sufficiently described with relevant metadata and referenced by a unique persistent identifier (e.g., a DOI).\n",
      "b. Accessibility: The data is readable by both humans and machines and is stored in a trusted repository.\n",
      "c. Interoperability: Data and metadata use a formal, accessible, shared, and broadly applicable vocabulary for knowledge representation.\n",
      "d. Reusability: The data is unambiguously licensed, contains correct provenance information, and is well documented.3\n",
      "\n",
      "Self-programmed research software should be made publicly available as source code. Source code of published software should be persistent, citable, and documented.4, Citation of data and software. If no subject-specific standards have been established yet for the citation of data and software and if no guidelines by the journal or the publisher are available, it is recommended to refer to the Data Citation Principles.8\n",
      "\n",
      "university-of-st-andrews.md:\n",
      "1.6. Data underpinning publications should be made openly available wherever possible, with explicit Data Access Statements provided in publications. Data should have persistent identifiers to support citations, and be accompanied by rich metadata (including a description) to increase discoverability as recommended by the FAIR principles (paragraph 1.3.5).\n",
      "\n",
      "university-of-strathclyde.md:\n",
      "FAIR Data Principles (also 'FAIR') research data can be made Findable, Accessible, Interoperable, and Reusable. Further information can be found on the FORCE11 website.\n",
      "\n",
      "university-of-twente.md:\n",
      "Preamble\n",
      "\n",
      "One of the grand challenges of data-intensive science is to facilitate knowledge discovery by assisting humans and machines in their discovery of, access to, integration and analysis of, task-appropriate scientific data and their associated algorithms and workflows. Here, we describe FAIR - a set of guiding principles to make data Findable, Accessible, Interoperable, and Re-usable.\n",
      "\n",
      "university-of-westminster.md:\n",
      "FAIR data are those research data which are Findable, Accessible, Interoperable, and Reusable. FAIR data are not equivalent to open data, as research data can be FAIR even when access is restricted.\n",
      "\n",
      "universität-bayreuth.md:\n",
      "Throughout the entire research data cycle - from data acquisition to publication and long-term availability - research data should be handled and documented in accordance with the established and recognized rules and standards in the respective subject area. In accordance with the FAIR principles12, research data should be findable, accessible, interoperable, and reusable., FAIR principles\n",
      "\n",
      "The FAIR principles were drawn up by a stakeholder group consisting of representatives from science, industry, funding organizations, and scientific publishers and were first published in 2016.18 They define international principles for sustainable reusable research data with the main aim of optimizing the preparation of research data so that they are findable, accessible, interoperable, and reusable.\n",
      "\n",
      "universität-graz.md:\n",
      "The “FAIR Data Principles” lay down guidelines that sustainably reusable research data must fulfil and that research data infrastructures should implement within the framework of the services they provide. According to the FAIR principles, data should be \"Findable, Accessible, Interoperable, Reusable\".\n",
      "\n",
      "\n"
     ]
    }
   ],
   "execution_count": 16
  },
  {
   "metadata": {
    "ExecuteTime": {
     "end_time": "2025-02-06T15:44:01.442685Z",
     "start_time": "2025-02-06T15:44:01.440283Z"
    }
   },
   "cell_type": "code",
   "source": [
    "from IPython.display import Markdown, display\n",
    "\n",
    "display(Markdown(output))"
   ],
   "id": "f16cc42dfe31ff40",
   "outputs": [
    {
     "data": {
      "text/plain": [
       "<IPython.core.display.Markdown object>"
      ],
      "text/markdown": "<|assistant|>\nThe documents implement the FAIR principles in practice through several key strategies and guidelines. Here are three examples:\n\n1. **Publication and Metadata Management**: The documents emphasize the importance of publishing research data and metadata in a way that adheres to the FAIR principles. For instance, ETH Zurich's guidelines state that research data and programming code must be published along with rich, openly available Metadata, ensuring that they are findable and accessible. This practice involves assigning unique identifiers to data and metadata, which enhances their findability, and using standardized vocabularies to ensure interoperability.\n\n2. **Data Accessibility and Interoperability**: Helmholtz Munich's guidelines highlight the importance of making data accessible through web interfaces or dedicated data publications, which can include open distribution of data and metadata. This approach ensures that data is accessible and interoperable, as it can be accessed by both humans and machines, and is stored in a trusted repository using open file formats and common standards.\n\n3. **Data Reuse and Licensing**: The University of Edinburgh's guidelines stress the need for research data to be reusable, which involves providing clear data usage licenses and detailed provenance information. This ensures that data can be reused ethically and scientifically, and that the conditions for access and reproduction are clearly stated, promoting the FAIR principle of reusability.\n\nThese examples illustrate how the documents operationalize the FAIR principles by focusing on findability, accessibility, interoperability, and reusability, ensuring that research data is prepared in a way that maximizes its utility and longevity."
     },
     "metadata": {},
     "output_type": "display_data"
    }
   ],
   "execution_count": 17
  },
  {
   "metadata": {},
   "cell_type": "markdown",
   "source": "# Second question",
   "id": "fe0d6178345aec42"
  },
  {
   "metadata": {
    "ExecuteTime": {
     "end_time": "2025-02-06T15:54:04.169282Z",
     "start_time": "2025-02-06T15:54:04.167084Z"
    }
   },
   "cell_type": "code",
   "source": [
    "user_input = \"What are standard practices for data retention and deletion in practice? Please use exact quotes from the documents.\"\n",
    "\n",
    "policy_name = None"
   ],
   "id": "15c368692c0ed09b",
   "outputs": [],
   "execution_count": 25
  },
  {
   "metadata": {
    "ExecuteTime": {
     "end_time": "2025-02-06T15:54:04.468222Z",
     "start_time": "2025-02-06T15:54:04.464756Z"
    }
   },
   "cell_type": "code",
   "source": "df_documents",
   "id": "92f931f63b5ec652",
   "outputs": [
    {
     "data": {
      "text/plain": [
       "shape: (3_486, 2)\n",
       "┌───────────────────────┬─────────────────────────────────┐\n",
       "│ name                  ┆ text                            │\n",
       "│ ---                   ┆ ---                             │\n",
       "│ str                   ┆ str                             │\n",
       "╞═══════════════════════╪═════════════════════════════════╡\n",
       "│ aalto-university.md   ┆ Aalto University                │\n",
       "│ aalto-university.md   ┆ Aalto University Research Data… │\n",
       "│ aalto-university.md   ┆ The research data management p… │\n",
       "│ aalto-university.md   ┆ The data management policy sha… │\n",
       "│ aalto-university.md   ┆ Ownership of copyright protect… │\n",
       "│ …                     ┆ …                               │\n",
       "│ wrexham-university.md ┆ FAIR Data                       │\n",
       "│                       ┆                                 │\n",
       "│                       ┆ Where it is lawful …            │\n",
       "│ wrexham-university.md ┆ Prifysgol Wrecsam Wrexham Univ… │\n",
       "│ wrexham-university.md ┆ Reporting a Data Incident/Brea… │\n",
       "│ wrexham-university.md ┆ Other Polices, Procedures, Leg… │\n",
       "│ wrexham-university.md ┆ Legislation                     │\n",
       "│                       ┆                                 │\n",
       "│                       ┆ Data Protection A…              │\n",
       "└───────────────────────┴─────────────────────────────────┘"
      ],
      "text/html": [
       "<div><style>\n",
       ".dataframe > thead > tr,\n",
       ".dataframe > tbody > tr {\n",
       "  text-align: right;\n",
       "  white-space: pre-wrap;\n",
       "}\n",
       "</style>\n",
       "<small>shape: (3_486, 2)</small><table border=\"1\" class=\"dataframe\"><thead><tr><th>name</th><th>text</th></tr><tr><td>str</td><td>str</td></tr></thead><tbody><tr><td>&quot;aalto-university.md&quot;</td><td>&quot;Aalto University&quot;</td></tr><tr><td>&quot;aalto-university.md&quot;</td><td>&quot;Aalto University Research Data…</td></tr><tr><td>&quot;aalto-university.md&quot;</td><td>&quot;The research data management p…</td></tr><tr><td>&quot;aalto-university.md&quot;</td><td>&quot;The data management policy sha…</td></tr><tr><td>&quot;aalto-university.md&quot;</td><td>&quot;Ownership of copyright protect…</td></tr><tr><td>&hellip;</td><td>&hellip;</td></tr><tr><td>&quot;wrexham-university.md&quot;</td><td>&quot;FAIR Data\n",
       "\n",
       "Where it is lawful …</td></tr><tr><td>&quot;wrexham-university.md&quot;</td><td>&quot;Prifysgol Wrecsam Wrexham Univ…</td></tr><tr><td>&quot;wrexham-university.md&quot;</td><td>&quot;Reporting a Data Incident/Brea…</td></tr><tr><td>&quot;wrexham-university.md&quot;</td><td>&quot;Other Polices, Procedures, Leg…</td></tr><tr><td>&quot;wrexham-university.md&quot;</td><td>&quot;Legislation\n",
       "\n",
       "Data Protection A…</td></tr></tbody></table></div>"
      ]
     },
     "execution_count": 26,
     "metadata": {},
     "output_type": "execute_result"
    }
   ],
   "execution_count": 26
  },
  {
   "metadata": {
    "ExecuteTime": {
     "end_time": "2025-02-06T15:54:35.000527Z",
     "start_time": "2025-02-06T15:54:06.205993Z"
    }
   },
   "cell_type": "code",
   "source": "output = ask_llm(user_input, embedding_model, topic_embeddings, df_documents, pipe, policy_name)",
   "id": "94d7534573d64c74",
   "outputs": [
    {
     "name": "stdout",
     "output_type": "stream",
     "text": [
      "hasselt-university.md:\n",
      "9.5 Disposal of research data  \n",
      "\n",
      "Researchers should destroy research data that are not (no longer) relevant for (re)use, verification, valorization or data collection – at least insofar as legal, contractual or disciplinary regulations don’t deviate herefrom. Besides, researchers leaving Hasselt University should comply with yet additional measures, as set forth in §12.\n",
      "\n",
      "lund-university.md:\n",
      "Data eligible for disposal are automatically disposed of at the end of the retention period.\n",
      "\n",
      "max-delbrück-center-for-molecular-medicine.md:\n",
      "Deletion of data  \n",
      "\n",
      "Deletion or destruction of research data and records,either after expiration of the retention period or for legal or ethical reasons, has to be carried out considering contractual obligations of third-party funders and other stakeholders, including collaboration partners.Such actions should be documented and be accessible for future audit. Backup data copies should also be deleted.Automated deletion of research data is to be avoided. Plans outlining data deletion and destruction should be documented and agreed upon between the principal investigators or data producers with the IT department; see section 5 for more details on roles and responsibilities.\n",
      "\n",
      "nottingham-trent-university.md:\n",
      "3.12 If Research Data is to be deleted or destroyed, either because the agreed retention period has expired or for legal or ethical reasons, this should be done so in accordance with all legal, ethical, research funder and collaborator requirements with particular attention to confidentiality and security.\n",
      "\n",
      "queen-margaret-university-edinburgh.md:\n",
      "Research data must be retained and disposed of securely according to the relevant retention and disposal schedule.  This can be found at:, 7.10 If research data are to be deleted or destroyed, this should be done in accordance with all legal, ethical and funder requirements and only after the written approval of the Head of Division.\n",
      "\n",
      "staffordshire-university.md:\n",
      "If both “Hold” and “Delete” policies apply to a site, then both processes will take effect. If the retention hold is greater than the delete then files will not be deleted until after the hold period.\n",
      "\n",
      "teesside-university.md:\n",
      "7 Disposal\n",
      "\n",
      "Research data should be disposed of securely, in accordance with the DMP and the University’s Information Security Policy.  The timing of data disposal should reflect any ethical, contractual and legal requirements, and current best practice.\n",
      "\n",
      "university-campus-suffolk.md:\n",
      "Data at the University of Suffolk are retained and disposed of according to need. The overarching principle is that data should only be retained and stored for as long as such data have a legitimate purpose, and thereafter they should be disposed of securely. Each School and Professional Service area of the Institution holds a Data Retention Schedule which specifies the nature of the data retained, the retention period, the reason for retention, and the action to be taken at the end of the retention period, including how the data are to be disposed of., At the end of the retention period, data should be disposed of and/or destroyed. Manual confidential waste must be placed in the lockable confidential waste bins located across campus (please see list of locations under Estates and Sustainability on Hub) and not in general paper recycling bins.\n",
      "\n",
      "UNIVERSITY OF SUFFOLK\n",
      "\n",
      "university-college-dublin.md:\n",
      "(7) If research data is to be deleted or destroyed, either because the agreed period of retention has expired or for legal or ethical reasons, this should be done so in accordance with all legal, ethical, research funder and collaborator requirements and with particular concern for confidentiality and security.\n",
      "\n",
      "university-of-east-anglia.md:\n",
      "Any destruction of Research Data shall be in accordance with the terms of this Policy, the retention period set out in the Data Management Plan and any legal and funder requirements, whichever is the most stringent.\n",
      "\n",
      "university-of-reading.md:\n",
      "Disposal of data\n",
      "\n",
      "Data that do not substantiate published research findings and do not have long-term value should be disposed of when they no longer serve a purpose. Data that contain personal or confidential information must be disposed of securely in accordance with University guidelines.7, Disposal of data\n",
      "\n",
      "IMPS provides guidelines for the retention and disposal of records.34\n",
      "\n",
      "university-of-salford.md:\n",
      "4.13 Disposal of data\n",
      "\n",
      "Researchers, or research data stewards, must securely dispose of research data identified for deletion or destruction with particular concern for the confidentiality and security of the data, in accordance with legal, contractual, regulatory, or ethical requirements and the University’s Information Security Policy.\n",
      "\n",
      "university-of-the-west-of-england.md:\n",
      "Retention of research data\n",
      "\n",
      "Research data must be assessed for retention, according to the UWE Data Retention\n",
      "Schedule. Research data not selected for retention must be appropriately and securely\n",
      "destroyed in a timely way, and a record of its destruction made. o Destruction may need to take place because the research data is not deemed sufficiently valuable to warrant the costs of storing and supporting it. o Research data may also need to be destroyed where consents, or legal or regulatory requirements, mean that this is necessary.\n",
      "\n",
      "university-of-york.md:\n",
      "5.10 Researchers must securely dispose of research data identified for deletion or destruction, in accordance with legal, ethical, research funder and collaborator requirements and with particular concern for the confidentiality and security of the data.\n",
      "\n",
      "universität-bayreuth.md:\n",
      "If research data and associated documents are to be deleted or destroyed after the retention period has expired, or for legal or ethical reasons, these measures need to take legal and ethical considerations into account. The deletion must be documented and justified. When deciding whether to retain or delete data, the interests and contractual provisions of third-party funders and other parties, in particular contributors and cooperation partners, must be taken into account. Aspects of security and confidentiality must be considered.\n",
      "\n",
      "wrexham-university.md:\n",
      "Disposal\n",
      "\n",
      "The disposal and destruction of research data must be undertaken in accordance with the University's Data Protection and Data Disposal Policy. The agreed data disposal time and process should be included in the Data Management Plan and any participant-facing documents. If data have been shared with partners or transferred to third parties in the course of the project, researchers should ensure that they have deleted them unless they have a legitimate basis for retaining them.\n",
      "\n",
      "\n"
     ]
    }
   ],
   "execution_count": 27
  },
  {
   "metadata": {
    "ExecuteTime": {
     "end_time": "2025-02-06T15:54:35.006673Z",
     "start_time": "2025-02-06T15:54:35.003879Z"
    }
   },
   "cell_type": "code",
   "source": [
    "from IPython.display import Markdown, display\n",
    "\n",
    "display(Markdown(output))"
   ],
   "id": "27389f84f339e34b",
   "outputs": [
    {
     "data": {
      "text/plain": [
       "<IPython.core.display.Markdown object>"
      ],
      "text/markdown": "<|assistant|>\n\"Researchers should destroy research data that are not (no longer) relevant for (re)use, verification, valorization or data collection – at least insofar as legal, contractual or disciplinary regulations don’t deviate herefrom.\"\n\n\"Data eligible for disposal are automatically disposed of at the end of the retention period.\"\n\n\"Deletion or destruction of research data and records,either after expiration of the retention period or for legal or ethical reasons, has to be carried out considering contractual obligations of third-party funders and other stakeholders, including collaboration partners. Such actions should be documented and be accessible for future audit. Backup data copies should also be deleted.Automated deletion of research data is to be avoided. Plans outlining data deletion and destruction should be documented and agreed upon between the principal investigators or data producers with the IT department; see section 5 for more details on roles and responsibilities.\"\n\n\"If Research Data is to be deleted or destroyed, either because the agreed retention period has expired or for legal or ethical reasons, this should be done so in accordance with all legal, ethical, research funder and collaborator requirements with particular attention to confidentiality and security.\"\n\n\"Research data must be retained and disposed of securely according to the relevant retention and disposal schedule. This can be found at:, 7.10 If research data are to be deleted or destroyed, this should be done in accordance with all legal, ethical and funder requirements and only after the written approval of the Head of Division.\"\n\n\"If both “Hold” and “Delete” policies apply to a site, then both processes will take effect. If the retention hold is greater than the delete then files will not be deleted until after the hold period.\"\n\n\"Research data should be disposed of securely, in accordance with the DMP and the University’s Information Security Policy. The timing of data disposal should reflect any ethical, contractual and legal requirements, and current best practice.\"\n\n\"Data at the University of Suffolk are retained and disposed of according to need. The overarching principle is that data should only be retained and stored for as long as such data have a legitimate purpose, and thereafter they should be disposed of securely.\"\n\n\"If research data is to be deleted or destroyed, either because the agreed period of retention has expired or for legal or ethical reasons, this should be done so in accordance with all legal, ethical, research funder and collaborator requirements and with particular concern for confidentiality and security.\"\n\n\"Any destruction of Research Data shall be in accordance with the terms of this Policy, the retention period set out in the Data Management Plan and any legal and funder requirements, whichever is the most stringent.\"\n\n\"Disposal of data\n\nData that do not substantiate published research findings and do not have long-term value should be disposed of when they no longer serve a purpose. Data that contain personal or confidential information must be disposed of securely in accordance with University guidelines.\"\n\n\"Disposal of data\n\nData that do not substantiate published research findings and do not have long-term value should be disposed of when they no longer serve a purpose. Data that contain personal or confidential information must be disposed of securely in accordance with University guidelines.\"\n\n\"If research data and associated documents are to be deleted or destroyed after the retention period has expired, or for legal or ethical reasons, these measures need to take legal and ethical considerations into account. The deletion must be documented and justified. When deciding whether to retain or delete data, the interests and contractual provisions of third-party funders and other parties, in particular contributors and cooperation partners, must be taken into account. Aspects of security and confidentiality must be considered.\"\n\n\"The disposal and destruction of research data must be undertaken in accordance with the University's Data Protection and Data Disposal Policy. The agreed data disposal time and process should be included in the Data Management Plan and any participant-facing documents. If data have been shared with partners or transferred to third parties in the course of the project, researchers should ensure that they have deleted them unless they have a legitimate basis for retaining them.\""
     },
     "metadata": {},
     "output_type": "display_data"
    }
   ],
   "execution_count": 28
  },
  {
   "metadata": {},
   "cell_type": "markdown",
   "source": "# Question 3",
   "id": "bdff1021dcd46814"
  },
  {
   "metadata": {
    "ExecuteTime": {
     "end_time": "2025-02-06T16:02:22.035056Z",
     "start_time": "2025-02-06T16:02:22.032736Z"
    }
   },
   "cell_type": "code",
   "source": [
    "user_input = \"Under what circumstances what actors are the owners of the data? Please use exact quotes from the documents.\"\n",
    "\n",
    "policy_name = None"
   ],
   "id": "7ab20dd5b929df95",
   "outputs": [],
   "execution_count": 29
  },
  {
   "metadata": {
    "ExecuteTime": {
     "end_time": "2025-02-06T16:02:23.351138Z",
     "start_time": "2025-02-06T16:02:23.347634Z"
    }
   },
   "cell_type": "code",
   "source": "df_documents",
   "id": "50c623d935815688",
   "outputs": [
    {
     "data": {
      "text/plain": [
       "shape: (3_486, 2)\n",
       "┌───────────────────────┬─────────────────────────────────┐\n",
       "│ name                  ┆ text                            │\n",
       "│ ---                   ┆ ---                             │\n",
       "│ str                   ┆ str                             │\n",
       "╞═══════════════════════╪═════════════════════════════════╡\n",
       "│ aalto-university.md   ┆ Aalto University                │\n",
       "│ aalto-university.md   ┆ Aalto University Research Data… │\n",
       "│ aalto-university.md   ┆ The research data management p… │\n",
       "│ aalto-university.md   ┆ The data management policy sha… │\n",
       "│ aalto-university.md   ┆ Ownership of copyright protect… │\n",
       "│ …                     ┆ …                               │\n",
       "│ wrexham-university.md ┆ FAIR Data                       │\n",
       "│                       ┆                                 │\n",
       "│                       ┆ Where it is lawful …            │\n",
       "│ wrexham-university.md ┆ Prifysgol Wrecsam Wrexham Univ… │\n",
       "│ wrexham-university.md ┆ Reporting a Data Incident/Brea… │\n",
       "│ wrexham-university.md ┆ Other Polices, Procedures, Leg… │\n",
       "│ wrexham-university.md ┆ Legislation                     │\n",
       "│                       ┆                                 │\n",
       "│                       ┆ Data Protection A…              │\n",
       "└───────────────────────┴─────────────────────────────────┘"
      ],
      "text/html": [
       "<div><style>\n",
       ".dataframe > thead > tr,\n",
       ".dataframe > tbody > tr {\n",
       "  text-align: right;\n",
       "  white-space: pre-wrap;\n",
       "}\n",
       "</style>\n",
       "<small>shape: (3_486, 2)</small><table border=\"1\" class=\"dataframe\"><thead><tr><th>name</th><th>text</th></tr><tr><td>str</td><td>str</td></tr></thead><tbody><tr><td>&quot;aalto-university.md&quot;</td><td>&quot;Aalto University&quot;</td></tr><tr><td>&quot;aalto-university.md&quot;</td><td>&quot;Aalto University Research Data…</td></tr><tr><td>&quot;aalto-university.md&quot;</td><td>&quot;The research data management p…</td></tr><tr><td>&quot;aalto-university.md&quot;</td><td>&quot;The data management policy sha…</td></tr><tr><td>&quot;aalto-university.md&quot;</td><td>&quot;Ownership of copyright protect…</td></tr><tr><td>&hellip;</td><td>&hellip;</td></tr><tr><td>&quot;wrexham-university.md&quot;</td><td>&quot;FAIR Data\n",
       "\n",
       "Where it is lawful …</td></tr><tr><td>&quot;wrexham-university.md&quot;</td><td>&quot;Prifysgol Wrecsam Wrexham Univ…</td></tr><tr><td>&quot;wrexham-university.md&quot;</td><td>&quot;Reporting a Data Incident/Brea…</td></tr><tr><td>&quot;wrexham-university.md&quot;</td><td>&quot;Other Polices, Procedures, Leg…</td></tr><tr><td>&quot;wrexham-university.md&quot;</td><td>&quot;Legislation\n",
       "\n",
       "Data Protection A…</td></tr></tbody></table></div>"
      ]
     },
     "execution_count": 30,
     "metadata": {},
     "output_type": "execute_result"
    }
   ],
   "execution_count": 30
  },
  {
   "metadata": {
    "ExecuteTime": {
     "end_time": "2025-02-06T16:02:34.041229Z",
     "start_time": "2025-02-06T16:02:26.098006Z"
    }
   },
   "cell_type": "code",
   "source": "output = ask_llm(user_input, embedding_model, topic_embeddings, df_documents, pipe, policy_name)",
   "id": "e42e646278ab1eed",
   "outputs": [
    {
     "name": "stdout",
     "output_type": "stream",
     "text": [
      "bangor-university.md:\n",
      "DATA PROTECTION POLICY  \n",
      "\n",
      "Bangor University takes its responsibilities with regard to the management of the requirements of the General Data Protection Regulation (GDPR) and the Data Protection Act 2018 (the Act) very seriously. This document provides the policy framework through which this effective management can be achieved and audited., 1. Purpose & Scope  \n",
      "\n",
      "The purpose of this policy is to ensure that the University and the University’s staff and students comply with the provisions of the GDPR and the Act and with any other relevant legislation in jurisdictions in which the University operates when processing personal data. Any infringement of the Act will be treated seriously by the University and may be considered under disciplinary procedures.  \n",
      "\n",
      "This policy applies to staff, students, agents of the University and any authorised processors of personal data held or owned by the University, regardless of where the data is held and, in respect of automatically processed data, the ownership of the equipment used, if the processing is for University purposes.  This policy also applies to personal data retained and processed by Bangor University Students’ Union., 3. The Principles of Data Protection  \n",
      "\n",
      "The University is required to adhere to the principles of data protection as laid down by the Act. In accordance with those principles personal data shall be:  \n",
      "\n",
      "1.  Processed fairly, lawfully and in a transparent manner The University must be open and clear about what the personal data will be used for and how it will be used.  \n",
      "\n",
      "2.  Processed for specified, explicit and legitimate purposes The University must ensure that it collects personal data for clear, appropriate and legitimate purposes. Collecting personal data “just in case” for future reference is not compliant with legislation.  \n",
      "\n",
      "3.  Adequate, relevant and limited to what is necessary for the purposes for which they are processed The University must only collect, use or share personal data in a proportionate way. This means that it should collect what it needs to complete its purposes.  \n",
      "\n",
      "4.  Accurate and up to date Personal data must be accurate and up to date. Collecting inaccurate data is a breach of GDPR.  \n",
      "\n",
      "5.  Kept in a form which permits identification of data subjects for no longer than is necessary for the purposes for which the personal data are processed   \n",
      "Personal data must only be kept for a specific period of time. This time period will vary depending on what purpose the personal data is collected for - the University’s Record & Data Retention Schedule details how long personal data should be kept for each function.  \n",
      "\n",
      "6.  Processed in a manner that ensures appropriate security of the personal data  \n",
      "\n",
      "The University is required to have appropriate technical and organisational measures in place to ensure the security of personal data. This is applicable to both data held electronically and personal data within physical documents., [c] Staff Responsibilities  \n",
      "\n",
      "[i] When staff members use personal information about students, other members of staff or other individuals they must comply with the requirements of this Policy.   \n",
      "[ii] It is a condition of employment that staff will abide by the rules and policies of the University. Any failure to follow this Policy may result in disciplinary proceedings.  \n",
      "\n",
      "Staff must ensure that:  \n",
      "\n",
      "all personal information entrusted to them in the course of their employment is kept securely.   \n",
      "no personal information is disclosed either verbally or in writing, accidentally or otherwise to any unauthorised third party.   \n",
      "no personal information should be accessed by staff for any reason other than for legitimate University business.   \n",
      "any information that they provide to the University in connection with their own employment is accurate and up to date and that they inform the University of any changes, e.g. changes of address.  \n",
      "\n",
      "[iii] When members of staff are responsible for supervising students doing work which involves the processing of personal information (for example in research projects), they must ensure that those students are aware of the Data Protection Principles as set out in point 3. above, in particular, the requirement to obtain the data subject's freely given, specified, informed and unambiguous consent where appropriate.  \n",
      "\n",
      "A Bangor University student should only use personal data, in relation to their studies, with the knowledge, written agreement and supervision of an appropriate member of staff. This would normally be a postgraduate student’s supervisor, or for an undergraduate student the member of staff responsible for teaching the module. Consideration should also be given to the requirements of the University’s Research Ethics Policy in relation to the use of personal data in research.  \n",
      "\n",
      "[iv] Staff who are unsure about who are the authorised third parties to whom they can legitimately disclose personal data should seek advice from their line manager or the Head of Governance and Compliance., [d] Contractors, Short-Term, Casual and Voluntary Staff  \n",
      "\n",
      "The University is responsible for the use made of personal data by anyone working on its behalf.  Pro ViceChancellors / Heads of College, Heads of School and Directors of Professional Services who employ contractors, short term, casual or voluntary staff must ensure that:  \n",
      "\n",
      "Any personal and / or special category data collected or processed in the course of work undertaken for the University, is kept securely and confidentially. This applies whether the data is an integral part of the work, or whether it is simply contained on media or in places which contractors etc. need to access; it applies whether or not the University explicitly mentions the data in the contract.   \n",
      "All personal and / or special category data is returned to the University on completion of the work, including any copies that may have been made. Alternatively, that the data is securely destroyed and the University receives notification in this regard from the contractor or short term / voluntary member of staff.   \n",
      "The University receives details of any disclosure of personal and / or special category data to any other organisation or any person who is not a direct employee of the contractor.   \n",
      "Any personal and / or special category data made available by the University, or collected in the course of the work, is neither stored nor processed outside the UK unless written consent to do so has been received from the Head of Governance and Compliance at the University.   \n",
      "All practical and reasonable steps are taken to ensure that contractors, short term or voluntary staff do not have access to any personal data beyond what is essential for the work to be carried out properly. The University’s standard data protection clause must be inserted into all relevant University contracts., 6..1. Subject Access Requests  \n",
      "\n",
      "An individual is entitled to receive from the University:  \n",
      "\n",
      "Confirmation as to whether or not personal data concerning them is being processed, and Where that is the case access to the personal data, and information relating to the purpose of the processing, the categories of personal data being processed, the recipients to whom the personal data has been disclosed, the retention period for the data and the complaints process.  \n",
      "\n",
      "Individuals wishing to access their own personal data held by the University can do so via a Subject Access Request. Any individual wishing to exercise this right should do so in writing or by email (info-compliance@bangor.ac.uk ) to the Head of Governance and Compliance. A standard form is available on the University’s data protection web pages.  \n",
      "\n",
      "Individuals will not be entitled to access information to which any of the exemptions in the Act applies. However, only those specific pieces of information to which the exemption applies will be withheld, and information covered by an exemption will be subject to review by the Head of Governance and Compliance  \n",
      "\n",
      "The University aims to comply with requests for access to personal information as quickly as possible, but will ensure that it is provided within one month as stipulated by the Act and within any relevant time periods set by other jurisdictions.  \n",
      "\n",
      "Requests for access to information held by the University’s Student Counselling service will be dealt with by the Head of Governance and Compliance in consultation with the Head of Counselling., 6.4 Data Security Breaches  \n",
      "\n",
      "Any data-related incident or breach or potential breach of the Act, or other equivalent legislation or of the requirements of this Policy should be reported to the Head of Governance and Compliance as soon as possible and, in any case, within 24 hours of discovery.   Incidents will be dealt with in accordance with the University’s Procedures for the Management of a Suspected Data Security Breach., 6.6 Request for Information by Law Enforcement Agencies  \n",
      "\n",
      "There are exemptions within the Data Protection Act which allow the University, under strict guidelines, to release information to law enforcement agencies without the consent of the individual whose information is being released, and regardless of the purpose for which the information was originally collected.  \n",
      "\n",
      "The University should respond to all such requests for information in a consistent manner and it therefore operates a Single Point of Contact system for all law enforcement requests which is overseen by the Head of Governance and Compliance.  \n",
      "\n",
      "A detailed procedure outlining how the University deals with such requests is included as Appendix 1 to this Policy., 6.7 Request for Information from Statutory Agencies  \n",
      "\n",
      "The University will seek to respond to requests for information from Statutory Agencies (e.g. Local Authorities) in relation to  \n",
      "\n",
      "A child, young person or vulnerable adult;   \n",
      "Proceedings / investigations relating to a child, young person or vulnerable adult.  \n",
      "\n",
      "in a consistent manner.  \n",
      "\n",
      "In relation to such requests the University will follow the guidelines laid down in the All Wales Child Protection Procedures and also the provisions of Section 115 of the Crime and Disorder Act. Such requests will be considered by the Head of Governance and Compliance on the understanding that the Agency is able to confirm that there is an overriding public interest to justify the disclosure, and in particular the University, in making its decision, will seek to satisfy itself that one or more of the following considerations are relevant:  \n",
      "\n",
      "The disclosure is necessary for the prevention or detection of crime, prevention of disorder, to protect public safety or protect the rights and freedoms of others; The disclosure is necessary for the protection of young or other vulnerable people The risks posed by the individual The vulnerability of those who may be at risk  The impact of the disclosure on the offender Is the disclosure proportionate to the intended aim Are there equally effective but less intrusive alternative means of achieving the aim Where there is an overriding public interest in favour of disclosure the University will, as set out in Section 1.5.3 of the All Wales Child Protection Procedures require the specific detail of the request, and whether the consent of the individual has been sought and / or given., 1. Background  \n",
      "\n",
      "These Procedures are intended to cover situations where the University receives requests from the Police or other organisations / agencies with law enforcement responsibilities (such as the Department for Work and Pensions, local authorities, HM Customs and Revenue and the UK Visas and Immigration) for personal information about students, staff or other individuals whose information the University holds.  These Procedures also include requests for the provision of any CCTV footage2.  \n",
      "\n",
      "Personal information held by the University is managed in accordance with the Data Protection Act 2018 (the Act) and the University’s Data Protection Policy3.  The Act and the University’s Policy provide guidance on the circumstances when it is lawful to disclose and transfer personal information outside the University and in general this should be carried out “fairly and lawfully” and in accordance with the University’s Data Protection Notification.  \n",
      "\n",
      "There are, however, exemptions within the Act which allow the University, under strict guidelines, to release information to law enforcement agencies without the consent of the individual whose information is being released, and regardless of the purpose for which the information was originally collected.  \n",
      "\n",
      "In particular personal information may be released if:  \n",
      "\n",
      "the information is required for safeguarding national security failure to provide the information would prejudice the prevention or detection of crime, the apprehension or prosecution of offenders or the assessment or collection of any tax or duty  \n",
      "\n",
      "Personal information may also be disclosed without contravening the terms of the Act where that disclosure is required by law.  \n",
      "\n",
      "Before the University releases any information to a law enforcement agency it must satisfy itself that the disclosure is necessary and required for a legitimate purpose.  \n",
      "\n",
      "The University seeks to co-operate with the police and with other agencies in the prevention and detection of crime and these Procedures set out the steps to be followed when responding to requests for personal information from these external agencies.  \n",
      "\n",
      "These Procedures should also be considered in conjunction with the University’s Prevent Policy and its Information Sharing Agreement with partners to the Prevent and Channel Programme., [a] Police Requests  \n",
      "\n",
      "All police forces have standard forms which must be used to request personal information from Bangor University, in accordance with guidance issued by the Association of Chief Police Officers.  The form must certify that the information is required for an investigation concerning national security, the prevention or detection of crime or the apprehension or prosecution of offenders, and that the investigation would be prejudiced by a failure to disclose the information.  All requests from the police, (apart from emergency requests, which are dealt with at section 4. below,) should be received on a data protection form, should clearly state all the information being requested and should be signed and dated by an officer of the rank of Sergeant or above., [b] Other Agencies with Law Enforcement Responsibilities  \n",
      "\n",
      "Other agencies may not routinely use standard forms to submit their requests.  However, any request for personal information should:  \n",
      "\n",
      "Be in writing, on headed paper, and signed by an officer of the agency;   \n",
      "Describe the nature of the information which is requested;   \n",
      "Describe the nature of the investigation in broad terms, including citing any relevant statutory authority for requesting the information;   \n",
      "Certify that the information is necessary for the investigation.  \n",
      "\n",
      "On receipt of such a request the data would normally be disclosed, after due consideration of the University’s legal position to provide such data, by the Head of Governance and Compliance., 4. Requests for Disclosure of Information in Emergency Situations  \n",
      "\n",
      "The University acknowledges that, from time to time and in extraordinary circumstances, police forces, other law enforcement agencies or other emergency services may urgently require personal data from the University and may not be in a position to complete the usual required paperwork at that time.  These requests are usually received by the University’s Security Section but may be received by any member of staff. Requests of this type would include urgent requests for provision of CCTV footage for genuine police operational reasons and / or requests for contact information for members of staff or students.  \n",
      "\n",
      "In these circumstances, during normal office hours, staff should contact the Compliance and Records Officer or the Head of Governance and Compliance, in the first instance for advice and authorisation before providing any information / CCTV footage.  \n",
      "\n",
      "If the request is being dealt with out of normal office hours, during University holidays or at a weekend and information or images are required immediately to deal with an ongoing police or other law enforcement incident the procedures outlined below should be followed:  \n",
      "\n",
      "1. The University’s Security Section should note all of the emergency information required, the circumstances of the request and the name, rank and number of the requesting Police Officer.  \n",
      "\n",
      "2. Authorisation and / or advice should then be sought advice from the Campus Services Manager (Security) or Deputy.   \n",
      "3. Where the request isn’t straightforward, or the information isn’t easily located the Campus Services Manager (Security) or Deputy may seek advice from the Head of Governance and Compliance.   \n",
      "4. Once the release of information or images is authorised the Security Team Leader or Assistant should note in the security log the exact circumstances of the request, the name, rank and number of the requesting Police Officer. This information should be forwarded to the Compliance and Records Officer and the Head of Governance and Compliance as soon as practicably possible.   \n",
      "5. If information / images are released in emergency circumstances the Governance and Compliance Team will ensure that the request is followed up with a formal written request from the relevant law enforcement agency, either by supplying a data protection form or a letter on headed paper appropriately authorised.\n",
      "\n",
      "faculty-of-humanities-of-utrecht-university.md:\n",
      "Legal requirements laid down in the GDPR apply to the processing of personal data. Researchers attached to the Faculty of Humanities must therefore process personal data in accordance with the requirements laid down in the GDPR, and in accordance with the requirements laid down by Utrecht University and the Faculty of Humanities. In general, this means that6:\n",
      "\n",
      "international-institute-for-geo---information-science-and-earth-observation.md:\n",
      "All research activities involving personal data must adhere to the principles and requirements outlined in the GDPR;\n",
      "\n",
      "karlstad-university.md:\n",
      "3.3 Data protection management and ethical review  \n",
      "\n",
      "The General Data Protection Regulation8 (GDPR), in brief, means that personal data may only be collected for certain justified reasons, that no more data than necessary may be treated, that data may not be stored for longer than necessary, and that treatment should be justified and reasonable in relation to the individual’s basic rights and freedoms. It is also important to ensure that personal data are handled in a secure way and that no more people than those authorised have access to the data.  \n",
      "\n",
      "If  sensitive personal data (article 9 GDPR) or information of criminal offences (article 10 GDPR) are treated for research purposes, also the rules stipulated in legislation pertaining to ethical review of research on humans must be considered. When these types of personal data are treated, the approval of the Ethical Review Authority is always required. Applicants are first  to be submitted to the local ethics board at Karlstad University.\n",
      "\n",
      "northumbria-university-at-newcastle.md:\n",
      "iv) Personally identifiable data should be anonymised or pseudonymised where possible as soon after collection as possible. Where researchers can undertake some or all of their research activities without using identifiable personal data, they should make arrangements to do so (principle of data minimisation). Where research requires the processing of personal data, and where the University is the data controller, then there must be a clear legal basis for processing and this must be communicated to the data subject (principle of lawfulness, fairness and transparency).9, v) Where personal data are stored and processed for research purposes by University staff this must be carried out in accordance with the University’s information security policy (principle of integrity and confidentiality).10\n",
      "\n",
      "tilburg-university.md:\n",
      "8. Personal data\n",
      "\n",
      "If the research data contain personal data, the management of the personal data is subject to additional rules from the General Data Protection Regulation (EU 2016/679, GDPR). Personal data are processed in accordance with the GDPR. Researchers who process personal data should report the intended processing in the university’s Data Register, and must inform all parties concerned in order to comply with the documentation and transparency obligations laid down in the GDPR., Transparency: report to the Data Protection Officer and schedule\n",
      "\n",
      "If the research consists of processing data that can be directly or indirectly traced back to a natural person, the researcher must fill in the \"Integrated form for Ethics (if applicable), Data Management and the Data Processing Register”. The form helps to map out the processing operations that will take place for the purpose of the research. The completed schedule should then be sent to the appropriate email address of the School (see the overview of Ethics Review Boards of each School).\n",
      "\n",
      "On the basis of the completed inventory schedule, the Data Protection Officer, if necessary in consultation with Legal Affairs, can advise on compliance with the legal conditions for the protection of personal data and the Code of Conduct. It can also be tested whether further assessment of the security measures by the Computer Emergency Response Team (CERT) of LIS is desirable.\n",
      "\n",
      "It is important to comply with the GDPR in order to protect the privacy interests of those involved. Another reason has been added since 2016: the Authority for Personal Data may impose a fine for breaches of the GDPR (with a maximum of € 820,000).\n",
      "\n",
      "universite-libre-de-bruxelles.md:\n",
      "GDPR: General Data Protection Regulations (link).\n",
      "\n",
      "university-campus-suffolk.md:\n",
      "This document explains the University of Suffolk’s policy on data protection and data management and is based on the following principles:\n",
      "\n",
      "The University will comply with all relevant legislation, particularly the Data Protection Act 2018 and the EU General Data Protection Regulations 2016 (“GDPR”). Ensuring compliance is a corporate responsibility of the University requiring the active involvement of, and appreciation by, all Employees and Other Workers1 at all levels of the organisation, including honorary staff/associates, contractors, hourly paid lecturers and any students or interns carrying out work on behalf of the University. The University will provide support and services to enable staff handling personal data to remain compliant with the legislation and the University’s requirements in respect of data security.\n",
      "\n",
      "## About the Policy, At the University, personal data from a wide range of individuals is collected, analysed, stored, shared, transferred, processed and at the end of the retention period, destroyed. Personal data used in this way, is from staff, students, applicants, alumni, visitors and people taking part in our research. Maintaining the security and privacy of this personal data is essential. This policy sets out the University’s requirements as Data Controller when processing this Personal Data., The GDPR sets out principles that the University must observe and comply with when processing Personal Data. The GDPR requires that personal data shall:\n",
      "\n",
      "a. be processed lawfully, fairly and in a transparent manner\n",
      "b. be collected only for specified, explicit and legitimate purposes\n",
      "c. be adequate, relevant, and limited to what is necessary in relation to the purposes for which it is to be processed\n",
      "d. be accurate and, where necessary, kept up to date\n",
      "e. not be kept in a form which permits identification of data subjects for longer than is necessary for the purposes for which the data is processed\n",
      "f. be processed in a manner than ensures its security using appropriate technical and organisational measures to protect against unauthorised or unlawful processing and against accident loss, destruction or damage\n",
      "g. not be transferred to a country outside of the European Economic Area (EEA) without appropriate safeguards being in place\n",
      "\n",
      "Further information on the Data Protection Principles can be found on the Information Commissioner’s website (ICO - Data Protection Principles)., The University and its staff who process or use personal data must be able to demonstrate compliance with all the above principles.\n",
      "\n",
      "## Accountability and Governance, The University is responsible for, and must be able to demonstrate, compliance with the GDPR and data protection., There are several actions the University, and its Data Users, can and, in some cases, must take to meet this data protection principle, including:\n",
      "\n",
      "Implementation of Data Management Policy\n",
      "Taking a ‘data protection by design and default’ approach\n",
      "Ensuring that written contracts are in place with organisations that process personal data\n",
      "on the University’s behalf\n",
      "Maintaining documentation of all University processing activities\n",
      "Implementing appropriate security measures\n",
      "Recording and reporting personal data breaches to the data governance team\n",
      "Carrying out data protection impact assessments (DPIAs) where the use of personal data\n",
      "is likely to result in a high risk to individuals’ interests\n",
      "Appointment of a Data Protection Officer\n",
      "Adherence to relevant codes of conduct and signing up to certification schemes\n",
      "\n",
      "### Registering with the Information Commissioner’s Office (ICO) as a Data Controller\n",
      "\n",
      "university-college-dublin.md:\n",
      "(8) If a personal data breach occurs, it is to be dealt with in accordance with UCD data protection policies.\n",
      "\n",
      "university-medical-center-utrecht.md:\n",
      "GDPR GeneralDataProtectionRegulation\n",
      "\n",
      "university-of-aberdeen.md:\n",
      "All personal data4F5 must be collected and managed in compliance with the General Data Protection Regulation ((EU) 2016/679) and the UK Data Protection Act 2018, or successive legislation. Standards and procedures for processing personal data are set out in the University of Aberdeen Data Protection Policy.\n",
      "\n",
      "university-of-groningen.md:\n",
      "(1) The General Data Protection Regulation\n",
      "\n",
      "Since May 2018, all member states of the European Economic Area share the same data protection law: the General Data Protection Regulation (GDPR). This law governs the processing of personal data both inside and outside the EU/EEA when this is done by organisations based in one of the member states. This law also applies to research activities by universities, even when these take place in non-member states.\n",
      "\n",
      "Personal data in the GDPR are defined as “any information relating to an identified or identifiable natural person” (Art. 4.1).  A ‘natural’ person means a living person. In the GDPR, there is no distinction between public and private/confidential data, only between personal and non-personal data. All personal data should be treated as confidential.\n",
      "\n",
      "In case of secondary data, the researcher should check if consent is needed from the secondary data source. Also when using existing data, it is important that the respondent gave consent for these data to be re-used. (see  \n",
      "\n",
      "Examples of ‘identifiers’ are names, an identification number, contact details, location data, dates and times of meetings, IP-addresses, ethnicity, religious identity, or a combination of data that allows for a person to be identified as a unique individual. ‘Processing’ should be understood as any operation with data: gathering, viewing, analyzing, storing, sharing etc.\n",
      "\n",
      "The GDPR sets constraints to what is possible with personal data and requires us to properly secure the data.\n",
      "\n",
      "We expect staff:\n",
      "\n",
      "to take notice of the general principles of the GDPR. A special UG website has been created to inform everyone in the UG about the basic principles; to take standard precautions when handling data. Among these are e.g. creating strong passwords, anonymisation when possible, working on secure devices and working on the university’s network as much as possible. See the UG’s website for a general overview of the standard measures that you can take; in case of handling personal data in research to be demonstrably compliant, by creating and registering a data management plan and applying for approval of the Research Ethics Committee and by checking whether a DPIA is necessary.\n",
      "\n",
      "\n"
     ]
    }
   ],
   "execution_count": 31
  },
  {
   "metadata": {
    "ExecuteTime": {
     "end_time": "2025-02-06T16:02:34.048321Z",
     "start_time": "2025-02-06T16:02:34.045313Z"
    }
   },
   "cell_type": "code",
   "source": [
    "from IPython.display import Markdown, display\n",
    "\n",
    "display(Markdown(output))"
   ],
   "id": "cf6f912cb531a43c",
   "outputs": [
    {
     "data": {
      "text/plain": [
       "<IPython.core.display.Markdown object>"
      ],
      "text/markdown": "<|assistant|>\nThe actors who are the owners of the data are the University and its staff who process or use personal data. This includes honorary staff/associates, contractors, hourly paid lecturers, and any students or interns carrying out work on behalf of the University. The University is responsible for, and must be able to demonstrate, compliance with the GDPR and data protection."
     },
     "metadata": {},
     "output_type": "display_data"
    }
   ],
   "execution_count": 32
  },
  {
   "metadata": {},
   "cell_type": "markdown",
   "source": "# Question 4",
   "id": "b4077b74a2a43a74"
  },
  {
   "metadata": {
    "ExecuteTime": {
     "end_time": "2025-02-06T16:04:02.978414Z",
     "start_time": "2025-02-06T16:04:02.976131Z"
    }
   },
   "cell_type": "code",
   "source": [
    "user_input = \"For different universities, under what circumstances what actors are the owners of the data? Please use exact quotes from the documents.\"\n",
    "\n",
    "policy_name = None"
   ],
   "id": "da4da324763b3e95",
   "outputs": [],
   "execution_count": 33
  },
  {
   "metadata": {
    "ExecuteTime": {
     "end_time": "2025-02-06T16:04:03.764401Z",
     "start_time": "2025-02-06T16:04:03.761202Z"
    }
   },
   "cell_type": "code",
   "source": "df_documents",
   "id": "79af74c92bf9b016",
   "outputs": [
    {
     "data": {
      "text/plain": [
       "shape: (3_486, 2)\n",
       "┌───────────────────────┬─────────────────────────────────┐\n",
       "│ name                  ┆ text                            │\n",
       "│ ---                   ┆ ---                             │\n",
       "│ str                   ┆ str                             │\n",
       "╞═══════════════════════╪═════════════════════════════════╡\n",
       "│ aalto-university.md   ┆ Aalto University                │\n",
       "│ aalto-university.md   ┆ Aalto University Research Data… │\n",
       "│ aalto-university.md   ┆ The research data management p… │\n",
       "│ aalto-university.md   ┆ The data management policy sha… │\n",
       "│ aalto-university.md   ┆ Ownership of copyright protect… │\n",
       "│ …                     ┆ …                               │\n",
       "│ wrexham-university.md ┆ FAIR Data                       │\n",
       "│                       ┆                                 │\n",
       "│                       ┆ Where it is lawful …            │\n",
       "│ wrexham-university.md ┆ Prifysgol Wrecsam Wrexham Univ… │\n",
       "│ wrexham-university.md ┆ Reporting a Data Incident/Brea… │\n",
       "│ wrexham-university.md ┆ Other Polices, Procedures, Leg… │\n",
       "│ wrexham-university.md ┆ Legislation                     │\n",
       "│                       ┆                                 │\n",
       "│                       ┆ Data Protection A…              │\n",
       "└───────────────────────┴─────────────────────────────────┘"
      ],
      "text/html": [
       "<div><style>\n",
       ".dataframe > thead > tr,\n",
       ".dataframe > tbody > tr {\n",
       "  text-align: right;\n",
       "  white-space: pre-wrap;\n",
       "}\n",
       "</style>\n",
       "<small>shape: (3_486, 2)</small><table border=\"1\" class=\"dataframe\"><thead><tr><th>name</th><th>text</th></tr><tr><td>str</td><td>str</td></tr></thead><tbody><tr><td>&quot;aalto-university.md&quot;</td><td>&quot;Aalto University&quot;</td></tr><tr><td>&quot;aalto-university.md&quot;</td><td>&quot;Aalto University Research Data…</td></tr><tr><td>&quot;aalto-university.md&quot;</td><td>&quot;The research data management p…</td></tr><tr><td>&quot;aalto-university.md&quot;</td><td>&quot;The data management policy sha…</td></tr><tr><td>&quot;aalto-university.md&quot;</td><td>&quot;Ownership of copyright protect…</td></tr><tr><td>&hellip;</td><td>&hellip;</td></tr><tr><td>&quot;wrexham-university.md&quot;</td><td>&quot;FAIR Data\n",
       "\n",
       "Where it is lawful …</td></tr><tr><td>&quot;wrexham-university.md&quot;</td><td>&quot;Prifysgol Wrecsam Wrexham Univ…</td></tr><tr><td>&quot;wrexham-university.md&quot;</td><td>&quot;Reporting a Data Incident/Brea…</td></tr><tr><td>&quot;wrexham-university.md&quot;</td><td>&quot;Other Polices, Procedures, Leg…</td></tr><tr><td>&quot;wrexham-university.md&quot;</td><td>&quot;Legislation\n",
       "\n",
       "Data Protection A…</td></tr></tbody></table></div>"
      ]
     },
     "execution_count": 34,
     "metadata": {},
     "output_type": "execute_result"
    }
   ],
   "execution_count": 34
  },
  {
   "metadata": {
    "ExecuteTime": {
     "end_time": "2025-02-06T16:04:30.332518Z",
     "start_time": "2025-02-06T16:04:04.938561Z"
    }
   },
   "cell_type": "code",
   "source": "output = ask_llm(user_input, embedding_model, topic_embeddings, df_documents, pipe, policy_name)",
   "id": "2d3309acfca162ac",
   "outputs": [
    {
     "name": "stdout",
     "output_type": "stream",
     "text": [
      "bangor-university.md:\n",
      "DATA PROTECTION POLICY  \n",
      "\n",
      "Bangor University takes its responsibilities with regard to the management of the requirements of the General Data Protection Regulation (GDPR) and the Data Protection Act 2018 (the Act) very seriously. This document provides the policy framework through which this effective management can be achieved and audited., 1. Purpose & Scope  \n",
      "\n",
      "The purpose of this policy is to ensure that the University and the University’s staff and students comply with the provisions of the GDPR and the Act and with any other relevant legislation in jurisdictions in which the University operates when processing personal data. Any infringement of the Act will be treated seriously by the University and may be considered under disciplinary procedures.  \n",
      "\n",
      "This policy applies to staff, students, agents of the University and any authorised processors of personal data held or owned by the University, regardless of where the data is held and, in respect of automatically processed data, the ownership of the equipment used, if the processing is for University purposes.  This policy also applies to personal data retained and processed by Bangor University Students’ Union., 3. The Principles of Data Protection  \n",
      "\n",
      "The University is required to adhere to the principles of data protection as laid down by the Act. In accordance with those principles personal data shall be:  \n",
      "\n",
      "1.  Processed fairly, lawfully and in a transparent manner The University must be open and clear about what the personal data will be used for and how it will be used.  \n",
      "\n",
      "2.  Processed for specified, explicit and legitimate purposes The University must ensure that it collects personal data for clear, appropriate and legitimate purposes. Collecting personal data “just in case” for future reference is not compliant with legislation.  \n",
      "\n",
      "3.  Adequate, relevant and limited to what is necessary for the purposes for which they are processed The University must only collect, use or share personal data in a proportionate way. This means that it should collect what it needs to complete its purposes.  \n",
      "\n",
      "4.  Accurate and up to date Personal data must be accurate and up to date. Collecting inaccurate data is a breach of GDPR.  \n",
      "\n",
      "5.  Kept in a form which permits identification of data subjects for no longer than is necessary for the purposes for which the personal data are processed   \n",
      "Personal data must only be kept for a specific period of time. This time period will vary depending on what purpose the personal data is collected for - the University’s Record & Data Retention Schedule details how long personal data should be kept for each function.  \n",
      "\n",
      "6.  Processed in a manner that ensures appropriate security of the personal data  \n",
      "\n",
      "The University is required to have appropriate technical and organisational measures in place to ensure the security of personal data. This is applicable to both data held electronically and personal data within physical documents., [c] Staff Responsibilities  \n",
      "\n",
      "[i] When staff members use personal information about students, other members of staff or other individuals they must comply with the requirements of this Policy.   \n",
      "[ii] It is a condition of employment that staff will abide by the rules and policies of the University. Any failure to follow this Policy may result in disciplinary proceedings.  \n",
      "\n",
      "Staff must ensure that:  \n",
      "\n",
      "all personal information entrusted to them in the course of their employment is kept securely.   \n",
      "no personal information is disclosed either verbally or in writing, accidentally or otherwise to any unauthorised third party.   \n",
      "no personal information should be accessed by staff for any reason other than for legitimate University business.   \n",
      "any information that they provide to the University in connection with their own employment is accurate and up to date and that they inform the University of any changes, e.g. changes of address.  \n",
      "\n",
      "[iii] When members of staff are responsible for supervising students doing work which involves the processing of personal information (for example in research projects), they must ensure that those students are aware of the Data Protection Principles as set out in point 3. above, in particular, the requirement to obtain the data subject's freely given, specified, informed and unambiguous consent where appropriate.  \n",
      "\n",
      "A Bangor University student should only use personal data, in relation to their studies, with the knowledge, written agreement and supervision of an appropriate member of staff. This would normally be a postgraduate student’s supervisor, or for an undergraduate student the member of staff responsible for teaching the module. Consideration should also be given to the requirements of the University’s Research Ethics Policy in relation to the use of personal data in research.  \n",
      "\n",
      "[iv] Staff who are unsure about who are the authorised third parties to whom they can legitimately disclose personal data should seek advice from their line manager or the Head of Governance and Compliance., [d] Contractors, Short-Term, Casual and Voluntary Staff  \n",
      "\n",
      "The University is responsible for the use made of personal data by anyone working on its behalf.  Pro ViceChancellors / Heads of College, Heads of School and Directors of Professional Services who employ contractors, short term, casual or voluntary staff must ensure that:  \n",
      "\n",
      "Any personal and / or special category data collected or processed in the course of work undertaken for the University, is kept securely and confidentially. This applies whether the data is an integral part of the work, or whether it is simply contained on media or in places which contractors etc. need to access; it applies whether or not the University explicitly mentions the data in the contract.   \n",
      "All personal and / or special category data is returned to the University on completion of the work, including any copies that may have been made. Alternatively, that the data is securely destroyed and the University receives notification in this regard from the contractor or short term / voluntary member of staff.   \n",
      "The University receives details of any disclosure of personal and / or special category data to any other organisation or any person who is not a direct employee of the contractor.   \n",
      "Any personal and / or special category data made available by the University, or collected in the course of the work, is neither stored nor processed outside the UK unless written consent to do so has been received from the Head of Governance and Compliance at the University.   \n",
      "All practical and reasonable steps are taken to ensure that contractors, short term or voluntary staff do not have access to any personal data beyond what is essential for the work to be carried out properly. The University’s standard data protection clause must be inserted into all relevant University contracts., 6..1. Subject Access Requests  \n",
      "\n",
      "An individual is entitled to receive from the University:  \n",
      "\n",
      "Confirmation as to whether or not personal data concerning them is being processed, and Where that is the case access to the personal data, and information relating to the purpose of the processing, the categories of personal data being processed, the recipients to whom the personal data has been disclosed, the retention period for the data and the complaints process.  \n",
      "\n",
      "Individuals wishing to access their own personal data held by the University can do so via a Subject Access Request. Any individual wishing to exercise this right should do so in writing or by email (info-compliance@bangor.ac.uk ) to the Head of Governance and Compliance. A standard form is available on the University’s data protection web pages.  \n",
      "\n",
      "Individuals will not be entitled to access information to which any of the exemptions in the Act applies. However, only those specific pieces of information to which the exemption applies will be withheld, and information covered by an exemption will be subject to review by the Head of Governance and Compliance  \n",
      "\n",
      "The University aims to comply with requests for access to personal information as quickly as possible, but will ensure that it is provided within one month as stipulated by the Act and within any relevant time periods set by other jurisdictions.  \n",
      "\n",
      "Requests for access to information held by the University’s Student Counselling service will be dealt with by the Head of Governance and Compliance in consultation with the Head of Counselling., 6.4 Data Security Breaches  \n",
      "\n",
      "Any data-related incident or breach or potential breach of the Act, or other equivalent legislation or of the requirements of this Policy should be reported to the Head of Governance and Compliance as soon as possible and, in any case, within 24 hours of discovery.   Incidents will be dealt with in accordance with the University’s Procedures for the Management of a Suspected Data Security Breach., 6.6 Request for Information by Law Enforcement Agencies  \n",
      "\n",
      "There are exemptions within the Data Protection Act which allow the University, under strict guidelines, to release information to law enforcement agencies without the consent of the individual whose information is being released, and regardless of the purpose for which the information was originally collected.  \n",
      "\n",
      "The University should respond to all such requests for information in a consistent manner and it therefore operates a Single Point of Contact system for all law enforcement requests which is overseen by the Head of Governance and Compliance.  \n",
      "\n",
      "A detailed procedure outlining how the University deals with such requests is included as Appendix 1 to this Policy., 6.7 Request for Information from Statutory Agencies  \n",
      "\n",
      "The University will seek to respond to requests for information from Statutory Agencies (e.g. Local Authorities) in relation to  \n",
      "\n",
      "A child, young person or vulnerable adult;   \n",
      "Proceedings / investigations relating to a child, young person or vulnerable adult.  \n",
      "\n",
      "in a consistent manner.  \n",
      "\n",
      "In relation to such requests the University will follow the guidelines laid down in the All Wales Child Protection Procedures and also the provisions of Section 115 of the Crime and Disorder Act. Such requests will be considered by the Head of Governance and Compliance on the understanding that the Agency is able to confirm that there is an overriding public interest to justify the disclosure, and in particular the University, in making its decision, will seek to satisfy itself that one or more of the following considerations are relevant:  \n",
      "\n",
      "The disclosure is necessary for the prevention or detection of crime, prevention of disorder, to protect public safety or protect the rights and freedoms of others; The disclosure is necessary for the protection of young or other vulnerable people The risks posed by the individual The vulnerability of those who may be at risk  The impact of the disclosure on the offender Is the disclosure proportionate to the intended aim Are there equally effective but less intrusive alternative means of achieving the aim Where there is an overriding public interest in favour of disclosure the University will, as set out in Section 1.5.3 of the All Wales Child Protection Procedures require the specific detail of the request, and whether the consent of the individual has been sought and / or given., 1. Background  \n",
      "\n",
      "These Procedures are intended to cover situations where the University receives requests from the Police or other organisations / agencies with law enforcement responsibilities (such as the Department for Work and Pensions, local authorities, HM Customs and Revenue and the UK Visas and Immigration) for personal information about students, staff or other individuals whose information the University holds.  These Procedures also include requests for the provision of any CCTV footage2.  \n",
      "\n",
      "Personal information held by the University is managed in accordance with the Data Protection Act 2018 (the Act) and the University’s Data Protection Policy3.  The Act and the University’s Policy provide guidance on the circumstances when it is lawful to disclose and transfer personal information outside the University and in general this should be carried out “fairly and lawfully” and in accordance with the University’s Data Protection Notification.  \n",
      "\n",
      "There are, however, exemptions within the Act which allow the University, under strict guidelines, to release information to law enforcement agencies without the consent of the individual whose information is being released, and regardless of the purpose for which the information was originally collected.  \n",
      "\n",
      "In particular personal information may be released if:  \n",
      "\n",
      "the information is required for safeguarding national security failure to provide the information would prejudice the prevention or detection of crime, the apprehension or prosecution of offenders or the assessment or collection of any tax or duty  \n",
      "\n",
      "Personal information may also be disclosed without contravening the terms of the Act where that disclosure is required by law.  \n",
      "\n",
      "Before the University releases any information to a law enforcement agency it must satisfy itself that the disclosure is necessary and required for a legitimate purpose.  \n",
      "\n",
      "The University seeks to co-operate with the police and with other agencies in the prevention and detection of crime and these Procedures set out the steps to be followed when responding to requests for personal information from these external agencies.  \n",
      "\n",
      "These Procedures should also be considered in conjunction with the University’s Prevent Policy and its Information Sharing Agreement with partners to the Prevent and Channel Programme., [a] Police Requests  \n",
      "\n",
      "All police forces have standard forms which must be used to request personal information from Bangor University, in accordance with guidance issued by the Association of Chief Police Officers.  The form must certify that the information is required for an investigation concerning national security, the prevention or detection of crime or the apprehension or prosecution of offenders, and that the investigation would be prejudiced by a failure to disclose the information.  All requests from the police, (apart from emergency requests, which are dealt with at section 4. below,) should be received on a data protection form, should clearly state all the information being requested and should be signed and dated by an officer of the rank of Sergeant or above., [b] Other Agencies with Law Enforcement Responsibilities  \n",
      "\n",
      "Other agencies may not routinely use standard forms to submit their requests.  However, any request for personal information should:  \n",
      "\n",
      "Be in writing, on headed paper, and signed by an officer of the agency;   \n",
      "Describe the nature of the information which is requested;   \n",
      "Describe the nature of the investigation in broad terms, including citing any relevant statutory authority for requesting the information;   \n",
      "Certify that the information is necessary for the investigation.  \n",
      "\n",
      "On receipt of such a request the data would normally be disclosed, after due consideration of the University’s legal position to provide such data, by the Head of Governance and Compliance., 4. Requests for Disclosure of Information in Emergency Situations  \n",
      "\n",
      "The University acknowledges that, from time to time and in extraordinary circumstances, police forces, other law enforcement agencies or other emergency services may urgently require personal data from the University and may not be in a position to complete the usual required paperwork at that time.  These requests are usually received by the University’s Security Section but may be received by any member of staff. Requests of this type would include urgent requests for provision of CCTV footage for genuine police operational reasons and / or requests for contact information for members of staff or students.  \n",
      "\n",
      "In these circumstances, during normal office hours, staff should contact the Compliance and Records Officer or the Head of Governance and Compliance, in the first instance for advice and authorisation before providing any information / CCTV footage.  \n",
      "\n",
      "If the request is being dealt with out of normal office hours, during University holidays or at a weekend and information or images are required immediately to deal with an ongoing police or other law enforcement incident the procedures outlined below should be followed:  \n",
      "\n",
      "1. The University’s Security Section should note all of the emergency information required, the circumstances of the request and the name, rank and number of the requesting Police Officer.  \n",
      "\n",
      "2. Authorisation and / or advice should then be sought advice from the Campus Services Manager (Security) or Deputy.   \n",
      "3. Where the request isn’t straightforward, or the information isn’t easily located the Campus Services Manager (Security) or Deputy may seek advice from the Head of Governance and Compliance.   \n",
      "4. Once the release of information or images is authorised the Security Team Leader or Assistant should note in the security log the exact circumstances of the request, the name, rank and number of the requesting Police Officer. This information should be forwarded to the Compliance and Records Officer and the Head of Governance and Compliance as soon as practicably possible.   \n",
      "5. If information / images are released in emergency circumstances the Governance and Compliance Team will ensure that the request is followed up with a formal written request from the relevant law enforcement agency, either by supplying a data protection form or a letter on headed paper appropriately authorised.\n",
      "\n",
      "faculty-of-humanities-of-utrecht-university.md:\n",
      "Legal requirements laid down in the GDPR apply to the processing of personal data. Researchers attached to the Faculty of Humanities must therefore process personal data in accordance with the requirements laid down in the GDPR, and in accordance with the requirements laid down by Utrecht University and the Faculty of Humanities. In general, this means that6:\n",
      "\n",
      "international-institute-for-geo---information-science-and-earth-observation.md:\n",
      "All research activities involving personal data must adhere to the principles and requirements outlined in the GDPR;\n",
      "\n",
      "karlstad-university.md:\n",
      "3.3 Data protection management and ethical review  \n",
      "\n",
      "The General Data Protection Regulation8 (GDPR), in brief, means that personal data may only be collected for certain justified reasons, that no more data than necessary may be treated, that data may not be stored for longer than necessary, and that treatment should be justified and reasonable in relation to the individual’s basic rights and freedoms. It is also important to ensure that personal data are handled in a secure way and that no more people than those authorised have access to the data.  \n",
      "\n",
      "If  sensitive personal data (article 9 GDPR) or information of criminal offences (article 10 GDPR) are treated for research purposes, also the rules stipulated in legislation pertaining to ethical review of research on humans must be considered. When these types of personal data are treated, the approval of the Ethical Review Authority is always required. Applicants are first  to be submitted to the local ethics board at Karlstad University.\n",
      "\n",
      "northumbria-university-at-newcastle.md:\n",
      "iv) Personally identifiable data should be anonymised or pseudonymised where possible as soon after collection as possible. Where researchers can undertake some or all of their research activities without using identifiable personal data, they should make arrangements to do so (principle of data minimisation). Where research requires the processing of personal data, and where the University is the data controller, then there must be a clear legal basis for processing and this must be communicated to the data subject (principle of lawfulness, fairness and transparency).9, v) Where personal data are stored and processed for research purposes by University staff this must be carried out in accordance with the University’s information security policy (principle of integrity and confidentiality).10\n",
      "\n",
      "tilburg-university.md:\n",
      "8. Personal data\n",
      "\n",
      "If the research data contain personal data, the management of the personal data is subject to additional rules from the General Data Protection Regulation (EU 2016/679, GDPR). Personal data are processed in accordance with the GDPR. Researchers who process personal data should report the intended processing in the university’s Data Register, and must inform all parties concerned in order to comply with the documentation and transparency obligations laid down in the GDPR., Transparency: report to the Data Protection Officer and schedule\n",
      "\n",
      "If the research consists of processing data that can be directly or indirectly traced back to a natural person, the researcher must fill in the \"Integrated form for Ethics (if applicable), Data Management and the Data Processing Register”. The form helps to map out the processing operations that will take place for the purpose of the research. The completed schedule should then be sent to the appropriate email address of the School (see the overview of Ethics Review Boards of each School).\n",
      "\n",
      "On the basis of the completed inventory schedule, the Data Protection Officer, if necessary in consultation with Legal Affairs, can advise on compliance with the legal conditions for the protection of personal data and the Code of Conduct. It can also be tested whether further assessment of the security measures by the Computer Emergency Response Team (CERT) of LIS is desirable.\n",
      "\n",
      "It is important to comply with the GDPR in order to protect the privacy interests of those involved. Another reason has been added since 2016: the Authority for Personal Data may impose a fine for breaches of the GDPR (with a maximum of € 820,000).\n",
      "\n",
      "universite-libre-de-bruxelles.md:\n",
      "GDPR: General Data Protection Regulations (link).\n",
      "\n",
      "university-campus-suffolk.md:\n",
      "This document explains the University of Suffolk’s policy on data protection and data management and is based on the following principles:\n",
      "\n",
      "The University will comply with all relevant legislation, particularly the Data Protection Act 2018 and the EU General Data Protection Regulations 2016 (“GDPR”). Ensuring compliance is a corporate responsibility of the University requiring the active involvement of, and appreciation by, all Employees and Other Workers1 at all levels of the organisation, including honorary staff/associates, contractors, hourly paid lecturers and any students or interns carrying out work on behalf of the University. The University will provide support and services to enable staff handling personal data to remain compliant with the legislation and the University’s requirements in respect of data security.\n",
      "\n",
      "## About the Policy, At the University, personal data from a wide range of individuals is collected, analysed, stored, shared, transferred, processed and at the end of the retention period, destroyed. Personal data used in this way, is from staff, students, applicants, alumni, visitors and people taking part in our research. Maintaining the security and privacy of this personal data is essential. This policy sets out the University’s requirements as Data Controller when processing this Personal Data., The GDPR sets out principles that the University must observe and comply with when processing Personal Data. The GDPR requires that personal data shall:\n",
      "\n",
      "a. be processed lawfully, fairly and in a transparent manner\n",
      "b. be collected only for specified, explicit and legitimate purposes\n",
      "c. be adequate, relevant, and limited to what is necessary in relation to the purposes for which it is to be processed\n",
      "d. be accurate and, where necessary, kept up to date\n",
      "e. not be kept in a form which permits identification of data subjects for longer than is necessary for the purposes for which the data is processed\n",
      "f. be processed in a manner than ensures its security using appropriate technical and organisational measures to protect against unauthorised or unlawful processing and against accident loss, destruction or damage\n",
      "g. not be transferred to a country outside of the European Economic Area (EEA) without appropriate safeguards being in place\n",
      "\n",
      "Further information on the Data Protection Principles can be found on the Information Commissioner’s website (ICO - Data Protection Principles)., The University and its staff who process or use personal data must be able to demonstrate compliance with all the above principles.\n",
      "\n",
      "## Accountability and Governance, The University is responsible for, and must be able to demonstrate, compliance with the GDPR and data protection., There are several actions the University, and its Data Users, can and, in some cases, must take to meet this data protection principle, including:\n",
      "\n",
      "Implementation of Data Management Policy\n",
      "Taking a ‘data protection by design and default’ approach\n",
      "Ensuring that written contracts are in place with organisations that process personal data\n",
      "on the University’s behalf\n",
      "Maintaining documentation of all University processing activities\n",
      "Implementing appropriate security measures\n",
      "Recording and reporting personal data breaches to the data governance team\n",
      "Carrying out data protection impact assessments (DPIAs) where the use of personal data\n",
      "is likely to result in a high risk to individuals’ interests\n",
      "Appointment of a Data Protection Officer\n",
      "Adherence to relevant codes of conduct and signing up to certification schemes\n",
      "\n",
      "### Registering with the Information Commissioner’s Office (ICO) as a Data Controller\n",
      "\n",
      "university-college-dublin.md:\n",
      "(8) If a personal data breach occurs, it is to be dealt with in accordance with UCD data protection policies.\n",
      "\n",
      "university-medical-center-utrecht.md:\n",
      "GDPR GeneralDataProtectionRegulation\n",
      "\n",
      "university-of-aberdeen.md:\n",
      "All personal data4F5 must be collected and managed in compliance with the General Data Protection Regulation ((EU) 2016/679) and the UK Data Protection Act 2018, or successive legislation. Standards and procedures for processing personal data are set out in the University of Aberdeen Data Protection Policy.\n",
      "\n",
      "university-of-groningen.md:\n",
      "(1) The General Data Protection Regulation\n",
      "\n",
      "Since May 2018, all member states of the European Economic Area share the same data protection law: the General Data Protection Regulation (GDPR). This law governs the processing of personal data both inside and outside the EU/EEA when this is done by organisations based in one of the member states. This law also applies to research activities by universities, even when these take place in non-member states.\n",
      "\n",
      "Personal data in the GDPR are defined as “any information relating to an identified or identifiable natural person” (Art. 4.1).  A ‘natural’ person means a living person. In the GDPR, there is no distinction between public and private/confidential data, only between personal and non-personal data. All personal data should be treated as confidential.\n",
      "\n",
      "In case of secondary data, the researcher should check if consent is needed from the secondary data source. Also when using existing data, it is important that the respondent gave consent for these data to be re-used. (see  \n",
      "\n",
      "Examples of ‘identifiers’ are names, an identification number, contact details, location data, dates and times of meetings, IP-addresses, ethnicity, religious identity, or a combination of data that allows for a person to be identified as a unique individual. ‘Processing’ should be understood as any operation with data: gathering, viewing, analyzing, storing, sharing etc.\n",
      "\n",
      "The GDPR sets constraints to what is possible with personal data and requires us to properly secure the data.\n",
      "\n",
      "We expect staff:\n",
      "\n",
      "to take notice of the general principles of the GDPR. A special UG website has been created to inform everyone in the UG about the basic principles; to take standard precautions when handling data. Among these are e.g. creating strong passwords, anonymisation when possible, working on secure devices and working on the university’s network as much as possible. See the UG’s website for a general overview of the standard measures that you can take; in case of handling personal data in research to be demonstrably compliant, by creating and registering a data management plan and applying for approval of the Research Ethics Committee and by checking whether a DPIA is necessary.\n",
      "\n",
      "\n"
     ]
    }
   ],
   "execution_count": 35
  },
  {
   "metadata": {
    "ExecuteTime": {
     "end_time": "2025-02-06T16:04:30.339253Z",
     "start_time": "2025-02-06T16:04:30.335746Z"
    }
   },
   "cell_type": "code",
   "source": [
    "from IPython.display import Markdown, display\n",
    "\n",
    "display(Markdown(output))"
   ],
   "id": "4509fd9271c37dc2",
   "outputs": [
    {
     "data": {
      "text/plain": [
       "<IPython.core.display.Markdown object>"
      ],
      "text/markdown": "<|assistant|>\nFor different universities, the owners of the data are typically the universities themselves, as they are often the data controllers. This means they are responsible for processing personal data in accordance with the General Data Protection Regulation (GDPR) and other relevant data protection laws. The universities are responsible for ensuring that personal data is processed lawfully, fairly, and transparently, and that it is kept secure and not transferred to countries outside the European Economic Area (EEA) without appropriate safeguards.\n\nFor example, in the provided documents:\n\n- **Bangor University** states that it is responsible for the use made of personal data by anyone working on its behalf, and it must ensure that personal and special category data is kept securely and returned to the University on completion of the work.\n\n- **Utrecht University** requires researchers to adhere to the principles and requirements outlined in the GDPR and to report intended processing in the university's Data Register.\n\n- **Karlstad University** emphasizes the need to handle personal data securely and to obtain approval from the Ethical Review Authority for the processing of sensitive personal data or information of criminal offenses.\n\n- **University of Suffolk** commits to complying with all relevant legislation, particularly the Data Protection Act 2018 and the GDPR, and to providing support to staff handling personal data to remain compliant.\n\n- **University of Aberdeen** must collect and manage personal data in compliance with the General Data Protection Regulation (GDPR) and the UK Data Protection Act 2018.\n\n- **University of Groningen** is subject to the General Data Protection Regulation (GDPR), which governs the processing of personal data both inside and outside the EU/EEA.\n\nIn summary, the universities are the primary owners and controllers of the data, and they are responsible for ensuring compliance with data protection laws and regulations."
     },
     "metadata": {},
     "output_type": "display_data"
    }
   ],
   "execution_count": 36
  }
 ],
 "metadata": {
  "kernelspec": {
   "display_name": "Python 3",
   "language": "python",
   "name": "python3"
  },
  "language_info": {
   "codemirror_mode": {
    "name": "ipython",
    "version": 2
   },
   "file_extension": ".py",
   "mimetype": "text/x-python",
   "name": "python",
   "nbconvert_exporter": "python",
   "pygments_lexer": "ipython2",
   "version": "2.7.6"
  }
 },
 "nbformat": 4,
 "nbformat_minor": 5
}
